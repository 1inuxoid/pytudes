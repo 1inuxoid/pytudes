{
 "cells": [
  {
   "cell_type": "markdown",
   "metadata": {},
   "source": [
    "\n",
    "<div align=\"right\" style=\"text-align:right\"><i>Peter Norvig<br>May 2020</i></div>\n",
    "\n",
    "# Flipping Cards: A Guessing Game\n",
    "\n",
    "The [538 Riddler for Aug. 17, 2018](\n",
    "https://fivethirtyeight.com/features/step-1-game-theory-step-2-step-3-profit/) poses this problem:\n",
    "\n",
    "> Take a standard deck of cards, and pull out the numbered cards from one suit (the nine cards 2 through 10). Shuffle them, and then lay them face down in a row. Flip over the first card so it is face up. Now guess whether the next card in the row (the first down card) is higher or lower. If you’re right, keep going. If you play this game optimally, what’s the probability that you can get to the end without making any mistakes?<p>\n",
    "> *Extra credit:* What if there were more cards — 2 through 20, or 2 through 100? How do your chances of getting to the end change?\n",
    "    \n",
    "First, let's define \"*play this game optimally.*\"  The optimal policy is to look at the current flipped-up card and, remembering what cards have already been flipped and thus knowing what cards remain face-down, count how many of the remaining down cards are higher than the up card, and how many are lower. Guess according to the majority. (*Details*: In case of a tie in the counts, guessing either \"higher\" or \"lower\" is equally optimal. When there are only two cards left (one up, one down) you know for sure what the down card is, so you can always guess right.)\n",
    "    \n",
    "We can solve the problem with brute force: define `guess_all(cards)` to take a specific sequence of cards and return true only if the optimal policy guesses all the cards correctly. Then we can apply `guess_all` to every permutation of cards and count how often it guesses correctly. Assuming every permutation is equally likely, the ratio is the probability of guessing right all the way to the end.\n",
    "    \n",
    "(*Python Trivia*: `True` is equal to `1` and `False` is equal to `0`, so `sum([True, False, True])` is 2; `mean([True, False, True])` is 2/3, and the expression `(b and x)` where `b` is a Boolean and `x` is a number is equivalent to `(x if b else 0)`. In other languages you would be required or at least encouraged to explicitly cast Booleans to integers, but in Python it is considered good style to do without explicit casts.)\n",
    "    \n",
    "I can implement `guess_all` as follows:"
   ]
  },
  {
   "cell_type": "code",
   "execution_count": 1,
   "metadata": {},
   "outputs": [],
   "source": [
    "from itertools  import permutations\n",
    "from statistics import mean\n",
    "from functools  import lru_cache"
   ]
  },
  {
   "cell_type": "code",
   "execution_count": 2,
   "metadata": {},
   "outputs": [],
   "source": [
    "def guess_all(cards) -> bool: \n",
    "    \"\"\"You guess all the cards right if you guess the first right and the rest right.\"\"\"\n",
    "    return len(cards) <= 2 or guess_first(cards) and guess_all(cards[1:])\n",
    "\n",
    "def guess_first(cards) -> bool:\n",
    "    \"\"\"Given a sequence of cards, guess that the down card will be \"higher\" or \"lower\" \n",
    "    according to majority counts of the down cards; return True if the guess \n",
    "    matches the actual relation between the up card and the first down card.\"\"\"\n",
    "    up, *down = cards\n",
    "    higher = sum(d > up for d in down)\n",
    "    lower  = sum(d < up for d in down)\n",
    "    return (higher > lower) == (down[0] > up)"
   ]
  },
  {
   "cell_type": "markdown",
   "metadata": {},
   "source": [
    "Some simple examples:"
   ]
  },
  {
   "cell_type": "code",
   "execution_count": 3,
   "metadata": {},
   "outputs": [
    {
     "data": {
      "text/plain": [
       "True"
      ]
     },
     "execution_count": 3,
     "metadata": {},
     "output_type": "execute_result"
    }
   ],
   "source": [
    " # On this sequence, the optimal policy always guesses \"higher\"; that's right.  \n",
    "guess_all((2, 3, 4, 5, 6))"
   ]
  },
  {
   "cell_type": "code",
   "execution_count": 4,
   "metadata": {},
   "outputs": [
    {
     "data": {
      "text/plain": [
       "False"
      ]
     },
     "execution_count": 4,
     "metadata": {},
     "output_type": "execute_result"
    }
   ],
   "source": [
    "# On this sequence, the optimal policy guesses \"higher\" first; that's wrong.\n",
    "# There is a 3/4 chance that a down card is higher than 3, but it turns\n",
    "# out that the 2 is actually lower.\n",
    "guess_all((3, 2, 4, 5, 6)) "
   ]
  },
  {
   "cell_type": "code",
   "execution_count": 5,
   "metadata": {},
   "outputs": [
    {
     "data": {
      "text/plain": [
       "False"
      ]
     },
     "execution_count": 5,
     "metadata": {},
     "output_type": "execute_result"
    }
   ],
   "source": [
    "guess_first((3, 2, 4, 5, 6))"
   ]
  },
  {
   "cell_type": "markdown",
   "metadata": {},
   "source": [
    "# The Answer\n",
    "\n",
    "What's the probability that we can guess all nine cards right? We get that by averaging over all possible permutations of the cards:"
   ]
  },
  {
   "cell_type": "code",
   "execution_count": 6,
   "metadata": {},
   "outputs": [
    {
     "data": {
      "text/plain": [
       "0.17085537918871252"
      ]
     },
     "execution_count": 6,
     "metadata": {},
     "output_type": "execute_result"
    }
   ],
   "source": [
    "cards = range(2, 11)\n",
    "\n",
    "mean(map(guess_all, permutations(cards)))"
   ]
  },
  {
   "cell_type": "markdown",
   "metadata": {},
   "source": [
    "That's the correct answer ([per 538](https://fivethirtyeight.com/features/how-many-hoops-will-kids-jump-through-to-play-rock-paper-scissors/)): about 17% chance of guessing all nine cards right.\n",
    "\n",
    "# Extra Credit\n",
    "\n",
    "The extra credit problem asks about 19 and 99 cards. But there are 19! permutations of 19 cards; that's over $10^{17}$ (and don't even think about 99!). So my brute force solution won't work. We will need a more efficient way of looking at the space of possible sequences of cards. \n",
    "\n",
    "I note that two things are true when we are deciding whether to guess \"higher\" or \"lower\" in `guess_first(cards)`: \n",
    "\n",
    "**First**, the **order** of the `down` cards doesn't matter. The optimal policy makes the same guess whether `down` is `(2, 3, 4, 5)` or a permutation such as `(4, 2, 5, 3)`. So we could represent cards as a set: `{2, 3, 4, 5}`. As we flip over cards the set of remaining cards becomes smaller; altogether there are $2^n$ subsets to consider, a significant reduction from the $n!$ permutations we had to consider in the brute force approach, and good enough to handle $n=19$ (but not yet good enough for $n=99$).\n",
    "\n",
    "**Second**, the **identity** of the `down` cards doesn't matter (if we're careful).\n",
    "For example, when the up card is `3` it doesn't matter if the remaining cards are `{2, 3, 6}` or `{1, 3, 4}` or `{0, 3, 5}` or any other set of three cards in which the `3` is the middle card. For any such set, the chance of guessing right is 50%. Note that I can't just summarize these situations as \"*there are 3 cards remaining and the up card is 3*\" but I can summarize them as  \"*there are 3 cards remaining and the up card is the second lowest*\". In other words, I describe the up card by **renumbering** it to be its index into the list of sorted cards. For each of the three sets described here, the index of `3` is `1`: it is the second element of the sorted list of cards. Some examples:\n",
    "\n",
    "  - [Remaining: `{2, 3, 6}` Up card: `3`] with renumbering becomes [Remaining: `range(3)` Up index: `1`] (i.e., second lowest)\n",
    "  - [Remaining: `{1, 3, 4}` Up card: `3`] with renumbering becomes [Remaining: `range(3)` Up index: `1`] (i.e., second lowest)\n",
    "  - [Remaining: `{0, 3, 5}` Up card: `3`] with renumbering becomes [Remaining: `range(3)` Up index: `1`] (i.e., second lowest)\n",
    "  - [Remaining: `{3, 4, 7}` Up card: `3`] with renumbering becomes [Remaining: `range(3)` Up index: `0`] (i.e., lowest)\n",
    "  - [Remaining: `{0, 2, 3}` Up card: `3`] with renumbering becomes [Remaining: `range(3)` Up index: `2`] (i.e., third lowest)\n",
    "\n",
    "  \n",
    "Renumbering the up card as an index number won't alter the probabilities, but it will allow me to describe any situation with just two integers, the number of cards remaining and the index of the up card. That means there are only $O(n^2)$ situations to describe, which should be good enough to handle $n=99$. \n",
    "\n",
    "In other words, what I have done is gone from a **concrete** representation of the cards as explicit permutations to an **abstract** representation that says how many cards remain and what the index number of the up card is, but doesn't say exactly what the cards are nor what order they are in. Abstraction is often a good way to fight against combinatorial explosion.\n",
    "\n",
    "\n",
    "\n",
    "\n",
    "# First Try at Extra Credit\n",
    "\n",
    "I thought I could define a function, `P_all(n)`, that told me the probability of guessing all `n` cards right. I wrote down a first try at a definition:\n",
    "\n",
    "    def P_all(n) -> float:\n",
    "        return 1 if n <= 2 else P_first(n) * P_all(n - 1)\n",
    "        \n",
    "Could it really be as simple as that? All I have to do is define `P_first(n)` (the probability of guessing the first of `n` cards right) and I'm done? My immediate reaction was that this feels *too* easy. I was suspicious of this definition for three reasons:\n",
    "\n",
    "1. It is rare (but not unheard of) for an efficient solution to be simpler than the brute force solution.\n",
    "- I said there should be renumbering, but this code doesn't appear to do any renumbering.\n",
    "- Yes, the probability of getting all the cards right can be described as the probability of getting the first card right and then getting the rest right. But the joint probability of two events is equal to the product of their probabilities *only when the two events are independent*. And in this problem, the two events are *not* independent, because they both depend on the card that is the first down card in `P_first(n)` and becomes the up card in `P_all(n - 1)`. For example, suppose the first down card is 0, the lowest possible card. That certainly has a big effect on `P_first(n)`, because it means a guess of \"higher\" will always be wrong and a guess of \"lower\" will always be right. And it also has a big effect on guessing the rest of the sequence, because it means that the second guess should always be \"higher\" (than 0), which is guaranteed to be right. \n",
    "\n",
    "My suspicions were well-founded; I'll need something a bit more complicated.\n",
    "\n",
    "# Second Try at Extra Credit\n",
    "\n",
    "I need to break down the problem in a way that shares the information about the first down card (that becomes the next up card). One way to do that is to define `P_given(up, n)` to be the probability of guessing all the cards right *given* that the flipped-up card has index `up` in the sorted list of `n` remaining cards (including the `up` card).\n",
    "\n",
    "I will still define `P_all(n)`, but it won't call itself recursively, rather it calls `P_given(up, n)` for every possible `up` card, and averages the results:"
   ]
  },
  {
   "cell_type": "code",
   "execution_count": 7,
   "metadata": {},
   "outputs": [],
   "source": [
    "def P_all(n) -> float:\n",
    "    \"\"\"Probability of guessing all n cards right.\"\"\"\n",
    "    return mean(P_given(up, n) for up in range(n))"
   ]
  },
  {
   "cell_type": "markdown",
   "metadata": {},
   "source": [
    "`P_given(up, n)` works by considering each possible first down card, computing if we would guess the first down card right given the up card  (by calling `first_right(up, down, n)`), and if right, calling `P_given` recursively with the old first down card (renumbered) being the new up card, and the deck size, `n`, being one card smaller. \n",
    "When this is all done, we take the average probability value over all the down cards. We also arrange for `P_given` to cache its values so that we don't repeat computations; this is crucial for efficiency."
   ]
  },
  {
   "cell_type": "code",
   "execution_count": 8,
   "metadata": {},
   "outputs": [],
   "source": [
    "@lru_cache(None)\n",
    "def P_given(up, n) -> float:\n",
    "    \"\"\"Probability of guessing all n cards right, given the up card.\"\"\"\n",
    "    return (1 if n <= 2 else\n",
    "            mean(first_right(up, down, n) \n",
    "                 and P_given(renumber(down, up), n - 1)\n",
    "                 for down in range(n) if down != up))"
   ]
  },
  {
   "cell_type": "markdown",
   "metadata": {},
   "source": [
    "`first_right(up, down, n)` returns true if we would correctly guess the down card given the up card. The optimal policy is to guess that the down card will be higher than the up card when the up card is in the lower half of `range(n)`. \n",
    "\n",
    "And finally, `renumber` renumbers a down card by decrementing it by one if the up card is lower (meaning that removing the up card from the deck makes the down card one closer to the lowest possible card). "
   ]
  },
  {
   "cell_type": "code",
   "execution_count": 9,
   "metadata": {},
   "outputs": [],
   "source": [
    "def first_right(up, down, n) -> bool:\n",
    "    \"\"\"Do we guess right given these up and down cards, \n",
    "    when the set of cards (including up and down) is range(n)?\"\"\"\n",
    "    return (up > down) == (up > (n - 1) / 2)\n",
    "\n",
    "def renumber(down, up) -> int:  return down - (up < down)"
   ]
  },
  {
   "cell_type": "markdown",
   "metadata": {},
   "source": [
    "We can see that `P_all(n)` differs from the old brute-force result  only in the 17th decimal place (due to round-off error):"
   ]
  },
  {
   "cell_type": "code",
   "execution_count": 10,
   "metadata": {},
   "outputs": [
    {
     "data": {
      "text/plain": [
       "0.17085537918871255"
      ]
     },
     "execution_count": 10,
     "metadata": {},
     "output_type": "execute_result"
    }
   ],
   "source": [
    "P_all(9)"
   ]
  },
  {
   "cell_type": "code",
   "execution_count": 11,
   "metadata": {},
   "outputs": [
    {
     "data": {
      "text/plain": [
       "0.17085537918871252"
      ]
     },
     "execution_count": 11,
     "metadata": {},
     "output_type": "execute_result"
    }
   ],
   "source": [
    "mean(map(guess_all, permutations(cards)))"
   ]
  },
  {
   "cell_type": "markdown",
   "metadata": {},
   "source": [
    "We can now efficiently answer the extra credit questions:"
   ]
  },
  {
   "cell_type": "code",
   "execution_count": 12,
   "metadata": {},
   "outputs": [
    {
     "data": {
      "text/plain": [
       "0.008419397002884993"
      ]
     },
     "execution_count": 12,
     "metadata": {},
     "output_type": "execute_result"
    }
   ],
   "source": [
    "P_all(19)"
   ]
  },
  {
   "cell_type": "code",
   "execution_count": 13,
   "metadata": {},
   "outputs": [
    {
     "data": {
      "text/plain": [
       "6.67213407124781e-14"
      ]
     },
     "execution_count": 13,
     "metadata": {},
     "output_type": "execute_result"
    }
   ],
   "source": [
    "P_all(99)"
   ]
  },
  {
   "cell_type": "markdown",
   "metadata": {},
   "source": [
    "The moral is: don't expect to ever guess 99 cards all right, and allocate at least about 100 tries to guess 19 cards right.\n",
    "\n",
    "# Computational Complexity\n",
    "\n",
    "My first approach, with `guess_all`, is $O(n!)$ because it considers every permutation of $n$ cards.\n",
    "\n",
    "For my second approach, `first_right` and `renumber` do only a constant amount of work each call. `P_all` makes $n$ calls to `P_given`, and `P_given` considers $n$ down cards and makes  recursive calls only when `first_guess(up, down, n)` returns true. It seems difficult to analyze how often that happens. But we can put an upper bound on the work `P_given` does. It is memoized (with `lru_cache`) and both of its arguments are restricted to $n$ possible values, so we can say that `P_given(up, n)` is $O(n^2)$ as an upper bound, and therefore `P_all(n)` is $O(n^3)$ as an upper bound.\n",
    "\n",
    "However, experimental evidence suggests a stricter bound of $O(n^2)$ for `P_all(n)` (although I haven't proved it).\n",
    "\n",
    "In the table below, `n` is the number of cards,  `s` is the size of the cache for `P_given` (that is, the number of computations `P_given` performed and cached during the computation of `P_all(n)`), and we see that, for all values of $n$ tested, `s` is  *exactly* equal to $c = n \\times (n + 1) / 2 - 1$. "
   ]
  },
  {
   "cell_type": "code",
   "execution_count": 14,
   "metadata": {},
   "outputs": [
    {
     "name": "stdout",
     "output_type": "stream",
     "text": [
      "|   n |      s | s==c | P_all(n) |\n",
      "|—————|————————|——————|——————————|\n",
      "|   3 |      5 | True | 8.33e-01 |\n",
      "|   4 |      9 | True | 6.67e-01 |\n",
      "|   5 |     14 | True | 5.17e-01 |\n",
      "|   6 |     20 | True | 3.97e-01 |\n",
      "|   7 |     27 | True | 3.01e-01 |\n",
      "|   8 |     35 | True | 2.28e-01 |\n",
      "|   9 |     44 | True | 1.71e-01 |\n",
      "|  10 |     54 | True | 1.28e-01 |\n",
      "|  20 |    209 | True | 6.18e-03 |\n",
      "|  30 |    464 | True | 2.71e-04 |\n",
      "|  40 |    819 | True | 1.14e-05 |\n",
      "|  50 |  1,274 | True | 4.71e-07 |\n",
      "|  60 |  1,829 | True | 1.91e-08 |\n",
      "|  70 |  2,484 | True | 7.69e-10 |\n",
      "|  80 |  3,239 | True | 3.07e-11 |\n",
      "|  90 |  4,094 | True | 1.22e-12 |\n",
      "| 100 |  5,049 | True | 4.83e-14 |\n",
      "| 110 |  6,104 | True | 1.90e-15 |\n",
      "| 120 |  7,259 | True | 7.49e-17 |\n",
      "| 130 |  8,514 | True | 2.94e-18 |\n",
      "| 140 |  9,869 | True | 1.15e-19 |\n",
      "| 150 | 11,324 | True | 4.49e-21 |\n"
     ]
    }
   ],
   "source": [
    "print('|   n |      s | s==c | P_all(n) |')\n",
    "print('|—————|————————|——————|——————————|')\n",
    "for n in list(range(3, 10)) + list(range(10, 151, 10)):\n",
    "    P_given.cache_clear()\n",
    "    p = P_all(n)\n",
    "    s = P_given.cache_info().currsize\n",
    "    c = n * (n + 1) / 2 - 1\n",
    "    print(f'|{n:4d} | {s:6,d} | {s == c} | {p:.2e} |')"
   ]
  }
 ],
 "metadata": {
  "kernelspec": {
   "display_name": "Python 3",
   "language": "python",
   "name": "python3"
  },
  "language_info": {
   "codemirror_mode": {
    "name": "ipython",
    "version": 3
   },
   "file_extension": ".py",
   "mimetype": "text/x-python",
   "name": "python",
   "nbconvert_exporter": "python",
   "pygments_lexer": "ipython3",
   "version": "3.7.6"
  }
 },
 "nbformat": 4,
 "nbformat_minor": 2
}
