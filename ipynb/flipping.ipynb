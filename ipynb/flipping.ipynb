{
 "cells": [
  {
   "cell_type": "markdown",
   "metadata": {},
   "source": [
    "\n",
    "<div align=\"right\" style=\"text-align:right\"><i>Peter Norvig<br>May 2020</i></div>\n",
    "\n",
    "# Flipping Cards: A Guessing Game\n",
    "\n",
    "The [538 Riddler for Aug. 17, 2018](\n",
    "https://fivethirtyeight.com/features/step-1-game-theory-step-2-step-3-profit/) poses this problem:\n",
    "\n",
    "> Take a standard deck of cards, and pull out the numbered cards from one suit (the nine cards 2 through 10). Shuffle them, and then lay them face down in a row. Flip over the first card so it is face up. Now guess whether the next card in the row (the first down card) is higher or lower. If you’re right, keep going. If you play this game optimally, what’s the probability that you can get to the end without making any mistakes?<p>\n",
    "> *Extra credit:* What if there were more cards — 2 through 20, or 2 through 100? How do your chances of getting to the end change?\n",
    "    \n",
    "First, let's define \"*play this game optimally.*\"  The optimal policy is to look at the current flipped-up card and, remembering what cards have already been flipped and thus knowing what cards remain face-down, guess that the first down card will be \"higher\" if the majority of the down cards are higher than the up card, otherwise guess that it will be \"lower\".  (*Details*: In case of a tie in the counts, guessing either \"higher\" or \"lower\" is equally optimal. When there are only two cards left (one up, one down) you know for sure what the down card is, so you can always guess right.)\n",
    "    \n",
    "# Brute Force Algorithm\n",
    "    \n",
    "We can solve the problem with brute force: for every permutation of the cards, call `guess_all` to determine if the optimal policy guesses right on that sequence of cards.  Assuming every permutation is equally likely (that is, the cards were shuffled fairly), the overall probability of guessing right is the proportion of `True` results.\n",
    "    \n",
    "> *Python Trivia*: `True` is equal to `1` and `False` is equal to `0`, so `sum([True, False, True])` is 2; `mean([True, False, True])` is 2/3, and when `b` is a Boolean and `x` is a number, the expression `(b and x)` is equivalent to `(x if b else 0)` and the expression `(x - b)` is equivalent to `((x - 1) if b else x)`. In other languages you would be required (or at least encouraged) to explicitly cast Booleans to integers, but in Python `bool` is a subclass of `int` and it is considered good style to do without casts.\n",
    "    \n",
    "I can implement `guess_all` as follows:"
   ]
  },
  {
   "cell_type": "code",
   "execution_count": 1,
   "metadata": {},
   "outputs": [],
   "source": [
    "%matplotlib inline\n",
    "from matplotlib import pyplot as plt\n",
    "from itertools  import permutations\n",
    "from statistics import mean\n",
    "from functools  import lru_cache"
   ]
  },
  {
   "cell_type": "code",
   "execution_count": 2,
   "metadata": {},
   "outputs": [],
   "source": [
    "def guess_all(cards) -> bool: \n",
    "    \"\"\"You guess all the cards right if you guess the first right and the rest right.\"\"\"\n",
    "    return len(cards) <= 2 or guess_first(cards) and guess_all(cards[1:])\n",
    "\n",
    "def guess_first(cards) -> bool:\n",
    "    \"\"\"Guess that the first down card will be \"higher\" or \"lower\" according to majority \n",
    "    counts of the down cards; return True if the guess is correct.\"\"\"\n",
    "    up, *down = cards\n",
    "    higher = sum(d > up for d in down)\n",
    "    lower  = sum(d < up for d in down)\n",
    "    return (higher > lower) == (down[0] > up)"
   ]
  },
  {
   "cell_type": "markdown",
   "metadata": {},
   "source": [
    "Some simple examples:"
   ]
  },
  {
   "cell_type": "code",
   "execution_count": 3,
   "metadata": {},
   "outputs": [
    {
     "data": {
      "text/plain": [
       "True"
      ]
     },
     "execution_count": 3,
     "metadata": {},
     "output_type": "execute_result"
    }
   ],
   "source": [
    "# On this sequence, the optimal policy always guesses \"higher\"; \n",
    "# and it turns out that's always right.  \n",
    "guess_all((2, 3, 4, 5, 6))"
   ]
  },
  {
   "cell_type": "code",
   "execution_count": 4,
   "metadata": {},
   "outputs": [
    {
     "data": {
      "text/plain": [
       "False"
      ]
     },
     "execution_count": 4,
     "metadata": {},
     "output_type": "execute_result"
    }
   ],
   "source": [
    "# On this sequence, the optimal policy guesses \"higher\" first; that's wrong.\n",
    "# There is a 3/4 chance that a down card is higher than 3, but it turns\n",
    "# out that the first down card, 2, is the one lower card.\n",
    "guess_all((3, 2, 4, 5, 6)) "
   ]
  },
  {
   "cell_type": "code",
   "execution_count": 5,
   "metadata": {},
   "outputs": [
    {
     "data": {
      "text/plain": [
       "False"
      ]
     },
     "execution_count": 5,
     "metadata": {},
     "output_type": "execute_result"
    }
   ],
   "source": [
    "guess_first((3, 2, 4, 5, 6))"
   ]
  },
  {
   "cell_type": "markdown",
   "metadata": {},
   "source": [
    "# The Answer\n",
    "\n",
    "The probability that we can guess all nine cards right is the average over all possible permutations of the cards:"
   ]
  },
  {
   "cell_type": "code",
   "execution_count": 6,
   "metadata": {},
   "outputs": [
    {
     "data": {
      "text/plain": [
       "0.17085537918871252"
      ]
     },
     "execution_count": 6,
     "metadata": {},
     "output_type": "execute_result"
    }
   ],
   "source": [
    "cards = range(2, 11)\n",
    "\n",
    "mean(map(guess_all, permutations(cards)))"
   ]
  },
  {
   "cell_type": "markdown",
   "metadata": {},
   "source": [
    "That's the correct answer ([per 538](https://fivethirtyeight.com/features/how-many-hoops-will-kids-jump-through-to-play-rock-paper-scissors/)): about 17% chance of guessing all nine cards right.\n",
    "\n",
    "# Extra Credit: Efficient Algorithm\n",
    "\n",
    "The extra credit problem asks about 19 and 99 cards. But there are $19! \\approx 10^{17}$ permutations of 19 cards and a whopping $99! \\approx 10^{156}$ permutations of 99 cards. So my brute force algorithm won't work. \n",
    "\n",
    "(*Note*: since we are now dealing with the general case of $n$ cards, I'll represent them as `range(n)`, that is, starting at `0` rather than `2`.)\n",
    "\n",
    "# Efficient Algorithm: Analysis\n",
    "\n",
    "We will need a more efficient way of representing cards, so that we don't need to consider $n!$ possibilities. I see two ideas that will help. Consider what happens when we are deciding whether to guess \"higher\" or \"lower\" in `guess_first(cards)`: \n",
    "\n",
    "**First**, the **order** of the `down` cards doesn't matter. The optimal policy makes the same guess whether `down` is `(2, 3, 4, 5)` or a permutation such as `(4, 2, 5, 3)`. So we could represent cards as a set: `{2, 3, 4, 5}`. As we discard flipped cards, we must consider subsets. Since there are $n!$ permutations but only $2^n$ subsets of $n$ cards, this is a nice improvement, good enough to handle $n=19$ (but not good enough for $n=99$).\n",
    "\n",
    "**Second**, the **identity** of the `down` cards doesn't matter. What does matter is how many down cards are higher or lower than the up card. For example, when the up card is `3` it doesn't matter if the remaining cards are `{2, 3, 6}` or `{1, 3, 4}` or `{0, 3, 5}` or any other set of three cards in which the `3` is the middle card. For any such set, there is one card higher and one card lower than the up card, so the chance of guessing right is 50%. Note that I can't  represent all these situations as \"*there are 3 cards remaining and the up card is 3*\" but I can represent them as  \"*there are 3 cards remaining and the up card is the second lowest*\". \n",
    "\n",
    "In other words, I can describe the up card by **renumbering** it to be its index into the sorted list of remaining cards (up and down). For each of the three sets described here, the index of the `3` card is `1`; it is the second element of the sorted list of cards:"
   ]
  },
  {
   "cell_type": "code",
   "execution_count": 7,
   "metadata": {},
   "outputs": [],
   "source": [
    "for cards in ({2, 3, 6}, {1, 3, 4}, {0, 3, 5}):\n",
    "    assert sorted(cards).index(3) == 1"
   ]
  },
  {
   "cell_type": "markdown",
   "metadata": {},
   "source": [
    "Some further examples of renumbering:\n",
    "\n",
    "  - [Cards: `{2, 3, 6}` Up: `3`] *renumbered to* [Cards: `range(3)` Up: `1`] (i.e., second lowest)\n",
    "  - [Cards: `{1, 3, 4}` Up: `3`] *renumbered to* [Cards: `range(3)` Up: `1`] (i.e., second lowest)\n",
    "  - [Cards: `{0, 3, 5}` Up: `3`] *renumbered to* [Cards: `range(3)` Up: `1`] (i.e., second lowest)\n",
    "  - [Cards: `{3, 5, 7}` Up: `3`] *renumbered to* [Cards: `range(3)` Up: `0`] (i.e., lowest)\n",
    "  - [Cards: `{0, 1, 3}` Up: `3`] *renumbered to* [Cards: `range(3)` Up: `2`] (i.e., third lowest)\n",
    "\n",
    "  \n",
    "Now I can describe any situation with just two integers, the number of cards and the index of the up card. That means there are only $n^2$ possible situations to describe, which should be good enough to handle $n=99$ and beyond. \n",
    "\n",
    "What I have done is gone from a **concrete** representation of the cards as explicit permutations to an **abstract** representation that says how many cards remain and what the index number of the up card is, but doesn't say exactly what the cards are nor what order they are in. This kind of abstraction is often a good way to fight against combinatorial explosion.\n",
    "\n",
    "\n",
    "\n",
    "\n",
    "# Efficient Algorithm: First Try\n",
    "\n",
    "I wanted to define a function, `P_all(n)`, that tells me the probability of guessing all `n` cards right. I wrote down a first try at a definition:\n",
    "\n",
    "    def P_all(n) -> float:\n",
    "        return 1 if n <= 2 else P_first(n) * P_all(n - 1)\n",
    "        \n",
    "Could it really be as simple as that? All I have to do is define `P_first(n)` (the probability of guessing the first of `n` cards right) and I'm done? My immediate reaction was that this feels *too* easy. I was suspicious of this definition for three reasons:\n",
    "\n",
    "1. It is rare (but not unheard of) for an efficient algorithm to be simpler than the brute force algorithm.\n",
    "- I said there should be renumbering, but this code doesn't do any renumbering.\n",
    "- This code says the joint probability of getting the first card right and then getting the rest right is the product of their probabilities. But that's true *only when the two events are independent*. And in flipping cards, the two events are *not* independent, because both events depend on the card that is the first down card in `P_first(n)` and becomes the up card in `P_all(n - 1)`. \n",
    "\n",
    "My suspicions were well-founded: this code won't work.\n",
    "\n",
    "# Efficient Algorithm: Second Try\n",
    "\n",
    "I need to capture the fact that the card that is the first down card for the current guess becomes the up card for the next guess.  One way to do that is to define `P_all_given(up, n)` to be the probability of guessing all the cards right given that the flipped-up card has index `up` in the sorted list of `n` remaining cards (including the `up` card).\n",
    "\n",
    "Now `P_all(n)` is defined to call `P_all_given(up, n)` for each possible `up` card and average the results:"
   ]
  },
  {
   "cell_type": "code",
   "execution_count": 8,
   "metadata": {},
   "outputs": [],
   "source": [
    "def P_all(n) -> float:\n",
    "    \"\"\"Probability of guessing all n cards right.\"\"\"\n",
    "    return mean(P_all_given(up, n) for up in range(n))"
   ]
  },
  {
   "cell_type": "markdown",
   "metadata": {},
   "source": [
    "`P_all_given(up, n)` works by considering each possible first down card (`down1`), computing if we would guess the first down card right given the up card  (`guess_first_given(up, down1, n)`), and if right, calling `P_all_given` recursively with the old first down card (renumbered) being the new up card, and the deck size, `n`, being one card smaller. \n",
    "When this is all done, we take the average probability value over all the down cards. We also arrange for `P_all_given` to cache its values so that we don't repeat computations; this is crucial for efficiency."
   ]
  },
  {
   "cell_type": "code",
   "execution_count": 9,
   "metadata": {},
   "outputs": [],
   "source": [
    "@lru_cache(None)\n",
    "def P_all_given(up, n) -> float:\n",
    "    \"\"\"Probability of guessing all n cards right, given the index of the up card.\"\"\"\n",
    "    return (1 if n <= 2 else\n",
    "            mean(guess_first_given(up, down1, n) and P_all_given(renumber(down1, up), n - 1)\n",
    "                 for down1 in range(n) if down1 != up))"
   ]
  },
  {
   "cell_type": "markdown",
   "metadata": {},
   "source": [
    "The function `guess_first_given(up, down1, n)`, defined below, returns true if we would correctly guess the first down card given the up card. The optimal policy is to guess that the first down card will be higher than the renumbered up card when the up card is in the lower half of `range(n)`. \n",
    "\n",
    "And finally, `renumber` renumbers a card by decrementing it by one if the card we are discarding (the up card) is lower (meaning that the card we are keeping becomes one closer to the lowest possible card). Otherwise the card's number is unchanged."
   ]
  },
  {
   "cell_type": "code",
   "execution_count": 10,
   "metadata": {},
   "outputs": [],
   "source": [
    "def guess_first_given(up, down1, n) -> bool:\n",
    "    \"\"\"Do we guess the first down card right given the up card, \n",
    "    when the set of cards (including up and down) is range(n)?\"\"\"\n",
    "    return (up < n / 2) == (down1 > up)\n",
    "\n",
    "def renumber(card, discard) -> int:  return card - (discard < card)"
   ]
  },
  {
   "cell_type": "markdown",
   "metadata": {},
   "source": [
    "We can see that `P_all(n)` agrees with the old brute-force result  (except for round-off in the 17th decimal place):"
   ]
  },
  {
   "cell_type": "code",
   "execution_count": 11,
   "metadata": {},
   "outputs": [
    {
     "data": {
      "text/plain": [
       "0.17085537918871255"
      ]
     },
     "execution_count": 11,
     "metadata": {},
     "output_type": "execute_result"
    }
   ],
   "source": [
    "P_all(9)"
   ]
  },
  {
   "cell_type": "code",
   "execution_count": 12,
   "metadata": {},
   "outputs": [
    {
     "data": {
      "text/plain": [
       "0.17085537918871252"
      ]
     },
     "execution_count": 12,
     "metadata": {},
     "output_type": "execute_result"
    }
   ],
   "source": [
    "mean(map(guess_all, permutations(range(2, 11))))"
   ]
  },
  {
   "cell_type": "markdown",
   "metadata": {},
   "source": [
    "# The Extra Credit Answers\n",
    "\n",
    "We can now efficiently answer the extra credit questions:"
   ]
  },
  {
   "cell_type": "code",
   "execution_count": 13,
   "metadata": {},
   "outputs": [
    {
     "data": {
      "text/plain": [
       "0.008419397002884993"
      ]
     },
     "execution_count": 13,
     "metadata": {},
     "output_type": "execute_result"
    }
   ],
   "source": [
    "P_all(19)"
   ]
  },
  {
   "cell_type": "code",
   "execution_count": 14,
   "metadata": {},
   "outputs": [
    {
     "data": {
      "text/plain": [
       "6.67213407124781e-14"
      ]
     },
     "execution_count": 14,
     "metadata": {},
     "output_type": "execute_result"
    }
   ],
   "source": [
    "P_all(99)"
   ]
  },
  {
   "cell_type": "markdown",
   "metadata": {},
   "source": [
    "The moral is: give yourself at least about 100 tries to guess 19 cards right, and don't expect to *ever* guess 99 cards right.\n",
    "\n",
    "# Closed Form Formula?\n",
    "\n",
    "I would like to come up with a closed-form formula for `P_all(n)` as a function of $n$. I don't see how to define an *exact* formula, but I can see that:\n",
    "- When the up card is the very middle of the remaining cards, we have a 50% chance of guessing right.\n",
    "- When the up card is the very highest or very lowest of the remaining cards, we have a 100% chance of guessing right.\n",
    "- So on average (very roughly speaking), we should have about a 75% chance of guessing right on each card.\n",
    "- In a full deck we make $n - 2$ guesses (we don't have to guess the first card, and we will know the last for sure).\n",
    "- Therefore, the chance of guessing all the cards right is  roughly $0.75^{(n-2)}$\n",
    "\n",
    "To see if this theory makes sense, let's make a logarithmic plot (see below) in which `base ** (n-2)` (in blue) is an exponential function, which means it is a perfectly straight line on a log plot. We see that the `P_all(n)` curve (in red) matches the exponential function at the start and end, but bows a tiny bit above the exponential in the middle. It must be a more complex function than just a simple exponential. After playing around a bit, I found that `base = 0.7256`, not `base = 0.7500`, gave the best fit to `P_all(n=299)`, out of any four-decimal-place  value."
   ]
  },
  {
   "cell_type": "code",
   "execution_count": 15,
   "metadata": {},
   "outputs": [
    {
     "data": {
      "image/png": "[encoded data removed]",
      "text/plain": [
       "<Figure size 648x648 with 1 Axes>"
      ]
     },
     "metadata": {
      "needs_background": "light"
     },
     "output_type": "display_data"
    }
   ],
   "source": [
    "base = 0.7256\n",
    "\n",
    "X = range(2, 300, 4)\n",
    "Y = [P_all(n) for n in X]\n",
    "E = [base ** (n - 2) for n in X]\n",
    "\n",
    "plt.figure(figsize=(9, 9))\n",
    "plt.yscale('log')\n",
    "plt.xlabel(\"Number of Cards, n\")\n",
    "plt.ylabel(\"Probability of Guessing All Right (log scale)\")\n",
    "plt.plot(X, Y, 'rs', alpha=0.5, label='P_all(n)')\n",
    "plt.plot(X, E, 'bs', alpha=0.5, label=f'{base} ** (n-2)')\n",
    "plt.legend();"
   ]
  },
  {
   "cell_type": "markdown",
   "metadata": {},
   "source": [
    "# Computational Complexity: O(n) Notation \n",
    "\n",
    "The brute force algorithm, with `guess_all(n)`, requires $O(n!)$ computation time because it considers every permutation of $n$ cards.\n",
    "\n",
    "In the efficient algorithm,  `P_all(n)` makes $n$ calls to `P_all_given`, and each call to `P_all_given` considers $n$ down cards and makes  recursive calls only when `guess_first_given(up, down1, n)` returns true. Some of those calls have already been computed and are cached. It seems complicated to do an exact analysis. \n",
    "\n",
    "However, if we assume that the majority of the work done by `P_all` is inside a call to `P_all_given`,  and note that both of `P_all_given`'s arguments are restricted to $n$ possible values, then we can conclude that only $O(n^2)$ unique calls can be made. Repeated calls will fetch results from the cache in constant time. Therefore `P_all` is $O(n^2)$.\n",
    "\n",
    "Experimental evidence shows that for every value of `n` tested so far, a call to `P_all(n)` does *exactly* $n \\times (n + 1) / 2 - 1$ unique calls to `P_all_given`. We can determine this by looking at the number of elements in the function's cache.\n",
    "\n",
    "In the table below, `n` is the number of cards,  `s` is the size of the cache, and we see that `s` is always equal to $c = n \\times (n + 1) / 2 - 1$. \n",
    "\n",
    "The last three columns of the table don't deal with computational complexity. They give the value of `P_all(n)`, the approximation  `base ** (n - 2)`, and the percentage difference between the true value and the approximation."
   ]
  },
  {
   "cell_type": "code",
   "execution_count": 16,
   "metadata": {},
   "outputs": [
    {
     "name": "stdout",
     "output_type": "stream",
     "text": [
      "   n |      s | s==c || P_all(n) | base**(n-2) | diff (base=0.7256)\n",
      "—————|————————|——————||——————————|—————————————|———————\n",
      "   2 |      2 | True ||  1.0e+00 |   1.0e+00   |  0%\n",
      "   3 |      5 | True ||  8.3e-01 |   7.3e-01   | 13%\n",
      "   4 |      9 | True ||  6.7e-01 |   5.3e-01   | 21%\n",
      "   5 |     14 | True ||  5.2e-01 |   3.8e-01   | 26%\n",
      "   6 |     20 | True ||  4.0e-01 |   2.8e-01   | 30%\n",
      "   7 |     27 | True ||  3.0e-01 |   2.0e-01   | 33%\n",
      "   8 |     35 | True ||  2.3e-01 |   1.5e-01   | 36%\n",
      "   9 |     44 | True ||  1.7e-01 |   1.1e-01   | 38%\n",
      "  19 |    189 | True ||  8.4e-03 |   4.3e-03   | 49%\n",
      "  39 |    779 | True ||  1.6e-05 |   7.0e-06   | 55%\n",
      "  59 |  1,769 | True ||  2.6e-08 |   1.1e-08   | 56%\n",
      "  79 |  3,159 | True ||  4.2e-11 |   1.9e-11   | 56%\n",
      "  99 |  4,949 | True ||  6.7e-14 |   3.1e-14   | 54%\n",
      " 119 |  7,139 | True ||  1.0e-16 |   5.0e-17   | 51%\n",
      " 139 |  9,729 | True ||  1.6e-19 |   8.2e-20   | 48%\n",
      " 159 | 12,719 | True ||  2.4e-22 |   1.3e-22   | 44%\n",
      " 179 | 16,109 | True ||  3.7e-25 |   2.2e-25   | 40%\n",
      " 199 | 19,899 | True ||  5.5e-28 |   3.6e-28   | 35%\n",
      " 219 | 24,089 | True ||  8.3e-31 |   5.9e-31   | 29%\n",
      " 239 | 28,679 | True ||  1.3e-33 |   9.7e-34   | 23%\n",
      " 259 | 33,669 | True ||  1.9e-36 |   1.6e-36   | 15%\n",
      " 279 | 39,059 | True ||  2.8e-39 |   2.6e-39   |  7%\n",
      " 299 | 44,849 | True ||  4.2e-42 |   4.2e-42   |  2%\n"
     ]
    }
   ],
   "source": [
    "P_all_given.cache_clear()\n",
    "print(f'   n |      s | s==c || P_all(n) | base**(n-2) | diff (base={base})')\n",
    "print(f'—————|————————|——————||——————————|—————————————|———————')\n",
    "for n in list(range(2, 10)) + list(range(19, 300, 20)):\n",
    "    p = P_all(n)\n",
    "    s = P_all_given.cache_info().currsize\n",
    "    c = n * (n + 1) / 2 - 1\n",
    "    e = base ** (n - 2)\n",
    "    diff = abs(p - e) / p\n",
    "    print(f'{n:4d} | {s:6,d} | {s == c} || {p:8.1e} |  {e:8.1e}   | {diff:3.0%}')"
   ]
  }
 ],
 "metadata": {
  "kernelspec": {
   "display_name": "Python 3",
   "language": "python",
   "name": "python3"
  },
  "language_info": {
   "codemirror_mode": {
    "name": "ipython",
    "version": 3
   },
   "file_extension": ".py",
   "mimetype": "text/x-python",
   "name": "python",
   "nbconvert_exporter": "python",
   "pygments_lexer": "ipython3",
   "version": "3.7.6"
  }
 },
 "nbformat": 4,
 "nbformat_minor": 2
}
