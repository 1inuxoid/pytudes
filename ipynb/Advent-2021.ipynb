{
 "cells": [
  {
   "cell_type": "markdown",
   "metadata": {},
   "source": [
    "<div style=\"text-align: right\" align=\"right\"><i>Peter Norvig<br>December 1–25, 2021</i></div>\n",
    "\n",
    "# Advent of Code 2021\n",
    "\n",
    "I'm doing [Advent of Code](https://adventofcode.com/2021) (AoC) this year. I'm not competing for points, just participating for fun.\n",
    "\n",
    "To fully understand each puzzle's instructions, click on the link (e.g. [**Day 1**](https://adventofcode.com/2021/day/1)); I give only brief summaries here. \n",
    "\n",
    "Part of the idea of AoC is that you have to make some design choices to solve part 1 *before* you get to see the instructions for part 2. So there is a tension of wanting the solution to part 1 to provide components that can be re-used in part 2, without falling victim to [YAGNI](https://en.wikipedia.org/wiki/You_aren%27t_gonna_need_it). In this notebook I won't refactor the code for part 1 after I see what is in part 2 (although I may edit the code for clarity, without changing the initial approach).\n",
    "\n",
    "# Day 0: Preparations\n",
    "\n",
    "First, imports that I have used in past AoC years:"
   ]
  },
  {
   "cell_type": "code",
   "execution_count": 1,
   "metadata": {},
   "outputs": [],
   "source": [
    "from __future__  import annotations\n",
    "from collections import Counter, defaultdict, namedtuple, deque\n",
    "from itertools   import permutations, combinations, chain, count as count_from, product as cross_product\n",
    "from typing      import *\n",
    "from statistics  import mean, median\n",
    "from math        import ceil, inf\n",
    "from functools   import lru_cache\n",
    "import matplotlib.pyplot as plt\n",
    "import re"
   ]
  },
  {
   "cell_type": "markdown",
   "metadata": {},
   "source": [
    "Each day's work will consist of three tasks, denoted by three bulleted section:\n",
    "- **Input**: Parse the day's input file.  I will  use the function `parse(day, parser, sep)`, which:\n",
    "   - Reads the input file for `day`.\n",
    "   - Prints out the first few lines of the file (to remind me, and the notebook reader, what's there).\n",
    "   - Breaks the file into a sequence of *entries* separated by `sep` (default newline).\n",
    "   - Applies `parser` to each entry and returns the results as a tuple.\n",
    "       - Useful parser functions include `ints`, `digits`, `atoms`, `words`, and the built-ins `int` and `str`.\n",
    "- **Part 1**: Write code to compute the answer to Part 1, and submit the answer to the AoC site. Use the function `answer` to record the correct answer here in the notebook and serve as a regression test when the notebook is re-run. If there are non-trivial components in this code, I might provide unit tests for them using `assert`.\n",
    "- **Part 2**: Repeat coding and `answer` for Part 2.\n"
   ]
  },
  {
   "cell_type": "code",
   "execution_count": 2,
   "metadata": {},
   "outputs": [],
   "source": [
    "def answer(puzzle_number, got, expected) -> bool:\n",
    "    \"\"\"Verify the answer we got was the expected answer.\"\"\"\n",
    "    assert got == expected, f'For {puzzle_number}, expected {expected} but got {got}.'\n",
    "    return True\n",
    "\n",
    "def parse(day, parser=str, sep='\\n', print_lines=7) -> tuple:\n",
    "    \"\"\"Split the day's input file into entries separated by `sep`, and apply `parser` to each.\"\"\"\n",
    "    text = open(f'AOC2021/input{day}.txt').read()\n",
    "    entries = mapt(parser, text.rstrip().split(sep))\n",
    "    if print_lines:\n",
    "        lines = text.splitlines()[:print_lines]\n",
    "        head = f'First {len(lines)} lines of Day {day} input (which is parsed into {len(entries)} entries)'\n",
    "        print(f'{head}:\\n{\"-\" * len(head)}')\n",
    "        for line in lines:\n",
    "            print(line if len(line) <= 100 else line[:100] + ' ...')\n",
    "    return entries\n",
    "\n",
    "def ints(text: str) -> Tuple[int]:\n",
    "    \"\"\"A tuple of all the integers in text, ignoring non-number characters.\"\"\"\n",
    "    return mapt(int, re.findall('-?[0-9]+', text))\n",
    "\n",
    "def digits(text: str) -> Tuple[int]:\n",
    "    \"\"\"A tuple of all the digits in text (as ints 0–9), ignoring non-digit characters.\"\"\"\n",
    "    return mapt(int, re.findall('[0-9]', text))\n",
    "\n",
    "def words(text: str) -> List[str]:\n",
    "    \"\"\"A list of all the alphabetic words in text, ignoring non-letters.\"\"\"\n",
    "    return re.findall('[a-zA-Z]+', text)\n",
    "\n",
    "Char = str # Intended as a one-character string\n",
    "\n",
    "Atom = Union[float, int, str]\n",
    "\n",
    "def atoms(text: str, sep=None) -> Tuple[Atom]:\n",
    "    \"\"\"A tuple of all the atoms (numbers or strs) in text.\n",
    "    By default, atoms are space-separated but you can change that with `sep`.\"\"\"\n",
    "    return mapt(atom, text.split(sep))\n",
    "\n",
    "def atom(text: str) -> Atom:\n",
    "    \"\"\"Parse text into a single float or int or str.\"\"\"\n",
    "    try:\n",
    "        x = float(text)\n",
    "        return round(x) if round(x) == x else x\n",
    "    except ValueError:\n",
    "        return text\n",
    "    \n",
    "def mapt(fn, *args) -> tuple:\n",
    "    \"\"\"map(fn, *args) and return the result as a tuple.\"\"\"\n",
    "    return tuple(map(fn, *args))"
   ]
  },
  {
   "cell_type": "markdown",
   "metadata": {},
   "source": [
    "A few additional  utility functions that I have used in the past:"
   ]
  },
  {
   "cell_type": "code",
   "execution_count": 3,
   "metadata": {},
   "outputs": [],
   "source": [
    "def quantify(iterable, pred=bool) -> int:\n",
    "    \"\"\"Count the number of items in iterable for which pred is true.\"\"\"\n",
    "    return sum(1 for item in iterable if pred(item))\n",
    "\n",
    "class multimap(defaultdict):\n",
    "    \"\"\"A mapping of {key: [val1, val2, ...]}.\"\"\"\n",
    "    def __init__(self, pairs: Iterable[tuple], symmetric=False):\n",
    "        \"\"\"Given (key, val) pairs, return {key: [val, ...], ...}.\n",
    "        If `symmetric` is True, treat (key, val) as (key, val) plus (val, key).\"\"\"\n",
    "        self.default_factory = list\n",
    "        for (key, val) in pairs:\n",
    "            self[key].append(val)\n",
    "            if symmetric:\n",
    "                self[val].append(key)\n",
    "\n",
    "def prod(numbers) -> float: # Will be math.prod in Python 3.8\n",
    "    \"\"\"The product formed by multiplying numbers together.\"\"\"\n",
    "    result = 1\n",
    "    for n in numbers:\n",
    "        result *= n\n",
    "    return result\n",
    "\n",
    "def total(counter: Counter) -> int: \n",
    "    \"\"\"The sum of all the counts in a Counter.\"\"\"\n",
    "    return sum(counter.values())\n",
    "\n",
    "def sign(x) -> int: return (0 if x == 0 else +1 if x > 0 else -1)\n",
    "    \n",
    "def dotproduct(A, B) -> float: return sum(a * b for a, b in zip(A, B))\n",
    "\n",
    "def transpose(matrix) -> list: return list(zip(*matrix))\n",
    "\n",
    "cat     = ''.join\n",
    "flatten = chain.from_iterable\n",
    "cache   = lru_cache(None)"
   ]
  },
  {
   "cell_type": "markdown",
   "metadata": {},
   "source": [
    "A lot of puzzles seem to involve (x, y) points on a rectangular grid, so I'll define  `Point` and `Grid`:"
   ]
  },
  {
   "cell_type": "code",
   "execution_count": 4,
   "metadata": {},
   "outputs": [],
   "source": [
    "Point = Tuple[int, int] # (x, y) points on a grid\n",
    "\n",
    "neighbors4 = ((0, 1), (1, 0), (0, -1), (-1, 0))               \n",
    "neighbors8 = ((1, 1), (1, -1), (-1, 1), (-1, -1)) + neighbors4\n",
    "\n",
    "class Grid(dict):\n",
    "    \"\"\"A 2D grid, implemented as a mapping of {(x, y): cell_contents}.\"\"\"\n",
    "    def __init__(self, mapping=(), rows=(), neighbors=neighbors4):\n",
    "        \"\"\"Initialize with, e.g., either `mapping={(0, 0): 1, (1, 0): 2, ...}`,\n",
    "        or `rows=[(1, 2, 3), (4, 5, 6)].\n",
    "        `neighbors` is a collection of (dx, dy) deltas to neighboring points.`\"\"\"\n",
    "        self.update(mapping if mapping else\n",
    "                    {(x, y): val \n",
    "                     for y, row in enumerate(rows) \n",
    "                     for x, val in enumerate(row)})\n",
    "        self.width  = max(x for x, y in self) + 1\n",
    "        self.height = max(y for x, y in self) + 1\n",
    "        self.deltas = neighbors\n",
    "        \n",
    "    def copy(self) -> Grid: return Grid(self, neighbors=self.deltas)\n",
    "    \n",
    "    def neighbors(self, point) -> List[Point]:\n",
    "        \"\"\"Points on the grid that neighbor `point`.\"\"\"\n",
    "        x, y = point\n",
    "        return [(x+dx, y+dy) for (dx, dy) in self.deltas \n",
    "                if (x+dx, y+dy) in self]\n",
    "    \n",
    "    def to_rows(self) -> List[List[object]]:\n",
    "        \"\"\"The contents of the grid in a rectangular list of lists.\"\"\"\n",
    "        return [[self[x, y] for x in range(self.width)]\n",
    "                for y in range(self.height)]"
   ]
  },
  {
   "cell_type": "markdown",
   "metadata": {},
   "source": [
    "This year's AoC theme involves Santa's Elves on a submarine. [Gary J Grady](https://twitter.com/GaryJGrady/) has some nice drawings to set the scene:\n",
    "\n",
    "<img src=\"https://pbs.twimg.com/media/FFiywKpWYAAm6B5?format=jpg&name=medium\" width=400>\n",
    "\n",
    "# [Day 1](https://adventofcode.com/2021/day/1): Sonar Sweep\n",
    "\n",
    "\n",
    "- **Input**: Each entry in the input is an integer depth measurement.\n"
   ]
  },
  {
   "cell_type": "code",
   "execution_count": 5,
   "metadata": {},
   "outputs": [
    {
     "name": "stdout",
     "output_type": "stream",
     "text": [
      "First 7 lines of Day 1 input (which is parsed into 2000 entries):\n",
      "----------------------------------------------------------------\n",
      "148\n",
      "167\n",
      "168\n",
      "169\n",
      "182\n",
      "188\n",
      "193\n"
     ]
    }
   ],
   "source": [
    "in1 = parse(1, int)"
   ]
  },
  {
   "cell_type": "markdown",
   "metadata": {},
   "source": [
    "- **Part 1**: How many measurements are larger than the previous measurement?"
   ]
  },
  {
   "cell_type": "code",
   "execution_count": 6,
   "metadata": {},
   "outputs": [
    {
     "data": {
      "text/plain": [
       "True"
      ]
     },
     "execution_count": 6,
     "metadata": {},
     "output_type": "execute_result"
    }
   ],
   "source": [
    "def increases(nums: List[int]) -> int:\n",
    "    \"\"\"How many measurements are larger than the previous measurement?\"\"\"\n",
    "    return quantify(nums[i] > nums[i - 1] \n",
    "                    for i in range(1, len(nums)))\n",
    "\n",
    "answer(1.1, increases(in1), 1400)"
   ]
  },
  {
   "cell_type": "markdown",
   "metadata": {},
   "source": [
    "- **Part 2**: Consider sums of a three-measurement sliding window. How many sums are larger than the previous sum?"
   ]
  },
  {
   "cell_type": "code",
   "execution_count": 7,
   "metadata": {},
   "outputs": [
    {
     "data": {
      "text/plain": [
       "True"
      ]
     },
     "execution_count": 7,
     "metadata": {},
     "output_type": "execute_result"
    }
   ],
   "source": [
    "def window_increases(nums: List[int], w=3) -> int:\n",
    "    \"\"\"How many sliding windows of `w` numbers have a sum larger than the previous window?\"\"\"\n",
    "    return quantify(sum(nums[i:i+w]) > sum(nums[i-1:i-1+w])\n",
    "                    for i in range(1, len(nums) + 1 - w))\n",
    "\n",
    "answer(1.2, window_increases(in1), 1429)"
   ]
  },
  {
   "cell_type": "markdown",
   "metadata": {},
   "source": [
    "Let's take a look at where the depths are taking us:"
   ]
  },
  {
   "cell_type": "code",
   "execution_count": 8,
   "metadata": {},
   "outputs": [
    {
     "data": {
      "image/png": "[encoded data removed]",
      "text/plain": [
       "<Figure size 432x288 with 1 Axes>"
      ]
     },
     "metadata": {
      "needs_background": "light"
     },
     "output_type": "display_data"
    }
   ],
   "source": [
    "plt.plot(in1, 'b.'); plt.ylabel('Depth'); plt.gca().invert_yaxis();"
   ]
  },
  {
   "cell_type": "markdown",
   "metadata": {},
   "source": [
    "It looks like Gary Grady was right; the submarine is descending at a steep angle."
   ]
  },
  {
   "cell_type": "markdown",
   "metadata": {},
   "source": [
    "# [Day 2](https://adventofcode.com/2021/day/2): Dive! \n",
    "\n",
    "- **Input**: Each entry in the input is a command name (\"forward\", \"down\", or \"up\") followed by an integer.\n",
    "\n",
    "I'll parse a command into a tuple like `('forward', 1)`."
   ]
  },
  {
   "cell_type": "code",
   "execution_count": 9,
   "metadata": {},
   "outputs": [
    {
     "name": "stdout",
     "output_type": "stream",
     "text": [
      "First 7 lines of Day 2 input (which is parsed into 1000 entries):\n",
      "----------------------------------------------------------------\n",
      "forward 2\n",
      "down 7\n",
      "down 8\n",
      "forward 9\n",
      "down 8\n",
      "forward 9\n",
      "forward 8\n"
     ]
    }
   ],
   "source": [
    "in2 = parse(2, atoms)"
   ]
  },
  {
   "cell_type": "markdown",
   "metadata": {},
   "source": [
    "- **Part 1**: Calculate the horizontal position and depth you would have after following the planned course. What do you get if you multiply your final horizontal position by your final depth?"
   ]
  },
  {
   "cell_type": "code",
   "execution_count": 10,
   "metadata": {},
   "outputs": [
    {
     "data": {
      "text/plain": [
       "True"
      ]
     },
     "execution_count": 10,
     "metadata": {},
     "output_type": "execute_result"
    }
   ],
   "source": [
    "def drive(commands) -> int:\n",
    "    \"\"\"What is the product of position and depth after following commands?\"\"\"\n",
    "    pos = depth = 0\n",
    "    for (op, n) in commands:\n",
    "        if op == 'forward': pos += n\n",
    "        if op == 'down':    depth += n\n",
    "        if op == 'up':      depth -= n\n",
    "    return pos * depth\n",
    "\n",
    "answer(2.1, drive(in2), 1_670_340)"
   ]
  },
  {
   "cell_type": "markdown",
   "metadata": {},
   "source": [
    "- **Part 2**: Using the new interpretation of the commands, calculate the horizontal position and depth you would have after following the planned course. What do you get if you multiply your final horizontal position by your final depth? \n",
    "\n",
    "The *new interpretation* is that the \"down\" and \"up\" commands no longer change depth, rather they change *aim*, and going forward *n* units both increments position by *n* and depth by *aim* × *n*."
   ]
  },
  {
   "cell_type": "code",
   "execution_count": 11,
   "metadata": {},
   "outputs": [
    {
     "data": {
      "text/plain": [
       "True"
      ]
     },
     "execution_count": 11,
     "metadata": {},
     "output_type": "execute_result"
    }
   ],
   "source": [
    "def drive2(commands) -> int:\n",
    "    \"\"\"What is the product of position and depth after following commands?\n",
    "    This time we have to keep track of `aim` as well.\"\"\"\n",
    "    pos = depth = aim = 0\n",
    "    for (op, n) in commands:\n",
    "        if op == 'forward': pos += n; depth += aim * n\n",
    "        if op == 'down':    aim += n\n",
    "        if op == 'up':      aim -= n\n",
    "    return pos * depth\n",
    "\n",
    "answer(2.2, drive2(in2), 1_954_293_920)"
   ]
  },
  {
   "cell_type": "markdown",
   "metadata": {},
   "source": [
    "# [Day 3](https://adventofcode.com/2021/day/3): Binary Diagnostic\n",
    "\n",
    "- **Input**: Each entry in the input is a bit string of `0`s and `1`s.\n",
    "\n",
    "I'll parse them as strings; I won't convert them into ints."
   ]
  },
  {
   "cell_type": "code",
   "execution_count": 12,
   "metadata": {},
   "outputs": [
    {
     "name": "stdout",
     "output_type": "stream",
     "text": [
      "First 7 lines of Day 3 input (which is parsed into 1000 entries):\n",
      "----------------------------------------------------------------\n",
      "101000111100\n",
      "000011111101\n",
      "011100000100\n",
      "100100010000\n",
      "011110010100\n",
      "101001100000\n",
      "110001010000\n"
     ]
    }
   ],
   "source": [
    "in3 = parse(3)"
   ]
  },
  {
   "cell_type": "markdown",
   "metadata": {},
   "source": [
    "- **Part 1**: Use the binary numbers in your diagnostic report to calculate the gamma rate and epsilon rate, then multiply them together. What is the power consumption of the submarine?"
   ]
  },
  {
   "cell_type": "code",
   "execution_count": 13,
   "metadata": {},
   "outputs": [
    {
     "data": {
      "text/plain": [
       "True"
      ]
     },
     "execution_count": 13,
     "metadata": {},
     "output_type": "execute_result"
    }
   ],
   "source": [
    "def common(strs, i) -> Char: # '1' or '0'\n",
    "    \"\"\"The bit that is most common in position i among strs.\"\"\"\n",
    "    bits = [s[i] for s in strs]\n",
    "    return '1' if bits.count('1') >= bits.count('0') else '0'\n",
    "\n",
    "def uncommon(strs, i) -> Char: # '1' or '0'\n",
    "    \"\"\"The bit that is least common in position i among strs.\"\"\"\n",
    "    return '1' if common(strs, i) == '0' else '0'\n",
    "\n",
    "def epsilon(strs) -> str:\n",
    "    \"\"\"The bit string formed from most common bit at each position.\"\"\"\n",
    "    return cat(common(strs, i) for i in range(len(strs[0])))\n",
    "\n",
    "def gamma(strs) -> str:\n",
    "    \"\"\"The bit string formed from most uncommon bit at each position.\"\"\"\n",
    "    return cat(uncommon(strs, i) for i in range(len(strs[0])))\n",
    "\n",
    "def power(strs) -> int: \n",
    "    \"\"\"Product of epsilon and gamma rates.\"\"\"\n",
    "    return int(epsilon(strs), 2) * int(gamma(strs), 2)\n",
    "    \n",
    "answer(3.1, power(in3), 2261546)"
   ]
  },
  {
   "cell_type": "markdown",
   "metadata": {},
   "source": [
    "- **Part 2**: Use the binary numbers in your diagnostic report to calculate the oxygen generator rating and CO2 scrubber rating, then multiply them together. What is the life support rating of the submarine?\n",
    "\n",
    "This time I'll have a single function, `select_str` which selects the str that survives the process of picking strs with the most common or uncommon bit at each position. Then I call `select_str` with `common` to get the oxygen rating and `uncommon` to get the CO2 rating."
   ]
  },
  {
   "cell_type": "code",
   "execution_count": 14,
   "metadata": {},
   "outputs": [
    {
     "data": {
      "text/plain": [
       "True"
      ]
     },
     "execution_count": 14,
     "metadata": {},
     "output_type": "execute_result"
    }
   ],
   "source": [
    "def select_str(strs, common_fn, i=0) -> str:\n",
    "    \"\"\"Select a str from strs according to common_fn:\n",
    "    Going left-to-right, repeatedly select just the strs that have the right i-th bit.\n",
    "    When only one string is remains, return it.\"\"\"\n",
    "    if len(strs) == 1:\n",
    "        return strs[0]\n",
    "    else:\n",
    "        bit = common_fn(strs, i)\n",
    "        selected = [s for s in strs if s[i] == bit]\n",
    "        return select_str(selected, common_fn, i + 1)\n",
    "\n",
    "def life_support(strs) -> int: \n",
    "    \"\"\"The product of oxygen (most common select) and CO2 (least common select) rates.\"\"\"\n",
    "    return int(select_str(strs, common), 2) * int(select_str(strs, uncommon), 2)\n",
    "    \n",
    "answer(3.2, life_support(in3), 6775520)"
   ]
  },
  {
   "cell_type": "markdown",
   "metadata": {},
   "source": [
    "# [Day 4](https://adventofcode.com/2021/day/4): Giant Squid\n",
    "\n",
    "- **Input**: The first entry of the input is a permutation of the integers 0-99. Subsequent entries are bingo boards: 5 lines of 5 ints each. Entries are separated by *two* newlines. \n",
    "\n",
    "I'll represent a board as a tuple of 25 ints; that makes `parse` easy: the permutation of integers and the bingo boards can both be parsed by `ints`. (Bingo games will be played against a giant squid; we get to choose which board we want to play.)"
   ]
  },
  {
   "cell_type": "code",
   "execution_count": 15,
   "metadata": {},
   "outputs": [
    {
     "name": "stdout",
     "output_type": "stream",
     "text": [
      "First 7 lines of Day 4 input (which is parsed into 101 entries):\n",
      "---------------------------------------------------------------\n",
      "73,42,95,35,13,40,99,92,33,30,83,1,36,93,59,90,55,25,77,44,37,62,41,47,80,23,51,61,21,20,76,8,71,34, ...\n",
      "\n",
      "91  5 64 81 34\n",
      "15 99 31 63 65\n",
      "45 39 54 93 83\n",
      "51 14 23 86 32\n",
      "19 22 16 13  3\n"
     ]
    }
   ],
   "source": [
    "order, *boards = in4 = parse(4, ints, sep='\\n\\n')"
   ]
  },
  {
   "cell_type": "markdown",
   "metadata": {},
   "source": [
    "- **Part 1**: What will your final score be if you choose the first bingo board to win?"
   ]
  },
  {
   "cell_type": "markdown",
   "metadata": {},
   "source": [
    "I'm worried about an ambiguity: what if two boards win at the same time? I'll have to assume Eric arranged it so that can't happen. I'll define `bingo_winners` to return a list of boards that win when a number has just been called, and I'll arbitrarily choose the first of them."
   ]
  },
  {
   "cell_type": "code",
   "execution_count": 16,
   "metadata": {},
   "outputs": [
    {
     "data": {
      "text/plain": [
       "True"
      ]
     },
     "execution_count": 16,
     "metadata": {},
     "output_type": "execute_result"
    }
   ],
   "source": [
    "B     = 5 # Bingo board is size B by B.\n",
    "Board = Tuple[int] # B * B ints\n",
    "Line  = List[int]  # B ints\n",
    "\n",
    "def lines(square) -> Tuple[Line, Line]:\n",
    "    \"\"\"The two lines (horizontal and vertical) through square number `square`.\"\"\"\n",
    "    def sq(x, y) -> int: return x + B * y\n",
    "    return ([sq(x, square // B) for x in range(B)], \n",
    "            [sq(square % B, y)  for y in range(B)])\n",
    "\n",
    "def bingo_winners(boards, drawn, just_called) -> List[Board]:\n",
    "    \"\"\"Board(s) that win due to the number just called.\"\"\"\n",
    "    def filled(board, line) -> bool: return all(board[n] in drawn for n in line)\n",
    "    return [board for board in boards\n",
    "            if just_called in board\n",
    "            and any(filled(board, line) \n",
    "                    for line in lines(board.index(just_called)))]\n",
    "\n",
    "def bingo_score(board, drawn, just_called) -> int:\n",
    "    \"\"\"Sum of unmarked numbers multiplied by the number just called.\"\"\"\n",
    "    unmarked = sum(n for n in board if n not in drawn)\n",
    "    return unmarked * just_called\n",
    "\n",
    "def bingo(boards, order) -> int: \n",
    "    \"\"\"What is the final score of the first winning board?\"\"\"\n",
    "    drawn = set()\n",
    "    for num in order:\n",
    "        drawn.add(num)\n",
    "        winners = bingo_winners(boards, drawn, num)\n",
    "        if winners:\n",
    "            return bingo_score(winners[0], drawn, num)\n",
    "\n",
    "answer(4.1, bingo(boards, order), 39902)"
   ]
  },
  {
   "cell_type": "markdown",
   "metadata": {},
   "source": [
    "- **Part 2**: Figure out which board will win last. Once it wins, what would its final score be?"
   ]
  },
  {
   "cell_type": "code",
   "execution_count": 17,
   "metadata": {},
   "outputs": [
    {
     "data": {
      "text/plain": [
       "True"
      ]
     },
     "execution_count": 17,
     "metadata": {},
     "output_type": "execute_result"
    }
   ],
   "source": [
    "def bingo_last(boards, order) -> int: \n",
    "    \"\"\"What is the final score of the last winning board?\"\"\"\n",
    "    remaining_boards = set(boards)\n",
    "    drawn = set()\n",
    "    for num in order:\n",
    "        drawn.add(num)\n",
    "        winners = bingo_winners(remaining_boards, drawn, num)\n",
    "        remaining_boards -= set(winners)\n",
    "        if not remaining_boards:\n",
    "            return bingo_score(winners[-1], drawn, num)\n",
    "                \n",
    "answer(4.2, bingo_last(boards, order), 26936)"
   ]
  },
  {
   "cell_type": "markdown",
   "metadata": {},
   "source": [
    "<img src=\"https://pbs.twimg.com/media/FFykNslXMAwe_xA?format=jpg&name=medium\" width=400 title=\"Drawing by Gary Grady @GaryJGrady\">"
   ]
  },
  {
   "cell_type": "markdown",
   "metadata": {},
   "source": [
    "# [Day 5](https://adventofcode.com/2021/day/5): Hydrothermal Venture\n",
    "\n",
    "- **Input**: Each entry in the input is a \"line\" denoted by start and end x,y points, e.g. \"`0,9 -> 5,9`\". \n",
    "\n",
    "I'll represent a line as a 4-tuple of integers, e.g. `(0, 9, 5, 9)`."
   ]
  },
  {
   "cell_type": "code",
   "execution_count": 18,
   "metadata": {},
   "outputs": [
    {
     "name": "stdout",
     "output_type": "stream",
     "text": [
      "First 7 lines of Day 5 input (which is parsed into 500 entries):\n",
      "---------------------------------------------------------------\n",
      "409,872 -> 409,963\n",
      "149,412 -> 281,280\n",
      "435,281 -> 435,362\n",
      "52,208 -> 969,208\n",
      "427,265 -> 884,265\n",
      "779,741 -> 779,738\n",
      "949,41 -> 13,977\n"
     ]
    }
   ],
   "source": [
    "in5 = parse(5, ints)"
   ]
  },
  {
   "cell_type": "markdown",
   "metadata": {},
   "source": [
    "- **Part 1**: Consider only horizontal and vertical lines. At how many points do at least two lines overlap?"
   ]
  },
  {
   "cell_type": "code",
   "execution_count": 19,
   "metadata": {},
   "outputs": [
    {
     "data": {
      "text/plain": [
       "True"
      ]
     },
     "execution_count": 19,
     "metadata": {},
     "output_type": "execute_result"
    }
   ],
   "source": [
    "def points(line) -> List[Point]:\n",
    "    \"\"\"All the (integer) points on a line.\"\"\"\n",
    "    x1, y1, x2, y2 = line\n",
    "    if x1 == x2:\n",
    "        return [(x1, y) for y in cover(y1, y2)]\n",
    "    elif y1 == y2:\n",
    "        return [(x, y1) for x in cover(x1, x2)]\n",
    "    else: # non-orthogonal lines not allowed\n",
    "        return []\n",
    "    \n",
    "def overlaps(lines) -> int:\n",
    "    \"\"\"How many points overlap 2 or more lines?\"\"\"\n",
    "    counts = Counter(flatten(map(points, lines)))\n",
    "    return quantify(counts[p] >= 2 for p in counts)\n",
    "\n",
    "def cover(*xs) -> range:\n",
    "    \"\"\"All the ints from the min of the arguments to the max, inclusive.\"\"\"\n",
    "    return range(min(xs), max(xs) + 1)\n",
    "\n",
    "answer(5.1, overlaps(in5), 7436)"
   ]
  },
  {
   "cell_type": "markdown",
   "metadata": {},
   "source": [
    "- **Part 2**: Consider all of the lines (including diagonals, which are all at ±45°). At how many points do at least two lines overlap?"
   ]
  },
  {
   "cell_type": "markdown",
   "metadata": {},
   "source": [
    "For Part 2 I'll redefine `points` and `overlaps` in a way that doesn't break Part 1:"
   ]
  },
  {
   "cell_type": "code",
   "execution_count": 20,
   "metadata": {},
   "outputs": [
    {
     "data": {
      "text/plain": [
       "True"
      ]
     },
     "execution_count": 20,
     "metadata": {},
     "output_type": "execute_result"
    }
   ],
   "source": [
    "def points(line, diagonal=False) -> bool:\n",
    "    \"\"\"All the (integer) points on a line; optionally allow diagonal lines.\"\"\"\n",
    "    x1, y1, x2, y2 = line\n",
    "    if diagonal or x1 == x2 or y1 == y2:\n",
    "        dx, dy = sign(x2 - x1), sign(y2 - y1)\n",
    "        length = max(abs(x2 - x1), abs(y2 - y1))\n",
    "        return [(x1 + k * dx, y1 + k * dy) for k in range(length + 1)]\n",
    "    else: # non-orthogonal lines not allowed when diagonal is False\n",
    "        return []\n",
    "    \n",
    "def overlaps(lines, diagonal=False) -> int:\n",
    "    \"\"\"How many points overlap 2 or more lines?\"\"\"\n",
    "    counts = Counter(flatten(points(line, diagonal) for line in lines))\n",
    "    return quantify(counts[p] >= 2 for p in counts)\n",
    "\n",
    "assert points((1, 1, 1, 3), False) == [(1, 1), (1, 2), (1, 3)]\n",
    "assert points((1, 1, 3, 3), False) == []\n",
    "assert points((1, 1, 3, 3), True) == [(1, 1), (2, 2), (3, 3)]\n",
    "assert points((9, 7, 7, 9), True) == [(9, 7), (8, 8), (7, 9)]\n",
    "\n",
    "answer(5.1, overlaps(in5, False), 7436)\n",
    "answer(5.2, overlaps(in5, True), 21104)"
   ]
  },
  {
   "cell_type": "markdown",
   "metadata": {},
   "source": [
    "# [Day 6](https://adventofcode.com/2021/day/6): Lanternfish\n",
    "\n",
    "- **Input**: The input is comma-separated integers, each the age of a lanternfish. Over time, the lanternfish age and reproduce in a specified way."
   ]
  },
  {
   "cell_type": "code",
   "execution_count": 21,
   "metadata": {},
   "outputs": [
    {
     "name": "stdout",
     "output_type": "stream",
     "text": [
      "First 1 lines of Day 6 input (which is parsed into 300 entries):\n",
      "---------------------------------------------------------------\n",
      "5,4,3,5,1,1,2,1,2,1,3,2,3,4,5,1,2,4,3,2,5,1,4,2,1,1,2,5,4,4,4,1,5,4,5,2,1,2,5,5,4,1,3,1,4,2,4,2,5,1, ...\n"
     ]
    }
   ],
   "source": [
    "in6 = parse(6, int, sep=',')"
   ]
  },
  {
   "cell_type": "markdown",
   "metadata": {},
   "source": [
    "- **Part 1**: Find a way to simulate lanternfish. How many lanternfish would there be after 80 days?\n",
    "\n",
    "Although the puzzle instructions treats each fish individually, I won't take the bait (pun intended). \n",
    "\n",
    "Instead, I'll use a `Counter` of fish, and process all the fish of each age group together, all at once. That way each update will be *O*(1), not *O*(*n*). I have a hunch that Part 2 will involve a ton-o'-fish."
   ]
  },
  {
   "cell_type": "code",
   "execution_count": 22,
   "metadata": {},
   "outputs": [
    {
     "data": {
      "text/plain": [
       "True"
      ]
     },
     "execution_count": 22,
     "metadata": {},
     "output_type": "execute_result"
    }
   ],
   "source": [
    "Fish = Counter # Represent a school of fish as a Counter of their timer-ages\n",
    "\n",
    "def simulate(fish, days=1) -> Fish:\n",
    "    \"\"\"Simulate the aging and birth of fish over `days`.\"\"\"\n",
    "    for day in range(days):\n",
    "        fish = Fish({t - 1: fish[t] for t in fish})\n",
    "        if -1 in fish: # births\n",
    "            fish[6] += fish[-1]\n",
    "            fish[8] = fish[-1]\n",
    "            del fish[-1]\n",
    "    return fish\n",
    "        \n",
    "assert simulate(Fish((3, 4, 3, 1, 2))) == Fish((2, 3, 2, 0, 1))\n",
    "assert simulate(Fish((2, 3, 2, 0, 1))) == Fish((1, 2, 1, 6, 0, 8))\n",
    "\n",
    "answer(6.1, total(simulate(Fish(in6), 80)), 350917)"
   ]
  },
  {
   "cell_type": "markdown",
   "metadata": {},
   "source": [
    "- **Part 2**: How many lanternfish would there be after 256 days?\n",
    "\n",
    "My hunch was right, so part 2 is simple:"
   ]
  },
  {
   "cell_type": "code",
   "execution_count": 23,
   "metadata": {},
   "outputs": [
    {
     "data": {
      "text/plain": [
       "True"
      ]
     },
     "execution_count": 23,
     "metadata": {},
     "output_type": "execute_result"
    }
   ],
   "source": [
    "answer(6.2, total(simulate(Fish(in6), 256)), 1_592_918_715_629)"
   ]
  },
  {
   "cell_type": "markdown",
   "metadata": {},
   "source": [
    "That's over a trillion lanternfish. Latest [estimates](https://www.google.com/search?q=how+many+fish+are+in+the+sea) say that there are in fact trillions of fish in the sea. But not trillions of lanternfish, and not increasing from 300 to over a trillion in just 256 days.\n",
    "\n",
    "<img src=\"https://pbs.twimg.com/media/FF9GGGJXEAEQ0MD?format=jpg&name=medium\" width=400 title=\"Drawing by Gary Grady @GaryJGrady\">"
   ]
  },
  {
   "cell_type": "markdown",
   "metadata": {},
   "source": [
    "# [Day 7](https://adventofcode.com/2021/day/7): The Treachery of Whales\n",
    "\n",
    "- **Input**: The input is a single line of comma-separated integers, each  the horizontal position of a crab (in its own submarine)."
   ]
  },
  {
   "cell_type": "code",
   "execution_count": 24,
   "metadata": {},
   "outputs": [
    {
     "name": "stdout",
     "output_type": "stream",
     "text": [
      "First 1 lines of Day 7 input (which is parsed into 1000 entries):\n",
      "----------------------------------------------------------------\n",
      "1101,1,29,67,1102,0,1,65,1008,65,35,66,1005,66,28,1,67,65,20,4,0,1001,65,1,65,1106,0,8,99,35,67,101, ...\n"
     ]
    }
   ],
   "source": [
    "in7 = parse(7, int, sep=',')"
   ]
  },
  {
   "cell_type": "markdown",
   "metadata": {},
   "source": [
    "The idea is that if the crabs can all align in one horizontal position, they can save you from a giant whale.\n",
    "\n",
    "- **Part 1**: Determine the horizontal position that the crabs can align to using the least fuel possible.  How much fuel must they spend to align to that position? (Each unit of horizontal travel costs one unit of fuel.)"
   ]
  },
  {
   "cell_type": "code",
   "execution_count": 25,
   "metadata": {},
   "outputs": [
    {
     "data": {
      "text/plain": [
       "True"
      ]
     },
     "execution_count": 25,
     "metadata": {},
     "output_type": "execute_result"
    }
   ],
   "source": [
    "def fuel_cost(positions) -> int:\n",
    "    \"\"\"How much fuel does it cost to get everyone to the best alignment point?\"\"\"\n",
    "    # I happen to know that the best alignment point is the median\n",
    "    align = median(positions)\n",
    "    return sum(abs(p - align) for p in positions)\n",
    "\n",
    "answer(7.1, fuel_cost(in7), 352707)"
   ]
  },
  {
   "cell_type": "markdown",
   "metadata": {},
   "source": [
    "- **Part 2**: Determine the horizontal position that the crabs can align to using the least fuel possible so they can make you an escape route! How much fuel must they spend to align to that position? (Now for each crab the first unit of travel costs 1, the second 2, the third 3, and so on.) "
   ]
  },
  {
   "cell_type": "code",
   "execution_count": 26,
   "metadata": {},
   "outputs": [
    {
     "data": {
      "text/plain": [
       "True"
      ]
     },
     "execution_count": 26,
     "metadata": {},
     "output_type": "execute_result"
    }
   ],
   "source": [
    "def fuel_cost2(positions) -> int:\n",
    "    \"\"\"How much fuel does it cost to get everyone to the best alignment point, \n",
    "    with nonlinear fuel costs?\"\"\"\n",
    "    # I don't know the best alignment point, so I'll try all of them\n",
    "    return min(sum(burn_rate2(p, align) for p in positions)\n",
    "               for align in range(min(positions), max(positions) + 1))\n",
    "\n",
    "def burn_rate2(p, align) -> int:\n",
    "    \"\"\"The first step costs 1, the second 2, etc. (i.e. triangular numbers).\"\"\"\n",
    "    steps = abs(p - align)\n",
    "    return steps * (steps + 1) // 2\n",
    "\n",
    "answer(7.2, fuel_cost2(in7), 95519693)"
   ]
  },
  {
   "cell_type": "markdown",
   "metadata": {},
   "source": [
    "**Note**: Now that I got the right answer and have some time to think about it, if the travel cost were exactly quadratic, we would be minimizing the sum of square distances, and Legendre and Gauss knew that the **mean**, not the **median**, is the alignment point that does that. What's the mean of the positions?"
   ]
  },
  {
   "cell_type": "code",
   "execution_count": 27,
   "metadata": {},
   "outputs": [
    {
     "data": {
      "text/plain": [
       "490.543"
      ]
     },
     "execution_count": 27,
     "metadata": {},
     "output_type": "execute_result"
    }
   ],
   "source": [
    "positions = in7\n",
    "mean(positions)"
   ]
  },
  {
   "cell_type": "markdown",
   "metadata": {},
   "source": [
    "That's not an integer, but I'll try it, along with the integers above and below it:"
   ]
  },
  {
   "cell_type": "code",
   "execution_count": 28,
   "metadata": {},
   "outputs": [
    {
     "data": {
      "text/plain": [
       "{490: 95519693, 491: 95519725, 490.543: 95519083.0}"
      ]
     },
     "execution_count": 28,
     "metadata": {},
     "output_type": "execute_result"
    }
   ],
   "source": [
    "{align: sum(burn_rate2(p, align) for p in positions)\n",
    " for align in [490, 491, mean(positions)]}"
   ]
  },
  {
   "cell_type": "markdown",
   "metadata": {},
   "source": [
    "We see that rounding down gives the right answer, rounding up does a bit worse, and using the exact mean  gives a total fuel cost that is *better* than the correct answer (but is apparently not a legal alignment point). A reddit user with the name CrashAndSideburns looked more carefully into the use of the mean, and wrote [a paper](https://www.reddit.com/r/adventofcode/comments/rawxad/2021_day_7_part_2_i_wrote_a_paper_on_todays/) showing that the best alignment point must be within ±0.5 from the mean.\n",
    "\n",
    "Below I show a histogram of the number of crabs at each range of horizontal positions, along with red stars for the two alignment points (median and mean)."
   ]
  },
  {
   "cell_type": "code",
   "execution_count": 29,
   "metadata": {},
   "outputs": [
    {
     "data": {
      "text/plain": [
       "[376.0, 490.543]"
      ]
     },
     "execution_count": 29,
     "metadata": {},
     "output_type": "execute_result"
    },
    {
     "data": {
      "image/png": "[encoded data removed]",
      "text/plain": [
       "<Figure size 432x288 with 1 Axes>"
      ]
     },
     "metadata": {
      "needs_background": "light"
     },
     "output_type": "display_data"
    }
   ],
   "source": [
    "stars = [median(in7), mean(in7)]\n",
    "plt.hist(in7, bins=33, rwidth=0.8); \n",
    "plt.plot(stars, [50, 50], 'r*')\n",
    "plt.ylabel('Number of Crabs'); plt.xlabel('Position')\n",
    "stars"
   ]
  },
  {
   "cell_type": "markdown",
   "metadata": {},
   "source": [
    "<img src=\"https://pbs.twimg.com/media/FGCMbMhXMA8zAJD?format=jpg&name=medium\" width=400 title=\"@GaryJGrady\">"
   ]
  },
  {
   "cell_type": "markdown",
   "metadata": {},
   "source": [
    "# [Day 8](https://adventofcode.com/2021/day/8): Seven Segment Search\n",
    "\n",
    "- **Input**: Each entry in the input consists of 10 patterns followed by a \"`|`\", followed by 4 output values.\n",
    "      \n",
    "Each pattern and output value represents a digit on a [7-segment display](https://en.wikipedia.org/wiki/Seven-segment_display), with each letter a–g representing one of the 7 segments. The mapping of letters to segments is unknown, but is consistent within each entry."
   ]
  },
  {
   "cell_type": "code",
   "execution_count": 30,
   "metadata": {},
   "outputs": [
    {
     "name": "stdout",
     "output_type": "stream",
     "text": [
      "First 7 lines of Day 8 input (which is parsed into 200 entries):\n",
      "---------------------------------------------------------------\n",
      "daegb gadbcf cgefda edcfagb dfg acefbd fdgab fg bdcfa fcgb | cdfgba fgbc dbfac gfadbc\n",
      "bdfc dcbegf bf egfbcda gebad cfgaed bfe edfgc aegfcb gebdf | fb fb bcdfaeg fcgdeb\n",
      "cebdgaf bfcd gceab bf bfcea gceafd ecdfa fegdab bfcade fba | dfcb dagfbe fbaged bfa\n",
      "efabcg aegcdb fgaed fac dgafbc becf eadcgbf aegfc fc cagbe | ecgfa agdef eagfc gdceab\n",
      "fcdae cdeabf fga gf gabfde cgadb gadebfc cgfe aegcdf afgcd | fbgadce gadefb fag bafegd\n",
      "gecadbf bgc dacgf gaecbf cbeda dbfg bgdca bg bafcgd gdacef | cdgfa fceabg dgfb dgabc\n",
      "fbecdga gcdbea cegab fc cafe cfg ebgdf cbgfe afbgec bagcdf | feac acegb bfagce gcafbe\n"
     ]
    }
   ],
   "source": [
    "in8 = parse(8, lambda line: mapt(atoms, line.split('|')))"
   ]
  },
  {
   "cell_type": "code",
   "execution_count": 31,
   "metadata": {},
   "outputs": [],
   "source": [
    "assert in8[0] == (('daegb', 'gadbcf', 'cgefda', 'edcfagb', 'dfg', 'acefbd', 'fdgab', 'fg', 'bdcfa', 'fcgb'), \n",
    "                  ('cdfgba', 'fgbc', 'dbfac', 'gfadbc'))"
   ]
  },
  {
   "cell_type": "markdown",
   "metadata": {},
   "source": [
    "<img src=\"https://pbs.twimg.com/media/FGHtjKiWYAQGrBX?format=jpg&name=medium\" width=400 title=\"@GaryJGrady\">\n",
    "\n",
    "- **Part 1**: In the output values, how many times do digits 1, 4, 7, or 8 appear?\n",
    "\n",
    "That's the same as asking *how many output values have 2, 4, 3, or 7 segments?*"
   ]
  },
  {
   "cell_type": "code",
   "execution_count": 32,
   "metadata": {},
   "outputs": [
    {
     "data": {
      "text/plain": [
       "True"
      ]
     },
     "execution_count": 32,
     "metadata": {},
     "output_type": "execute_result"
    }
   ],
   "source": [
    "def count1478(entries) -> int:\n",
    "    \"\"\"How many of the rhs digits in the entries are a 1, 4, 7, or 8?\"\"\"\n",
    "    return quantify(len(value) in (2, 4, 3, 7) \n",
    "                    for (lhs, rhs) in entries for value in rhs)\n",
    "\n",
    "answer(8.1, count1478(in8), 493)"
   ]
  },
  {
   "cell_type": "markdown",
   "metadata": {},
   "source": [
    "- **Part 2**: For each entry, determine all of the wire/segment connections and decode the four-digit output values. What do you get if you add up all of the output values?"
   ]
  },
  {
   "cell_type": "markdown",
   "metadata": {},
   "source": [
    "Part 2 is *tricky*. The first output value `'cdfgba'` could be either a 0, 6, or 9. To figure out which one it is I could do some fancy constraint satisfaction. That sounds hard. Or I could exhaustively try all permutations of the 7 letters. That sounds easy!  Here's my plan:\n",
    "- Make a list of the 7! = 5,040 possible string translators that permute `'abcdefg'`.\n",
    "- Decode an entry by trying all translators and keeping the one that maps all of the ten lhs patterns to a valid digit. `decode` then applies the translator to the four rhs values, concatenates them, and  converts the result into an `int`.\n",
    "  - Note that `get_digit` must *sort* the translated letters to get a key that can be looked up in `segment_map`.\n",
    "- Finally, sum up the decoding of each entry."
   ]
  },
  {
   "cell_type": "code",
   "execution_count": 33,
   "metadata": {},
   "outputs": [
    {
     "data": {
      "text/plain": [
       "True"
      ]
     },
     "execution_count": 33,
     "metadata": {},
     "output_type": "execute_result"
    }
   ],
   "source": [
    "segments7    = 'abcdefg'\n",
    "segment_map  = {'abcefg': '0', 'cf':     '1', 'acdeg': '2', 'acdfg':   '3', 'bcdf':   '4',\n",
    "                'abdfg':  '5', 'abdefg': '6', 'acf':   '7', 'abcdefg': '8', 'abcdfg': '9'}\n",
    "\n",
    "translators = [str.maketrans(segments7, cat(p)) for p in permutations(segments7)]\n",
    "\n",
    "def get_digit(pattern, translator) -> Optional[Char]:\n",
    "    \"\"\"Translate the pattern, and return a digit '0' to '9' if valid.\"\"\"\n",
    "    return segment_map.get(cat(sorted(pattern.translate(translator))))\n",
    "\n",
    "def decode(entry) -> int:\n",
    "    \"\"\"Decode an entry's rhs into a 4-digit integer.\"\"\"\n",
    "    lhs, rhs = entry\n",
    "    for t in translators:\n",
    "        if all(get_digit(pattern, t) for pattern in lhs):\n",
    "            return int(cat(get_digit(pattern, t) for pattern in rhs))\n",
    "\n",
    "answer(8.2, sum(map(decode, in8)), 1010460)"
   ]
  },
  {
   "cell_type": "markdown",
   "metadata": {},
   "source": [
    "# [Day 9](https://adventofcode.com/2021/day/9): Smoke Basin\n",
    "\n",
    "- **Input:** The input is a *heightmap*: a 2D array of characters '0'–'9' representing the heights on the ocean floor. \n",
    "\n",
    "I'll use `parse` to get a tuple of rows (where each row is a tuple of digits), and turn that into a `Grid`."
   ]
  },
  {
   "cell_type": "code",
   "execution_count": 34,
   "metadata": {},
   "outputs": [
    {
     "name": "stdout",
     "output_type": "stream",
     "text": [
      "First 7 lines of Day 9 input (which is parsed into 100 entries):\n",
      "---------------------------------------------------------------\n",
      "9897656789865467895698765469899988672134598894345689864101378965457932349943210987654789653198789434\n",
      "8789542499996878954329984398789976561012987789245678953212567892345791998899329899765678969997668912\n",
      "7678943978987989965998993297649875432129876567956789864487678991056899877778939769886789998766457899\n",
      "4578999868998996899867894976532986543299876476897899987569899989167898766567898654998898998655345678\n",
      "2456987657679535679756799988643498657987654345789978899789998878998919954349997543219967987543237889\n",
      "1234896545568986798645678999754989767898765456998769759899987765789329863238898659301256798793156891\n",
      "2346789432379997987434689489899879898919876567899954346998796434678997642127789798512345989989247892\n"
     ]
    }
   ],
   "source": [
    "in9 = Grid(rows=parse(9, digits))"
   ]
  },
  {
   "cell_type": "markdown",
   "metadata": {},
   "source": [
    "- **Part 1**: Find all of the *low points* on your heightmap. What is the sum of the risk levels of all low points on your heightmap?\n",
    "\n",
    "A low point is a point where all the neighbors are higher. The risk level is 1 more than the height of the low point."
   ]
  },
  {
   "cell_type": "code",
   "execution_count": 35,
   "metadata": {},
   "outputs": [
    {
     "data": {
      "text/plain": [
       "True"
      ]
     },
     "execution_count": 35,
     "metadata": {},
     "output_type": "execute_result"
    }
   ],
   "source": [
    "def low_points(grid) -> List[Point]:\n",
    "    \"\"\"All low points on grid.\"\"\"\n",
    "    return [p for p in grid \n",
    "            if all(grid[p] < grid[nbr] for nbr in grid.neighbors(p))]\n",
    "\n",
    "def total_risk(grid) -> int:\n",
    "    \"\"\"Sum of height + 1 for all low points on grid.\"\"\"\n",
    "    return sum(grid[p] + 1 for p in low_points(grid))\n",
    "\n",
    "answer(9.1, total_risk(in9), 607)"
   ]
  },
  {
   "cell_type": "markdown",
   "metadata": {},
   "source": [
    "- **Part 2**: What do you get if you multiply together the sizes of the three largest basins?\n",
    "    \n",
    "I thought there was an ambiguity in the definition of *basin*: what happens if there is a high point that is not of height 9, but has low points on either side of it? Wouldn't that high point then be part of two basins? The puzzle instructions says *Locations of height 9 do not count as being in any basin, and all other locations will always be part of exactly one basin.* I decided this must mean that the heightmap is carefully arranged so that every basin has only one low point and is surrounded by either edges or height 9 locations.\n",
    "\n",
    "Given that definition of *basin,* I can associate each location with its low point using a [flood fill](https://en.wikipedia.org/wiki/Flood_fill) that starts from each low point. I can then get the sizes of the three largest (most common) basins and multiply them together."
   ]
  },
  {
   "cell_type": "code",
   "execution_count": 36,
   "metadata": {},
   "outputs": [
    {
     "data": {
      "text/plain": [
       "True"
      ]
     },
     "execution_count": 36,
     "metadata": {},
     "output_type": "execute_result"
    }
   ],
   "source": [
    "def find_basins(grid) -> Dict[Point, Point]:\n",
    "    \"\"\"Compute `basins` as a map of {point: low_point} for each point in grid.\"\"\"\n",
    "    basins = {} # A dict mapping each non-9 location to its low point.\n",
    "    def flood_fill(p, low):\n",
    "        \"\"\"Spread from p in all directions until hitting a 9;\n",
    "        mark each point p as being part of the basin with `low` point.\"\"\"\n",
    "        if grid[p] < 9 and p not in basins:\n",
    "            basins[p] = low\n",
    "            for p2 in grid.neighbors(p):\n",
    "                flood_fill(p2, low)\n",
    "    for p in low_points(grid):\n",
    "        flood_fill(p, low=p)\n",
    "    return basins\n",
    "\n",
    "def flood_size_products(grid, b=3) -> int:\n",
    "    \"\"\"The product of the sizes of the `b` largest basins.\"\"\"\n",
    "    basins = find_basins(grid)\n",
    "    return prod(c for _, c in Counter(basins.values()).most_common(b))\n",
    "\n",
    "answer(9.2, flood_size_products(in9), 900864)"
   ]
  },
  {
   "cell_type": "markdown",
   "metadata": {},
   "source": [
    "That's the correct answer; I'm done. But I do want to check that the set of low points is the same as the set of basins I identified:"
   ]
  },
  {
   "cell_type": "code",
   "execution_count": 37,
   "metadata": {},
   "outputs": [
    {
     "data": {
      "text/plain": [
       "249"
      ]
     },
     "execution_count": 37,
     "metadata": {},
     "output_type": "execute_result"
    }
   ],
   "source": [
    "assert set(low_points(in9)) == set(find_basins(in9).values())\n",
    "\n",
    "len(low_points(in9))"
   ]
  },
  {
   "cell_type": "markdown",
   "metadata": {},
   "source": [
    "I would like to visualize the basins. I'll use a scatter plot  that displays the height 9 locations in yellow and the height 0 locations in deep purple, with a gradient in between:"
   ]
  },
  {
   "cell_type": "code",
   "execution_count": 38,
   "metadata": {},
   "outputs": [
    {
     "data": {
      "image/png": "[encoded data removed]",
      "text/plain": [
       "<Figure size 720x720 with 1 Axes>"
      ]
     },
     "metadata": {
      "needs_background": "light"
     },
     "output_type": "display_data"
    }
   ],
   "source": [
    "def show(in9, low=None):\n",
    "    plt.figure(figsize=(10, 10))\n",
    "    C = [in9[p] for p in in9]\n",
    "    plt.scatter(*transpose(in9), marker='s', s=10, c=C, cmap=plt.get_cmap('plasma'))\n",
    "    if low: plt.plot(*transpose(low_points(in9)), low, markersize=4)\n",
    "    plt.axis('square'); plt.axis('off')\n",
    "    \n",
    "show(in9)"
   ]
  },
  {
   "cell_type": "markdown",
   "metadata": {},
   "source": [
    "We can optionally display the low points. Here I'll display them as black diamonds:"
   ]
  },
  {
   "cell_type": "code",
   "execution_count": 39,
   "metadata": {},
   "outputs": [
    {
     "data": {
      "image/png": "[encoded data removed]",
      "text/plain": [
       "<Figure size 720x720 with 1 Axes>"
      ]
     },
     "metadata": {
      "needs_background": "light"
     },
     "output_type": "display_data"
    }
   ],
   "source": [
    "show(in9, 'kD')"
   ]
  },
  {
   "cell_type": "markdown",
   "metadata": {},
   "source": [
    "Apropos to *Smoke* and *Water,* and to the color scheme of my plot, Gary Grady's drawing for the day references  [Deep Purple](https://www.youtube.com/watch?v=_zO6lWfvM0g):\n",
    "\n",
    "<img src=\"https://pbs.twimg.com/media/FGL7YhbX0BAHDDt?format=jpg&name=medium\" title=\"@GaryJGrady\" width=400>"
   ]
  },
  {
   "cell_type": "markdown",
   "metadata": {},
   "source": [
    "# [Day 10](https://adventofcode.com/2021/day/10): Syntax Scoring\n",
    "\n",
    "- **Input**: Each entry in the input is a string of opening and closing brackets: `[({<` and `>})]`.\n"
   ]
  },
  {
   "cell_type": "code",
   "execution_count": 40,
   "metadata": {},
   "outputs": [
    {
     "name": "stdout",
     "output_type": "stream",
     "text": [
      "First 7 lines of Day 10 input (which is parsed into 102 entries):\n",
      "----------------------------------------------------------------\n",
      "[(([{<{(<{{[({{}{}}{[]()})<{{}()}>]}}(([{{{}[]}[[]()]}[<{}[]]{()()}]](({{}{}}{{}()}))){[{({}())[[\n",
      "<(({[<([{({[{{<>()}}[{<>()}({}{})]]<{<()<>>{[]()}}(((){}>[[][]])>}([{<[]{}>(<>[])}]))<[[[[[][]\n",
      "(<<(<{{{{<<<[(()<>){()<>}][[()()]]>{<{[]{}}<<>()>>}>{(<{<>}([]{})><(<>())<(){}>>)<(([]{})(()()))<<() ...\n",
      "[[[[<[{[(<{{{({}<>)((){})}((()())[()()])}}><[([((){})]<[()[]]{{}<>}>)[[{[]<>}][([]{})[{}()]]]]>)<{(<\n",
      "[<(<[[((<{((<<<>[]>><<<>{}>>){<[{}<>][<>[]]><<<>()>[(){}]>})[<{[{}<>][(){}]}<[[]<>][{}[]])>{([<>[]][\n",
      "(([[[[<([[{([{<>()}{()<>}][((){})]){[{[]<>}({}<>)][(<><>)[()[]]]}}<{{({}{}){[]{}}}<{<><>}({}{})>}>\n",
      "{{{[<(<([<{({{[]()}[{}()]}{<()<>>(()<>)})}><<[{<()()>(()[])}<<<>[]]>][<{()}{<><>}>({{}[]})]>>](\n"
     ]
    }
   ],
   "source": [
    "in10 = parse(10)"
   ]
  },
  {
   "cell_type": "markdown",
   "metadata": {},
   "source": [
    "Ideally, the brackets are balanced, but entries might be *corrupted* (an extra closing bracket of the wrong kind appears in the wrong place) or *incomplete* (one or more closing brackets are missing from the end).\n",
    "  \n",
    "- **Part 1**: Find the first illegal character in each corrupted line of the navigation subsystem. What is the total syntax error score for those errors?\n",
    "\n",
    "\n",
    "The instructions for Part 1 say *Some of the lines aren't corrupted, just incomplete; you can ignore these lines for now.* That suggests we will not ignore the incomplete lines in Part 2. So I'll define `analyze_syntax` to return a tuple of two values: an error score for use in Part 1, and the missing characters for an incomplete line, which I suspect will be used in Part 2."
   ]
  },
  {
   "cell_type": "code",
   "execution_count": 41,
   "metadata": {},
   "outputs": [
    {
     "data": {
      "text/plain": [
       "True"
      ]
     },
     "execution_count": 41,
     "metadata": {},
     "output_type": "execute_result"
    }
   ],
   "source": [
    "error_scores = {')': 3, ']': 57, '}': 1197, '>': 25137}\n",
    "open_close   = {'(': ')', '[': ']', '{': '}', '<': '>'}\n",
    "\n",
    "def analyze_syntax(line) -> Tuple[int, str]:\n",
    "    \"\"\"A tuple of (error_score, missing_chars) for this line.\"\"\"\n",
    "    stack = [''] # A stack of closing characters we are looking for.\n",
    "    for c in line:\n",
    "        if c == stack[-1]:     # A correctly matched closing bracket\n",
    "            stack.pop()\n",
    "        elif c in open_close:  # A new opening bracket\n",
    "            stack.append(open_close[c])\n",
    "        else:                  # An erroneous closing bracket\n",
    "            return error_scores[c], cat(reversed(stack))\n",
    "    return 0, cat(reversed(stack))\n",
    "        \n",
    "answer(10.1, sum(analyze_syntax(line)[0] for line in in10), 367059)"
   ]
  },
  {
   "cell_type": "markdown",
   "metadata": {},
   "source": [
    "- **Part 2**: Find the completion string for each incomplete line, score the completion strings, and sort the scores. What is the middle score?\n",
    "\n",
    "I was right; Part 2 uses the missing characters (now called a *completion string*). To score the completion string, we  treat it as a base-5 number, as shown in `completion_score`."
   ]
  },
  {
   "cell_type": "code",
   "execution_count": 42,
   "metadata": {},
   "outputs": [
    {
     "data": {
      "text/plain": [
       "True"
      ]
     },
     "execution_count": 42,
     "metadata": {},
     "output_type": "execute_result"
    }
   ],
   "source": [
    "def completion_score(completion:str) -> int:\n",
    "    \"\"\"The completion score for the completion string (the missing characters).\"\"\"\n",
    "    score = completion.translate(str.maketrans(')]}>', '1234'))\n",
    "    return int(score, base=5)\n",
    "\n",
    "def median_completion_score(lines) -> int:\n",
    "    \"\"\"The median completion score out of all the uncorrupted lines.\"\"\"\n",
    "    scores = (completion_score(completion) \n",
    "              for e, completion in map(analyze_syntax, lines) \n",
    "              if e == 0)\n",
    "    return median(scores)\n",
    "\n",
    "answer(10.2, median_completion_score(in10), 1_952_146_692)"
   ]
  },
  {
   "cell_type": "markdown",
   "metadata": {},
   "source": [
    "# [Day 11](https://adventofcode.com/2021/day/11): Dumbo Octopus\n",
    "\n",
    "- **Input**: The input is a 2D array of characters `0`–`9` representing the energy levels of bioluminescent [dumbo octopuses](https://www.youtube.com/watch?v=eih-VSaS2g0)."
   ]
  },
  {
   "cell_type": "code",
   "execution_count": 43,
   "metadata": {},
   "outputs": [
    {
     "name": "stdout",
     "output_type": "stream",
     "text": [
      "First 7 lines of Day 11 input (which is parsed into 10 entries):\n",
      "---------------------------------------------------------------\n",
      "1224346384\n",
      "5621128587\n",
      "6388426546\n",
      "1556247756\n",
      "1451811573\n",
      "1832388122\n",
      "2748545647\n"
     ]
    }
   ],
   "source": [
    "in11 = Grid(rows=parse(11, digits), neighbors=neighbors8)"
   ]
  },
  {
   "cell_type": "markdown",
   "metadata": {},
   "source": [
    "- **Part 1**: Given the starting energy levels of the dumbo octopuses in your cavern, simulate 100 steps. How many total flashes are there after 100 steps?\n",
    "\n",
    "On each step, each octopus increases by one energy unit; then the ones with an energy level over 9 emit a flash, which makes their neighbors get one more energy unit (potentially causing others to flash); then the flashers reset to zero energy."
   ]
  },
  {
   "cell_type": "code",
   "execution_count": 44,
   "metadata": {},
   "outputs": [
    {
     "data": {
      "text/plain": [
       "True"
      ]
     },
     "execution_count": 44,
     "metadata": {},
     "output_type": "execute_result"
    }
   ],
   "source": [
    "def simulate_flashes(grid, steps=100) -> int:\n",
    "    \"\"\"Simulate octopus flashes for `steps` steps and return total number of flashes.\"\"\"\n",
    "    grid = grid.copy() # Don't mutate the original grid\n",
    "    flashes = 0\n",
    "    for step in range(steps):\n",
    "        flashers = set()\n",
    "        for p in grid:\n",
    "            grid[p] += 1\n",
    "        for p in grid:\n",
    "            check_flash(grid, p, flashers)\n",
    "        for p in flashers:\n",
    "            grid[p] = 0\n",
    "        flashes += len(flashers)\n",
    "    return flashes\n",
    "\n",
    "def check_flash(grid, p, flashers):\n",
    "    \"\"\"Check if grid[p] flashes, and if so, recursively spread.\"\"\"\n",
    "    if grid[p] > 9 and p not in flashers:\n",
    "        flashers.add(p)\n",
    "        for p2 in grid.neighbors(p):\n",
    "            grid[p2] += 1\n",
    "            check_flash(grid, p2, flashers)\n",
    "    \n",
    "answer(11.1, simulate_flashes(in11, 100), 1591)"
   ]
  },
  {
   "cell_type": "markdown",
   "metadata": {},
   "source": [
    "- **Part 2**: If you can calculate the exact moments when the octopuses will all flash simultaneously, you should be able to navigate through the cavern. What is the first step during which all octopuses flash?\n",
    "\n",
    "I feel a bit bad that I have to copy/paste/edit the whole simulation function, changing just the number of steps and the return. But at least I don't have to copy the  `check_flash` function."
   ]
  },
  {
   "cell_type": "code",
   "execution_count": 45,
   "metadata": {},
   "outputs": [
    {
     "data": {
      "text/plain": [
       "True"
      ]
     },
     "execution_count": 45,
     "metadata": {},
     "output_type": "execute_result"
    }
   ],
   "source": [
    "def simulate_flashes2(grid) -> int:\n",
    "    \"\"\"Simulate octopus flashes and return the first step during which all octopuses flash.\"\"\"\n",
    "    grid = grid.copy() # Don't mutate the original grid\n",
    "    for step in count_from(1):\n",
    "        flashers = set()\n",
    "        for p in grid:\n",
    "            grid[p] += 1\n",
    "        for p in grid:\n",
    "            check_flash(grid, p, flashers)\n",
    "        for p in flashers:\n",
    "            grid[p] = 0\n",
    "        if len(flashers) == len(grid):\n",
    "            return step\n",
    "        \n",
    "answer(11.2, simulate_flashes2(in11), 314)"
   ]
  },
  {
   "cell_type": "markdown",
   "metadata": {},
   "source": [
    "<img src=\"https://pbs.twimg.com/media/FGWQiIuXMAUK_aH?format=jpg&name=medium\" width=400 title=\"@GaryJGrady\">"
   ]
  },
  {
   "cell_type": "markdown",
   "metadata": {},
   "source": [
    "# [Day 12](https://adventofcode.com/2021/day/11): Passage Pathing\n",
    "\n",
    "- **Input**: Each entry in the input is a connection between two caves. Big caves are written in uppercase, small caves in lowercase. `start` and `end` are two special caves with the obvious meaning."
   ]
  },
  {
   "cell_type": "code",
   "execution_count": 46,
   "metadata": {},
   "outputs": [
    {
     "name": "stdout",
     "output_type": "stream",
     "text": [
      "First 7 lines of Day 12 input (which is parsed into 22 entries):\n",
      "---------------------------------------------------------------\n",
      "xx-xh\n",
      "vx-qc\n",
      "cu-wf\n",
      "ny-LO\n",
      "cu-DR\n",
      "start-xx\n",
      "LO-vx\n"
     ]
    }
   ],
   "source": [
    "in12 = parse(12, words)"
   ]
  },
  {
   "cell_type": "markdown",
   "metadata": {},
   "source": [
    "- **Part 1**: How many paths through this cave system are there that visit small caves at most once?\n",
    "\n",
    "My approach is as follows:\n",
    "- I'll define a path as a list of cave names: `['start', ..., 'end']`.\n",
    "- I'll construct `neighbors` as a mapping from a cave to the list of caves it connects to.\n",
    "- I'll do depth-first search, starting from the trivial path `['start']` and returning all possible paths.  "
   ]
  },
  {
   "cell_type": "code",
   "execution_count": 47,
   "metadata": {},
   "outputs": [
    {
     "data": {
      "text/plain": [
       "True"
      ]
     },
     "execution_count": 47,
     "metadata": {},
     "output_type": "execute_result"
    }
   ],
   "source": [
    "Path = List[str]\n",
    "    \n",
    "def search_paths(path, neighbors) -> Iterable[Path]:\n",
    "    \"\"\"All paths that start with `path` and lead to 'end' using `neighbors`.\n",
    "    Small caves can only be visited once.\"\"\"\n",
    "    if path[-1] == 'end':\n",
    "        yield [path]\n",
    "    else:\n",
    "        for cave in neighbors[path[-1]]:\n",
    "            if cave.isupper() or cave not in path:\n",
    "                yield from search_paths(path + [cave], neighbors)\n",
    "\n",
    "neighbors = multimap(in12, symmetric=True)\n",
    "                     \n",
    "answer(12.1, quantify(search_paths(['start'], neighbors)), 4167)"
   ]
  },
  {
   "cell_type": "markdown",
   "metadata": {},
   "source": [
    "- **Part 2**: After reviewing the available paths, you realize you might have time to visit a single small cave twice.  However, the caves named `start` and `end` can only be visited exactly once each. Given these new rules, how many paths through this cave system are there?\n",
    "\n",
    "At first I felt bad that I would again have to copy/paste/edit the code for Part 1. I felt better when I realized that the revised function `search_paths2` would have need to call the original `search_paths`: once the path returns to a small cave for the second time, the remainder of the search should be under the `search_paths` rules, not the `search_paths2` rules."
   ]
  },
  {
   "cell_type": "code",
   "execution_count": 48,
   "metadata": {},
   "outputs": [
    {
     "data": {
      "text/plain": [
       "True"
      ]
     },
     "execution_count": 48,
     "metadata": {},
     "output_type": "execute_result"
    }
   ],
   "source": [
    "def search_paths2(path, neighbors):\n",
    "    \"\"\"Find all paths that start with `path` and lead to 'end' using `neighbors`.\n",
    "    Small caves can only be visited once, except one of them may be visited twice.\"\"\"\n",
    "    if path[-1] == 'end':\n",
    "        yield [path]\n",
    "    else:\n",
    "        for cave in neighbors[path[-1]]:\n",
    "            if cave.isupper() or cave not in path:\n",
    "                yield from search_paths2(path + [cave], neighbors)\n",
    "            elif cave.islower() and cave != 'start':\n",
    "                yield from search_paths(path + [cave], neighbors)\n",
    "                            \n",
    "answer(12.2, quantify(search_paths2(['start'], neighbors)), 98441)"
   ]
  },
  {
   "cell_type": "markdown",
   "metadata": {},
   "source": [
    "# [Day 13](https://adventofcode.com/2021/day/13): Transparent Origami\n",
    "\n",
    "- **Input**: The input is in two sections: (1) a set of dots, e.g. \"`6,10`\". (2) a list of fold instructions, e.g. \"`fold along y=7`\".\n",
    "\n",
    "My `parse` command is not set up to parse different sections differently, so I'll  only ask `parse` to do a minimal amount of work, just parsing the input file into two sections, each a list of lines. Then I'll further process the two sections to get two variables:\n",
    "- `dots`: a set of `(x, y)` points, such as `(103, 224)`. \n",
    "- `folds`: a list of fold instructions, each implemented as a tuple, such as `('y', 7)` or `('x', 15)`."
   ]
  },
  {
   "cell_type": "code",
   "execution_count": 49,
   "metadata": {},
   "outputs": [
    {
     "name": "stdout",
     "output_type": "stream",
     "text": [
      "First 7 lines of Day 13 input (which is parsed into 2 entries):\n",
      "--------------------------------------------------------------\n",
      "103,224\n",
      "624,491\n",
      "808,688\n",
      "1076,130\n",
      "700,26\n",
      "55,794\n",
      "119,724\n"
     ]
    }
   ],
   "source": [
    "in13  = parse(13, str.splitlines, sep='\\n\\n')\n",
    "dots  = {ints(line) for line in in13[0]}\n",
    "folds = [(words(line)[2], ints(line)[0]) for line in in13[1]]"
   ]
  },
  {
   "cell_type": "markdown",
   "metadata": {},
   "source": [
    "The idea of this puzzle is that the dots are on transparent paper, and when following the `fold along y=7` instruction, all the dots below the line `y=7` are reflected above the line: they retain the same distance form the `y=7` line, but their `y` value becomes less than `7`. Similarly, for an `x` fold, all the points to the right of the line are reflected to the left. When we finish the folds, a code message will appear.\n",
    "\n",
    "- **Part 1**: How many dots are visible after completing just the first fold instruction on your transparent paper?"
   ]
  },
  {
   "cell_type": "code",
   "execution_count": 50,
   "metadata": {},
   "outputs": [],
   "source": [
    "def fold(dots, instruction) -> Set[Point]: \n",
    "    \"\"\"The set of dots that result from following the fold instruction.\"\"\"\n",
    "    x_or_y, line = instruction\n",
    "    if x_or_y == 'x':\n",
    "        return {(line - abs(line - x), y)  for (x, y) in dots}\n",
    "    else:\n",
    "        return {(x, line - abs(line - y))  for (x, y) in dots}"
   ]
  },
  {
   "cell_type": "code",
   "execution_count": 51,
   "metadata": {},
   "outputs": [
    {
     "data": {
      "text/plain": [
       "True"
      ]
     },
     "execution_count": 51,
     "metadata": {},
     "output_type": "execute_result"
    }
   ],
   "source": [
    "answer(13.1, len(fold(dots, folds[0])), 638)"
   ]
  },
  {
   "cell_type": "markdown",
   "metadata": {},
   "source": [
    "- **Part 2**: Finish folding the transparent paper according to the instructions. What is the code?"
   ]
  },
  {
   "cell_type": "code",
   "execution_count": 52,
   "metadata": {},
   "outputs": [],
   "source": [
    "def origami(dots, instructions) -> None:\n",
    "    \"\"\"Follow all the instructions and plot the resulting dots.\"\"\"\n",
    "    for instruction in instructions:\n",
    "        dots = fold(dots, instruction)\n",
    "    plt.scatter(*transpose(dots), marker='s')\n",
    "    plt.axis('equal'); plt.gca().invert_yaxis()"
   ]
  },
  {
   "cell_type": "code",
   "execution_count": 53,
   "metadata": {},
   "outputs": [
    {
     "data": {
      "text/plain": [
       "True"
      ]
     },
     "execution_count": 53,
     "metadata": {},
     "output_type": "execute_result"
    },
    {
     "data": {
      "image/png": "[encoded data removed]",
      "text/plain": [
       "<Figure size 432x288 with 1 Axes>"
      ]
     },
     "metadata": {
      "needs_background": "light"
     },
     "output_type": "display_data"
    }
   ],
   "source": [
    "answer(13.2, origami(dots, folds), None) # actual answer: \"CJCKBAPB\""
   ]
  },
  {
   "cell_type": "markdown",
   "metadata": {},
   "source": [
    "I kind of cheated here. I didn't want to write an OCR program, so I relied on my own eyes to look at the dots and see the code.\n",
    "\n",
    "**Note**: My transparent paper was folded 12 times. Is that physically feasible? [Britney Gallivan](https://www.youtube.com/watch?v=AfPDvhKvaa0&) says yes (barely)."
   ]
  },
  {
   "cell_type": "markdown",
   "metadata": {},
   "source": [
    "# [Day 14](https://adventofcode.com/2021/day/14): Extended Polymerization"
   ]
  },
  {
   "cell_type": "markdown",
   "metadata": {},
   "source": [
    "- **Input**: The input is a a polymer template (a string of one-letter element names, such as \"`NNCB`\") followed by a list of pair insertion rules (such as \"`CH -> B`\", meaning that a `B` should be inserted into the middle of each `CH` pair).\n",
    "\n",
    "I'll parse each line of the input into a list of `words` (thus ignoring the \"`->`\" characters); then pick out:\n",
    "- `polymer`: the sole word on the first line.\n",
    "- `rules`: the third through last lines, converted into a dict, like `{'CH': 'B', ...}`."
   ]
  },
  {
   "cell_type": "code",
   "execution_count": 54,
   "metadata": {},
   "outputs": [
    {
     "name": "stdout",
     "output_type": "stream",
     "text": [
      "First 7 lines of Day 14 input (which is parsed into 102 entries):\n",
      "----------------------------------------------------------------\n",
      "ONSVVHNCFVBHKVPCHCPV\n",
      "\n",
      "VO -> C\n",
      "VV -> S\n",
      "HK -> H\n",
      "FC -> C\n",
      "VB -> V\n"
     ]
    }
   ],
   "source": [
    "in14    = parse(14, words)\n",
    "polymer = in14[0][0]\n",
    "rules   = dict(in14[2:])"
   ]
  },
  {
   "cell_type": "markdown",
   "metadata": {},
   "source": [
    "- **Part 1**: Apply 10 steps of pair insertion to the polymer template and find the most and least common elements in the result. What do you get if you take the quantity of the most common element and subtract the quantity of the least common element?\n",
    "\n",
    "Pair insertion means inserting the element on the right hand side of a rule between each two-element pair. All two-element substrings are considered as pairs (that is, the pairs overlap). All insertions happen simultaneously during a step."
   ]
  },
  {
   "cell_type": "code",
   "execution_count": 55,
   "metadata": {},
   "outputs": [
    {
     "data": {
      "text/plain": [
       "True"
      ]
     },
     "execution_count": 55,
     "metadata": {},
     "output_type": "execute_result"
    }
   ],
   "source": [
    "def pair_insertion(polymer, rules, steps) -> str:\n",
    "    \"\"\"Insert elements into polymer according to rules; repeat `steps` times.\"\"\"\n",
    "    for _ in range(steps):\n",
    "         polymer = cat(pair[0] + rules[pair]\n",
    "                       for pair in pairs(polymer)) + polymer[-1]\n",
    "    return polymer\n",
    "\n",
    "def pairs(seq) -> list: return [seq[i:i+2] for i in range(len(seq) - 1)]\n",
    "\n",
    "def quantity_diff(polymer) -> int:\n",
    "    \"\"\"The count of most common element minus the count of least common element.\"\"\"\n",
    "    counts = list(Counter(polymer).values())\n",
    "    return max(counts) - min(counts)\n",
    "\n",
    "assert pairs('NNCB') == ['NN', 'NC', 'CB']\n",
    "assert pair_insertion('NNCB', rules={'NN': 'C', 'NC': 'B', 'CB': 'H'}, steps=1) == 'NCNBCHB'\n",
    "\n",
    "answer(14.1, quantity_diff(pair_insertion(polymer, rules, 10)), 3259)"
   ]
  },
  {
   "cell_type": "markdown",
   "metadata": {},
   "source": [
    "- **Part 2**: Apply 40 steps of pair insertion to the polymer template and find the most and least common elements in the result. What do you get if you take the quantity of the most common element and subtract the quantity of the least common element?\n",
    "\n",
    "The instructions warn us that the resulting polymer after 40 steps will be *trillions* of elements long. So it isn't feasible to just call `pair_insertion` with steps=40. Instead, I'll employ the same trick as in Day 6: use a `Counter` of element pairs so that, for example, all the `'NC'` pairs in the polymer are handled simultaneously in one operation, rather than handling each one individually. No matter how many steps we do, there are only 100 distinct element pairs, so iterating over them 40 times should be very fast. \n",
    "\n",
    "Here's an example Counter of element pairs:"
   ]
  },
  {
   "cell_type": "code",
   "execution_count": 56,
   "metadata": {},
   "outputs": [
    {
     "data": {
      "text/plain": [
       "Counter({'NN': 1, 'NC': 1, 'CB': 1})"
      ]
     },
     "execution_count": 56,
     "metadata": {},
     "output_type": "execute_result"
    }
   ],
   "source": [
    "Counter(pairs('NNCB'))"
   ]
  },
  {
   "cell_type": "markdown",
   "metadata": {},
   "source": [
    "What letters does this represent? The complication is that the pairs overlap, so, if we added up the counts for all the times that, say, the letter `'C'` appears in keys of the Counter, we'd get 2; but it should be 1. We can divide each letter count by 2 to avoid double counting. However the first and last letters in the polymer are *not* double-counted, so we need to add back 1/2 for each of those letters. Fortunately the first and last letters are invariant under pair insertion, so we can do this adjustment at the end; we don't have to do it for each step.\n",
    "\n",
    "So all in all there are three representations of a polymer:"
   ]
  },
  {
   "cell_type": "code",
   "execution_count": 57,
   "metadata": {},
   "outputs": [],
   "source": [
    "Polymer       = str           # e.g. 'NNCB'\n",
    "PairCounter   = Counter[str]  # e.g. Counter({'NN': 1, 'NC': 1, 'CB': 1})\n",
    "LetterCounter = Counter[Char] # e.g. Counter({'N': 2, 'C': 1, 'B': 1})"
   ]
  },
  {
   "cell_type": "markdown",
   "metadata": {},
   "source": [
    "Here's how we convert a PairCounter into a LetterCounter:"
   ]
  },
  {
   "cell_type": "code",
   "execution_count": 58,
   "metadata": {},
   "outputs": [],
   "source": [
    "def letter_counts(pair_ctr: PairCounter, polymer: Polymer) -> LetterCounter:\n",
    "    \"\"\"Return a Counter of the letters in the polymer described by the `pair_ctr`.\"\"\"\n",
    "    letters = set(flatten(pair_ctr))\n",
    "    def letter_count(L) -> int:\n",
    "        return int(sum(pair_ctr[L+M] + pair_ctr[M+L] for M in letters) / 2\n",
    "                   + (L == polymer[0]) / 2 + (L == polymer[-1]) / 2)\n",
    "    return Counter({L: letter_count(L) for L in letters})"
   ]
  },
  {
   "cell_type": "code",
   "execution_count": 59,
   "metadata": {},
   "outputs": [
    {
     "data": {
      "text/plain": [
       "Counter({'B': 1, 'N': 2, 'C': 1})"
      ]
     },
     "execution_count": 59,
     "metadata": {},
     "output_type": "execute_result"
    }
   ],
   "source": [
    "letter_counts(Counter(pairs('NNCB')), 'NNCB')"
   ]
  },
  {
   "cell_type": "markdown",
   "metadata": {},
   "source": [
    "Let's make sure it works when the first and last letters are the same:"
   ]
  },
  {
   "cell_type": "code",
   "execution_count": 60,
   "metadata": {},
   "outputs": [],
   "source": [
    "assert letter_counts(Counter(pairs('NNCB')), 'NNCB') == letter_counts(Counter(pairs('NCBN')), 'NCBN')"
   ]
  },
  {
   "cell_type": "markdown",
   "metadata": {},
   "source": [
    "Now the new function `pair_insertion_diff` can call on `pair_insertion2` to solve Part 2 (as well as Part 1):"
   ]
  },
  {
   "cell_type": "code",
   "execution_count": 61,
   "metadata": {},
   "outputs": [
    {
     "data": {
      "text/plain": [
       "True"
      ]
     },
     "execution_count": 61,
     "metadata": {},
     "output_type": "execute_result"
    }
   ],
   "source": [
    "def pair_insertion2(polymer, rules, steps) -> PairCounter:\n",
    "    \"\"\"Insert elements into polymer according to rules; repeat `steps` times.\n",
    "    Return a Counter of element pairs.\"\"\"\n",
    "    pair_ctr = Counter(pairs(polymer))\n",
    "    for _ in range(steps):\n",
    "        pair_ctr2 = Counter()\n",
    "        for LM in pair_ctr:\n",
    "            pair_ctr2[LM[0] + rules[LM]] += pair_ctr[LM]\n",
    "            pair_ctr2[rules[LM] + LM[1]] += pair_ctr[LM]\n",
    "        pair_ctr = pair_ctr2\n",
    "    return pair_ctr\n",
    "\n",
    "def pair_insertion_diff(polymer, rules, steps):\n",
    "    \"\"\"Most common minus least common after `steps` of pair insertion.\"\"\"\n",
    "    return quantity_diff(letter_counts(pair_insertion2(polymer, rules, steps), polymer))\n",
    "\n",
    "assert Counter(pairs('NNCB')) == Counter({'NN': 1, 'NC': 1, 'CB': 1})\n",
    "assert pair_insertion2('NNCB', rules={'NN': 'C', 'NC': 'B', 'CB': 'H'}, steps=1) == (\n",
    "       Counter({'NC': 1, 'CN': 1, 'NB': 1, 'BC': 1, 'CH': 1, 'HB': 1}))\n",
    "assert letter_counts(Counter({'NC': 1, 'CN': 1, 'NB': 1, 'BC': 1, 'CH': 1, 'HB': 1}), 'NNCB') == (\n",
    "       Counter({'N': 2, 'C': 2, 'B': 2, 'H': 1}))\n",
    "assert pair_insertion_diff('NNCB', rules={'NN': 'C', 'NC': 'B', 'CB': 'H'}, steps=1) == 1\n",
    "\n",
    "answer(14.1, pair_insertion_diff(polymer, rules, 10), 3_259)\n",
    "answer(14.2, pair_insertion_diff(polymer, rules, 40), 3_459_174_981_021)"
   ]
  },
  {
   "cell_type": "markdown",
   "metadata": {},
   "source": [
    "# [Day 15](https://adventofcode.com/2021/day/15): Chiton\n",
    "\n",
    "- **Input**: The input is a square grid of *risk levels*, each one digit, 1–9."
   ]
  },
  {
   "cell_type": "code",
   "execution_count": 62,
   "metadata": {},
   "outputs": [
    {
     "name": "stdout",
     "output_type": "stream",
     "text": [
      "First 7 lines of Day 15 input (which is parsed into 100 entries):\n",
      "----------------------------------------------------------------\n",
      "4249856395422795894919869133487611581179923326874763428673979547991221931142777981153991369468629849\n",
      "5812974178739823463799939791688998895568796557798392761499941349143539572865883254186633218867928826\n",
      "3699989976298596286299499129934993241824395574879938998946914116375199242199151918863674914554714898\n",
      "5682435936794718871685718386458294198391116125679589438794914499278679393779734596558953699438589518\n",
      "7681197997388219696918569664119968498599547892968929425479817979816979144947916716989874825679487436\n",
      "9981166198272997899142698141878643123757515999788822988261499197559193945291512682763935126815448215\n",
      "8849481991861599951293183728419792414164347979985169641698899853377259811688489269959429131918919179\n"
     ]
    }
   ],
   "source": [
    "in15 = Grid(rows=parse(15, digits))"
   ]
  },
  {
   "cell_type": "markdown",
   "metadata": {},
   "source": [
    "- **Part 1**: You start in the top left position, your destination is the bottom right position, and you cannot move diagonally. What is the lowest total risk of any path from the top left to the bottom right? (Don't count the risk level of your starting position.)\n",
    "\n",
    "I'll use a search that updates a grid of the `cost` of the best known path from start to each point. The cost for each point is initially infinite (because we don't know any paths), and is updated each time we find a better path to the point."
   ]
  },
  {
   "cell_type": "code",
   "execution_count": 63,
   "metadata": {},
   "outputs": [
    {
     "data": {
      "text/plain": [
       "True"
      ]
     },
     "execution_count": 63,
     "metadata": {},
     "output_type": "execute_result"
    }
   ],
   "source": [
    "def search_grid(grid, start=(0, 0), goal=None) -> int:\n",
    "    \"\"\"The total cost of the best path from start to goal (which defaults to bottom right).\"\"\"\n",
    "    goal = goal or max(grid)\n",
    "    cost = Grid({p: inf for p in grid}) # cost[p] is cost of best known path from start to p\n",
    "    frontier = {start}\n",
    "    while frontier:\n",
    "        p = frontier.pop()\n",
    "        new_cost = 0 if p is start else (grid[p] + min(cost[b] for b in grid.neighbors(p)))\n",
    "        if new_cost < cost[p]:\n",
    "            cost[p] = new_cost\n",
    "            frontier.update(grid.neighbors(p))\n",
    "    return cost[goal]\n",
    "\n",
    "answer(15.1, search_grid(in15), 687)"
   ]
  },
  {
   "cell_type": "markdown",
   "metadata": {},
   "source": [
    "- **Part 2**: The entire cave is actually five times larger in both dimensions. Your original map tile repeats to the right and downward; each time the tile repeats, all of its risk levels are 1 higher than the tile immediately up or left of it. However, risk levels above 9 wrap back around to 1. Using the full map, what is the lowest total risk of any path from the top left to the bottom right?\n",
    "\n",
    "Here's how to define the full map of the cave:"
   ]
  },
  {
   "cell_type": "code",
   "execution_count": 64,
   "metadata": {},
   "outputs": [],
   "source": [
    "def repeat_grid(grid, repeat=5):\n",
    "    \"\"\"Extend the grid to be `repeat` times larger in both directions.\n",
    "    Values within each repeated block are increased by 1 for each repetition to the right or down,\n",
    "    but values over 9 wrap around to 1.\"\"\"\n",
    "    w, h = grid.width, grid.height \n",
    "    return Grid([(x + xr * w, y + yr * h), clock_mod(grid[x, y] + xr + yr, 9)]\n",
    "                for xr in range(repeat) \n",
    "                for yr in range(repeat)\n",
    "                for x, y in grid)\n",
    "\n",
    "def clock_mod(i, m) -> int:\n",
    "    \"\"\"i % m, but replace a result of 0 with m\"\"\"\n",
    "    # This is like a clock, where 24 mod 12 is 12, not 0.\n",
    "    return (i % m) or m"
   ]
  },
  {
   "cell_type": "markdown",
   "metadata": {},
   "source": [
    "With 250,000 points in the full map, I estimated it would take several minutes to run the `search_grid` algorithm. I tested it, and it was 5 minutes. I wasn't satisfied with that, so I copied over the [A* search](https://en.wikipedia.org/wiki/A*_search_algorithm) from my [AoC 2017](https://github.com/norvig/pytudes/blob/main/ipynb/Advent%202017.ipynb) notebook, and supplied ity with the proper functions to make a move, compute the cost of a move, and estimate the distance to the goal (the `h_func` or \"heuristic function\"). A* is guaranteed to find an optimal path if the heuristic function never overestimates the cost from a state to the goal, so I use as an estimate the cost if every grid point along the way had a risk level of 1."
   ]
  },
  {
   "cell_type": "code",
   "execution_count": 65,
   "metadata": {},
   "outputs": [],
   "source": [
    "from heapq import heappop, heappush\n",
    "\n",
    "def Astar(start, moves_func, h_func, cost_func) -> Tuple[int, list]:\n",
    "    \"\"\"Find a (cost, path) tuple for the lowest-cost path from start to goal.\n",
    "    A goal is any state where h_func(s) == 0.\"\"\"\n",
    "    frontier  = [(h_func(start), start)] # A priority queue, ordered by path_cost(s) + h(s)\n",
    "    previous  = {start: None}  # start state has no previous state; other states will\n",
    "    path_cost = {start: 0}     # The cost of the best path to a state.\n",
    "    Path      = lambda s: ([] if (s is None) else Path(previous[s]) + [s])\n",
    "    while frontier:\n",
    "        (f, s) = heappop(frontier)\n",
    "        if h_func(s) == 0:\n",
    "            return path_cost[s], Path(s)\n",
    "        for s2 in moves_func(s):\n",
    "            g = path_cost[s] + cost_func(s, s2)\n",
    "            if s2 not in path_cost or g < path_cost[s2]:\n",
    "                heappush(frontier, (g + h_func(s2), s2))\n",
    "                path_cost[s2] = g\n",
    "                previous[s2] = s\n",
    "                \n",
    "def Astar_search_grid(grid):\n",
    "    \"\"\"The total cost of the best path from (0, 0) to bottom-right on grid.\"\"\"\n",
    "    start, goal = (0, 0), max(grid)\n",
    "    def moves_func(s): return grid.neighbors(s)\n",
    "    def h_func(s): return sum(goal) - sum(s)\n",
    "    def cost_func(s, s2): return grid[s2]\n",
    "    return Astar(start, moves_func, h_func, cost_func)[0]"
   ]
  },
  {
   "cell_type": "markdown",
   "metadata": {},
   "source": [
    "With A* search the run time is greatly improved, from 5 minutes down to about 1 second."
   ]
  },
  {
   "cell_type": "code",
   "execution_count": 66,
   "metadata": {},
   "outputs": [
    {
     "data": {
      "text/plain": [
       "True"
      ]
     },
     "execution_count": 66,
     "metadata": {},
     "output_type": "execute_result"
    }
   ],
   "source": [
    "answer(15.2, Astar_search_grid(repeat_grid(in15, 5)), 2957)"
   ]
  },
  {
   "cell_type": "markdown",
   "metadata": {},
   "source": [
    "Gary Grady's drawing represents the risk involved in finding a path that avoids bumping into the ceiling above or the chitons below.\n",
    "\n",
    "<img src=\"https://pbs.twimg.com/media/FGrU-PKXIAQ6sa8?format=jpg&name=medium\" width=400 title=\"@GaryJGrady\">"
   ]
  },
  {
   "cell_type": "markdown",
   "metadata": {},
   "source": [
    "# [Day 16](https://adventofcode.com/2021/day/16): Packet Decoder\n",
    "\n",
    "- **Input**: The input is a single line containing a sequence of hexadecimal digits, a message using the Buoyancy Interchange Transmission System (BITS). For now I will leave the input as a string of hex digits."
   ]
  },
  {
   "cell_type": "code",
   "execution_count": 67,
   "metadata": {},
   "outputs": [
    {
     "name": "stdout",
     "output_type": "stream",
     "text": [
      "First 1 lines of Day 16 input (which is parsed into 1 entries):\n",
      "--------------------------------------------------------------\n",
      "220D790065B2745FF004672D99A34E5B33439D96CEC80373C0068663101A98C406A5E7395DC1804678BF25A4093BFBDB886C ...\n"
     ]
    }
   ],
   "source": [
    "in16 = parse(16)[0]"
   ]
  },
  {
   "cell_type": "markdown",
   "metadata": {},
   "source": [
    "- **Part 1:** The puzzle is to parse this hexadecimal transmission into data packets, according to the rules contained in [the instructions](https://adventofcode.com/2021/day/16), and add up all of the version numbers of the packets.\n",
    "\n",
    "The gist of [the instructions](https://adventofcode.com/2021/day/16) is to consider the hexadecimal sequence as a bit string, divide the bit string into bit fields, and construct nested packets based on the values of the fields. Here are basic types for `Bits` (a bit string) and `Packet` (which contains a version umber `V`, a type ID `T`, and a `contents` field which can be either a number or a list of packets), along with functions to convert from a hexadecimal string to a bit string, and from there to an int: "
   ]
  },
  {
   "cell_type": "code",
   "execution_count": 68,
   "metadata": {},
   "outputs": [],
   "source": [
    "Bits   = str # a string of '0's and '1's\n",
    "Packet = namedtuple('Packet', 'V, T, contents') # V is version; T is type ID\n",
    "\n",
    "def bits_from_hex(hex) -> Bits: \n",
    "    \"\"\"Convert a hexadecimal string into a bit string, making sure each hex digit is 4 bits.\"\"\"\n",
    "    # I could have used just `bin(int(hex, 16))`, except that wouldn't left-zero-pad when needed.\n",
    "    return cat(f'{int(x, 16):04b}' for x in hex)\n",
    "\n",
    "def int2(bits: Bits) -> int: \n",
    "    \"\"\"Convert a bit string into an int.\"\"\"\n",
    "    return int(bits, 2)"
   ]
  },
  {
   "cell_type": "code",
   "execution_count": 69,
   "metadata": {},
   "outputs": [
    {
     "data": {
      "text/plain": [
       "'0b11111111'"
      ]
     },
     "execution_count": 69,
     "metadata": {},
     "output_type": "execute_result"
    }
   ],
   "source": [
    "bin(int('ff', 16))"
   ]
  },
  {
   "cell_type": "markdown",
   "metadata": {},
   "source": [
    "To parse the bit string into packets, I will have various functions that start with the word `parse_` and return a tuple of two values: the object parsed (either an int or a packet) and the remaining bits that were not parsed."
   ]
  },
  {
   "cell_type": "code",
   "execution_count": 70,
   "metadata": {},
   "outputs": [],
   "source": [
    "def parse_int(L, bits) -> Tuple[int, Bits]:\n",
    "    \"\"\"Parse an integer from the first L bits; return the int and the remaining bits.\"\"\"\n",
    "    return int2(bits[:L]), bits[L:]\n",
    "\n",
    "def parse_packet(bits) -> Tuple[Packet, Bits]:\n",
    "    \"\"\"Parse a packet; return it and the remaining bits.\"\"\"\n",
    "    V, T, bits = int2(bits[0:3]), int2(bits[3:6]), bits[6:]\n",
    "    parser = parse_literal_packet if T == 4 else parse_operator_packet\n",
    "    return parser(V, T, bits)\n",
    "        \n",
    "def parse_literal_packet(V, T, bits) -> Tuple[Packet, Bits]:\n",
    "    \"\"\"Build a packet with a literal value; return it and the remaining bits.\"\"\"\n",
    "    literal = ''\n",
    "    while True:\n",
    "        bit, nibble, bits = bits[0], bits[1:5], bits[5:]\n",
    "        literal += nibble\n",
    "        if bit == '0':\n",
    "            return Packet(V, T, int2(literal)), bits\n",
    "        \n",
    "def parse_operator_packet(V, T, bits) -> Tuple[Packet, Bits]:\n",
    "    \"\"\"Build a packet with subpackets; return it and the remaining bits.\"\"\"\n",
    "    I, bits = parse_int(1, bits)\n",
    "    subpackets = []   \n",
    "    if I == 0:\n",
    "        L, bits = parse_int(15, bits)\n",
    "        target = len(bits) - L\n",
    "        while len(bits) > target:\n",
    "            packet, bits = parse_packet(bits)\n",
    "            subpackets.append(packet)\n",
    "    else:\n",
    "        L, bits = parse_int(11, bits)\n",
    "        for _ in range(L):\n",
    "            packet, bits = parse_packet(bits)\n",
    "            subpackets.append(packet)        \n",
    "    return Packet(V, T, subpackets), bits"
   ]
  },
  {
   "cell_type": "markdown",
   "metadata": {},
   "source": [
    "Now we're ready to solve the puzzle by summing up the version numbers of the parsed packet and its subpackets:"
   ]
  },
  {
   "cell_type": "code",
   "execution_count": 71,
   "metadata": {},
   "outputs": [
    {
     "data": {
      "text/plain": [
       "True"
      ]
     },
     "execution_count": 71,
     "metadata": {},
     "output_type": "execute_result"
    }
   ],
   "source": [
    "def subpackets(packet) -> List[Packet]: \n",
    "    \"\"\"The subpackets of a packet.\"\"\"\n",
    "    return packet.contents if isinstance(packet.contents, list) else []\n",
    "\n",
    "def sum_versions(packet) -> int:\n",
    "    \"\"\"The sum of the version numbers of this packet and all its subpackets (recursively).\"\"\"\n",
    "    return packet.V + sum(sum_versions(p) for p in subpackets(packet))\n",
    "      \n",
    "packet16, _ = parse_packet(bits_from_hex(in16))\n",
    "answer(16.1, sum_versions(packet16), 989)"
   ]
  },
  {
   "cell_type": "markdown",
   "metadata": {},
   "source": [
    "This was way more code than previous days! Here are some assertions I used to make sure I was on the right track:"
   ]
  },
  {
   "cell_type": "code",
   "execution_count": 72,
   "metadata": {},
   "outputs": [],
   "source": [
    "assert (bits_from_hex('D2FE28') \n",
    "        == '110100101111111000101000')\n",
    "\n",
    "assert (bits_from_hex('38006F45291200') \n",
    "        == '00111000000000000110111101000101001010010001001000000000')\n",
    "\n",
    "assert (parse_packet('110100101111111000101000') \n",
    "        == (Packet(V=6, T=4, contents=2021), '000'))\n",
    "\n",
    "assert (parse_packet('00111000000000000110111101000101001010010001001000000000')\n",
    "        == (Packet(V=1, T=6, contents=[Packet(V=6, T=4, contents=10), \n",
    "                                       Packet(V=2, T=4, contents=20)]),\n",
    "            '0000000'))\n",
    "\n",
    "assert (parse_packet('11101110000000001101010000001100100000100011000001100000')\n",
    "        == (Packet(V=7, T=3, contents=[Packet(V=2, T=4, contents=1), \n",
    "                                       Packet(V=4, T=4, contents=2), \n",
    "                                       Packet(V=1, T=4, contents=3)]),\n",
    "            '00000'))"
   ]
  },
  {
   "cell_type": "markdown",
   "metadata": {},
   "source": [
    "- **Part 2**: What do you get if you evaluate the expression represented by your hexadecimal-encoded BITS transmission?\n",
    "\n",
    "The evaluation rules are that a literal packet evaluates to the number that is its contents, and an operator packet applies an operator determined by the type id (in the `packet.T` field) to the list of values formed by evaluating the subpackets. I put the operators into the `packet_ops` dict."
   ]
  },
  {
   "cell_type": "code",
   "execution_count": 73,
   "metadata": {},
   "outputs": [
    {
     "data": {
      "text/plain": [
       "True"
      ]
     },
     "execution_count": 73,
     "metadata": {},
     "output_type": "execute_result"
    }
   ],
   "source": [
    "def eval_packet(packet) -> int:\n",
    "    \"\"\"Evaluate a packet according to the operator rules.\"\"\"\n",
    "    if packet.T == 4:\n",
    "        return packet.contents\n",
    "    else:\n",
    "        vals = [eval_packet(p) for p in subpackets(packet)]\n",
    "        return packet_ops[packet.T](vals)\n",
    "    \n",
    "packet_ops = {0: sum, 1: prod, 2: min, 3: max, \n",
    "              5: lambda v: int(v[0] > v[1]), \n",
    "              6: lambda v: int(v[0] < v[1]), \n",
    "              7: lambda v: int(v[0] == v[1])}\n",
    "\n",
    "answer(16.2, eval_packet(packet16), 7936430475134)"
   ]
  }
 ],
 "metadata": {
  "kernelspec": {
   "display_name": "Python 3",
   "language": "python",
   "name": "python3"
  },
  "language_info": {
   "codemirror_mode": {
    "name": "ipython",
    "version": 3
   },
   "file_extension": ".py",
   "mimetype": "text/x-python",
   "name": "python",
   "nbconvert_exporter": "python",
   "pygments_lexer": "ipython3",
   "version": "3.7.6"
  }
 },
 "nbformat": 4,
 "nbformat_minor": 4
}
