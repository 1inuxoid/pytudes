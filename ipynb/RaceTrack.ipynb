{
 "cells": [
  {
   "cell_type": "markdown",
   "metadata": {},
   "source": [
    "<div align=\"right\" style=\"text-align: right\"><i>Peter Norvig<br>August 2021</i></div>\n",
    "\n",
    "# RaceTrack\n",
    "\n",
    "From 538's [The Riddler](https://fivethirtyeight.com/features/can-you-zoom-around-the-race-track/) on 6 August 2021:\n",
    "\n",
    "> The game of [RaceTrack](https://link.springer.com/chapter/10.1007/978-3-642-13122-6_26) was published by recreational mathematician Martin Gardner in 1973. There have been a few modifications and even some neat [digital versions](https://harmmade.com/vectorracer/#) since then, and it’s high time we had a race here on The Riddler. So without further ado, welcome to the Riddler-opolis 500!\n",
    ">\n",
    "> You begin at the midpoint of the starting line at the bottom (the thicker border), and your goal is to circumnavigate the race track shown below in a single counterclockwise loop. You’ll be moving from point to point on the grid, without ever venturing into the gray surrounding square or the central circle. If the center is at the origin (with radius 3), the starting point in blue is at (0, -5). The starting line is between (0, -3) and (0, -7).\n",
    ">\n",
    "> For your first move, you can choose among nine grid points surrounding and including the starting position. From there,  you have inertia. So for your second move, you again have nine possible destinations, but they are determined by your current velocity vector. That is, you can maintain your current direction and speed, or you can alter your destination by one point in any direction (horizontally, vertically or diagonally). For example, if your first move was up and to the right, then your possible second moves are shown below, although two of them will cause you to crash into the wall.\n",
    ">\n",
    "> ![](https://fivethirtyeight.com/wp-content/uploads/2021/08/Screen-Shot-2021-08-04-at-10.44.11-PM.png?w=400)\n",
    ">\n",
    "> How quickly can you navigate the track? At no time can your path venture into the wall. (Being tangent to the wall is allowed, as is being on a grid point along a wall.)\n",
    ">\n",
    "\n",
    "\n",
    "# Defining Points and the Track\n",
    "\n",
    "First some imports: "
   ]
  },
  {
   "cell_type": "code",
   "execution_count": 1,
   "metadata": {},
   "outputs": [],
   "source": [
    "import matplotlib.pyplot as plt\n",
    "from typing import List, Tuple, Iterator\n",
    "import math"
   ]
  },
  {
   "cell_type": "markdown",
   "metadata": {},
   "source": [
    "Now define a `Point` in the 2-D plane as a complex number, and a `Path` as a list of points. Then define some global variables: the points in the `track`;  the `finish` line; the `start` point; the `zero` vector; and the allowable `deltas` (the nine possible changes on each move)."
   ]
  },
  {
   "cell_type": "code",
   "execution_count": 2,
   "metadata": {},
   "outputs": [],
   "source": [
    "Point = Vector = complex\n",
    "Path  = List[Point]\n",
    "def X(point) -> float: return point.real\n",
    "def Y(point) -> float: return point.imag\n",
    "\n",
    "track  = {Point(x, y) for x in range(-7, 8) for y in range(-7, 8) if abs(Point(x, y)) >= 3}\n",
    "finish = [Point(0, -3), Point(0, -7)]\n",
    "start  = sum(finish) / 2 # midpoint of finish line\n",
    "zero   = Vector(0, 0)\n",
    "deltas = [Vector(x, y) for y in (1, 0, -1) for x in (-1, 0, 1) ]"
   ]
  },
  {
   "cell_type": "markdown",
   "metadata": {},
   "source": [
    "# Visualization\n",
    "\n",
    "I think it will be helpful to introduce a way to visualize the track and the path(s) on it:"
   ]
  },
  {
   "cell_type": "code",
   "execution_count": 3,
   "metadata": {},
   "outputs": [],
   "source": [
    "def plot(paths=(), track=track, start=start, finish=finish):\n",
    "    \"\"\"Plot the track and any paths, along with the start and finish line.\"\"\"\n",
    "    fig, ax = plt.subplots()\n",
    "    plt.xticks([]); plt.yticks([])\n",
    "    ax.set_aspect('equal');\n",
    "    ax.add_artist(plt.Circle((0, 0), 3, alpha=0.2, color='k'))\n",
    "    ax.plot(*XY(track), 'k,' )   # grid points\n",
    "    for path in paths:\n",
    "        ax.plot(*XY(path), 'o-') # paths\n",
    "    ax.plot(*XY([start]), 'bD')  # start\n",
    "    ax.plot(*XY(finish), 'b:')   # finish\n",
    "    lengths = {len(path) - 1 for path in paths}\n",
    "    plt.title(f'{len(paths)} paths, lengths {lengths}')\n",
    "\n",
    "def XY(points): return [X(p) for p in points], [Y(p) for p in points]"
   ]
  },
  {
   "cell_type": "markdown",
   "metadata": {},
   "source": [
    "Here is a single path consisting of the first move from the start point:"
   ]
  },
  {
   "cell_type": "code",
   "execution_count": 4,
   "metadata": {},
   "outputs": [
    {
     "data": {
      "image/png": "[encoded data removed]",
      "text/plain": [
       "<Figure size 432x288 with 1 Axes>"
      ]
     },
     "metadata": {},
     "output_type": "display_data"
    }
   ],
   "source": [
    "path = [start, Point(1, -4)]\n",
    "plot([path])"
   ]
  },
  {
   "cell_type": "markdown",
   "metadata": {},
   "source": [
    "Here are nine paths for the second move (two of which crash into the circle in the center):"
   ]
  },
  {
   "cell_type": "code",
   "execution_count": 5,
   "metadata": {},
   "outputs": [],
   "source": [
    "def velocity(path) -> Vector:\n",
    "    \"\"\"Velocity of the car at the end of the path.\"\"\"\n",
    "    return zero if len(path) == 1 else path[-1] - path[-2]  "
   ]
  },
  {
   "cell_type": "code",
   "execution_count": 6,
   "metadata": {},
   "outputs": [
    {
     "data": {
      "image/png": "[encoded data removed]",
      "text/plain": [
       "<Figure size 432x288 with 1 Axes>"
      ]
     },
     "metadata": {},
     "output_type": "display_data"
    }
   ],
   "source": [
    "plot([path + [Point(path[-1] + velocity(path) + d)] for d in deltas])"
   ]
  },
  {
   "cell_type": "markdown",
   "metadata": {},
   "source": [
    "# Complete Paths and Legal Moves\n",
    "\n",
    "For our circle-in-the-middle track, I can say that a path `is_complete` if the path goes from the fourth quadrant to the first, second, third, and back to the fourth:"
   ]
  },
  {
   "cell_type": "code",
   "execution_count": 7,
   "metadata": {},
   "outputs": [],
   "source": [
    "def Q1(p) -> bool: return X(p) >= 0 and Y(p) >= 0 # upper right\n",
    "def Q2(p) -> bool: return X(p) <  0 and Y(p) >= 0 # upper left\n",
    "def Q3(p) -> bool: return X(p) <  0 and Y(p) <  0 # lower left  \n",
    "def Q4(p) -> bool: return X(p) >= 0 and Y(p) <  0 # lower right\n",
    "   \n",
    "def is_complete(path, regions=(Q4, Q1, Q2, Q3, Q4)) -> bool:\n",
    "    \"\"\"Does the path complete a tour of the regions, in order?\"\"\"\n",
    "    for p in path:\n",
    "        if regions[0](p):\n",
    "            regions = regions[1:]\n",
    "    return not regions"
   ]
  },
  {
   "cell_type": "markdown",
   "metadata": {},
   "source": [
    "Now I'll define the `legal_moves` that can be made. Given a path, `legal_moves(path)` yields `(Point, Vector)` tuples giving every possible new point position and velocity. Each point must be a point on the track (not inside the circle), the velocity vector can differ from the previous velocity vector only by an allowable delta, and the line from the previous final point on the path to the new point must not intersect the circle. \n",
    "\n",
    "I have inserted a hack here: to make sure that paths start off going counterclockwise, for the first two steps I insist that the deltas be either up or to the right or zero.\n",
    "\n",
    "I got the calculation for `intersects_circle` from several posts on math overflow."
   ]
  },
  {
   "cell_type": "code",
   "execution_count": 8,
   "metadata": {},
   "outputs": [],
   "source": [
    "def legal_moves(path, track=track, deltas=deltas) -> Iterator[Tuple[Point, Vector]]:\n",
    "    \"\"\"What (point, velocity) pairs can be reached in one step from this path?\"\"\"\n",
    "    if len(path) <= 2: # Make sure we start counterclockwwise\n",
    "        deltas = [Point(x, y) for y in (0, 1) for x in (0, 1)]\n",
    "    p, v = path[-1], velocity(path)\n",
    "    for d in deltas:\n",
    "        new_p = p + v + d\n",
    "        new_v = v + d\n",
    "        if new_p in track and not intersects_circle(p, new_p, 3, zero):\n",
    "            yield new_p, new_v\n",
    "            \n",
    "def intersects_circle(p, q, r, c):\n",
    "    \"\"\"Does a line from p to q intersect a circle of radius r at center c?\"\"\"\n",
    "    if p == q:\n",
    "        return abs(c - p) < r\n",
    "    norm = (q - p) / abs(q - p)\n",
    "    v  = abs(X(norm) * Y(c - p) - Y(norm) * X(c - p)) # Norm of the 2D cross-product\n",
    "    return (v < r)"
   ]
  },
  {
   "cell_type": "markdown",
   "metadata": {},
   "source": [
    "# Finding a Fastest Path\n",
    "\n",
    "I can use a breadth-first search, adding each legal move to each path until I find path(s) that are complete. \n",
    "\n",
    "I keep track of a `frontier`, which is a mapping of `{(point, velocity): path}` for all paths of the longest length explored so far. The reason for this is that there may be an exponential number of paths that arrive at the some position with the same velocity in the same number of moves. But none of them will have any advantage in reaching the finish line ahead of the others, so I only need to keep one of them. In the end, I return the completed paths I have found, but there may be many other paths that are not returned, because I only kept one for each `(point, velocity)` pair along the way. "
   ]
  },
  {
   "cell_type": "code",
   "execution_count": 9,
   "metadata": {},
   "outputs": [],
   "source": [
    "def search(path=[start]) -> Path:\n",
    "    \"\"\"Find the shortest possible complete path(s).\"\"\"\n",
    "    frontier = {(path[-1], velocity(path)): path}\n",
    "    completed = []\n",
    "    while not completed:\n",
    "        frontier = {(p, v): path + [p] \n",
    "                    for path in frontier.values() \n",
    "                    for p, v in legal_moves(path)}\n",
    "        completed = [path for path in frontier.values() if is_complete(path)]\n",
    "    return completed"
   ]
  },
  {
   "cell_type": "code",
   "execution_count": 10,
   "metadata": {},
   "outputs": [
    {
     "data": {
      "image/png": "[encoded data removed]",
      "text/plain": [
       "<Figure size 432x288 with 1 Axes>"
      ]
     },
     "metadata": {},
     "output_type": "display_data"
    }
   ],
   "source": [
    "plot(search([start]))"
   ]
  },
  {
   "cell_type": "markdown",
   "metadata": {},
   "source": [
    "To give you an idea of some of the paths that were not shown, here are completions of a path called `tight`:"
   ]
  },
  {
   "cell_type": "code",
   "execution_count": 11,
   "metadata": {},
   "outputs": [
    {
     "data": {
      "image/png": "[encoded data removed]",
      "text/plain": [
       "<Figure size 432x288 with 1 Axes>"
      ]
     },
     "metadata": {},
     "output_type": "display_data"
    }
   ],
   "source": [
    "tight = [start, Point(1, -4), Point(2, -3), Point(3, -1), Point(3, 1), Point(2, 3)]\n",
    "plot(search(tight))"
   ]
  },
  {
   "cell_type": "markdown",
   "metadata": {},
   "source": [
    "# Submitting your Answer\n",
    "\n",
    "I'll need some help to put my answers into the form requested by The Riddler:\n",
    "\n",
    "> Finally, submitting your answer can be tricky work. Please be sure to submit both your total time, as well as your sequence of moves. Each move should be assigned a digit from 1 through 9, corresponding to the nine possible destinations of the move:\n",
    ">\n",
    ">     1 2 3\n",
    ">     4 5 6\n",
    ">     7 8 9"
   ]
  },
  {
   "cell_type": "code",
   "execution_count": 12,
   "metadata": {},
   "outputs": [],
   "source": [
    "def decode_path(path) -> List[int]:\n",
    "    \"\"\"The digits representing the moves (as coded changes in acceleration).\"\"\"\n",
    "    return [deltas.index(velocity(path[:i + 1]) - velocity(path[:i])) + 1\n",
    "            for i in range(1, len(path))]"
   ]
  },
  {
   "cell_type": "code",
   "execution_count": 13,
   "metadata": {},
   "outputs": [
    {
     "data": {
      "text/plain": [
       "[[3, 3, 1, 7, 7, 5, 7, 8, 9, 9, 3, 6],\n",
       " [3, 3, 1, 7, 7, 5, 7, 8, 9, 9, 3, 9],\n",
       " [3, 3, 1, 7, 7, 5, 7, 8, 9, 9, 3, 3],\n",
       " [3, 3, 1, 7, 7, 5, 7, 8, 9, 9, 6, 3],\n",
       " [3, 3, 1, 7, 7, 5, 7, 8, 9, 9, 6, 6],\n",
       " [3, 5, 2, 4, 4, 8, 8, 7, 9, 6, 6, 3],\n",
       " [3, 5, 2, 4, 4, 8, 8, 7, 9, 6, 6, 6],\n",
       " [3, 5, 2, 4, 4, 8, 8, 7, 9, 6, 6, 9],\n",
       " [3, 5, 2, 4, 4, 8, 8, 7, 9, 9, 3, 6],\n",
       " [3, 5, 2, 4, 4, 8, 8, 7, 9, 9, 3, 9],\n",
       " [3, 5, 2, 4, 4, 8, 8, 7, 9, 9, 3, 3],\n",
       " [3, 5, 2, 4, 4, 8, 8, 7, 9, 9, 6, 3]]"
      ]
     },
     "execution_count": 13,
     "metadata": {},
     "output_type": "execute_result"
    }
   ],
   "source": [
    "[decode_path(path) for path in search() + search(tight)]"
   ]
  }
 ],
 "metadata": {
  "kernelspec": {
   "display_name": "Python 3",
   "language": "python",
   "name": "python3"
  },
  "language_info": {
   "codemirror_mode": {
    "name": "ipython",
    "version": 3
   },
   "file_extension": ".py",
   "mimetype": "text/x-python",
   "name": "python",
   "nbconvert_exporter": "python",
   "pygments_lexer": "ipython3",
   "version": "3.7.6"
  }
 },
 "nbformat": 4,
 "nbformat_minor": 4
}
