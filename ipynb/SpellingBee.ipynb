{
 "cells": [
  {
   "cell_type": "markdown",
   "metadata": {},
   "source": [
    "<div style=\"text-align: right\" align=\"right\"><i>Peter Norvig, 3 Jan 2020</i></div>\n",
    "\n",
    "# Spelling Bee Puzzle\n",
    "\n",
    "The [3 Jan. 2020 edition of the 538 Riddler](https://fivethirtyeight.com/features/can-you-solve-the-vexing-vexillology/) concerns the popular NYTimes  [Spelling Bee](https://www.nytimes.com/puzzles/spelling-bee) puzzle:\n",
    "\n",
    "> In this game, seven letters are arranged in a **honeycomb** lattice, with one letter in the center. Here’s the lattice from Dec. 24, 2019:\n",
    "> \n",
    "> <img src=\"https://fivethirtyeight.com/wp-content/uploads/2020/01/Screen-Shot-2019-12-24-at-5.46.55-PM.png?w=1136\" width=\"150\">\n",
    "> \n",
    "> The goal is to identify as many words as possible that meet the following criteria:\n",
    "> 1. The word must be at least four letters long.\n",
    "> 2. The word must include the central letter.\n",
    "> 3. The word cannot include any letter beyond the seven given letters.\n",
    ">\n",
    ">Note that letters can be repeated. For example, the words GAME and AMALGAM are both acceptable words. Four-letter words are worth 1 point each, while five-letter words are worth 5 points, six-letter words are worth 6 points, seven-letter words are worth 7 points, etc. Words that use all of the seven letters in the honeycomb are known as **pangrams** and earn 7 bonus points (in addition to the points for the length of the word). So in the above example, MEGAPLEX is worth 15 points.\n",
    ">\n",
    "> ***Which seven-letter honeycomb results in the highest possible game score?*** To be a valid choice of seven letters, no letter can be repeated, it must not contain the letter S (that would be too easy) and there must be at least one pangram.\n",
    ">\n",
    "> For consistency, please use [this word list](https://norvig.com/ngrams/enable1.txt) to check your game score.\n",
    "\n",
    "\n",
    "\n",
    "Since the referenced [word list](https://norvig.com/ngrams/enable1.txt) came from [*my* web site](https://norvig.com/ngrams/enable1.txt), I felt somewhat compelled to solve this one.  (Note I didn't make up the word list; it is a standard Scrabble word list that I happen to host a copy of.) I'll show you how I address the problem, step by step:"
   ]
  },
  {
   "cell_type": "markdown",
   "metadata": {},
   "source": [
    "# Step 1: Words, Word Scores, and Pangrams\n",
    "\n",
    "Let's start by defining some basics:\n",
    "\n",
    "- A **valid word** is a string of at least 4 letters, with no 'S', and not more than 7 distinct letters.\n",
    "- A **word list** is, well, a list of words.\n",
    "- A **pangram** is a word with exactly 7 distinct letters; it scores a **pangram bonus** of 7 points.\n",
    "- The **word score** is 1 for a four letter word, or the length of the word for longer words, plus any pangram bonus.\n"
   ]
  },
  {
   "cell_type": "code",
   "execution_count": 1,
   "metadata": {},
   "outputs": [],
   "source": [
    "from typing      import List, Set, Tuple, Dict\n",
    "from collections import Counter, defaultdict\n",
    "from dataclasses import dataclass\n",
    "from itertools   import combinations\n",
    "import matplotlib.pyplot as plt"
   ]
  },
  {
   "cell_type": "code",
   "execution_count": 2,
   "metadata": {},
   "outputs": [],
   "source": [
    "Word = str # Type for a word\n",
    "\n",
    "def valid(word) -> bool:\n",
    "    \"\"\"Does word have at least 4 letters, no 'S', and no more than 7 distinct letters?\"\"\"\n",
    "    return len(word) >= 4 and 'S' not in word and len(set(word)) <= 7\n",
    "\n",
    "def valid_words(text, valid=valid) -> List[Word]: \n",
    "    \"\"\"All the valid words in text.\"\"\"\n",
    "    return [w for w in text.upper().split() if valid(w)]\n",
    "\n",
    "def pangram_bonus(word) -> int: \n",
    "    \"\"\"Does a word get a bonus for having 7 distinct letters?\"\"\"\n",
    "    return 7 if len(set(word)) == 7 else 0\n",
    "\n",
    "def word_score(word) -> int: \n",
    "    \"\"\"The points for this word, including bonus for pangram.\"\"\"\n",
    "    return 1 if len(word) == 4 else len(word) + pangram_bonus(word)"
   ]
  },
  {
   "cell_type": "markdown",
   "metadata": {},
   "source": [
    "I'll make a mini word list to experiment with: "
   ]
  },
  {
   "cell_type": "code",
   "execution_count": 3,
   "metadata": {},
   "outputs": [
    {
     "data": {
      "text/plain": [
       "['GAME', 'AMALGAM', 'GLAM', 'MEGAPLEX', 'CACCIATORE', 'EROTICA']"
      ]
     },
     "execution_count": 3,
     "metadata": {},
     "output_type": "execute_result"
    }
   ],
   "source": [
    "mini = valid_words('game amalgam amalgamation glam gem gems em megaplex cacciatore erotica')\n",
    "mini"
   ]
  },
  {
   "cell_type": "markdown",
   "metadata": {},
   "source": [
    "Note that `gem` and `em` are too short, `gems` has an `s` which is not allowed, and `amalgamation` has too many distinct letters (8). We're left with six valid words out of the ten candidate words. Here are examples of the other two functions in action:"
   ]
  },
  {
   "cell_type": "code",
   "execution_count": 4,
   "metadata": {},
   "outputs": [
    {
     "data": {
      "text/plain": [
       "{'CACCIATORE', 'EROTICA', 'MEGAPLEX'}"
      ]
     },
     "execution_count": 4,
     "metadata": {},
     "output_type": "execute_result"
    }
   ],
   "source": [
    "{w for w in mini if pangram_bonus(w)}"
   ]
  },
  {
   "cell_type": "code",
   "execution_count": 5,
   "metadata": {},
   "outputs": [
    {
     "data": {
      "text/plain": [
       "{'GAME': 1,\n",
       " 'AMALGAM': 7,\n",
       " 'GLAM': 1,\n",
       " 'MEGAPLEX': 15,\n",
       " 'CACCIATORE': 17,\n",
       " 'EROTICA': 14}"
      ]
     },
     "execution_count": 5,
     "metadata": {},
     "output_type": "execute_result"
    }
   ],
   "source": [
    "{w: word_score(w) for w in mini}"
   ]
  },
  {
   "cell_type": "markdown",
   "metadata": {},
   "source": [
    "# Step 2: Honeycombs and Game Scores\n",
    "\n",
    "In a honeycomb the order of the letters doesn't matter; all that matters is:\n",
    "  1. The seven distinct letters in the honeycomb.\n",
    "  2. The one distinguished center letter.\n",
    "  \n",
    "Thus, we can represent a honeycomb as follows:\n",
    "  "
   ]
  },
  {
   "cell_type": "code",
   "execution_count": 6,
   "metadata": {},
   "outputs": [
    {
     "data": {
      "text/plain": [
       "Honeycomb(letters='AEGLMPX', center='G')"
      ]
     },
     "execution_count": 6,
     "metadata": {},
     "output_type": "execute_result"
    }
   ],
   "source": [
    "@dataclass(frozen=True, order=True)\n",
    "class Honeycomb:\n",
    "    letters: str # 7 letters\n",
    "    center:  str # 1 letter\n",
    "\n",
    "hc = Honeycomb('AEGLMPX', 'G')\n",
    "hc"
   ]
  },
  {
   "cell_type": "markdown",
   "metadata": {},
   "source": [
    "The **game score** for a honeycomb is the sum of the word scores for all the words that the honeycomb can make. How do we know if a honeycomb can make a word? It can if (1) the word contains the honeycomb's center and (2) every letter in the word is in the honeycomb. "
   ]
  },
  {
   "cell_type": "code",
   "execution_count": 7,
   "metadata": {},
   "outputs": [],
   "source": [
    "def game_score(honeycomb, wordlist) -> int:\n",
    "    \"\"\"The total score for this honeycomb.\"\"\"\n",
    "    return sum(word_score(w) \n",
    "               for w in wordlist if can_make(honeycomb, w))\n",
    "\n",
    "def can_make(honeycomb, word) -> bool:\n",
    "    \"\"\"Can the honeycomb make this word?\"\"\"\n",
    "    return honeycomb.center in word and all(L in honeycomb.letters for L in word)"
   ]
  },
  {
   "cell_type": "code",
   "execution_count": 8,
   "metadata": {},
   "outputs": [
    {
     "data": {
      "text/plain": [
       "24"
      ]
     },
     "execution_count": 8,
     "metadata": {},
     "output_type": "execute_result"
    }
   ],
   "source": [
    "game_score(hc, mini)"
   ]
  },
  {
   "cell_type": "code",
   "execution_count": 9,
   "metadata": {},
   "outputs": [
    {
     "data": {
      "text/plain": [
       "{'GAME': 1, 'AMALGAM': 7, 'GLAM': 1, 'MEGAPLEX': 15}"
      ]
     },
     "execution_count": 9,
     "metadata": {},
     "output_type": "execute_result"
    }
   ],
   "source": [
    "{w: word_score(w) for w in mini if can_make(hc, w)}"
   ]
  },
  {
   "cell_type": "markdown",
   "metadata": {},
   "source": [
    "# Step 3: Best Honeycomb\n",
    "\n",
    "Now that we can compute the game score of a honeycomb, a strategy for finding the best honeycomb is:\n",
    " - Compile a list of valid candidate honeycombs.\n",
    " - For each one, compute the game score.\n",
    " - Return the one with the highest game score."
   ]
  },
  {
   "cell_type": "code",
   "execution_count": 10,
   "metadata": {},
   "outputs": [],
   "source": [
    "def best_honeycomb(words) -> Honeycomb: \n",
    "    \"\"\"Return a honeycomb with highest game score on these words.\"\"\"\n",
    "    return max(valid_honeycombs(words), \n",
    "               key=lambda h: game_score(h, words))"
   ]
  },
  {
   "cell_type": "markdown",
   "metadata": {},
   "source": [
    "What are the possible candidate honeycombs? We can put any letter in the center, then any 6 letters around the outside (order doesn't matter); since the letter 'S' is not allowed, this gives a total of 25 × (24 choose 6) = 3,364,900 possible honeycombs. \n",
    "\n",
    "However, a key constraint of the game is that a valid honeycomb **must make at least one pangram**.  That means that a valid honeycomb must ***be*** the set of seven letters in a pangram (with any of the seven letters as the center). There should be fewer than 3,364,900 of these."
   ]
  },
  {
   "cell_type": "code",
   "execution_count": 11,
   "metadata": {},
   "outputs": [],
   "source": [
    "def valid_honeycombs(words) -> List[Honeycomb]:\n",
    "    \"\"\"Valid Honeycombs are the pangram lettersets, with any center.\"\"\"\n",
    "    pangram_lettersets = {letterset(w) for w in words if pangram_bonus(w)}\n",
    "    return [Honeycomb(letters, center) \n",
    "            for letters in pangram_lettersets \n",
    "            for center in letters]"
   ]
  },
  {
   "cell_type": "markdown",
   "metadata": {},
   "source": [
    "I will represent a **set of letters** as a sorted string of distinct letters. Why not a Python `set` (or `frozenset` to be hashable)? Because a string takes up less space in memory, and its printed representation is  easier to read when debugging. Compare:\n",
    "- `frozenset({'A', 'E', 'G', 'L', 'M', 'P', 'X'})`\n",
    "- `'AEGLMPX'`\n",
    "\n",
    "I'll use the name `letterset` for the function that converts a word to a set of letters, and `Letterset` for the resulting type:"
   ]
  },
  {
   "cell_type": "code",
   "execution_count": 12,
   "metadata": {},
   "outputs": [],
   "source": [
    "Letterset = str # Type for a set of letters, like \"AGLM\"\n",
    "\n",
    "def letterset(word) -> Letterset:\n",
    "    \"\"\"The set of letters in a word, represented as a sorted str.\"\"\"\n",
    "    return ''.join(sorted(set(word)))"
   ]
  },
  {
   "cell_type": "code",
   "execution_count": 13,
   "metadata": {},
   "outputs": [
    {
     "data": {
      "text/plain": [
       "{'GAME': 'AEGM',\n",
       " 'AMALGAM': 'AGLM',\n",
       " 'GLAM': 'AGLM',\n",
       " 'MEGAPLEX': 'AEGLMPX',\n",
       " 'CACCIATORE': 'ACEIORT',\n",
       " 'EROTICA': 'ACEIORT'}"
      ]
     },
     "execution_count": 13,
     "metadata": {},
     "output_type": "execute_result"
    }
   ],
   "source": [
    "{w: letterset(w) for w in mini}"
   ]
  },
  {
   "cell_type": "markdown",
   "metadata": {},
   "source": [
    "Note that 'AMALGAM' and 'GLAM' have the same letterset, as do 'CACCIATORE' and 'EROTICA'."
   ]
  },
  {
   "cell_type": "code",
   "execution_count": 14,
   "metadata": {},
   "outputs": [
    {
     "data": {
      "text/plain": [
       "[Honeycomb(letters='ACEIORT', center='A'),\n",
       " Honeycomb(letters='ACEIORT', center='C'),\n",
       " Honeycomb(letters='ACEIORT', center='E'),\n",
       " Honeycomb(letters='ACEIORT', center='I'),\n",
       " Honeycomb(letters='ACEIORT', center='O'),\n",
       " Honeycomb(letters='ACEIORT', center='R'),\n",
       " Honeycomb(letters='ACEIORT', center='T'),\n",
       " Honeycomb(letters='AEGLMPX', center='A'),\n",
       " Honeycomb(letters='AEGLMPX', center='E'),\n",
       " Honeycomb(letters='AEGLMPX', center='G'),\n",
       " Honeycomb(letters='AEGLMPX', center='L'),\n",
       " Honeycomb(letters='AEGLMPX', center='M'),\n",
       " Honeycomb(letters='AEGLMPX', center='P'),\n",
       " Honeycomb(letters='AEGLMPX', center='X')]"
      ]
     },
     "execution_count": 14,
     "metadata": {},
     "output_type": "execute_result"
    }
   ],
   "source": [
    "valid_honeycombs(mini)"
   ]
  },
  {
   "cell_type": "code",
   "execution_count": 15,
   "metadata": {},
   "outputs": [
    {
     "data": {
      "text/plain": [
       "Honeycomb(letters='ACEIORT', center='A')"
      ]
     },
     "execution_count": 15,
     "metadata": {},
     "output_type": "execute_result"
    }
   ],
   "source": [
    "best_honeycomb(mini)"
   ]
  },
  {
   "cell_type": "markdown",
   "metadata": {},
   "source": [
    "**We're done!** We know how to find the best honeycomb. But so far, we've only done it  for the mini word list. \n",
    "\n",
    "# Step 4: The enable1 Word List\n",
    "\n",
    "Here's the real word list, `enable1.txt`, and some counts derived from it:"
   ]
  },
  {
   "cell_type": "code",
   "execution_count": 16,
   "metadata": {},
   "outputs": [
    {
     "name": "stdout",
     "output_type": "stream",
     "text": [
      "  172820 enable1.txt\r\n"
     ]
    }
   ],
   "source": [
    "! [ -e enable1.txt ] || curl -O http://norvig.com/ngrams/enable1.txt\n",
    "! wc -w enable1.txt"
   ]
  },
  {
   "cell_type": "code",
   "execution_count": 17,
   "metadata": {},
   "outputs": [
    {
     "data": {
      "text/plain": [
       "44585"
      ]
     },
     "execution_count": 17,
     "metadata": {},
     "output_type": "execute_result"
    }
   ],
   "source": [
    "enable1 = valid_words(open('enable1.txt').read())\n",
    "len(enable1)"
   ]
  },
  {
   "cell_type": "code",
   "execution_count": 18,
   "metadata": {},
   "outputs": [
    {
     "data": {
      "text/plain": [
       "14741"
      ]
     },
     "execution_count": 18,
     "metadata": {},
     "output_type": "execute_result"
    }
   ],
   "source": [
    "pangrams = [w for w in enable1 if pangram_bonus(w)]\n",
    "len(pangrams)"
   ]
  },
  {
   "cell_type": "code",
   "execution_count": 19,
   "metadata": {},
   "outputs": [
    {
     "data": {
      "text/plain": [
       "7986"
      ]
     },
     "execution_count": 19,
     "metadata": {},
     "output_type": "execute_result"
    }
   ],
   "source": [
    "len({letterset(w) for w in pangrams}) # pangram lettersets"
   ]
  },
  {
   "cell_type": "code",
   "execution_count": 20,
   "metadata": {},
   "outputs": [
    {
     "data": {
      "text/plain": [
       "55902"
      ]
     },
     "execution_count": 20,
     "metadata": {},
     "output_type": "execute_result"
    }
   ],
   "source": [
    "len(valid_honeycombs(enable1))"
   ]
  },
  {
   "cell_type": "markdown",
   "metadata": {},
   "source": [
    "To summarize, there are:\n",
    "\n",
    "- 172,820 words in the `enable1` word list\n",
    "- 44,585 valid Spelling Bee words\n",
    "- 14,741 pangram words \n",
    "- 7,986 distinct pangram lettersets\n",
    "- 55,902 (7 × 7,986) valid pangram-containing honeycombs\n",
    "- 3,364,900 possible honeycombs (most of which can't make a panagram and thus are invalid)\n",
    "\n",
    "How long will it take to run `best_honeycomb(enable1)`? Most of the computation time is in `game_score` (each call has to look at all 44,585 valid words), so let's estimate the total time by first checking how long it takes to compute the game score of a single honeycomb:"
   ]
  },
  {
   "cell_type": "code",
   "execution_count": 21,
   "metadata": {},
   "outputs": [
    {
     "name": "stdout",
     "output_type": "stream",
     "text": [
      "8.7 ms ± 96.3 µs per loop (mean ± std. dev. of 7 runs, 100 loops each)\n"
     ]
    }
   ],
   "source": [
    "%timeit game_score(hc, enable1)"
   ]
  },
  {
   "cell_type": "markdown",
   "metadata": {},
   "source": [
    "Roughly 9 milliseconds on my computer (this may vary). How many seconds would it be to run `game_score` for all 55,902 valid honeycombs?"
   ]
  },
  {
   "cell_type": "code",
   "execution_count": 22,
   "metadata": {},
   "outputs": [
    {
     "data": {
      "text/plain": [
       "503.118"
      ]
     },
     "execution_count": 22,
     "metadata": {},
     "output_type": "execute_result"
    }
   ],
   "source": [
    "55902 * 9/1000"
   ]
  },
  {
   "cell_type": "markdown",
   "metadata": {},
   "source": [
    "About 500 seconds, or 8 minutes. I could run `best_honeycomb(enable1)`, go take a coffee break, and come back to see the solution and declare victory. But I think that a puzzle like this deserves a more elegant solution. I'd like to get the run time under a minute (as is suggested in [Project Euler](https://projecteuler.net/)), and I have an idea how to do it. (*Note:* I should point out that [William Shunn](https://www.shunn.net/about.html) has a list of [58,838 pangrams](https://www.shunn.net/bee/pangrams.html) that form 20,597 distinct pangram lettersets, so it would take more than twice as long with his dictionary. However, we don't know what dictionary the NY Times is using, so we don't know what words would be accepted.)\n",
    "\n",
    "# Step 5: Faster Algorithm: Points Table\n",
    "\n",
    "Here's my plan for a more efficient program:\n",
    "\n",
    "1. Keep the same strategy of trying every pangram letterset, but do some precomputation that will make `game_score` much faster.\n",
    "1. The precomputation is: compute the `letterset` and `word_score` for each word, and make a table of `{letterset: total_points}` giving the total number of word score points for all the words that correspond to each letterset. I call this a **points table**.\n",
    "3. These calculations are independent of the honeycomb, so they need be done only once, not 55,902  times. \n",
    "4. `game_score2` takes a honeycomb and a points table as input. The idea is that every word that the honeycomb can make must have a letterset that is the same as a valid **letter subset** of the honeycomb. A valid letter subset must include the center letter, and it may or may not include each of the other 6 letters, so there are exactly $2^6 = 64$ valid letter subsets. The function `letter_subsets(honeycomb)` computes these.\n",
    "The result of `game_score2` is the sum of the honeycomb's 64 letter subset entries in the points table.\n",
    "\n",
    "That means that in `game_score2` we no longer need to iterate over 44,585 words and check if each word is a subset of the honeycomb. Instead we iterate over the 64 subsets of the honeycomb and for each one check&mdash;in one table lookup&mdash;whether it is a word (or more than word) and how many total points those word(s) score.  Since 64 is less than 44,585, that's a nice optimization!\n",
    "\n",
    "\n",
    "Here's the code:"
   ]
  },
  {
   "cell_type": "code",
   "execution_count": 23,
   "metadata": {},
   "outputs": [],
   "source": [
    "PointsTable = Dict[Letterset, int] # How many points does a letterset score?\n",
    "\n",
    "def best_honeycomb(words) -> Honeycomb: \n",
    "    \"\"\"Return a honeycomb with highest game score on these words.\"\"\"\n",
    "    points_table = tabulate_points(words)\n",
    "    honeycombs = (Honeycomb(letters, center) \n",
    "                  for letters in points_table if len(letters) == 7 \n",
    "                  for center in letters)\n",
    "    return max(honeycombs, key=lambda h: game_score2(h, points_table))\n",
    "\n",
    "def tabulate_points(words) -> PointsTable:\n",
    "    \"\"\"Return a Counter of {letterset: points} from words.\"\"\"\n",
    "    table = Counter()\n",
    "    for w in words:\n",
    "        table[letterset(w)] += word_score(w)\n",
    "    return table\n",
    "\n",
    "def letter_subsets(honeycomb) -> List[Letterset]:\n",
    "    \"\"\"The 64 subsets of the letters in the honeycomb, each including the center letter.\"\"\"\n",
    "    return [letters \n",
    "            for n in range(1, 8) \n",
    "            for letters in map(''.join, combinations(honeycomb.letters, n))\n",
    "            if honeycomb.center in letters]\n",
    "\n",
    "def game_score2(honeycomb, points_table) -> int:\n",
    "    \"\"\"The total score for this honeycomb, using a points table.\"\"\"\n",
    "    return sum(points_table[letterset] for letterset in letter_subsets(honeycomb))"
   ]
  },
  {
   "cell_type": "markdown",
   "metadata": {},
   "source": [
    "Let's get a feel for how this works. \n",
    "\n",
    "First consider `letter_subsets`. A 4-letter honeycomb makes $2^3 = 8$ subsets; 7-letter honeycombs make $2^6 = 64$ subsets:"
   ]
  },
  {
   "cell_type": "code",
   "execution_count": 24,
   "metadata": {},
   "outputs": [
    {
     "data": {
      "text/plain": [
       "['G', 'GL', 'GA', 'GM', 'GLA', 'GLM', 'GAM', 'GLAM']"
      ]
     },
     "execution_count": 24,
     "metadata": {},
     "output_type": "execute_result"
    }
   ],
   "source": [
    "letter_subsets(Honeycomb('GLAM', 'G')) "
   ]
  },
  {
   "cell_type": "markdown",
   "metadata": {},
   "source": [
    "Now `tabulate_points`:"
   ]
  },
  {
   "cell_type": "code",
   "execution_count": 25,
   "metadata": {},
   "outputs": [
    {
     "name": "stdout",
     "output_type": "stream",
     "text": [
      "mini = ['GAME', 'AMALGAM', 'GLAM', 'MEGAPLEX', 'CACCIATORE', 'EROTICA']\n"
     ]
    },
    {
     "data": {
      "text/plain": [
       "Counter({'AEGM': 1, 'AGLM': 8, 'AEGLMPX': 15, 'ACEIORT': 31})"
      ]
     },
     "execution_count": 25,
     "metadata": {},
     "output_type": "execute_result"
    }
   ],
   "source": [
    "print('mini =', mini)\n",
    "tabulate_points(mini)"
   ]
  },
  {
   "cell_type": "markdown",
   "metadata": {},
   "source": [
    "The letterset `'AGLM'` gets 8 points, 7 for AMALGAM and 1 for GLAM.  `'ACEIORT'` gets 31 points, 17 for CACCIATORE and 14 for EROTICA. The other lettersets represent one word each. \n",
    "\n",
    "Let's make sure we haven't broken the  `best_honeycomb` function:"
   ]
  },
  {
   "cell_type": "code",
   "execution_count": 26,
   "metadata": {},
   "outputs": [],
   "source": [
    "assert best_honeycomb(mini) == Honeycomb('ACEIORT', 'A')"
   ]
  },
  {
   "cell_type": "markdown",
   "metadata": {},
   "source": [
    "# Step 6: The Solution"
   ]
  },
  {
   "cell_type": "markdown",
   "metadata": {},
   "source": [
    "Finally, the solution to the puzzle:"
   ]
  },
  {
   "cell_type": "code",
   "execution_count": 27,
   "metadata": {},
   "outputs": [
    {
     "name": "stdout",
     "output_type": "stream",
     "text": [
      "CPU times: user 1.65 s, sys: 2.19 ms, total: 1.65 s\n",
      "Wall time: 1.65 s\n"
     ]
    }
   ],
   "source": [
    "%time best = best_honeycomb(enable1)"
   ]
  },
  {
   "cell_type": "code",
   "execution_count": 28,
   "metadata": {},
   "outputs": [
    {
     "data": {
      "text/plain": [
       "(Honeycomb(letters='AEGINRT', center='R'), 3898)"
      ]
     },
     "execution_count": 28,
     "metadata": {},
     "output_type": "execute_result"
    }
   ],
   "source": [
    "best, game_score(best, enable1)"
   ]
  },
  {
   "cell_type": "markdown",
   "metadata": {},
   "source": [
    "**Wow! 3898 is a high score!** \n",
    "\n",
    "And it took **less than 2 seconds** of computation to find the best honeycomb!\n",
    "\n",
    "Where does the time go? There's the initial time to do `tabulate_points` once, and then calls to `game_score2` for each candidate honeycomb: "
   ]
  },
  {
   "cell_type": "code",
   "execution_count": 29,
   "metadata": {},
   "outputs": [
    {
     "name": "stdout",
     "output_type": "stream",
     "text": [
      "CPU times: user 66.1 ms, sys: 852 µs, total: 66.9 ms\n",
      "Wall time: 66.2 ms\n"
     ]
    }
   ],
   "source": [
    "%time points_table = tabulate_points(enable1)"
   ]
  },
  {
   "cell_type": "code",
   "execution_count": 30,
   "metadata": {},
   "outputs": [
    {
     "name": "stdout",
     "output_type": "stream",
     "text": [
      "25.6 µs ± 149 ns per loop (mean ± std. dev. of 7 runs, 10000 loops each)\n"
     ]
    }
   ],
   "source": [
    "%timeit game_score2(Honeycomb('AEGINRT', 'R'), points_table)"
   ]
  },
  {
   "cell_type": "markdown",
   "metadata": {},
   "source": [
    "# Step 7: Even Faster Algorithm: Branch and Bound\n",
    "\n",
    "A run time of less than 2 seconds is pretty good! But I'm not ready to stop now.\n",
    "\n",
    "Consider the word 'EQUIVOKE'. It is a pangram, but what with the 'Q' and 'V' and 'K', it is not a high-scoring honeycomb, regardless of what center is used:"
   ]
  },
  {
   "cell_type": "code",
   "execution_count": 31,
   "metadata": {},
   "outputs": [
    {
     "data": {
      "text/plain": [
       "{'E': 48, 'I': 32, 'K': 34, 'O': 36, 'Q': 29, 'U': 29, 'V': 35}"
      ]
     },
     "execution_count": 31,
     "metadata": {},
     "output_type": "execute_result"
    }
   ],
   "source": [
    "letters = letterset('EQUIVOKE')\n",
    "{C: game_score(Honeycomb(letters, C), enable1) for C in letters}"
   ]
  },
  {
   "cell_type": "markdown",
   "metadata": {},
   "source": [
    "It would be great if we could eliminate all seven of these honeycombs at once, rather than trying each one in turn. So my idea is to:\n",
    "- Keep track of the best honeycomb and best score found so far.\n",
    "- For each new pangram letterset, ask \"if we weren't required to use the center letter, would this letterset score higher than the best honeycomb so far?\" \n",
    "- If yes, then try it with all seven centers; if not then discard it immediately.\n",
    "- This is called a [**branch and bound**](https://en.wikipedia.org/wiki/Branch_and_bound) algorithm: if an **upper bound** of the new letterset's score can't beat the best honeycomb so far, then we prune a whole **branch** of the search tree consisting of the seven honeycombs that have that letterset.\n",
    "\n",
    "What would the score of a letterset be if we weren't required to use the center letter? It turns out I can make a dummy Honeycomb and specify the empty string for the center, `Honeycomb(letters, '')`, and call `game_score2` on that. This works because of a quirk of Python: we ask if `honeycomb.center in letters`; normally in Python the expression `x in y` means \"is `x` a member of the collection `y`\", but when `y` is a string it means \"is `x` a substring of `y`\", and the empty string is a substring of every string. (If I had represented a letterset as a Python `set`, this wouldn't work.)\n",
    "\n",
    "Thus, I can rewrite `best_honeycomb` as follows:"
   ]
  },
  {
   "cell_type": "code",
   "execution_count": 32,
   "metadata": {},
   "outputs": [],
   "source": [
    "def best_honeycomb2(words) -> Honeycomb: \n",
    "    \"\"\"Return a honeycomb with highest game score on these words.\"\"\"\n",
    "    points_table = tabulate_points(words)\n",
    "    best, best_score = None, 0\n",
    "    pangrams = (s for s in points_table if len(s) == 7)\n",
    "    for p in pangrams:\n",
    "        if game_score2(Honeycomb(p, ''), points_table) > best_score:\n",
    "            for center in p:\n",
    "                honeycomb = Honeycomb(p, center)\n",
    "                score = game_score2(honeycomb, points_table)\n",
    "                if score > best_score:\n",
    "                    best, best_score = honeycomb, score\n",
    "    return best"
   ]
  },
  {
   "cell_type": "code",
   "execution_count": 33,
   "metadata": {},
   "outputs": [
    {
     "name": "stdout",
     "output_type": "stream",
     "text": [
      "CPU times: user 373 ms, sys: 1.32 ms, total: 374 ms\n",
      "Wall time: 374 ms\n"
     ]
    },
    {
     "data": {
      "text/plain": [
       "Honeycomb(letters='AEGINRT', center='R')"
      ]
     },
     "execution_count": 33,
     "metadata": {},
     "output_type": "execute_result"
    }
   ],
   "source": [
    "%time best_honeycomb2(enable1)"
   ]
  },
  {
   "cell_type": "markdown",
   "metadata": {},
   "source": [
    "Same honeycomb for the answer, but four times faster–less than 0.4 second.\n",
    "\n",
    "# Step 8: Curiosity\n",
    "\n",
    "I'm curious about a bunch of things.\n",
    "\n",
    "### What's the highest-scoring individual word?"
   ]
  },
  {
   "cell_type": "code",
   "execution_count": 34,
   "metadata": {},
   "outputs": [
    {
     "data": {
      "text/plain": [
       "'ANTITOTALITARIAN'"
      ]
     },
     "execution_count": 34,
     "metadata": {},
     "output_type": "execute_result"
    }
   ],
   "source": [
    "max(enable1, key=word_score)"
   ]
  },
  {
   "cell_type": "markdown",
   "metadata": {},
   "source": [
    "### What are some of the pangrams?"
   ]
  },
  {
   "cell_type": "code",
   "execution_count": 35,
   "metadata": {},
   "outputs": [
    {
     "data": {
      "text/plain": [
       "['AARDWOLF',\n",
       " 'ANCIENTER',\n",
       " 'BABBLEMENT',\n",
       " 'BIVARIATE',\n",
       " 'CABEZON',\n",
       " 'CHEERFUL',\n",
       " 'COLLOGUING',\n",
       " 'CRANKLE',\n",
       " 'DEMERGERING',\n",
       " 'DWELLING',\n",
       " 'ETYMOLOGY',\n",
       " 'FLATTING',\n",
       " 'GARROTTING',\n",
       " 'HANDIER',\n",
       " 'IDENTIFY',\n",
       " 'INTERVIEWER',\n",
       " 'LARVICIDAL',\n",
       " 'MANDRAGORA',\n",
       " 'MORTGAGEE',\n",
       " 'NOTABLE',\n",
       " 'OVERHELD',\n",
       " 'PERONEAL',\n",
       " 'PRAWNED',\n",
       " 'QUILTER',\n",
       " 'REINITIATED',\n",
       " 'TABLEFUL',\n",
       " 'TOWHEAD',\n",
       " 'UNCHURCHLY',\n",
       " 'UTOPIAN',\n",
       " 'WINDAGE']"
      ]
     },
     "execution_count": 35,
     "metadata": {},
     "output_type": "execute_result"
    }
   ],
   "source": [
    "pangrams[::500] # Every five-hundreth pangram"
   ]
  },
  {
   "cell_type": "markdown",
   "metadata": {},
   "source": [
    "### What's the breakdown of reasons why words are invalid?"
   ]
  },
  {
   "cell_type": "code",
   "execution_count": 36,
   "metadata": {},
   "outputs": [
    {
     "data": {
      "text/plain": [
       "[('too many distinct letters', 73611),\n",
       " ('contains an S', 53556),\n",
       " ('valid', 44585),\n",
       " ('too short', 1068)]"
      ]
     },
     "execution_count": 36,
     "metadata": {},
     "output_type": "execute_result"
    }
   ],
   "source": [
    "def common(items): return Counter(items).most_common()\n",
    "\n",
    "common('too short'   if len(w) < 4 else \n",
    "       'too many distinct letters'   if len(set(w)) > 7 else \n",
    "       'contains an S' if 'S' in w else\n",
    "       'valid'\n",
    "       for w in valid_words(open('enable1.txt').read(), lambda w: True))"
   ]
  },
  {
   "cell_type": "markdown",
   "metadata": {},
   "source": [
    "There are more words with an 'S' than there are valid words.\n",
    "\n",
    "### About the points table: How many different letter subsets are there? "
   ]
  },
  {
   "cell_type": "code",
   "execution_count": 37,
   "metadata": {},
   "outputs": [
    {
     "data": {
      "text/plain": [
       "21661"
      ]
     },
     "execution_count": 37,
     "metadata": {},
     "output_type": "execute_result"
    }
   ],
   "source": [
    "pts = tabulate_points(enable1)\n",
    "len(pts)"
   ]
  },
  {
   "cell_type": "markdown",
   "metadata": {},
   "source": [
    "That means there's about two valid words for each letterset.\n",
    "\n",
    "### Which letter subsets score the most?"
   ]
  },
  {
   "cell_type": "code",
   "execution_count": 38,
   "metadata": {},
   "outputs": [
    {
     "data": {
      "text/plain": [
       "[('AEGINRT', 832),\n",
       " ('ADEGINR', 486),\n",
       " ('ACILNOT', 470),\n",
       " ('ACEINRT', 465),\n",
       " ('CEINORT', 398),\n",
       " ('AEGILNT', 392),\n",
       " ('AGINORT', 380),\n",
       " ('ADEINRT', 318),\n",
       " ('CENORTU', 318),\n",
       " ('ACDEIRT', 307)]"
      ]
     },
     "execution_count": 38,
     "metadata": {},
     "output_type": "execute_result"
    }
   ],
   "source": [
    "pts.most_common(10)"
   ]
  },
  {
   "cell_type": "markdown",
   "metadata": {},
   "source": [
    "The best honeycomb, `'AEGINRT'`, is also the highest scoring letter subset on its own (although it only gets 832 of the 3,898 total points from using all seven letters)."
   ]
  },
  {
   "cell_type": "markdown",
   "metadata": {},
   "source": [
    "### How many honeycombs does `best_honeycomb2` consider?\n",
    "\n",
    "We know that `best_honeycomb` considers 7,986 × 7 = 55,902 honeycombs. How many does `best_honeycomb2` consider? We can answer that by wrapping `Honeycomb` with a decorator that counts calls:"
   ]
  },
  {
   "cell_type": "code",
   "execution_count": 39,
   "metadata": {},
   "outputs": [
    {
     "data": {
      "text/plain": [
       "8084"
      ]
     },
     "execution_count": 39,
     "metadata": {},
     "output_type": "execute_result"
    }
   ],
   "source": [
    "def call_counter(fn):\n",
    "    \"Return a function that calls fn, and increments a counter on each call.\"\n",
    "    def wrapped(*args, **kwds):\n",
    "        wrapped.call_counter += 1\n",
    "        return fn(*args, **kwds)\n",
    "    wrapped.call_counter = 0\n",
    "    return wrapped\n",
    "    \n",
    "Honeycomb = call_counter(Honeycomb)\n",
    "\n",
    "best = best_honeycomb2(enable1)\n",
    "Honeycomb.call_counter"
   ]
  },
  {
   "cell_type": "markdown",
   "metadata": {},
   "source": [
    "Only 8,084 honeycombs are considered. That means that most pangrams are only considered once; for only 14 pangrams do we consider all seven centers."
   ]
  },
  {
   "cell_type": "code",
   "execution_count": 40,
   "metadata": {},
   "outputs": [
    {
     "data": {
      "text/plain": [
       "14.0"
      ]
     },
     "execution_count": 40,
     "metadata": {},
     "output_type": "execute_result"
    }
   ],
   "source": [
    "(8084 - 7986) / 7"
   ]
  },
  {
   "cell_type": "markdown",
   "metadata": {},
   "source": [
    "# Step 9: Fancy Report\n",
    "\n",
    "I'd like to see the actual words that each honeycomb can make, in addition to the total score, and I'm curious about how the words are divided up by letterset. Here's a function to provide such a report. I remembered that there is a `fill` function in Python (it is in the `textwrap` module) but this turned out to be a lot more complicated than I expected. I guess it is difficult to create a practical extraction and reporting tool. I feel you, [Larry Wall](http://www.wall.org/~larry/)."
   ]
  },
  {
   "cell_type": "code",
   "execution_count": 41,
   "metadata": {},
   "outputs": [],
   "source": [
    "from textwrap import fill\n",
    "\n",
    "def report(honeycomb=None, words=enable1):\n",
    "    \"\"\"Print stats, words, and word scores for the given honeycomb (or the best\n",
    "    honeycomb if no honeycomb is given) over the given word list.\"\"\"\n",
    "    bins    = group_by(words, letterset)\n",
    "    adj     = (\"Best \" if honeycomb is None else \"\")\n",
    "    honeycomb = honeycomb or best_honeycomb(words)\n",
    "    points  = game_score(honeycomb, words)\n",
    "    subsets = letter_subsets(honeycomb)\n",
    "    nwords  = sum(len(bins[s]) for s in subsets)\n",
    "    print(f'{adj}{honeycomb} scores {Ns(points, \"point\")} on {Ns(nwords, \"word\")}',\n",
    "          f'from a {len(words)} word list:\\n')\n",
    "    for s in sorted(subsets, key=lambda s: (-len(s), s)):\n",
    "        if bins[s]:\n",
    "            pts = sum(word_score(w) for w in bins[s])\n",
    "            wcount = Ns(len(bins[s]), \"pangram\" if len(s) == 7 else \"word\")\n",
    "            intro = f'{s:>7} {Ns(pts, \"point\"):>10} {wcount:>8} '\n",
    "            words = [f'{w}({word_score(w)})' for w in sorted(bins[s])]\n",
    "            print(fill(' '.join(words), width=110, \n",
    "                       initial_indent=intro, subsequent_indent=' '*8))\n",
    "            \n",
    "def Ns(n, noun):\n",
    "    \"\"\"A string with `n` followed by the plural or singular of noun:\n",
    "    Ns(3, 'bear') => '3 bears'; Ns(1, 'world') => '1 world'\"\"\"  \n",
    "    return f\"{n:d} {noun}{' ' if n == 1 else 's'}\"\n",
    "\n",
    "def group_by(items, key):\n",
    "    \"Group items into bins of a dict, each bin keyed by key(item).\"\n",
    "    bins = defaultdict(list)\n",
    "    for item in items:\n",
    "        bins[key(item)].append(item)\n",
    "    return bins"
   ]
  },
  {
   "cell_type": "code",
   "execution_count": 42,
   "metadata": {},
   "outputs": [
    {
     "name": "stdout",
     "output_type": "stream",
     "text": [
      "Honeycomb(letters='AEGLMPX', center='G') scores 24 points on 4 words from a 6 word list:\n",
      "\n",
      "AEGLMPX  15 points 1 pangram  MEGAPLEX(15)\n",
      "   AEGM   1 point   1 word  GAME(1)\n",
      "   AGLM   8 points  2 words AMALGAM(7) GLAM(1)\n"
     ]
    }
   ],
   "source": [
    "report(hc, mini)"
   ]
  },
  {
   "cell_type": "code",
   "execution_count": 43,
   "metadata": {
    "scrolled": false
   },
   "outputs": [
    {
     "name": "stdout",
     "output_type": "stream",
     "text": [
      "Best Honeycomb(letters='AEGINRT', center='R') scores 3898 points on 537 words from a 44585 word list:\n",
      "\n",
      "AEGINRT 832 points 50 pangrams AERATING(15) AGGREGATING(18) ARGENTINE(16) ARGENTITE(16) ENTERTAINING(19)\n",
      "        ENTRAINING(17) ENTREATING(17) GARNIERITE(17) GARTERING(16) GENERATING(17) GNATTIER(15) GRANITE(14)\n",
      "        GRATINE(14) GRATINEE(15) GRATINEEING(18) GREATENING(17) INGRATE(14) INGRATIATE(17) INTEGRATE(16)\n",
      "        INTEGRATING(18) INTENERATING(19) INTERAGE(15) INTERGANG(16) INTERREGNA(17) INTREATING(17)\n",
      "        ITERATING(16) ITINERATING(18) NATTERING(16) RATTENING(16) REAGGREGATING(20) REATTAINING(18)\n",
      "        REGENERATING(19) REGRANTING(17) REGRATING(16) REINITIATING(19) REINTEGRATE(18) REINTEGRATING(20)\n",
      "        REITERATING(18) RETAGGING(16) RETAINING(16) RETARGETING(18) RETEARING(16) RETRAINING(17)\n",
      "        RETREATING(17) TANGERINE(16) TANGIER(14) TARGETING(16) TATTERING(16) TEARING(14) TREATING(15)\n",
      " AEGINR 270 points 35 words AGINNER(7) AGREEING(8) ANEARING(8) ANERGIA(7) ANGERING(8) ANGRIER(7) ARGININE(8)\n",
      "        EARING(6) EARNING(7) EARRING(7) ENGRAIN(7) ENGRAINING(10) ENRAGING(8) GAINER(6) GANGRENING(10)\n",
      "        GARNERING(9) GEARING(7) GRAINER(7) GRAINIER(8) GRANNIE(7) GREGARINE(9) NAGGIER(7) NEARING(7)\n",
      "        RANGIER(7) REAGIN(6) REARING(7) REARRANGING(11) REEARNING(9) REENGAGING(10) REGAIN(6) REGAINER(8)\n",
      "        REGAINING(9) REGEARING(9) REGINA(6) REGINAE(7)\n",
      " AEGIRT  34 points  5 words AIGRET(6) AIGRETTE(8) GAITER(6) IRRIGATE(8) TRIAGE(6)\n",
      " AEGNRT  94 points 13 words ARGENT(6) GARNET(6) GENERATE(8) GRANTEE(7) GRANTER(7) GREATEN(7) NEGATER(7)\n",
      "        REAGENT(7) REGENERATE(10) REGNANT(7) REGRANT(7) TANAGER(7) TEENAGER(8)\n",
      " AEINRT 232 points 30 words ARENITE(7) ATTAINER(8) ENTERTAIN(9) ENTERTAINER(11) ENTRAIN(7) ENTRAINER(9)\n",
      "        INERRANT(8) INERTIA(7) INERTIAE(8) INTENERATE(10) INTREAT(7) ITERANT(7) ITINERANT(9) ITINERATE(9)\n",
      "        NATTIER(7) NITRATE(7) RATINE(6) REATTAIN(8) REINITIATE(10) RETAIN(6) RETAINER(8) RETINA(6) RETINAE(7)\n",
      "        RETIRANT(8) RETRAIN(7) TERRAIN(7) TERTIAN(7) TRAINEE(7) TRAINER(7) TRIENNIA(8)\n",
      " AGINRT 167 points 21 words AIRTING(7) ATTIRING(8) GRANITA(7) GRANTING(8) GRATIN(6) GRATING(7)\n",
      "        INGRATIATING(12) INTRIGANT(9) IRRIGATING(10) IRRITATING(10) NARRATING(9) NITRATING(9) RANTING(7)\n",
      "        RATING(6) RATTING(7) TARING(6) TARRING(7) TARTING(7) TITRATING(9) TRAINING(8) TRIAGING(8)\n",
      " EGINRT 218 points 26 words ENGIRT(6) ENTERING(8) GETTERING(9) GITTERN(7) GREETING(8) IGNITER(7) INTEGER(7)\n",
      "        INTERNING(9) INTERRING(9) REENTERING(10) REGREETING(10) REGRETTING(10) REIGNITE(8) REIGNITING(10)\n",
      "        REINTERRING(11) RENTING(7) RETINTING(9) RETIRING(8) RETTING(7) RINGENT(7) TEETERING(9) TENTERING(9)\n",
      "        TIERING(7) TITTERING(9) TREEING(7) TRIGGERING(10)\n",
      "  AEGNR 120 points 18 words ANGER(5) ARRANGE(7) ARRANGER(8) ENGAGER(7) ENRAGE(6) GANGER(6) GANGRENE(8)\n",
      "        GARNER(6) GENERA(6) GRANGE(6) GRANGER(7) GREENGAGE(9) NAGGER(6) RANGE(5) RANGER(6) REARRANGE(9)\n",
      "        REENGAGE(8) REGNA(5)\n",
      "  AEGRT 123 points 19 words AGGREGATE(9) ERGATE(6) ETAGERE(7) GARGET(6) GARRET(6) GARTER(6) GRATE(5) GRATER(6)\n",
      "        GREAT(5) GREATER(7) REAGGREGATE(11) REGATTA(7) REGRATE(7) RETAG(5) RETARGET(8) TAGGER(6) TARGE(5)\n",
      "        TARGET(6) TERGA(5)\n",
      "  AEINR  19 points  3 words INANER(6) NARINE(6) RAINIER(7)\n",
      "  AEIRT 135 points 20 words ARIETTA(7) ARIETTE(7) ARTIER(6) ATTIRE(6) ATTRITE(7) IRATE(5) IRATER(6)\n",
      "        IRRITATE(8) ITERATE(7) RATITE(6) RATTIER(7) REITERATE(9) RETIA(5) RETIARII(8) TARRIER(7) TATTIER(7)\n",
      "        TEARIER(7) TERAI(5) TERRARIA(8) TITRATE(7)\n",
      "  AENRT 132 points 19 words ANTEATER(8) ANTRE(5) ENTERA(6) ENTRANT(7) ENTREAT(7) ERRANT(6) NARRATE(7)\n",
      "        NARRATER(8) NATTER(6) NEATER(6) RANTER(6) RATTEEN(7) RATTEN(6) RATTENER(8) REENTRANT(9) RETREATANT(10)\n",
      "        TANNER(6) TERNATE(7) TERRANE(7)\n",
      "  AGINR 138 points 19 words AGRARIAN(8) AIRING(6) ANGARIA(7) ARRAIGN(7) ARRAIGNING(10) ARRANGING(9)\n",
      "        GARAGING(8) GARNI(5) GARRING(7) GNARRING(8) GRAIN(5) GRAINING(8) INGRAIN(7) INGRAINING(10) RAGGING(7)\n",
      "        RAGING(6) RAINING(7) RANGING(7) RARING(6)\n",
      "  AGIRT   5 points  1 word  TRAGI(5)\n",
      "  AGNRT   5 points  1 word  GRANT(5)\n",
      "  AINRT  64 points  9 words ANTIAIR(7) ANTIAR(6) ANTIARIN(8) INTRANT(7) IRRITANT(8) RIANT(5) TITRANT(7)\n",
      "        TRAIN(5) TRINITARIAN(11)\n",
      "  EGINR 186 points 24 words ENGINEER(8) ENGINEERING(11) ERRING(6) GINGER(6) GINGERING(9) GINNER(6) GINNIER(7)\n",
      "        GREEING(7) GREENIE(7) GREENIER(8) GREENING(8) GRINNER(7) NIGGER(6) REENGINEER(10) REENGINEERING(13)\n",
      "        REGREENING(10) REIGN(5) REIGNING(8) REINING(7) RENEGING(8) RENIG(5) RENIGGING(9) RERIGGING(9)\n",
      "        RINGER(6)\n",
      "  EGIRT  27 points  4 words GRITTIER(8) TERGITE(7) TIGER(5) TRIGGER(7)\n",
      "  EGNRT  12 points  2 words GERENT(6) REGENT(6)\n",
      "  EINRT 190 points 29 words ENTIRE(6) INERT(5) INTER(5) INTERN(6) INTERNE(7) INTERNEE(8) INTERTIE(8)\n",
      "        NETTIER(7) NITER(5) NITERIE(7) NITRE(5) NITRITE(7) NITTIER(7) REINTER(7) RENITENT(8) RENTIER(7)\n",
      "        RETINE(6) RETINENE(8) RETINITE(8) RETINT(6) TEENIER(7) TENTIER(7) TERRINE(7) TINIER(6) TINNER(6)\n",
      "        TINNIER(7) TINTER(6) TRIENE(6) TRINE(5)\n",
      "  GINRT  43 points  6 words GIRTING(7) GRITTING(8) RINGGIT(7) TIRING(6) TRIGGING(8) TRINING(7)\n",
      "   AEGR  84 points 17 words AGER(1) AGGER(5) AGREE(5) ARREARAGE(9) EAGER(5) EAGERER(7) EAGRE(5) EGGAR(5)\n",
      "        GAGER(5) GAGGER(6) GARAGE(6) GEAR(1) RAGE(1) RAGEE(5) RAGGEE(6) REGEAR(6) REGGAE(6)\n",
      "   AEIR  22 points  4 words AERIE(5) AERIER(6) AIRER(5) AIRIER(6)\n",
      "   AENR  40 points  9 words ANEAR(5) ARENA(5) EARN(1) EARNER(6) NEAR(1) NEARER(6) RANEE(5) REEARN(6) RERAN(5)\n",
      "   AERT 127 points 24 words AERATE(6) ARETE(5) EATER(5) ERRATA(6) RATE(1) RATER(5) RATTER(6) REATA(5)\n",
      "        RETEAR(6) RETREAT(7) RETREATER(9) TARE(1) TARRE(5) TARTER(6) TARTRATE(8) TATER(5) TATTER(6) TEAR(1)\n",
      "        TEARER(6) TERRA(5) TERRAE(6) TETRA(5) TREAT(5) TREATER(7)\n",
      "   AGIR   6 points  2 words AGRIA(5) RAGI(1)\n",
      "   AGNR  13 points  5 words GNAR(1) GNARR(5) GRAN(1) GRANA(5) RANG(1)\n",
      "   AGRT  13 points  3 words GRAT(1) RAGTAG(6) TAGRAG(6)\n",
      "   AINR   8 points  4 words AIRN(1) NAIRA(5) RAIN(1) RANI(1)\n",
      "   AIRT  21 points  5 words AIRT(1) ATRIA(5) RIATA(5) TIARA(5) TRAIT(5)\n",
      "   ANRT  50 points 10 words ANTRA(5) ARRANT(6) RANT(1) RATAN(5) RATTAN(6) TANTARA(7) TANTRA(6) TARN(1)\n",
      "        TARTAN(6) TARTANA(7)\n",
      "   EGIR  17 points  3 words GREIGE(6) RERIG(5) RIGGER(6)\n",
      "   EGNR  37 points  6 words GENRE(5) GREEN(5) GREENER(7) REGREEN(7) RENEGE(6) RENEGER(7)\n",
      "   EGRT  45 points  7 words EGRET(5) GETTER(6) GREET(5) GREETER(7) REGREET(7) REGRET(6) REGRETTER(9)\n",
      "   EINR  17 points  4 words INNER(5) REIN(1) RENIN(5) RENNIN(6)\n",
      "   EIRT  87 points 17 words RETIE(5) RETIRE(6) RETIREE(7) RETIRER(7) RITE(1) RITTER(6) TERRIER(7) TERRIT(6)\n",
      "        TIER(1) TIRE(1) TITER(5) TITRE(5) TITTER(6) TITTERER(8) TRIER(5) TRITE(5) TRITER(6)\n",
      "   ENRT 104 points 19 words ENTER(5) ENTERER(7) ENTREE(6) ETERNE(6) NETTER(6) REENTER(7) RENNET(6) RENT(1)\n",
      "        RENTE(5) RENTER(6) RETENE(6) TEENER(6) TENNER(6) TENTER(6) TERN(1) TERNE(5) TERREEN(7) TERRENE(7)\n",
      "        TREEN(5)\n",
      "   GINR  44 points  9 words GIRN(1) GIRNING(7) GRIN(1) GRINNING(8) IRING(5) RIGGING(7) RING(1) RINGING(7)\n",
      "        RINNING(7)\n",
      "   GIRT   3 points  3 words GIRT(1) GRIT(1) TRIG(1)\n",
      "    AER  25 points  7 words AREA(1) AREAE(5) ARREAR(6) RARE(1) RARER(5) REAR(1) REARER(6)\n",
      "    AGR   2 points  2 words AGAR(1) RAGA(1)\n",
      "    AIR   2 points  2 words ARIA(1) RAIA(1)\n",
      "    ART  24 points  5 words ATTAR(5) RATATAT(7) TART(1) TARTAR(6) TATAR(5)\n",
      "    EGR  15 points  4 words EGER(1) EGGER(5) GREE(1) GREEGREE(8)\n",
      "    EIR  11 points  2 words EERIE(5) EERIER(6)\n",
      "    ENR   1 point   1 word  ERNE(1)\n",
      "    ERT  27 points  7 words RETE(1) TEETER(6) TERETE(6) TERRET(6) TETTER(6) TREE(1) TRET(1)\n",
      "    GIR   7 points  2 words GRIG(1) GRIGRI(6)\n"
     ]
    }
   ],
   "source": [
    "report()"
   ]
  },
  {
   "cell_type": "markdown",
   "metadata": {},
   "source": [
    "# Step 10: What honeycombs have a high score without a lot of words?\n",
    "\n",
    "[Michael Braverman](https://www.linkedin.com/in/michael-braverman-2b32721/) said he dislikes puzzles with a lot of low-scoring four-letter words. Can we find succint puzzles with lots of points and fewer words? With two objectives there won't be a single best answer to this question; rather we can ask: what honeycombs are there such that there are no other honeycombs with both more points and fewer words? We say such honeycombs are  [**Pareto optimal**](https://en.wikipedia.org/wiki/Pareto_efficiency) and are on the **Pareto frontier**. We can find them as follows:"
   ]
  },
  {
   "cell_type": "code",
   "execution_count": 44,
   "metadata": {},
   "outputs": [],
   "source": [
    "def pareto_honeycombs(words) -> list: \n",
    "    \"\"\"A table of {word_count: (points, honeycomb)} with highest scoring honeycomb.\"\"\"\n",
    "    points_table = tabulate_points(words)\n",
    "    wcount_table = Counter(map(letterset, words))\n",
    "    honeycombs   = (Honeycomb(letters, center) \n",
    "                    for letters in points_table if len(letters) == 7 \n",
    "                    for center in letters)\n",
    "    # Build a table of {word_count: (points, honeycomb)}\n",
    "    table = defaultdict(lambda: (0, None)) \n",
    "    for h in honeycombs:\n",
    "        points = game_score2(h, points_table)\n",
    "        wcount = game_score2(h, wcount_table)\n",
    "        table[wcount] = max(table[wcount], (points, h))\n",
    "    return pareto_frontier(table)\n",
    "                            \n",
    "def pareto_frontier(table) -> list:\n",
    "    \"\"\"The pareto frontier that minimizes word counts while maximizing points.\n",
    "    Returns a list of (wcount, points, honeycomb, points/wcount) entries\n",
    "    such that there is no other entry that has fewer words and more points.\"\"\"\n",
    "    return sorted((w, p, h, round(p/w, 2))\n",
    "            for w, (p, h) in table.items()\n",
    "            if not any(h2 != h and w2 <= w and p2 >= p\n",
    "                       for w2, (p2, h2) in table.items()))"
   ]
  },
  {
   "cell_type": "code",
   "execution_count": 45,
   "metadata": {},
   "outputs": [
    {
     "data": {
      "text/plain": [
       "108"
      ]
     },
     "execution_count": 45,
     "metadata": {},
     "output_type": "execute_result"
    }
   ],
   "source": [
    "ph = pareto_honeycombs(enable1)\n",
    "len(ph)"
   ]
  },
  {
   "cell_type": "markdown",
   "metadata": {},
   "source": [
    "So there are 108 (out of 55,902) honeycombs on the Pareto frontier. Let's see what the frontier looks like by plotting word counts versus points scored:"
   ]
  },
  {
   "cell_type": "code",
   "execution_count": 46,
   "metadata": {},
   "outputs": [
    {
     "data": {
      "image/png": "[encoded data removed]",
      "text/plain": [
       "<Figure size 432x288 with 1 Axes>"
      ]
     },
     "metadata": {
      "needs_background": "light"
     },
     "output_type": "display_data"
    }
   ],
   "source": [
    "W, P, H, PPW = zip(*ph)\n",
    "\n",
    "def plot(xlabel, X, ylabel, Y): \n",
    "    plt.plot(X, Y, '.'); plt.xlabel(xlabel); plt.ylabel(ylabel); plt.grid(True)\n",
    "                                    \n",
    "plot('Word count', W, 'Points', P)"
   ]
  },
  {
   "cell_type": "markdown",
   "metadata": {},
   "source": [
    "That was somewhat surprising to me; usually a Pareto frontier looks like a quarter-circle; here it looks like an almost straight line. Maybe we can get a better view by plotting word counts versus the number of points per word:"
   ]
  },
  {
   "cell_type": "code",
   "execution_count": 47,
   "metadata": {},
   "outputs": [
    {
     "data": {
      "image/png": "[encoded data removed]",
      "text/plain": [
       "<Figure size 432x288 with 1 Axes>"
      ]
     },
     "metadata": {
      "needs_background": "light"
     },
     "output_type": "display_data"
    }
   ],
   "source": [
    "plot('Word count', W, 'Points per word', PPW)"
   ]
  },
  {
   "cell_type": "markdown",
   "metadata": {},
   "source": [
    "So the highest points per word are for honeycombs with very few words. We can see all the Pareto optimal honeycombs that score more than, say,  7.6 points per word:"
   ]
  },
  {
   "cell_type": "code",
   "execution_count": 48,
   "metadata": {},
   "outputs": [
    {
     "data": {
      "text/plain": [
       "[(1, 15, Honeycomb(letters='BIMNRUV', center='V'), 15.0),\n",
       " (2, 26, Honeycomb(letters='DHNORTX', center='X'), 13.0),\n",
       " (3, 31, Honeycomb(letters='CILMOQU', center='Q'), 10.33),\n",
       " (4, 32, Honeycomb(letters='BGINOUX', center='X'), 8.0),\n",
       " (5, 45, Honeycomb(letters='CEGIPTX', center='G'), 9.0),\n",
       " (6, 50, Honeycomb(letters='DELNPUZ', center='Z'), 8.33),\n",
       " (7, 62, Honeycomb(letters='BGILNOX', center='X'), 8.86),\n",
       " (8, 67, Honeycomb(letters='DGINOXZ', center='X'), 8.38),\n",
       " (9, 70, Honeycomb(letters='EFNQRTU', center='Q'), 7.78),\n",
       " (10, 84, Honeycomb(letters='CENOQRU', center='Q'), 8.4),\n",
       " (11, 86, Honeycomb(letters='GINOTUV', center='V'), 7.82),\n",
       " (12, 100, Honeycomb(letters='GILMNUZ', center='Z'), 8.33),\n",
       " (13, 108, Honeycomb(letters='GINOQTU', center='Q'), 8.31),\n",
       " (14, 113, Honeycomb(letters='CINOTXY', center='X'), 8.07),\n",
       " (15, 115, Honeycomb(letters='DGINOXZ', center='Z'), 7.67),\n",
       " (19, 157, Honeycomb(letters='DEIORXZ', center='X'), 8.26),\n",
       " (22, 172, Honeycomb(letters='DEGINPZ', center='Z'), 7.82),\n",
       " (23, 184, Honeycomb(letters='ACELQRU', center='Q'), 8.0),\n",
       " (26, 198, Honeycomb(letters='AILNOTZ', center='Z'), 7.62),\n",
       " (28, 224, Honeycomb(letters='DEGINRZ', center='Z'), 8.0),\n",
       " (45, 374, Honeycomb(letters='ACINOTV', center='V'), 8.31),\n",
       " (403, 3095, Honeycomb(letters='AEGINRT', center='G'), 7.68),\n",
       " (442, 3406, Honeycomb(letters='AEGINRT', center='I'), 7.71)]"
      ]
     },
     "execution_count": 48,
     "metadata": {},
     "output_type": "execute_result"
    }
   ],
   "source": [
    "[entry for entry in ph if entry[-1] > 7.6]"
   ]
  },
  {
   "cell_type": "markdown",
   "metadata": {},
   "source": [
    "The last two of these represent our old optimal honeycomb, with two different centers."
   ]
  },
  {
   "cell_type": "markdown",
   "metadata": {},
   "source": [
    "Here are reports on what I think are the most interesting high-score/few-words honeycombs:"
   ]
  },
  {
   "cell_type": "code",
   "execution_count": 49,
   "metadata": {},
   "outputs": [
    {
     "name": "stdout",
     "output_type": "stream",
     "text": [
      "Honeycomb(letters='CEGIPTX', center='G') scores 45 points on 5 words from a 44585 word list:\n",
      "\n",
      "CEGIPTX  17 points 1 pangram  EPEXEGETIC(17)\n",
      " CEGITX   8 points  1 word  EXEGETIC(8)\n",
      "  CEGIP   7 points  1 word  EPIGEIC(7)\n",
      "   EGIP   6 points  1 word  PIGGIE(6)\n",
      "   EGTX   7 points  1 word  EXEGETE(7)\n"
     ]
    }
   ],
   "source": [
    "report(Honeycomb('CEGIPTX', 'G'))"
   ]
  },
  {
   "cell_type": "code",
   "execution_count": 50,
   "metadata": {},
   "outputs": [
    {
     "name": "stdout",
     "output_type": "stream",
     "text": [
      "Honeycomb(letters='DEIORXZ', center='X') scores 157 points on 19 words from a 44585 word list:\n",
      "\n",
      "DEIORXZ  65 points 4 pangrams DEOXIDIZER(17) OXIDIZER(15) REOXIDIZE(16) REOXIDIZED(17)\n",
      " DEIOXZ  34 points  4 words DEOXIDIZE(9) DEOXIDIZED(10) OXIDIZE(7) OXIDIZED(8)\n",
      "  DEIOX  23 points  4 words DIOXIDE(7) DOXIE(5) EXODOI(6) OXIDE(5)\n",
      "  DEORX  12 points  2 words REDOX(5) XEROXED(7)\n",
      "   DEIX   5 points  1 word  DEXIE(5)\n",
      "   DIOX  13 points  3 words DIOXID(6) IXODID(6) OXID(1)\n",
      "   EORX   5 points  1 word  XEROX(5)\n"
     ]
    }
   ],
   "source": [
    "report(Honeycomb('DEIORXZ', 'X'))"
   ]
  },
  {
   "cell_type": "code",
   "execution_count": 51,
   "metadata": {},
   "outputs": [
    {
     "name": "stdout",
     "output_type": "stream",
     "text": [
      "Honeycomb(letters='ACINOTV', center='V') scores 374 points on 45 words from a 44585 word list:\n",
      "\n",
      "ACINOTV 171 points 10 pangrams ACTIVATION(17) AVOCATION(16) CAVITATION(17) CONVOCATION(18) INACTIVATION(19)\n",
      "        INVOCATION(17) VACATION(15) VACCINATION(18) VATICINATION(19) VOCATION(15)\n",
      " ACINOV   7 points  1 word  AVIONIC(7)\n",
      " ACINTV   8 points  1 word  CAVATINA(8)\n",
      " AINOTV  62 points  7 words AVIATION(8) INNOVATION(10) INVITATION(10) NOVATION(8) OVATION(7) TITIVATION(10)\n",
      "        VITIATION(9)\n",
      " CINOTV  17 points  2 words CONVICT(7) CONVICTION(10)\n",
      "  ACINV  20 points  3 words VACCINA(7) VACCINIA(8) VINCA(5)\n",
      "  ACITV  24 points  4 words ATAVIC(6) VATIC(5) VIATIC(6) VIATICA(7)\n",
      "  ACNTV   6 points  1 word  VACANT(6)\n",
      "  ACOTV   6 points  1 word  OCTAVO(6)\n",
      "  AINOV   5 points  1 word  AVION(5)\n",
      "  CINOV  11 points  2 words COVIN(5) OVONIC(6)\n",
      "   AINV   7 points  3 words AVIAN(5) VAIN(1) VINA(1)\n",
      "   AITV   6 points  2 words VITA(1) VITTA(5)\n",
      "   ANOV   1 point   1 word  NOVA(1)\n",
      "   ANTV   5 points  1 word  AVANT(5)\n",
      "   AOTV   6 points  1 word  OTTAVA(6)\n",
      "   CINV   5 points  1 word  VINIC(5)\n",
      "   INOV   1 point   1 word  VINO(1)\n",
      "    AIV   1 point   1 word  VIVA(1)\n",
      "    CIV   5 points  1 word  CIVIC(5)\n"
     ]
    }
   ],
   "source": [
    "report(Honeycomb('ACINOTV', 'V'))"
   ]
  },
  {
   "cell_type": "code",
   "execution_count": 52,
   "metadata": {},
   "outputs": [
    {
     "name": "stdout",
     "output_type": "stream",
     "text": [
      "Honeycomb(letters='ACINOTU', center='U') scores 385 points on 55 words from a 44585 word list:\n",
      "\n",
      "ACINOTU 162 points 10 pangrams ACTUATION(16) ANNUNCIATION(19) AUCTION(14) CAUTION(14) CONTINUA(15)\n",
      "        CONTINUANT(17) CONTINUATION(19) COUNTIAN(15) CUNCTATION(17) INCAUTION(16)\n",
      " ACINTU   6 points  1 word  TUNICA(6)\n",
      " ACNOTU  31 points  4 words ACCOUNT(7) ACCOUNTANT(10) COCOANUT(8) TOUCAN(6)\n",
      " AINOTU  17 points  2 words ANTIUNION(9) NUTATION(8)\n",
      " CINOTU  24 points  3 words CONTINUO(8) INUNCTION(9) UNCTION(7)\n",
      "  ACINU   5 points  1 word  UNCIA(5)\n",
      "  ACOTU   6 points  1 word  OUTACT(6)\n",
      "  AINTU   9 points  1 word  ANNUITANT(9)\n",
      "  CINOU  13 points  2 words INCONNU(7) NUNCIO(6)\n",
      "  CINTU  10 points  2 words CUTIN(5) TUNIC(5)\n",
      "  CNOTU  20 points  3 words COCONUT(7) COUNT(5) OUTCOUNT(8)\n",
      "  INOTU  16 points  2 words INTUITION(9) TUITION(7)\n",
      "   AINU   1 point   1 word  UNAI(1)\n",
      "   ANTU  13 points  4 words AUNT(1) NUTANT(6) TAUNT(5) TUNA(1)\n",
      "   AOTU   1 point   1 word  AUTO(1)\n",
      "   CINU   7 points  2 words UNCI(1) UNCINI(6)\n",
      "   CNOU   1 point   1 word  UNCO(1)\n",
      "   CNTU   6 points  2 words CUNT(1) UNCUT(5)\n",
      "   COTU   6 points  1 word  CUTOUT(6)\n",
      "   INOU  13 points  2 words NONUNION(8) UNION(5)\n",
      "   INTU   7 points  2 words INTUIT(6) UNIT(1)\n",
      "   NOTU   1 point   1 word  UNTO(1)\n",
      "    ANU   1 point   1 word  UNAU(1)\n",
      "    ATU   1 point   1 word  TAUT(1)\n",
      "    ITU   5 points  1 word  TUTTI(5)\n",
      "    NOU   1 point   1 word  NOUN(1)\n",
      "    OTU   1 point   1 word  TOUT(1)\n",
      "     TU   1 point   1 word  TUTU(1)\n"
     ]
    }
   ],
   "source": [
    "report(Honeycomb('ACINOTU', 'U'))"
   ]
  },
  {
   "cell_type": "markdown",
   "metadata": {},
   "source": [
    "# Step 11: NY Times Archives\n",
    "\n",
    "What do the official honeycombs in the NY Times look like?  I looked for an archive of past puzzles and found a nice [github repository](https://github.com/philshem/scrape_bee) by [Philip Shemella](https://smalldata.dev/#about), from which I extracted the following honeycombs, where the first letter is the center:"
   ]
  },
  {
   "cell_type": "code",
   "execution_count": 53,
   "metadata": {},
   "outputs": [
    {
     "data": {
      "text/plain": [
       "226"
      ]
     },
     "execution_count": 53,
     "metadata": {},
     "output_type": "execute_result"
    }
   ],
   "source": [
    "nyt_archive = '''\n",
    "ABCGILO ABGNORZ ACDIMNY ACEGHNX ACEHIMN ACINTVY ACIPTVY ACLNTVY ADEGIKN ADFLMPU ADFPRTU ADHILNR ADMOPRU AEFHLTU \n",
    "AEGHLNO AEHLPUV BACILMY BACLNOR BAELNOP BAGHINT BAILNRT BEFILNO BEFILNX BEGIKNP BILMOTY CABEILT CABJKOT CADGINR \n",
    "CADHINP CAEGHIN CAGILNW CAHIMRT CAINOTZ CAIPTVY CDEKNTU CGHINOP CHIKMNU CINOTUY DAGINPT DAGINTU DAKORWY DAMNORT \n",
    "DBILNOW DCENOVY DHILNOW DIMORTY EABCHLW EABGMTY EABKLNO EACGHLN EACNTUX EAGHIMT EAHILVY EBLOPTY ECDLMOY ECFHILY \n",
    "ECFLNOU ECHNTUY ECLMOPX ECNOPTY EDFLOUY EFGLNUV EGHILNW FAEGLOP FAELMOT GDEILTU GFHLOTU HACEMNT HACGILR HACILNR \n",
    "HACLNTU HADGILN HAELPTY HCDEIKL HDEGITW IABCFKL IABEMNT IADFLNW IADLNTW IADLPTU IAEMNTY IAFNRTY IAJMNRU IALOTVY \n",
    "ICDEFNO ICENOTV ICFNORT ICFNOTU ICGHLOR ICGLORW ICHKOPT ICLMPTY ICLNORY IDGNOXZ IEGHLOP IEHLNOT KAEGINP KCEHINT \n",
    "LABCKOW LABIMOX LACENOW LACFINU LACHINO LACIKOT LACIMOY LADFMPU LADGRUY LAEIJNV LAFMORU LAGINOZ LAHIRTY LAIRUXY \n",
    "LBCENOV LBEFINX LBEFIXY LDHINOP LDIQTUY LEHMNOT LEIPTVX LEMNOTU LENOPTU LFGHOTU LGHMOTY LGIMOXY LHIOPRW MABDINR \n",
    "MABEKNT MACILNT MADILOR MAHNOPT MAILNPT MAILORT MALNOWY MFLNORU MILPTUY NABDHKO NACDHIP NACIMTY NADFILW NADHIOT \n",
    "NALMOPR NALOPRU NBEILMT NCFIMOR NDOPRUW NMOPRTY OACELTY OADEFHN OADEGLY OADELNW OAEGHMP OAEHMNP OAGHMNY OAGILNY \n",
    "OAGLMRU OAKLMNW OBDGHUY OBDHLNU OBGHRTU OBHILRY OCDMNPU OCEHKLM OCFHINR OCFIMRU OCHIMNP OCIMPRY ODEIJNT ODFGHIT \n",
    "ODGHNRU OEGHMNY OEGIKNV OFHIRTW OFIKLRT OFINPRT OGHRTUW OHILMNT PABEILM PACDEHI PACEFTY PACINTY PADINOR PAEGHIN \n",
    "PAGHORT PAIRTUY PCELMOX PEGLOTY PELNOTY PHILORW PIMNORT RABCDKW RABCDKY RACINPT RAFHKOY RAGHOPT RCGHOUY RFLMNOU \n",
    "TACDKPR TACDLOR TACHLOP TADILVY TBCEILO TBILMOY TCNORUY TEGHNOU TGNORUW UACNORT UADFLMP UAJLNOR UBGILTY UCGILNO \n",
    "UCNORTY VABEGLT VAEGLUY WADHIRT WADKLRY WAEGIKN WCDELNO WDILORY WEGHILT YABLNOT YACEINT YADEHLT YADGHLR YADINOR \n",
    "YAEGILT YAGLMOP'''.split()\n",
    "\n",
    "len(nyt_archive)"
   ]
  },
  {
   "cell_type": "markdown",
   "metadata": {},
   "source": [
    "Spelling Bee has been online since mid-2018, so there should be around 1,000 puzzles, but the 226 in this archive is enough for my purposes. We can determine some characteristics of the past puzzles:"
   ]
  },
  {
   "cell_type": "code",
   "execution_count": 54,
   "metadata": {},
   "outputs": [
    {
     "data": {
      "text/plain": [
       "[('A', 130),\n",
       " ('L', 126),\n",
       " ('O', 126),\n",
       " ('I', 125),\n",
       " ('N', 122),\n",
       " ('T', 101),\n",
       " ('C', 84),\n",
       " ('E', 84),\n",
       " ('H', 75),\n",
       " ('R', 68),\n",
       " ('Y', 68),\n",
       " ('D', 63),\n",
       " ('G', 62),\n",
       " ('M', 62),\n",
       " ('P', 59),\n",
       " ('U', 54),\n",
       " ('B', 41),\n",
       " ('F', 38),\n",
       " ('W', 29),\n",
       " ('K', 26),\n",
       " ('V', 17),\n",
       " ('X', 12),\n",
       " ('J', 5),\n",
       " ('Z', 4),\n",
       " ('Q', 1)]"
      ]
     },
     "execution_count": 54,
     "metadata": {},
     "output_type": "execute_result"
    }
   ],
   "source": [
    "common(''.join(nyt_archive)) # Most common letters"
   ]
  },
  {
   "cell_type": "code",
   "execution_count": 55,
   "metadata": {},
   "outputs": [
    {
     "data": {
      "text/plain": [
       "[('O', 30),\n",
       " ('L', 27),\n",
       " ('I', 21),\n",
       " ('E', 17),\n",
       " ('A', 16),\n",
       " ('C', 13),\n",
       " ('P', 13),\n",
       " ('N', 11),\n",
       " ('M', 10),\n",
       " ('B', 9),\n",
       " ('T', 9),\n",
       " ('D', 8),\n",
       " ('H', 8),\n",
       " ('R', 7),\n",
       " ('Y', 7),\n",
       " ('U', 6),\n",
       " ('W', 6),\n",
       " ('F', 2),\n",
       " ('G', 2),\n",
       " ('K', 2),\n",
       " ('V', 2)]"
      ]
     },
     "execution_count": 55,
     "metadata": {},
     "output_type": "execute_result"
    }
   ],
   "source": [
    "common(letters[0] for letters in nyt_archive) # Most common centers"
   ]
  },
  {
   "cell_type": "code",
   "execution_count": 56,
   "metadata": {},
   "outputs": [
    {
     "data": {
      "text/plain": [
       "[('AI', 21),\n",
       " ('IO', 20),\n",
       " ('AO', 13),\n",
       " ('AEI', 12),\n",
       " ('OU', 11),\n",
       " ('AIO', 10),\n",
       " ('AIY', 10),\n",
       " ('AEO', 10),\n",
       " ('EI', 10),\n",
       " ('EIO', 8),\n",
       " ('IOY', 8),\n",
       " ('EOY', 7),\n",
       " ('AE', 6),\n",
       " ('AOU', 6),\n",
       " ('AOY', 6),\n",
       " ('EO', 6),\n",
       " ('AU', 5),\n",
       " ('AY', 4),\n",
       " ('AIU', 4),\n",
       " ('AEY', 4),\n",
       " ('AEIY', 4),\n",
       " ('EOU', 4),\n",
       " ('AIOY', 4),\n",
       " ('OUY', 4),\n",
       " ('AEU', 3),\n",
       " ('IOU', 3),\n",
       " ('IUY', 3),\n",
       " ('EU', 2),\n",
       " ('EIY', 2),\n",
       " ('AIUY', 2),\n",
       " ('OY', 2),\n",
       " ('AEOY', 2),\n",
       " ('A', 2),\n",
       " ('IU', 1),\n",
       " ('IOUY', 1),\n",
       " ('EUY', 1),\n",
       " ('EOUY', 1),\n",
       " ('EIU', 1),\n",
       " ('IY', 1),\n",
       " ('AUY', 1),\n",
       " ('AEUY', 1)]"
      ]
     },
     "execution_count": 56,
     "metadata": {},
     "output_type": "execute_result"
    }
   ],
   "source": [
    "def vowels(letters): return letterset(v for v in 'AEIOUY'if v in letters)\n",
    "\n",
    "common(vowels(p) for p in nyt_archive) # Vowels used"
   ]
  },
  {
   "cell_type": "code",
   "execution_count": 57,
   "metadata": {},
   "outputs": [
    {
     "data": {
      "text/plain": [
       "[(3, 107), (2, 102), (4, 15), (1, 2)]"
      ]
     },
     "execution_count": 57,
     "metadata": {},
     "output_type": "execute_result"
    }
   ],
   "source": [
    "common(len(vowels(p)) for p in nyt_archive) # Number of vowels used"
   ]
  },
  {
   "cell_type": "code",
   "execution_count": 58,
   "metadata": {},
   "outputs": [
    {
     "data": {
      "text/plain": [
       "[(2, 141), (3, 76), (1, 9)]"
      ]
     },
     "execution_count": 58,
     "metadata": {},
     "output_type": "execute_result"
    }
   ],
   "source": [
    "common(len(vowels(p).replace('Y', '')) for p in nyt_archive) # Number of vowels used, not counting 'Y'"
   ]
  },
  {
   "cell_type": "markdown",
   "metadata": {},
   "source": [
    "We can find the game score for all honeycombs in the archive and report some statistics:"
   ]
  },
  {
   "cell_type": "code",
   "execution_count": 59,
   "metadata": {},
   "outputs": [
    {
     "data": {
      "text/plain": [
       "{'N': 226, 'min': 107, 'max': 837, 'mean': 301.8407079646018}"
      ]
     },
     "execution_count": 59,
     "metadata": {},
     "output_type": "execute_result"
    }
   ],
   "source": [
    "nyt_honeycombs = [Honeycomb(letterset(letters), letters[0]) for letters in nyt_archive]\n",
    "\n",
    "points_table = tabulate_points(enable1)\n",
    "scores = [game_score2(h, points_table) for h in nyt_honeycombs]\n",
    "\n",
    "dict(N=len(scores), min=min(scores), max=max(scores), mean=sum(scores)/len(scores))"
   ]
  },
  {
   "cell_type": "markdown",
   "metadata": {},
   "source": [
    "So the scores of NY Times honeycombs range from 100 to 800 with a mean of 300; far less than the 3,898 of the optimal honeycomb. Here's a plot and a histogram of all the scores:"
   ]
  },
  {
   "cell_type": "code",
   "execution_count": 60,
   "metadata": {},
   "outputs": [
    {
     "data": {
      "image/png": "[encoded data removed]",
      "text/plain": [
       "<Figure size 432x288 with 1 Axes>"
      ]
     },
     "metadata": {
      "needs_background": "light"
     },
     "output_type": "display_data"
    },
    {
     "data": {
      "image/png": "[encoded data removed]",
      "text/plain": [
       "<Figure size 432x288 with 1 Axes>"
      ]
     },
     "metadata": {
      "needs_background": "light"
     },
     "output_type": "display_data"
    }
   ],
   "source": [
    "plt.plot(sorted(scores), range(len(scores)), '.')\n",
    "plt.xlabel('Game Score'); plt.ylabel('Game Number');\n",
    "\n",
    "plt.show()\n",
    "\n",
    "plt.hist(scores, bins=15, rwidth=0.9)\n",
    "plt.xlabel('Game Score'); plt.ylabel('Frequency');"
   ]
  },
  {
   "cell_type": "markdown",
   "metadata": {},
   "source": [
    "Here's a report on the outlier, the only honeycomb to score over 800 points:"
   ]
  },
  {
   "cell_type": "code",
   "execution_count": 61,
   "metadata": {},
   "outputs": [
    {
     "name": "stdout",
     "output_type": "stream",
     "text": [
      "Honeycomb(letters='CEINOTV', center='I') scores 837 points on 125 words from a 44585 word list:\n",
      "\n",
      "CEINOTV 182 points 11 pangrams COINVENT(15) CONCOCTIVE(17) CONNECTIVE(17) CONNIVENT(16) CONVECTION(17)\n",
      "        CONVECTIVE(17) CONVENIENT(17) CONVENTION(17) EVECTION(15) EVICTION(15) INCONVENIENT(19)\n",
      " CEINOT 140 points 16 words CONCEIT(7) CONNECTION(10) CONTENTION(10) CONTINENCE(10) CONTINENT(9) COONTIE(7)\n",
      "        INCONTINENCE(12) INCONTINENT(11) INNOCENT(8) NEOTENIC(8) NICOTINE(8) NOETIC(6) NONCONNECTION(13)\n",
      "        NOTICE(6) TECTONIC(8) TONETIC(7)\n",
      " CEINOV  60 points  7 words CONCEIVE(8) CONNIVE(7) CONVENIENCE(11) CONVINCE(8) INCONVENIENCE(13) INVOICE(7)\n",
      "        NOVICE(6)\n",
      " CEINTV  18 points  2 words INCENTIVE(9) INVECTIVE(9)\n",
      " CINOTV  17 points  2 words CONVICT(7) CONVICTION(10)\n",
      " EINOTV   9 points  1 word  INVENTION(9)\n",
      "  CEINO  22 points  3 words CONIINE(7) CONINE(6) INNOCENCE(9)\n",
      "  CEINT  20 points  3 words ENCEINTE(8) ENTICE(6) INCITE(6)\n",
      "  CEINV  14 points  2 words EVINCE(6) EVINCIVE(8)\n",
      "  CEIOT   6 points  1 word  COOTIE(6)\n",
      "  CEIOV   5 points  1 word  VOICE(5)\n",
      "  CEITV  17 points  3 words CIVET(5) EVICT(5) EVICTEE(7)\n",
      "  CINOT  53 points  7 words COITION(7) CONCOCTION(10) INTINCTION(10) NICOTIN(7) NICOTINIC(9) ONTIC(5) TONIC(5)\n",
      "  CINOV  11 points  2 words COVIN(5) OVONIC(6)\n",
      "  EINOT  22 points  3 words INTENTION(9) INTONE(6) TONTINE(7)\n",
      "  EINOV  10 points  2 words ENVOI(5) OVINE(5)\n",
      "  EINTV  28 points  4 words INVENT(6) INVENTIVE(9) INVITE(6) INVITEE(7)\n",
      "  EIOTV   6 points  1 word  VOTIVE(6)\n",
      "   CEIN   7 points  3 words CINE(1) NICE(1) NIECE(5)\n",
      "   CEIT   9 points  3 words CITE(1) ETIC(1) TECTITE(7)\n",
      "   CEIV   6 points  2 words CIVIE(5) VICE(1)\n",
      "   CINO  33 points  9 words CION(1) COIN(1) CONI(1) CONIC(5) CONIN(5) ICON(1) ICONIC(6) IONIC(5) NONIONIC(8)\n",
      "   CINT   5 points  1 word  TINCT(5)\n",
      "   CINV   5 points  1 word  VINIC(5)\n",
      "   CIOT  13 points  3 words OTIC(1) OTITIC(6) TICTOC(6)\n",
      "   EINO   6 points  1 word  IONONE(6)\n",
      "   EINT  28 points  6 words INTENT(6) INTINE(6) NINETEEN(8) NITE(1) TENTIE(6) TINE(1)\n",
      "   EINV  19 points  6 words NEVI(1) NIEVE(5) VEIN(1) VENIN(5) VENINE(6) VINE(1)\n",
      "   EITV   5 points  1 word  EVITE(5)\n",
      "   INOT  12 points  3 words INTO(1) NITON(5) NOTION(6)\n",
      "   INOV   1 point   1 word  VINO(1)\n",
      "    CIO  11 points  2 words COCCI(5) COCCIC(6)\n",
      "    CIT   5 points  1 word  ICTIC(5)\n",
      "    CIV   5 points  1 word  CIVIC(5)\n",
      "    EIN   1 point   1 word  NINE(1)\n",
      "    EIT   6 points  1 word  TITTIE(6)\n",
      "    EIV   1 point   1 word  VIVE(1)\n",
      "    INO  15 points  3 words INION(5) NINON(5) ONION(5)\n",
      "    INT   2 points  2 words INTI(1) TINT(1)\n",
      "    IOT   1 point   1 word  TOIT(1)\n",
      "     IT   1 point   1 word  TITI(1)\n"
     ]
    }
   ],
   "source": [
    "report(max(nyt_honeycombs, key=lambda h: game_score2(h, points_table)))"
   ]
  },
  {
   "cell_type": "markdown",
   "metadata": {},
   "source": [
    "And here are the most common words, along with all the pangram words that appeared more than once:"
   ]
  },
  {
   "cell_type": "code",
   "execution_count": 62,
   "metadata": {},
   "outputs": [
    {
     "data": {
      "text/plain": [
       "[('LOLL', 28),\n",
       " ('NOON', 23),\n",
       " ('LALL', 21),\n",
       " ('OLIO', 18),\n",
       " ('AALII', 16),\n",
       " ('ANNA', 16),\n",
       " ('CACA', 16),\n",
       " ('ILIA', 16),\n",
       " ('ILIAL', 16),\n",
       " ('INION', 16),\n",
       " ('NAAN', 16),\n",
       " ('NANA', 16),\n",
       " ('NINON', 16),\n",
       " ('OLLA', 16),\n",
       " ('ONION', 16),\n",
       " ('OTTO', 16),\n",
       " ('TOOT', 16),\n",
       " ('COCCI', 15),\n",
       " ('COCCIC', 15),\n",
       " ('DODO', 15),\n",
       " ('INIA', 15),\n",
       " ('LOOM', 15),\n",
       " ('LOON', 15),\n",
       " ('MOLL', 15),\n",
       " ('MOOL', 15),\n",
       " ('NOLO', 15),\n",
       " ('OLEO', 15),\n",
       " ('TITI', 15),\n",
       " ('ACACIA', 14),\n",
       " ('TOIT', 14)]"
      ]
     },
     "execution_count": 62,
     "metadata": {},
     "output_type": "execute_result"
    }
   ],
   "source": [
    "nyt_words = common(w for w in enable1 for h in nyt_honeycombs if can_make(h, w))\n",
    "nyt_words[:30]"
   ]
  },
  {
   "cell_type": "code",
   "execution_count": 63,
   "metadata": {},
   "outputs": [
    {
     "data": {
      "text/plain": [
       "[('CAPTIVITY', 2),\n",
       " ('COMPLEX', 2),\n",
       " ('COUNTRY', 2),\n",
       " ('HANDICAP', 2),\n",
       " ('IMMOBILITY', 2),\n",
       " ('INFLEXIBLE', 2),\n",
       " ('MOBILITY', 2),\n",
       " ('MOURNFUL', 2),\n",
       " ('NONCOUNTRY', 2),\n",
       " ('PHOTOGRAPH', 2),\n",
       " ('THOUGHTFUL', 2),\n",
       " ('WHIPPOORWILL', 2),\n",
       " ('WHIRLPOOL', 2),\n",
       " ('WINDFALL', 2),\n",
       " ('WINDFLAW', 2)]"
      ]
     },
     "execution_count": 63,
     "metadata": {},
     "output_type": "execute_result"
    }
   ],
   "source": [
    "[(w, c) for w, c in nyt_words if c > 1 and pangram_bonus(w)]"
   ]
  },
  {
   "cell_type": "markdown",
   "metadata": {},
   "source": [
    "# Step 12: 'S' Words\n",
    "\n",
    "What if we allowed honeycombs and words to have an 'S' in them? We already saw that 53,556 words were rejected because they contain an 'S'; how much more could a honeycomb score if we allow 'S' words?"
   ]
  },
  {
   "cell_type": "code",
   "execution_count": 64,
   "metadata": {},
   "outputs": [
    {
     "name": "stdout",
     "output_type": "stream",
     "text": [
      "Best Honeycomb(letters='AEINRST', center='E') scores 8681 points on 1179 words from a 98141 word list:\n",
      "\n",
      "AEINRST 1381 points 86 pangrams ANESTRI(14) ANTISERA(15) ANTISTRESS(17) ANTSIER(14) ARENITES(15) ARSENITE(15)\n",
      "        ARSENITES(16) ARTINESS(15) ARTINESSES(17) ATTAINERS(16) ENTERTAINERS(19) ENTERTAINS(17) ENTRAINERS(17)\n",
      "        ENTRAINS(15) ENTREATIES(17) ERRANTRIES(17) INERTIAS(15) INSTANTER(16) INTENERATES(18) INTERSTATE(17)\n",
      "        INTERSTATES(18) INTERSTRAIN(18) INTERSTRAINS(19) INTRASTATE(17) INTREATS(15) IRATENESS(16)\n",
      "        IRATENESSES(18) ITINERANTS(17) ITINERARIES(18) ITINERATES(17) NASTIER(14) NITRATES(15) RAINIEST(15)\n",
      "        RATANIES(15) RATINES(14) REATTAINS(16) REINITIATES(18) REINSTATE(16) REINSTATES(17) RESINATE(15)\n",
      "        RESINATES(16) RESISTANT(16) RESISTANTS(17) RESTRAIN(15) RESTRAINER(17) RESTRAINERS(18) RESTRAINS(16)\n",
      "        RESTRAINT(16) RESTRAINTS(17) RETAINERS(16) RETAINS(14) RETINAS(14) RETIRANTS(16) RETRAINS(15)\n",
      "        RETSINA(14) RETSINAS(15) SANITARIES(17) SEATRAIN(15) SEATRAINS(16) STAINER(14) STAINERS(15)\n",
      "        STANNARIES(17) STEARIN(14) STEARINE(15) STEARINES(16) STEARINS(15) STRAINER(15) STRAINERS(16)\n",
      "        STRAITEN(15) STRAITENS(16) STRAITNESS(17) STRAITNESSES(19) TANISTRIES(17) TANNERIES(16) TEARSTAIN(16)\n",
      "        TEARSTAINS(17) TENANTRIES(17) TERNARIES(16) TERRAINS(15) TERTIANS(15) TRAINEES(15) TRAINERS(15)\n",
      "        TRANSIENT(16) TRANSIENTS(17) TRISTEARIN(17) TRISTEARINS(18)\n",
      " AEINRS 124 points 16 words AIRINESS(8) AIRINESSES(10) ANSERINE(8) ANSERINES(9) ARISEN(6) ARSINE(6) ARSINES(7)\n",
      "        INSANER(7) INSNARE(7) INSNARER(8) INSNARERS(9) INSNARES(8) SENARII(7) SIERRAN(7) SIRENIAN(8)\n",
      "        SIRENIANS(9)\n",
      " AEINRT 232 points 30 words ARENITE(7) ATTAINER(8) ENTERTAIN(9) ENTERTAINER(11) ENTRAIN(7) ENTRAINER(9)\n",
      "        INERRANT(8) INERTIA(7) INERTIAE(8) INTENERATE(10) INTREAT(7) ITERANT(7) ITINERANT(9) ITINERATE(9)\n",
      "        NATTIER(7) NITRATE(7) RATINE(6) REATTAIN(8) REINITIATE(10) RETAIN(6) RETAINER(8) RETINA(6) RETINAE(7)\n",
      "        RETIRANT(8) RETRAIN(7) TERRAIN(7) TERTIAN(7) TRAINEE(7) TRAINER(7) TRIENNIA(8)\n",
      " AEINST 713 points 80 words ANISETTE(8) ANISETTES(9) ANTISENSE(9) ANTISTATE(9) ANTSIEST(8) ASININITIES(11)\n",
      "        ASSASSINATE(11) ASSASSINATES(12) ASTATINE(8) ASTATINES(9) ENTASIA(7) ENTASIAS(8) ENTASIS(7) ETESIAN(7)\n",
      "        ETESIANS(8) INANEST(7) INANITIES(9) INITIATES(9) INNATENESS(10) INNATENESSES(12) INSANEST(8)\n",
      "        INSANITIES(10) INSATIATE(9) INSATIATENESS(13) INSATIATENESSES(15) INSENSATE(9) INSTANTANEITIES(15)\n",
      "        INSTANTIATE(11) INSTANTIATES(12) INSTANTNESS(11) INSTANTNESSES(13) INSTATE(7) INSTATES(8) INTESTATE(9)\n",
      "        INTESTATES(10) ISATINE(7) ISATINES(8) NASTIES(7) NASTIEST(8) NASTINESS(9) NASTINESSES(11) NATTIEST(8)\n",
      "        NATTINESS(9) NATTINESSES(11) SANITATE(8) SANITATES(9) SANITIES(8) SANITISE(8) SANITISES(9) SATINET(7)\n",
      "        SATINETS(8) SENTENTIA(9) SENTENTIAE(10) SESTINA(7) SESTINAS(8) STANINE(7) STANINES(8) STANNITE(8)\n",
      "        STANNITES(9) TAENIAS(7) TAENIASES(9) TAENIASIS(9) TANSIES(7) TASTINESS(9) TASTINESSES(11) TATTINESS(9)\n",
      "        TATTINESSES(11) TENIAS(6) TENIASES(8) TENIASIS(8) TETANIES(8) TETANISE(8) TETANISES(9) TINEAS(6)\n",
      "        TISANE(6) TISANES(7) TITANATES(9) TITANESS(8) TITANESSES(10) TITANITES(9)\n",
      " AEIRST 473 points 60 words AERIEST(7) AIREST(6) AIRIEST(7) ARIETTAS(8) ARIETTES(8) ARISTAE(7) ARISTATE(8)\n",
      "        ARTERIES(8) ARTERITIS(9) ARTIEST(7) ARTISTE(7) ARTISTES(8) ARTISTRIES(10) ARTSIER(7) ARTSIEST(8)\n",
      "        ASSISTER(8) ASSISTERS(9) ASTERIA(7) ASTERIAS(8) ATRESIA(7) ATRESIAS(8) ATTIRES(7) EATERIES(8)\n",
      "        IRATEST(7) IRRITATES(9) ITERATES(8) RARITIES(8) RATITES(7) RATTIEST(8) REITERATES(10) SATIRE(6)\n",
      "        SATIRES(7) SATIRISE(8) SATIRISES(9) SERIATE(7) SERIATES(8) SESTERTIA(9) STARRIER(8) STARRIEST(9)\n",
      "        STRAITER(8) STRAITEST(9) STRIAE(6) STRIATE(7) STRIATES(8) TARRIERS(8) TARRIES(7) TARRIEST(8)\n",
      "        TARSIER(7) TARSIERS(8) TASTIER(7) TEARIEST(8) TERAIS(6) TERTIARIES(10) TITRATES(8) TRAITRESS(9)\n",
      "        TRAITRESSES(11) TREATIES(8) TREATISE(8) TREATISES(9) TRISTATE(8)\n",
      " AENRST 336 points 40 words ANTEATERS(9) ANTRES(6) ARRESTANT(9) ARRESTANTS(10) ARSENATE(8) ARSENATES(9)\n",
      "        ASSENTER(8) ASSENTERS(9) ASTERN(6) EARNEST(7) EARNESTNESS(11) EARNESTNESSES(13) EARNESTS(8) EASTERN(7)\n",
      "        EASTERNER(9) EASTERNERS(10) ENTRANTS(8) ENTREATS(8) ERRANTS(7) NARRATERS(9) NARRATES(8) NATTERS(7)\n",
      "        NEAREST(7) RANTERS(7) RATTEENS(8) RATTENERS(9) RATTENS(7) REENTRANTS(10) RETREATANTS(11) SARSENET(8)\n",
      "        SARSENETS(9) SERENATA(8) SERENATAS(9) SERENATE(8) STERNA(6) TANNERS(7) TARANTASES(10) TARTNESS(8)\n",
      "        TARTNESSES(10) TERRANES(8)\n",
      " EINRST 582 points 70 words ENTERITIS(9) ENTERITISES(11) ENTIRENESS(10) ENTIRENESSES(12) ENTIRES(7)\n",
      "        ENTIRETIES(10) ENTRIES(7) ESTRIN(6) ESTRINS(7) ETERNISE(8) ETERNISES(9) ETERNITIES(10) INERTNESS(9)\n",
      "        INERTNESSES(11) INERTS(6) INSERT(6) INSERTER(8) INSERTERS(9) INSERTS(7) INSETTER(8) INSETTERS(9)\n",
      "        INSISTER(8) INSISTERS(9) INTENSER(8) INTEREST(8) INTERESTS(9) INTERNEES(9) INTERNES(8) INTERNIST(9)\n",
      "        INTERNISTS(10) INTERNS(7) INTERS(6) INTERTIES(9) NITERIES(8) NITERS(6) NITRES(6) NITRITES(8)\n",
      "        REENTRIES(9) REINSERT(8) REINSERTS(9) REINTERS(8) RENTIERS(8) RETINENES(9) RETINES(7) RETINITES(9)\n",
      "        RETINITIS(9) RETINTS(7) SENTRIES(8) SERENITIES(10) SINISTER(8) SINISTERNESS(12) SINISTERNESSES(14)\n",
      "        SINTER(6) SINTERS(7) STERNITE(8) STERNITES(9) STINTER(7) STINTERS(8) TEENSIER(8) TEENTSIER(9)\n",
      "        TERRINES(8) TINNERS(7) TINTERS(7) TRIENES(7) TRIENS(6) TRIENTES(8) TRINES(6) TRINITIES(9) TRITENESS(9)\n",
      "        TRITENESSES(11)\n",
      "  AEINR  19 points  3 words INANER(6) NARINE(6) RAINIER(7)\n",
      "  AEINS 129 points 17 words ANISE(5) ANISES(6) ASININE(7) EASINESS(8) EASINESSES(10) INANENESS(9)\n",
      "        INANENESSES(11) INANES(6) INSANE(6) INSANENESS(10) INSANENESSES(12) NANNIES(7) SANIES(6) SANSEI(6)\n",
      "        SANSEIS(7) SIENNA(6) SIENNAS(7)\n",
      "  AEINT  64 points 10 words ENTIA(5) INITIATE(8) INNATE(6) TAENIA(6) TAENIAE(7) TENIA(5) TENIAE(6) TINEA(5)\n",
      "        TITANATE(8) TITANITE(8)\n",
      "  AEIRS 106 points 17 words AERIES(6) AIRERS(6) ARISE(5) ARISES(6) ARRISES(7) EASIER(6) RAISE(5) RAISER(6)\n",
      "        RAISERS(7) RAISES(6) RERAISE(7) RERAISES(8) SASSIER(7) SERAI(5) SERAIS(6) SIERRA(6) SIERRAS(7)\n",
      "  AEIRT 135 points 20 words ARIETTA(7) ARIETTE(7) ARTIER(6) ATTIRE(6) ATTRITE(7) IRATE(5) IRATER(6)\n",
      "        IRRITATE(8) ITERATE(7) RATITE(6) RATTIER(7) REITERATE(9) RETIA(5) RETIARII(8) TARRIER(7) TATTIER(7)\n",
      "        TEARIER(7) TERAI(5) TERRARIA(8) TITRATE(7)\n",
      "  AEIST 112 points 15 words EASIEST(7) ETATIST(7) SASSIEST(8) SATIATE(7) SATIATES(8) SATIETIES(9) SIESTA(6)\n",
      "        SIESTAS(7) STEATITE(8) STEATITES(9) TASSIE(6) TASSIES(7) TASTIEST(8) TATTIES(7) TATTIEST(8)\n",
      "  AENRS 172 points 25 words ANEARS(6) ARENAS(6) EARNERS(7) EARNS(5) ENSNARE(7) ENSNARER(8) ENSNARERS(9)\n",
      "        ENSNARES(8) NARES(5) NEARNESS(8) NEARNESSES(10) NEARS(5) RANEES(6) RARENESS(8) RARENESSES(10)\n",
      "        REEARNS(7) RENNASE(7) RENNASES(8) SANER(5) SARSEN(6) SARSENS(7) SNARE(5) SNARER(6) SNARERS(7)\n",
      "        SNARES(6)\n",
      "  AENRT 132 points 19 words ANTEATER(8) ANTRE(5) ENTERA(6) ENTRANT(7) ENTREAT(7) ERRANT(6) NARRATE(7)\n",
      "        NARRATER(8) NATTER(6) NEATER(6) RANTER(6) RATTEEN(7) RATTEN(6) RATTENER(8) REENTRANT(9) RETREATANT(10)\n",
      "        TANNER(6) TERNATE(7) TERRANE(7)\n",
      "  AENST 217 points 32 words ANATASE(7) ANATASES(8) ANENST(6) ANNATES(7) ANSATE(6) ANTENNAS(8) ANTES(5)\n",
      "        ASSENT(6) ASSENTS(7) ENATES(6) ENTASES(7) ETNAS(5) NATES(5) NEATENS(7) NEATEST(7) NEATNESS(8)\n",
      "        NEATNESSES(10) NEATS(5) SANEST(6) SATEEN(6) SATEENS(7) SENATE(6) SENATES(7) SENSATE(7) SENSATES(8)\n",
      "        SETENANT(8) SETENANTS(9) STANE(5) STANES(6) TANNATES(8) TANNEST(7) TENANTS(7)\n",
      "  AERST 604 points 85 words AERATES(7) ARETES(6) ARREST(6) ARRESTEE(8) ARRESTEES(9) ARRESTER(8) ARRESTERS(9)\n",
      "        ARRESTS(7) ASSERT(6) ASSERTER(8) ASSERTERS(9) ASSERTS(7) ASTER(5) ASTERS(6) ATTESTER(8) ATTESTERS(9)\n",
      "        EASTER(6) EASTERS(7) EATERS(6) ERRATAS(7) ESTERASE(8) ESTERASES(9) ESTREAT(7) ESTREATS(8) RAREST(6)\n",
      "        RASTER(6) RASTERS(7) RATERS(6) RATES(5) RATTERS(7) REARREST(8) REARRESTS(9) REASSERT(8) REASSERTS(9)\n",
      "        REATAS(6) RESEAT(6) RESEATS(7) RESTART(7) RESTARTS(8) RESTATE(7) RESTATES(8) RETASTE(7) RETASTES(8)\n",
      "        RETEARS(7) RETREATERS(10) RETREATS(8) SEAREST(7) SEATER(6) SEATERS(7) SERRATE(7) SERRATES(8) STARE(5)\n",
      "        STARER(6) STARERS(7) STARES(6) STARETS(7) STARTER(7) STARTERS(8) STATER(6) STATERS(7) STEARATE(8)\n",
      "        STEARATES(9) STRASSES(8) STRETTA(7) STRETTAS(8) TARES(5) TARRES(6) TARTEST(7) TARTRATES(9) TASTER(6)\n",
      "        TASTERS(7) TATERS(6) TATTERS(7) TEARERS(7) TEARS(5) TEASER(6) TEASERS(7) TERRAS(6) TERRASES(8)\n",
      "        TESSERA(7) TESSERAE(8) TETRAS(6) TRASSES(7) TREATERS(8) TREATS(6)\n",
      "  EINRS 184 points 29 words EERINESS(8) EERINESSES(10) ESERINE(7) ESERINES(8) INNERS(6) NEREIS(6) REINS(5)\n",
      "        RENINS(6) RENNINS(7) RERISEN(7) RESIN(5) RESINS(6) RINSE(5) RINSER(6) RINSERS(7) RINSES(6) RISEN(5)\n",
      "        SEINER(6) SEINERS(7) SEREIN(6) SEREINS(7) SERIN(5) SERINE(6) SERINES(7) SERINS(6) SINNER(6) SINNERS(7)\n",
      "        SIREN(5) SIRENS(6)\n",
      "  EINRT 190 points 29 words ENTIRE(6) INERT(5) INTER(5) INTERN(6) INTERNE(7) INTERNEE(8) INTERTIE(8)\n",
      "        NETTIER(7) NITER(5) NITERIE(7) NITRE(5) NITRITE(7) NITTIER(7) REINTER(7) RENITENT(8) RENTIER(7)\n",
      "        RETINE(6) RETINENE(8) RETINITE(8) RETINT(6) TEENIER(7) TENTIER(7) TERRINE(7) TINIER(6) TINNER(6)\n",
      "        TINNIER(7) TINTER(6) TRIENE(6) TRINE(5)\n",
      "  EINST 469 points 58 words EINSTEIN(8) EINSTEINS(9) ENTITIES(8) INSENTIENT(10) INSET(5) INSETS(6)\n",
      "        INSISTENT(9) INTENSE(7) INTENSENESS(11) INTENSENESSES(13) INTENSEST(9) INTENSITIES(11) INTENTNESS(10)\n",
      "        INTENTNESSES(12) INTENTS(7) INTESTINE(9) INTESTINES(10) INTINES(7) NEIST(5) NETTIEST(8) NINETEENS(9)\n",
      "        NINETIES(8) NITES(5) NITTIEST(8) SENITI(6) SENNIT(6) SENNITS(7) SENSITISE(9) SENSITISES(10) SENTI(5)\n",
      "        SENTIENT(8) SENTIENTS(9) SESTINE(7) SESTINES(8) SIENITE(7) SIENITES(8) SITTEN(6) STEIN(5) STEINS(6)\n",
      "        TEENIEST(8) TEENSIEST(9) TEENTSIEST(10) TENNIES(7) TENNIS(6) TENNISES(8) TENNIST(7) TENNISTS(8)\n",
      "        TENSITIES(9) TENTIEST(8) TESTINESS(9) TESTINESSES(11) TINES(5) TINIEST(7) TININESS(8) TININESSES(10)\n",
      "        TINNIEST(8) TINNINESS(9) TINNINESSES(11)\n",
      "  EIRST 262 points 38 words EERIEST(7) IRITISES(8) RESIST(6) RESISTER(8) RESISTERS(9) RESISTS(7) RESITE(6)\n",
      "        RESITES(7) RETIES(6) RETIREES(8) RETIRERS(8) RETIRES(7) RETRIES(7) RITES(5) RITTERS(7) SISTER(6)\n",
      "        SISTERS(7) SITTER(6) SITTERS(7) STIRRER(7) STIRRERS(8) STRETTI(7) TERRIERS(8) TERRIES(7) TERRITS(7)\n",
      "        TESTIER(7) TIERS(5) TIRES(5) TITERS(6) TITRES(6) TITTERERS(9) TITTERS(7) TRESSIER(8) TRESSIEST(9)\n",
      "        TRIERS(6) TRIES(5) TRISTE(6) TRITEST(7)\n",
      "  ENRST 246 points 35 words ENTERERS(8) ENTERS(6) ENTREES(7) NERTS(5) NESTER(6) NESTERS(7) NETTERS(7)\n",
      "        REENTERS(8) RENEST(6) RENESTS(7) RENNETS(7) RENTERS(7) RENTES(6) RENTS(5) RESENT(6) RESENTS(7)\n",
      "        RETENES(7) SERENEST(8) STERN(5) STERNER(7) STERNEST(8) STERNNESS(9) STERNNESSES(11) STERNS(6)\n",
      "        TEENERS(7) TENNERS(7) TENSER(6) TENTERS(7) TERNES(6) TERNS(5) TERREENS(8) TERRENES(8) TERSENESS(9)\n",
      "        TERSENESSES(11) TREENS(6)\n",
      "   AEIN  11 points  2 words INANE(5) NANNIE(6)\n",
      "   AEIR  22 points  4 words AERIE(5) AERIER(6) AIRER(5) AIRIER(6)\n",
      "   AEIS  13 points  2 words EASIES(6) SASSIES(7)\n",
      "   AEIT   6 points  1 word  TATTIE(6)\n",
      "   AENR  40 points  9 words ANEAR(5) ARENA(5) EARN(1) EARNER(6) NEAR(1) NEARER(6) RANEE(5) REEARN(6) RERAN(5)\n",
      "   AENS  46 points  9 words ANES(1) ANSAE(5) SANE(1) SANENESS(8) SANENESSES(10) SANES(5) SENNA(5) SENNAS(6)\n",
      "        SENSA(5)\n",
      "   AENT  63 points 13 words ANENT(5) ANTAE(5) ANTE(1) ANTENNA(7) ANTENNAE(8) ATTENT(6) EATEN(5) ENATE(5)\n",
      "        ETNA(1) NEAT(1) NEATEN(6) TANNATE(7) TENANT(6)\n",
      "   AERS 121 points 26 words AREAS(5) ARES(1) ARREARS(7) ARSE(1) ARSES(5) EARS(1) ERAS(1) ERASE(5) ERASER(6)\n",
      "        ERASERS(7) ERASES(6) RARES(5) RASE(1) RASER(5) RASERS(6) RASES(5) REARERS(7) REARS(5) REASSESS(8)\n",
      "        REASSESSES(10) SAREE(5) SAREES(6) SEAR(1) SEARER(6) SEARS(5) SERA(1)\n",
      "   AERT 127 points 24 words AERATE(6) ARETE(5) EATER(5) ERRATA(6) RATE(1) RATER(5) RATTER(6) REATA(5)\n",
      "        RETEAR(6) RETREAT(7) RETREATER(9) TARE(1) TARRE(5) TARTER(6) TARTRATE(8) TATER(5) TATTER(6) TEAR(1)\n",
      "        TEARER(6) TERRA(5) TERRAE(6) TETRA(5) TREAT(5) TREATER(7)\n",
      "   AEST 164 points 35 words ASSET(5) ASSETS(6) ATES(1) ATTEST(6) ATTESTS(7) EAST(1) EASTS(5) EATS(1) ESTATE(6)\n",
      "        ESTATES(7) ETAS(1) SATE(1) SATES(5) SEAT(1) SEATS(5) SETA(1) SETAE(5) STASES(6) STATE(5) STATES(6)\n",
      "        TASSE(5) TASSES(6) TASSET(6) TASSETS(7) TASTE(5) TASTES(6) TATES(5) TEAS(1) TEASE(5) TEASES(6)\n",
      "        TEATS(5) TESTA(5) TESTAE(6) TESTATE(7) TESTATES(8)\n",
      "   EINR  17 points  4 words INNER(5) REIN(1) RENIN(5) RENNIN(6)\n",
      "   EINS  53 points 10 words NINES(5) NINNIES(7) NISEI(5) NISEIS(6) SEINE(5) SEINES(6) SEISIN(6) SEISINS(7)\n",
      "        SINE(1) SINES(5)\n",
      "   EINT  28 points  6 words INTENT(6) INTINE(6) NINETEEN(8) NITE(1) TENTIE(6) TINE(1)\n",
      "   EIRS 101 points 20 words IRES(1) IRISES(6) REIS(1) RERISE(6) RERISES(7) RISE(1) RISER(5) RISERS(6) RISES(5)\n",
      "        SEISER(6) SEISERS(7) SERIES(6) SERRIES(7) SIRE(1) SIREE(5) SIREES(6) SIRES(5) SIRREE(6) SIRREES(7)\n",
      "        SISSIER(7)\n",
      "   EIRT  87 points 17 words RETIE(5) RETIRE(6) RETIREE(7) RETIRER(7) RITE(1) RITTER(6) TERRIER(7) TERRIT(6)\n",
      "        TIER(1) TIRE(1) TITER(5) TITRE(5) TITTER(6) TITTERER(8) TRIER(5) TRITE(5) TRITER(6)\n",
      "   EIST  41 points  8 words SISSIEST(8) SITE(1) SITES(5) STIES(5) TESTIEST(8) TESTIS(6) TIES(1) TITTIES(7)\n",
      "   ENRS  80 points 12 words ERNES(5) ERNS(1) RESEEN(6) SERENE(6) SERENENESS(10) SERENENESSES(12) SERENER(7)\n",
      "        SERENES(7) SNEER(5) SNEERER(7) SNEERERS(8) SNEERS(6)\n",
      "   ENRT 104 points 19 words ENTER(5) ENTERER(7) ENTREE(6) ETERNE(6) NETTER(6) REENTER(7) RENNET(6) RENT(1)\n",
      "        RENTE(5) RENTER(6) RETENE(6) TEENER(6) TENNER(6) TENTER(6) TERN(1) TERNE(5) TERREEN(7) TERRENE(7)\n",
      "        TREEN(5)\n",
      "   ENST  94 points 18 words ENTENTES(8) NEST(1) NESTS(5) NETS(1) NETTS(5) SENNET(6) SENNETS(7) SENT(1)\n",
      "        SENTE(5) TEENS(5) TENETS(6) TENS(1) TENSE(5) TENSENESS(9) TENSENESSES(11) TENSES(6) TENSEST(7)\n",
      "        TENTS(5)\n",
      "   ERST 266 points 44 words ERST(1) ESTER(5) ESTERS(6) REEST(5) REESTS(6) RESET(5) RESETS(6) RESETTER(8)\n",
      "        RESETTERS(9) REST(1) RESTER(6) RESTERS(7) RESTRESS(8) RESTRESSES(10) RESTS(5) RETEST(6) RETESTS(7)\n",
      "        RETS(1) SEREST(6) SETTER(6) SETTERS(7) STEER(5) STEERER(7) STEERERS(8) STEERS(6) STERE(5) STERES(6)\n",
      "        STREET(6) STREETS(7) STRESS(6) STRESSES(8) STRETTE(7) TEETERS(7) TERRETS(7) TERSE(5) TERSER(6)\n",
      "        TERSEST(7) TESTER(6) TESTERS(7) TETTERS(7) TREES(5) TRESS(5) TRESSES(7) TRETS(5)\n",
      "    AER  25 points  7 words AREA(1) AREAE(5) ARREAR(6) RARE(1) RARER(5) REAR(1) REARER(6)\n",
      "    AES  33 points  8 words ASEA(1) ASSES(5) ASSESS(6) ASSESSES(8) EASE(1) EASES(5) SASSES(6) SEAS(1)\n",
      "    AET   2 points  2 words TATE(1) TEAT(1)\n",
      "    EIN   1 point   1 word  NINE(1)\n",
      "    EIR  11 points  2 words EERIE(5) EERIER(6)\n",
      "    EIS  35 points  7 words ISSEI(5) ISSEIS(6) SEIS(1) SEISE(5) SEISES(6) SISES(5) SISSIES(7)\n",
      "    EIT   6 points  1 word  TITTIE(6)\n",
      "    ENR   1 point   1 word  ERNE(1)\n",
      "    ENS  20 points  6 words NESS(1) NESSES(6) SEEN(1) SENE(1) SENSE(5) SENSES(6)\n",
      "    ENT  15 points  5 words ENTENTE(7) NETT(1) TEEN(1) TENET(5) TENT(1)\n",
      "    ERS  52 points 13 words ERRS(1) ERSES(5) REES(1) RESEE(5) RESEES(6) SEER(1) SEERESS(7) SEERESSES(9)\n",
      "        SEERS(5) SERE(1) SERER(5) SERES(5) SERS(1)\n",
      "    ERT  27 points  7 words RETE(1) TEETER(6) TERETE(6) TERRET(6) TETTER(6) TREE(1) TRET(1)\n",
      "    EST  79 points 18 words SESTET(6) SESTETS(7) SETS(1) SETT(1) SETTEE(6) SETTEES(7) SETTS(5) STET(1)\n",
      "        STETS(5) TEES(1) TEST(1) TESTEE(6) TESTEES(7) TESTES(6) TESTS(5) TETS(1) TSETSE(6) TSETSES(7)\n",
      "     EN   1 point   1 word  NENE(1)\n",
      "     ES   7 points  3 words ESES(1) ESSES(5) SEES(1)\n"
     ]
    }
   ],
   "source": [
    "enable1s = valid_words(open('enable1.txt').read(), \n",
    "                       lambda w: len(w) >= 4 and len(set(w)) <= 7)\n",
    "\n",
    "report(words=enable1s)"
   ]
  },
  {
   "cell_type": "markdown",
   "metadata": {},
   "source": [
    "Allowing 'S' words more than doubles the score!\n",
    "\n",
    "Here are pictures for the highest-scoring honeycombs, with and without an S:\n",
    "\n",
    "<img src=\"http://norvig.com/honeycombs.png\" width=\"350\">\n",
    "<center>\n",
    "   537 words; 3,898 points &nbsp; &nbsp; &nbsp; &nbsp; 1,179 words; 8,681 points\n",
    "    <br>\n",
    "</center>"
   ]
  },
  {
   "cell_type": "markdown",
   "metadata": {},
   "source": [
    "# Summary\n",
    "\n",
    "This notebook showed how to find the highest-scoring honeycomb. Four ideas led to four approaches:\n",
    "\n",
    "1. **Brute Force Enumeration**: Compute the game score for every possible honeycomb; return the best.\n",
    "2. **Pangram Lettersets**: Compute the game score for just the honeycombs that are pangram lettersets (with all possible centers).\n",
    "3. **Points Table**: Precompute the score for each letterset; then for each candidate honeycomb, sum the scores of the 64 letter subsets.\n",
    "4. **Branch and Bound**: Try all 7 centers only for lettersets that score better than the best score so far.\n",
    "\n",
    "These ideas led to a substantial reduction in the number of honeycombs  examined (a factor of 400), the run time of a call to `game_score` (a factor of 300), and the overall run time of `best_honeycomb` (a factor of  75,000, although I didn't actually run the first two cases, just estimated the time).\n",
    "\n",
    "|Approach|Honeycombs|`game_score` Time|Total Run Time|\n",
    "|--------|----------|--------|----|\n",
    "|**1. Brute Force Enumeration**|3,364,900|9000 microseconds|8.5 hours|\n",
    "|**2. Pangram Lettersets**|55,902|9000 microseconds|500 seconds|\n",
    "|**3. Points Table**|55,902|26 microseconds|1.6 seconds|\n",
    "|**4. Branch and Bound**|8,084 |26 microseconds|0.4 seconds|\n",
    "\n"
   ]
  }
 ],
 "metadata": {
  "kernelspec": {
   "display_name": "Python 3",
   "language": "python",
   "name": "python3"
  },
  "language_info": {
   "codemirror_mode": {
    "name": "ipython",
    "version": 3
   },
   "file_extension": ".py",
   "mimetype": "text/x-python",
   "name": "python",
   "nbconvert_exporter": "python",
   "pygments_lexer": "ipython3",
   "version": "3.7.6"
  }
 },
 "nbformat": 4,
 "nbformat_minor": 4
}
