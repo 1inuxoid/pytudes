{
 "cells": [
  {
   "cell_type": "markdown",
   "metadata": {},
   "source": [
    "<div align=\"right\" style=\"text-align: right\"><i>Peter Norvig, Oct 2017<br>pandas Aug 2020<br>Data updated monthly</i></div>\n",
    "\n",
    "# Bike Code\n",
    "\n",
    "Code to support the analysis in the notebook [Bike Speed versus Grade.ipynb](Bike%20Speed%20versus%20Grade.ipynb)."
   ]
  },
  {
   "cell_type": "code",
   "execution_count": 1,
   "metadata": {},
   "outputs": [],
   "source": [
    "from IPython.core.display import HTML\n",
    "from typing import Iterator, Tuple, List, Dict\n",
    "import matplotlib.pyplot as plt\n",
    "import numpy  as np\n",
    "import pandas as pd\n",
    "import re"
   ]
  },
  {
   "cell_type": "markdown",
   "metadata": {},
   "source": [
    "# Reading Data\n",
    "\n",
    "I downloaded a bunch of my recorded [Strava](https://www.strava.com/athletes/575579) rides, most of them longer than 25 miles (with a few exceptions), as [`bikerides.tsv`](bikerides.tsv).  The columns are: the date; a title; the elapsed time of the ride; the length of the ride in miles; and the total climbing in feet, e.g.: \n",
    "\n",
    "    Mon, 10/5/2020\tHalf way around the bay on bay trail\t6:26:35\t80.05\t541\n",
    "    \n",
    "I parse the file into the pandas dataframe `rides`:"
   ]
  },
  {
   "cell_type": "code",
   "execution_count": 2,
   "metadata": {},
   "outputs": [],
   "source": [
    "def parse_hours(time: str) -> float: \n",
    "    \"\"\"Parse '4:30:00' => 4.5 hours.\"\"\"\n",
    "    while time.count(':') < 2: \n",
    "        time = '0:' + time\n",
    "    return round(pd.Timedelta(time).seconds / 60 / 60, 4)\n",
    "\n",
    "def clean_num(field): return float(re.sub(',| ft| mi', '', field))"
   ]
  },
  {
   "cell_type": "code",
   "execution_count": 3,
   "metadata": {},
   "outputs": [],
   "source": [
    "rides = pd.read_table(open('bikerides.tsv'), comment='#',\n",
    "            converters=dict(miles=clean_num, hours=parse_hours, feet=clean_num))\n",
    "\n",
    "miles, hours, feet = [rides[attr] for attr in ('miles', 'hours', 'feet')]"
   ]
  },
  {
   "cell_type": "markdown",
   "metadata": {},
   "source": [
    "# Segments\n",
    "\n",
    "I picked some representative climbing segments ([`bikesegments.csv`](bikesegments.csv)) with the segment length in miles and climb in feet, along with several of my times on the segment. A line like\n",
    "\n",
    "    Old La Honda,                   2.98, 1255, 28:49, 34:03, 36:44\n",
    "    \n",
    "means that this segment of Old La Honda Rd is 2.98 miles long, 1255 feet of climbing, and I've selected three times for my rides on that segment: the fastest, middle, and slowest of the times  that Strava shows."
   ]
  },
  {
   "cell_type": "code",
   "execution_count": 4,
   "metadata": {},
   "outputs": [],
   "source": [
    "Segment = Tuple[str, float, int, float] # (Name, miles, feet, hours)\n",
    "\n",
    "def parse_segments(lines) -> Iterator[Segment]:\n",
    "    \"\"\"Parse a string of segments into Rides. Each line contains:\n",
    "    'segment_title, miles, feet_climb, time(s), ...'.\"\"\"\n",
    "    for segment in lines:\n",
    "        title, mi, ft, *times = segment.split(',')\n",
    "        for time in times:\n",
    "            yield title, float(mi), clean_num(ft), parse_hours(time)"
   ]
  },
  {
   "cell_type": "code",
   "execution_count": 5,
   "metadata": {},
   "outputs": [],
   "source": [
    "segments = pd.DataFrame(parse_segments(open('bikesegments.csv')),\n",
    "                        columns=('title', 'miles', 'feet', 'hours'))\n",
    "\n",
    "miles2, hours2, feet2 = [segments[attr] for attr in ('miles', 'hours', 'feet')]\n",
    "\n",
    "pct2 = feet2 / miles2 * 100 / 5280"
   ]
  },
  {
   "cell_type": "markdown",
   "metadata": {},
   "source": [
    "# Eddington Number"
   ]
  },
  {
   "cell_type": "code",
   "execution_count": 6,
   "metadata": {},
   "outputs": [],
   "source": [
    "def Ed_number(distances) -> int:\n",
    "    \"\"\"Eddington number: The maximum integer e such that you have bicycled \n",
    "    a distance of at least e on at least e days.\"\"\"\n",
    "    distances = sorted(distances, reverse=True)\n",
    "    return max(e for e, d in enumerate(distances, 1) if d >= e)\n",
    "\n",
    "def Ed_gap(distances, target) -> int:\n",
    "    \"\"\"The number of rides needed to reach an Eddington number target.\"\"\"\n",
    "    return target - sum(distances > target)\n",
    "\n",
    "def Ed_progress(years, rides=rides) -> pd.DataFrame:\n",
    "    \"\"\"A table of Eddington numbers by year.\"\"\"\n",
    "    def row(y):\n",
    "        miles = np.array([r.miles for r in rides.itertuples() if year(r) <= y])\n",
    "        return y, Ed_number(miles), Ed_number(kms(miles))\n",
    "    return pd.DataFrame(map(row, years), columns=['year', 'E_mi', 'E_km'])\n",
    "\n",
    "def kms(miles: np.array) -> np.array: \n",
    "    \"Convert miles to kilometers.\"\n",
    "    return 1.609344 * miles\n",
    "\n",
    "def year(ride) -> int: return int(ride.date[-4:])"
   ]
  },
  {
   "cell_type": "markdown",
   "metadata": {},
   "source": [
    "# Plotting and Curve-Fitting"
   ]
  },
  {
   "cell_type": "code",
   "execution_count": 7,
   "metadata": {},
   "outputs": [],
   "source": [
    "def show(X, Y, xlabel='Segment Grade (percent)', ylabel='Speed (mph)', degrees=(2, 3)): \n",
    "    \"\"\"Plot X versus Y and a best fit curve to it, with some bells and whistles.\"\"\"\n",
    "    plt.rcParams[\"figure.figsize\"] = (9, 6)\n",
    "    grid(); plt.ylabel(ylabel); plt.xlabel(xlabel)\n",
    "    plt.scatter(X, Y, c='grey', marker='+')\n",
    "    X1 = np.linspace(min(X), max(X), 100)\n",
    "    for degree in degrees:\n",
    "        F = poly_fit(X, Y, degree)\n",
    "        plt.plot(X1, [F(x) for x in X1], '-')\n",
    "\n",
    "def grid(axis='both'): \n",
    "    \"Turn on the grid.\"\n",
    "    plt.minorticks_on() \n",
    "    plt.grid(which='major', axis=axis, ls='-', alpha=1/2)\n",
    "    plt.grid(which='minor', axis=axis, ls=':', alpha=1/4)\n",
    "    \n",
    "def poly_fit(X, Y, degree: int) -> callable:\n",
    "    \"\"\"The polynomial function that best fits the X,Y vectors.\"\"\"\n",
    "    coeffs = np.polyfit(X, Y, degree)[::-1]\n",
    "    return lambda x: sum(c * x ** i for i, c in enumerate(coeffs)) \n",
    "\n",
    "def estimate(dist, climb, mph=poly_fit(feet/miles, miles/hours, 2)) -> float:\n",
    "    \"\"\"Given a ride distance in miles and total climb in feet, estimate time in minutes.\"\"\"\n",
    "    return 60 * dist / mph(climb / dist)"
   ]
  },
  {
   "cell_type": "markdown",
   "metadata": {},
   "source": [
    "# Wandering\n",
    "\n",
    "Monthly, I will take my [summary data from wandrer.earth](https://wandrer.earth/athletes/3534/santa-clara-county-california) and enter it in the file [bikeplaces.txt](bikeplaces.txt), in a format where\n",
    "\n",
    "      Cupertino: 172: 22.1 23.9 26.2*3 26.3 | 26.4\n",
    "      \n",
    "means that Cupertino has 172 miles of roads, and that by the first month I started keeping track, I had ridden 22.1% of them; in the last month 26.4%; and the `26.2*3` means that for 3 months in a row I had 26.2%. The `|` indicates the end of a year. A line that starts with `#` is a comment."
   ]
  },
  {
   "cell_type": "code",
   "execution_count": 8,
   "metadata": {},
   "outputs": [],
   "source": [
    "class Month(int):\n",
    "    \"\"\"An integer in the form: 12 * year + month.\"\"\"\n",
    "    def __str__(self): return f'{(self - 1) // 12}-{self % 12 or 12:02d}'\n",
    "\n",
    "start = Month(2020 * 12 + 7) # Starting month: July 2020\n",
    "dates = [Month(start + i) for i in range(7)]\n",
    "\n",
    "Entry = Tuple[str, float, List[float]] # (Place_Name, miles_of_roads, [pct_by_month,...])\n",
    "\n",
    "def wandrer(category, entries, dates=dates):\n",
    "    \"\"\"Plot Wandrer.earth data.\"\"\"\n",
    "    D = len(dates)\n",
    "    fig, ax = plt.figure(), plt.subplot(111); plt.plot()\n",
    "    for (place, miles, pcts), marker in zip(entries, '^v><osdhxDHPX*1234'):\n",
    "        X = [dates[i] for i in range(D) if pcts[i]]\n",
    "        Y = [pcts[i]  for i in range(D) if pcts[i]]\n",
    "        L = f'{pcts[-1]}% {place} ({rounded(miles * pcts[-1] / 100)}/{rounded(miles)} mi)'\n",
    "        ax.plot(X, Y, ':', marker=marker, label=L)\n",
    "    all_pcts = [p for _, _, pcts in entries for p in pcts if p]\n",
    "    for p in (25, 90): # Bonus Points (also, 50, 75, 99)\n",
    "        if min(all_pcts) < p < max(all_pcts):\n",
    "            ax.plot(dates, [p] * D, 'k:', lw=1, alpha=3/4) # Plot bonus line\n",
    "    ax.legend(loc='center left', bbox_to_anchor=(1, 0.5), shadow=True)\n",
    "    plt.xticks(dates, [str(d) for d in dates], rotation=90)\n",
    "    plt.ylabel('Percent of Area Ridden')\n",
    "    plt.title(category); plt.tight_layout(); grid(axis='y'); plt.show()\n",
    "    \n",
    "def parse_places(lines) -> Dict[str, List[Entry]]:\n",
    "    \"Parse bikeplaces.txt into a dict of {'Title': [entry,...]}\"\n",
    "    places = {}\n",
    "    category = None\n",
    "    for line in lines:\n",
    "        line = line.strip()\n",
    "        if line.startswith('#') or not line: \n",
    "            pass\n",
    "        elif line.startswith(':'):\n",
    "            title = line.strip(':')\n",
    "            places[title] = []\n",
    "        else:\n",
    "            places[title].append(parse_entry(line))\n",
    "            places[title].sort(key=lambda entry: -entry[-1][-1])\n",
    "    return places\n",
    "    \n",
    "def parse_entry(line: str, dates=dates) -> Entry:\n",
    "    \"\"\"Parse line => ('Place Name', miles, [percents]); '=' can be used.\"\"\"\n",
    "    place, miles, pcts = line.replace('|', ' ').split(':')\n",
    "    pcts = re.sub('( [0-9.]+)[*]([0-9]+)', lambda m: m.group(1) * int(m.group(2)),\n",
    "                  pcts).split()\n",
    "    assert len(pcts) == len(dates), f\"Bad percents: {place}: {pcts}\"\n",
    "    for i, p in enumerate(pcts):\n",
    "        pcts[i] = pcts[i - 1] if p == '=' else 100 if p == '100' else float(p)\n",
    "    return place, float(miles), pcts \n",
    "                   \n",
    "def rounded(x: float) -> str: return f'{round(x):,d}' if x > 10 else f'{x:.1f}'\n",
    "\n",
    "def wandering(places: dict):\n",
    "    \"Plot charts of unique roads ridden in various places.\"\n",
    "    for category in places:\n",
    "        wandrer(category, places[category])"
   ]
  },
  {
   "cell_type": "code",
   "execution_count": 9,
   "metadata": {},
   "outputs": [],
   "source": [
    "places = parse_places(open('bikeplaces.txt'))"
   ]
  }
 ],
 "metadata": {
  "kernelspec": {
   "display_name": "Python 3",
   "language": "python",
   "name": "python3"
  },
  "language_info": {
   "codemirror_mode": {
    "name": "ipython",
    "version": 3
   },
   "file_extension": ".py",
   "mimetype": "text/x-python",
   "name": "python",
   "nbconvert_exporter": "python",
   "pygments_lexer": "ipython3",
   "version": "3.7.7"
  }
 },
 "nbformat": 4,
 "nbformat_minor": 4
}
