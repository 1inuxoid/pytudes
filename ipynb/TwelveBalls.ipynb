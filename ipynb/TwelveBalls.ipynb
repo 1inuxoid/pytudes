{
 "cells": [
  {
   "cell_type": "markdown",
   "metadata": {},
   "source": [
    "<div align=\"right\"><i>Peter Norvig<br>2012<br>updated 2019, 2020</i></div>\n",
    "\n",
    "# Weighing Twelve Balls on a Scale: 🎱🎱🎱🎱 ⚖ 🎱🎱🎱🎱 \n",
    "\n",
    "> *You are given twelve identical-looking balls and a two-sided scale. One of the balls is of a different weight, although you don't know whether it is lighter or heavier. How can you use just three weighings of the scale to determine not only what the different ball is, but also whether it is lighter or heavier?*\n",
    "\n",
    "This is [a classic](https://en.wikipedia.org/wiki/Balance_puzzle) brain-teaser puzzle (first appearing in 1945), meant to be solved with paper and pencil.  But I want to solve not just this specific puzzle, but related puzzles where you can vary (a) the number of balls, (b) the number of weighings allowed, and (c) whether the different ball might be heavier, lighter, or either, or neither. So I'll be better served by a computer program, not a pencil. \n",
    "\n",
    "(I originally wrote this program in Lisp around 1980, ported it to Python in 2012, and am republishing it here in revised form because the puzzle was mentioned in the [538 Riddler](https://fivethirtyeight.com/features/which-billiard-ball-is-rigged/) for 16 August 2019. It also appeared in a [Numberplay](https://wordplay.blogs.nytimes.com/2014/07/21/12coin/) column in 2014 (with coins instead of balls), in the Museum of Math's [Mindbenders](https://momath.org/civicrm/?page=CiviCRM&q=civicrm/event/info&reset=1&id=1620) series during shelter-in-place 2020, and in many other venues.)\n",
    "\n",
    "\n",
    "# Defining the Vocabulary\n",
    "    \n",
    "Here are the concepts I'm dealing with:\n",
    "\n",
    "- **balls**: In the general case we have `N` balls. I'll represent them with a list like `[1, 2, 3]` for `N = 3`.\n",
    "- **oddball**: One of the balls is different in weight; I'll use the term **oddball** to indicate which ball is different, and how. I'll use `+N` to mean that ball `N` is heavier, and `-N` to mean ball `N` is lighter. (Note that `0` cannot be a ball.)\n",
    "- **possible oddballs**: I'll keep track of the set of possible oddballs for a puzzle, and the remaining possibilities after each weighing. With `N = 3`, the set of all possible oddballs is `{+1, -1, +2, -2, +3, -3}`. \n",
    "- **puzzle**: I'll express the puzzle stated above with `Puzzle(N=12, weighings=3)`. A puzzle is defined by the balls involved, the number of weighings allowed, and the possible oddballs. (I'll add a few complications later.)\n",
    "- **weighing**: I can weigh a collection of balls on the left versus a collection on the right, and the result will be that the left side is greater than, equal to, or less than the right in weight. I'll denote that with the call `weigh(L, R, oddball)`, which returns a string, `'gt'`, `'eq'`, or `'lt'`.\n",
    "- **weight**: I'll arbitrarily say that a normal ball weighs 100, a lighter ball 99, and a heavier ball 101.\n",
    "- **solution**: Given a puzzle, a solution is a **strategy tree** that can correctly discover the oddball, whatever it is, in the allowable number of weighings. Since a tree with W weighings has 3<sup>W</sup> possible outcomes (leaf nodes), we can deduce that it is impossible to find a solution in W weighings if there are more than 3<sup>W</sup> possible oddballs.\n",
    "- **strategy tree**: A tree whose leaf nodes are all oddballs (ints), and whose interior nodes have 5 components:  `Node(L, R, gt, eq, lt)` is a node where `L` and `R` are the collections of balls to be weighed, and `gt`, `eq`, and `lt` are branches for subtrees corresponding to the three possible results of the weighing. (I'll also use `None` to mean \"could not find a valid tree.\")\n",
    "- **following a path in a tree**: I'll use `follow(tree, oddball)` to say *follow the path through the tree, doing each weighing under the assumption of the given oddball, and return the leaf node reached by the path&mdash;the oddball that the tree predicts.* Note that the function `follow` gets to see what the oddball is, but the `tree` never gets direct access to that; the tree has to figure it out by doing weighings.\n",
    "- **valid solution**: A tree is a valid solution to a puzzle if no branch uses more than the allowable number of weighings, and if, for every possible oddball in the puzzle, following the path through the tree correctly returns that oddball as the answer. I'll use `valid(tree, puzzle)` for this.\n",
    "\n",
    "Note: In the definition of the `Puzzle` class, by default the possible oddballs are all the \"lighter\" and \"heavier\" versions of the puzzle's balls. But if you want a different kind of puzzle, the `Puzzle` class gives you two ways to say that: \n",
    "- You can specify the keyword argument `odd`, whose value can be any subset of `{-1, 0, +1}`, where `-1` means \"any one ball might be lighter,\" `+1` means \"any one ball might be heavier,\" and `0` means \"it might be that no ball is odd; they might all weigh the same.\"\n",
    "- You can specify the keyword argument `oddballs` and give an explicit set of oddballs; any set of positive, negative, or zero integers.\n",
    "\n",
    "\n",
    "# Implementation of Data Types\n"
   ]
  },
  {
   "cell_type": "code",
   "execution_count": 1,
   "metadata": {},
   "outputs": [],
   "source": [
    "from collections import namedtuple\n",
    "import random\n",
    "\n",
    "Ball = Oddball = Leaf = int\n",
    "\n",
    "Node = namedtuple('Node', 'L, R, gt, eq, lt')\n",
    "\n",
    "Tree = (Node, Leaf) # A tree can be an interior node or a leaf\n",
    "\n",
    "class Puzzle:\n",
    "    \"Represent a specific ball-weighing puzzle.\"\n",
    "    def __init__(self, N=12, weighings=3, odd={-1, +1}, oddballs=None):\n",
    "        self.balls     = list(range(1, N + 1))\n",
    "        self.weighings = weighings\n",
    "        self.oddballs  = oddballs or {b * o for b in self.balls for o in odd}"
   ]
  },
  {
   "cell_type": "markdown",
   "metadata": {},
   "source": [
    "# Implementation of Basic Functions\n",
    "\n",
    "Here are all the straightforward utility functions; everything except the main function `find_tree`, that actually solves a puzzle."
   ]
  },
  {
   "cell_type": "code",
   "execution_count": 2,
   "metadata": {},
   "outputs": [],
   "source": [
    "def weigh(L, R, oddball) -> str:\n",
    "    \"Weigh balls L against balls R, given the oddball; return 'gt', 'eq', or 'lt'.\"\n",
    "    diff = sum(weight(b, oddball) for b in L) - sum(weight(b, oddball) for b in R)\n",
    "    return ('gt' if diff > 0 else\n",
    "            'lt' if diff < 0 else\n",
    "            'eq')\n",
    "\n",
    "def weight(ball, oddball) -> int: \n",
    "    \"How heavy is this ball (given that we know what the oddball is)?\"\n",
    "    return 101 if +ball == oddball else 99 if -ball == oddball else 100\n",
    "    \n",
    "def solve(puzzle) -> Tree or None:\n",
    "    \"Return a valid tree (one that solves the puzzle), or None for failure.\"\n",
    "    tree = find_tree(puzzle, puzzle.oddballs, puzzle.weighings)\n",
    "    return tree if valid(tree, puzzle) else None\n",
    "    \n",
    "def follow(tree, oddball) -> Oddball:\n",
    "    \"Follow a path through the tree and return the oddball that the tree leads us to.\"\n",
    "    if is_leaf(tree):\n",
    "        return tree\n",
    "    else:\n",
    "        branch = weigh(tree.L, tree.R, oddball)\n",
    "        return follow(getattr(tree, branch), oddball)\n",
    "    \n",
    "def valid(tree, puzzle) -> bool:\n",
    "    \"Does the strategy tree solve the puzzle correctly for all possible oddballs?\"\n",
    "    return (tree is not None and\n",
    "            depth(tree) <= puzzle.weighings and \n",
    "            all(follow(tree, oddball) == oddball \n",
    "                for oddball in puzzle.oddballs))\n",
    "\n",
    "def depth(tree) -> int:\n",
    "    \"Maximum depth (number of weighings) in tree.\"\n",
    "    return (0 if is_leaf(tree) or tree is None\n",
    "            else 1 + max(depth(tree.gt), depth(tree.eq), depth(tree.lt)))\n",
    "\n",
    "def first(iterable): return next(iter(iterable))\n",
    "\n",
    "def is_leaf(tree): return isinstance(tree, Leaf)"
   ]
  },
  {
   "cell_type": "markdown",
   "metadata": {},
   "source": [
    "Let's try out some of these functions:"
   ]
  },
  {
   "cell_type": "code",
   "execution_count": 3,
   "metadata": {},
   "outputs": [
    {
     "data": {
      "text/plain": [
       "3"
      ]
     },
     "execution_count": 3,
     "metadata": {},
     "output_type": "execute_result"
    }
   ],
   "source": [
    "# A puzzle with 8 balls and 3 weighings allowed\n",
    "p8 = Puzzle(8, 3) \n",
    "p8.weighings"
   ]
  },
  {
   "cell_type": "code",
   "execution_count": 4,
   "metadata": {},
   "outputs": [
    {
     "data": {
      "text/plain": [
       "[1, 2, 3, 4, 5, 6, 7, 8]"
      ]
     },
     "execution_count": 4,
     "metadata": {},
     "output_type": "execute_result"
    }
   ],
   "source": [
    "p8.balls "
   ]
  },
  {
   "cell_type": "code",
   "execution_count": 5,
   "metadata": {},
   "outputs": [
    {
     "data": {
      "text/plain": [
       "{-8, -7, -6, -5, -4, -3, -2, -1, 1, 2, 3, 4, 5, 6, 7, 8}"
      ]
     },
     "execution_count": 5,
     "metadata": {},
     "output_type": "execute_result"
    }
   ],
   "source": [
    "p8.oddballs"
   ]
  },
  {
   "cell_type": "code",
   "execution_count": 6,
   "metadata": {},
   "outputs": [
    {
     "data": {
      "text/plain": [
       "'gt'"
      ]
     },
     "execution_count": 6,
     "metadata": {},
     "output_type": "execute_result"
    }
   ],
   "source": [
    "# If we weigh balls 1, 2 against 3, 4, and 4 is lighter, the result should be 'gt'\n",
    "weigh([1, 2], [3, 4], -4)"
   ]
  },
  {
   "cell_type": "code",
   "execution_count": 7,
   "metadata": {},
   "outputs": [
    {
     "data": {
      "text/plain": [
       "100"
      ]
     },
     "execution_count": 7,
     "metadata": {},
     "output_type": "execute_result"
    }
   ],
   "source": [
    "weight(1, oddball=-4)"
   ]
  },
  {
   "cell_type": "code",
   "execution_count": 8,
   "metadata": {},
   "outputs": [
    {
     "data": {
      "text/plain": [
       "99"
      ]
     },
     "execution_count": 8,
     "metadata": {},
     "output_type": "execute_result"
    }
   ],
   "source": [
    "weight(4, oddball=-4)"
   ]
  },
  {
   "cell_type": "markdown",
   "metadata": {},
   "source": [
    "# Finding a Valid Tree\n",
    "\n",
    "Now we've got all the pieces we need to find a valid tree to solve a puzzle. The key concept is that a **weighing** gives us information by making a **partition** of the possible **oddballs** into branches for each of the three possible weighing results: `gt`, `eq`, or `lt`. If each of the partitions is small enough, subsequent weighings can handle each of them. Here's what I mean by a partition:"
   ]
  },
  {
   "cell_type": "code",
   "execution_count": 9,
   "metadata": {},
   "outputs": [],
   "source": [
    "def partition(L, R, oddballs) -> dict:\n",
    "    \"Build a dict that partitions the possible outcomes (oddballs) resulting from weighing L versus R.\"\n",
    "    part = dict(gt=set(), eq=set(), lt=set())\n",
    "    for odd in oddballs:\n",
    "        part[weigh(L, R, odd)].add(odd)\n",
    "    return part"
   ]
  },
  {
   "cell_type": "markdown",
   "metadata": {},
   "source": [
    "For example, with 12 balls, if we weigh balls {1, 2, 3} on the left versus {10, 11, 12} on the right, then there are 6 ways  the left side can be greater than the right: either 10, 11 or 12 is lighter or  1, 2, or 3 is heavier. Similarly there are 6 ways of getting a `lt` weighing result. The remaining 12 possibilities&mdash;balls 4 through 9 being either heavier or lighter&mdash;show up in the `eq` branch of the partition:"
   ]
  },
  {
   "cell_type": "code",
   "execution_count": 10,
   "metadata": {},
   "outputs": [
    {
     "data": {
      "text/plain": [
       "{'gt': {-12, -11, -10, 1, 2, 3},\n",
       " 'eq': {-9, -8, -7, -6, -5, -4, 4, 5, 6, 7, 8, 9},\n",
       " 'lt': {-3, -2, -1, 10, 11, 12}}"
      ]
     },
     "execution_count": 10,
     "metadata": {},
     "output_type": "execute_result"
    }
   ],
   "source": [
    "p12 = Puzzle(12, 3)\n",
    "\n",
    "partition([1, 2, 3], [10, 11, 12], p12.oddballs)"
   ]
  },
  {
   "cell_type": "markdown",
   "metadata": {},
   "source": [
    "If this was the first weighing in our strategy tree, could we go on to solve the puzzle in 3 weighings? **No!** With two remaining weighings we can handle at most  3 &times; 3 = 9 possibilities; here we have 12 possibilities in the `eq` branch, which is too many. We call this a **bad partition**.\n",
    "\n",
    "The following is a **good partition** because each of the branches has 8 possibilities, and 8 is less than 9. "
   ]
  },
  {
   "cell_type": "code",
   "execution_count": 11,
   "metadata": {},
   "outputs": [
    {
     "data": {
      "text/plain": [
       "{'gt': {-12, -11, -10, -9, 1, 2, 3, 4},\n",
       " 'eq': {-8, -7, -6, -5, 5, 6, 7, 8},\n",
       " 'lt': {-4, -3, -2, -1, 9, 10, 11, 12}}"
      ]
     },
     "execution_count": 11,
     "metadata": {},
     "output_type": "execute_result"
    }
   ],
   "source": [
    "partition([1, 2, 3, 4], [9, 10, 11, 12], p12.oddballs)"
   ]
  },
  {
   "cell_type": "markdown",
   "metadata": {},
   "source": [
    "(Note: being a good partition does not guarantee that the puzzle is solvable from there; but being a bad partition guarantees that it is not solvable. Also note that this is a good partition with 2 remaining weighings, but would be a bad partition with only one remaining weighing.)"
   ]
  },
  {
   "cell_type": "markdown",
   "metadata": {},
   "source": [
    "So now we have a viable approach to implementing `find_tree`:\n",
    "\n",
    "   - We call `find_tree(puzzle, oddballs, weighings)`. At the top level, the oddballs and number of weighings come from the puzzle. At recursive levels, we will reduce the number of oddball possibilities according to the partition, and the number of remaining weighings by 1 each time.\n",
    "   - We handle trivial cases when there are zero or one oddballs remaining, or no weighings remaining.\n",
    "   - Otherwise, we generate random partitions of the balls, and examine the good ones.\n",
    "   - Given a good partition, all we have to do is find good trees (i.e. not `None`) for each of the three branches. If we can find that, return the tree as a solution.\n",
    "   - If we can't find good trees for any partition, return `None` to indicate failure.\n",
    "   \n",
    "The rest of the work is done by `good_partitions`:\n",
    "\n",
    "   - We select two lists of balls to be weighed, `L` and `R`, both of length `B`.\n",
    "   - We systematically consider all reasonable values of `B`. (All values from 1 up to 1/3 the number of balls, rounded up.)\n",
    "   - We then see what partition `L` and `R` gives us.\n",
    "   - If it is good, the function yields the `(L, R, partition)` tuple.\n",
    "   - In any case, we shuffle the balls and repeat, trying to generate more good partitions. I chose to repeat 100 times, to have a very good chance of randomly selecting a good partition for solvable puzzles, and of terminating in just a few seconds for unsolvable puzzles. \n",
    "   - However, I note that on the first weighing, there's no sense making multiple tries with randomly shuffled  balls&mdash;the only choice that matters is how many balls, `B`, to put on each side, because the balls are undifferentiated at this point. So I only repeat for one try in that case.\n",
    "   - If I wanted to solve puzzles with hundreds or  thousands of balls, not just dozens, I would come back and improve `good_partitions`."
   ]
  },
  {
   "cell_type": "code",
   "execution_count": 12,
   "metadata": {},
   "outputs": [],
   "source": [
    "def find_tree(puzzle, oddballs, weighings) -> Tree or None:\n",
    "    \"Find a strategy tree that covers all the oddballs in the given number of weighings.\"\n",
    "    if len(oddballs) == 1:\n",
    "        return first(oddballs) # One possibility left; we're done; leaf node\n",
    "    elif len(oddballs) == 0:\n",
    "        return 0               # No oddball (a possibility for some puzzles)\n",
    "    elif weighings == 0:\n",
    "        return None            # No solution; failure\n",
    "    else:\n",
    "        for L, R, part in good_partitions(puzzle, oddballs, weighings - 1):\n",
    "            subtrees = {r: find_tree(puzzle, part[r], weighings - 1) for r in part}\n",
    "            if None not in subtrees.values(): \n",
    "                return Node(L, R, **subtrees)\n",
    "    \n",
    "def good_partitions(puzzle, oddballs, weighings, tries=100):\n",
    "    \"Yield random (L, R, partition) tuples with no partition branch longer than 3**weighings.\"\n",
    "    balls = sorted(puzzle.balls)\n",
    "    for repeat in range(1 if oddballs == puzzle.oddballs else tries): \n",
    "        for B in range(1, (len(balls) + 2) // 3 + 1):\n",
    "            L, R = balls[:B], balls[-B:]\n",
    "            part = partition(L, R, oddballs)\n",
    "            longest_part = max(part.values(), key=len)\n",
    "            if len(longest_part) <= 3 ** weighings:\n",
    "                yield L, R, part\n",
    "        random.shuffle(balls)"
   ]
  },
  {
   "cell_type": "markdown",
   "metadata": {},
   "source": [
    "Here we see that  `good_partitions` does its job:"
   ]
  },
  {
   "cell_type": "code",
   "execution_count": 13,
   "metadata": {},
   "outputs": [
    {
     "data": {
      "text/plain": [
       "([1, 2, 3, 4],\n",
       " [9, 10, 11, 12],\n",
       " {'gt': {-12, -11, -10, -9, 1, 2, 3, 4},\n",
       "  'eq': {-8, -7, -6, -5, 5, 6, 7, 8},\n",
       "  'lt': {-4, -3, -2, -1, 9, 10, 11, 12}})"
      ]
     },
     "execution_count": 13,
     "metadata": {},
     "output_type": "execute_result"
    }
   ],
   "source": [
    "next(good_partitions(p12, p12.oddballs, 2))"
   ]
  },
  {
   "cell_type": "markdown",
   "metadata": {},
   "source": [
    "# Solving Some Puzzles\n",
    "\n",
    "Now we're ready to solve puzzles!"
   ]
  },
  {
   "cell_type": "code",
   "execution_count": 14,
   "metadata": {},
   "outputs": [
    {
     "data": {
      "text/plain": [
       "Node(L=[1, 2, 3, 4], R=[9, 10, 11, 12], gt=Node(L=[3, 12, 7], R=[9, 2, 10], gt=Node(L=[4, 10, 3], R=[8, 1, 2], gt=3, eq=-9, lt=-10), eq=Node(L=[5, 12, 6, 9], R=[4, 7, 11, 3], gt=-11, eq=1, lt=4), lt=Node(L=[1], R=[12], gt=-12, eq=2, lt=0)), eq=Node(L=[7, 4, 11, 6], R=[1, 10, 9, 8], gt=Node(L=[7, 12], R=[6, 1], gt=7, eq=-8, lt=6), eq=Node(L=[12], R=[5], gt=-5, eq=0, lt=5), lt=Node(L=[4, 5], R=[8, 7], gt=-7, eq=-6, lt=8)), lt=Node(L=[7, 6, 9, 3], R=[10, 2, 4, 5], gt=Node(L=[12, 10], R=[2, 9], gt=-2, eq=-4, lt=9), eq=Node(L=[11, 6, 8, 1], R=[9, 4, 7, 5], gt=11, eq=12, lt=-1), lt=Node(L=[1, 10], R=[2, 11], gt=10, eq=-3, lt=0)))"
      ]
     },
     "execution_count": 14,
     "metadata": {},
     "output_type": "execute_result"
    }
   ],
   "source": [
    "solve(p12)"
   ]
  },
  {
   "cell_type": "markdown",
   "metadata": {},
   "source": [
    "OK, that's hard to read&mdash;my bad. Let's look at a much easier puzzle: 3 balls, 1 weighing allowed, and the oddball can only be lighter:"
   ]
  },
  {
   "cell_type": "code",
   "execution_count": 15,
   "metadata": {},
   "outputs": [
    {
     "data": {
      "text/plain": [
       "Node(L=[1], R=[3], gt=-3, eq=-2, lt=-1)"
      ]
     },
     "execution_count": 15,
     "metadata": {},
     "output_type": "execute_result"
    }
   ],
   "source": [
    "tree = solve(Puzzle(3, 1, odd={-1}))\n",
    "tree"
   ]
  },
  {
   "cell_type": "markdown",
   "metadata": {},
   "source": [
    "This tree says you weigh the first ball against the third (leaving the second unweighed), and the three possible weighing results tell you which of the three balls  is lighter. "
   ]
  },
  {
   "cell_type": "markdown",
   "metadata": {},
   "source": [
    "# Prettier Output\n",
    "\n",
    "Let's make the output easier to read. I'll use `[1·2·3·4]⚖[9·10·11·12] ➔` to mean \"*Weigh balls 1,2,3,4 versus 9,10,11,12 to get a result...*\". I'll indent each interior node in the tree, and I'll use `>:` to mean *the result when the left hand side is greater than the right in weight is...*  "
   ]
  },
  {
   "cell_type": "code",
   "execution_count": 16,
   "metadata": {},
   "outputs": [],
   "source": [
    "def do(puzzle):\n",
    "    \"Print the solution to the puzzle as indented text.\"\n",
    "    tree = solve(puzzle)\n",
    "    print(indented(tree))\n",
    "    \n",
    "def indented(tree, i=0, prefix='') -> str:\n",
    "    \"Pretty, indented string representing a strategy tree.\"\n",
    "    if tree == 0 or tree == None:\n",
    "        return f'{prefix}{tree}'\n",
    "    elif is_leaf(tree):\n",
    "        return f'{prefix}{tree:+d}'\n",
    "    else:\n",
    "        subtrees = (indented(tree.gt, i+1, '>:'), \n",
    "                    indented(tree.eq, i+1, '=:'), \n",
    "                    indented(tree.lt, i+1, '<:'))\n",
    "        indent   = ('' if i == 0 else ('\\n' + ' ' * 5 * i))\n",
    "        return f'{indent}{prefix}{side(tree.L)}⚖{side(tree.R)} ➔ {\" \".join(subtrees)})'\n",
    "    \n",
    "def side(balls) -> str: return str(sorted(balls)).replace(', ', '·')"
   ]
  },
  {
   "cell_type": "code",
   "execution_count": 17,
   "metadata": {},
   "outputs": [
    {
     "name": "stdout",
     "output_type": "stream",
     "text": [
      "[1]⚖[3] ➔ >:-3 =:-2 <:-1)\n"
     ]
    }
   ],
   "source": [
    "# 3 balls, 1 weighing, only lighter balls possible\n",
    "do(Puzzle(3, 1, {-1}))"
   ]
  },
  {
   "cell_type": "code",
   "execution_count": 18,
   "metadata": {},
   "outputs": [
    {
     "name": "stdout",
     "output_type": "stream",
     "text": [
      "[1]⚖[3] ➔ \n",
      "     >:[2]⚖[3] ➔ >:-3 =:+1 <:0) \n",
      "     =:[2]⚖[1] ➔ >:+2 =:0 <:-2) \n",
      "     <:[1]⚖[2] ➔ >:0 =:+3 <:-1))\n"
     ]
    }
   ],
   "source": [
    "# 3 balls, 2 weighings, lighter or heavier balls possible\n",
    "do(Puzzle(3, 2))"
   ]
  },
  {
   "cell_type": "code",
   "execution_count": 19,
   "metadata": {},
   "outputs": [
    {
     "name": "stdout",
     "output_type": "stream",
     "text": [
      "[1·2·3·4]⚖[9·10·11·12] ➔ \n",
      "     >:[1·3·10·12]⚖[4·6·7·9] ➔ \n",
      "          >:[1·9]⚖[10·11] ➔ >:+1 =:+3 <:-9) \n",
      "          =:[2·9]⚖[10·12] ➔ >:+2 =:-11 <:0) \n",
      "          <:[4·8·12]⚖[1·2·6] ➔ >:+4 =:-10 <:-12)) \n",
      "     =:[3·6·8]⚖[1·4·7] ➔ \n",
      "          >:[5·6]⚖[8·9] ➔ >:+6 =:-7 <:+8) \n",
      "          =:[1·2·11]⚖[5·8·10] ➔ >:-5 =:0 <:+5) \n",
      "          <:[6·7·9]⚖[2·5·12] ➔ >:+7 =:-8 <:-6)) \n",
      "     <:[1·3·9·11]⚖[2·7·8·12] ➔ \n",
      "          >:[5·12]⚖[2·11] ➔ >:-2 =:+9 <:+11) \n",
      "          =:[1·2·3]⚖[10·11·12] ➔ >:0 =:-4 <:+10) \n",
      "          <:[1·2·7]⚖[3·8·9] ➔ >:-3 =:+12 <:-1)))\n"
     ]
    }
   ],
   "source": [
    "# The original puzzle with 12 balls, 3 weighings\n",
    "do(p12)"
   ]
  },
  {
   "cell_type": "code",
   "execution_count": 20,
   "metadata": {},
   "outputs": [
    {
     "name": "stdout",
     "output_type": "stream",
     "text": [
      "[1·2·3·4]⚖[9·10·11·12] ➔ \n",
      "     >:[3·4·6·12]⚖[2·5·8·9] ➔ \n",
      "          >:[1·8]⚖[3·9] ➔ >:-9 =:+4 <:+3) \n",
      "          =:[2·10]⚖[7·11] ➔ >:-11 =:+1 <:-10) \n",
      "          <:[1]⚖[12] ➔ >:-12 =:+2 <:0)) \n",
      "     =:[2·5·6]⚖[3·8·11] ➔ \n",
      "          >:[4·5·7·8]⚖[1·2·3·10] ➔ >:+5 =:+6 <:-8) \n",
      "          =:[1·5·8·12]⚖[3·4·7·11] ➔ >:-7 =:0 <:+7) \n",
      "          <:[3·7·11]⚖[5·8·10] ➔ >:-5 =:-6 <:+8)) \n",
      "     <:[3·4·5·11]⚖[1·2·7·10] ➔ \n",
      "          >:[5·7·8]⚖[2·6·11] ➔ >:-2 =:-1 <:+11) \n",
      "          =:[1]⚖[12] ➔ >:0 =:+9 <:+12) \n",
      "          <:[3·5·11·12]⚖[4·6·7·9] ➔ >:-4 =:+10 <:-3)))\n"
     ]
    }
   ],
   "source": [
    "# A different solution to the same puzzle\n",
    "do(p12)"
   ]
  },
  {
   "cell_type": "markdown",
   "metadata": {},
   "source": [
    "I note that the traditional answer to the puzzle weighs 4 balls on each side of the first weighing, three balls on the second weighing, and 2 balls on the third weighing. But my program is not so orderly. It always weighs 4 balls on the first weighing, but from there it can vary; it has no inclination to minimize the number of balls on each side of the scale, or to make one branch of the tree be similar to another branch.\n",
    "\n",
    "# Other Puzzles: 3 Weighings\n",
    "\n"
   ]
  },
  {
   "cell_type": "markdown",
   "metadata": {},
   "source": [
    "We can do **12 balls in 3 weighings** even when we add in the possibility that all the balls weigh the same (we use `0` to denote this situation):"
   ]
  },
  {
   "cell_type": "code",
   "execution_count": 21,
   "metadata": {},
   "outputs": [
    {
     "name": "stdout",
     "output_type": "stream",
     "text": [
      "[1·2·3·4]⚖[9·10·11·12] ➔ \n",
      "     >:[3·4·10]⚖[1·6·12] ➔ \n",
      "          >:[3·8]⚖[4·5] ➔ >:+3 =:-12 <:+4) \n",
      "          =:[3·4·5]⚖[2·9·10] ➔ >:-9 =:-11 <:+2) \n",
      "          <:[1]⚖[12] ➔ >:+1 =:-10 <:0)) \n",
      "     =:[5·7]⚖[8·11] ➔ \n",
      "          >:[3·6·7·8]⚖[1·10·11·12] ➔ >:+7 =:+5 <:-8) \n",
      "          =:[6·8·10]⚖[1·9·11] ➔ >:+6 =:0 <:-6) \n",
      "          <:[1·6·12]⚖[5·8·11] ➔ >:-5 =:-7 <:+8)) \n",
      "     <:[4·5·9·12]⚖[7·8·10·11] ➔ \n",
      "          >:[1]⚖[12] ➔ >:0 =:+9 <:+12) \n",
      "          =:[3]⚖[1] ➔ >:-1 =:-2 <:-3) \n",
      "          <:[1·2·5·12]⚖[3·4·6·11] ➔ >:-4 =:+10 <:+11)))\n"
     ]
    }
   ],
   "source": [
    "do(Puzzle(12, 3, odd={-1, 0, +1}))"
   ]
  },
  {
   "cell_type": "markdown",
   "metadata": {},
   "source": [
    "Can we solve the **13-balls in 3 weighings** puzzle, which has 26 possibilities? After all, 26 is less than 3<sup>3</sup>."
   ]
  },
  {
   "cell_type": "code",
   "execution_count": 22,
   "metadata": {},
   "outputs": [
    {
     "name": "stdout",
     "output_type": "stream",
     "text": [
      "None\n"
     ]
    }
   ],
   "source": [
    "do(Puzzle(13, 3))"
   ]
  },
  {
   "cell_type": "markdown",
   "metadata": {},
   "source": [
    "**No**, and the reason is that there is no first weighing that partitions the 26 possibilities into 9/9/8; the best we can do is partition into 8/10/8 or 10/6/10, and 10 possibilities can't be distinguished in the remaining two weighings:"
   ]
  },
  {
   "cell_type": "code",
   "execution_count": 23,
   "metadata": {},
   "outputs": [
    {
     "data": {
      "text/plain": [
       "{'gt': {-13, -12, -11, -10, 1, 2, 3, 4},\n",
       " 'eq': {-9, -8, -7, -6, -5, 5, 6, 7, 8, 9},\n",
       " 'lt': {-4, -3, -2, -1, 10, 11, 12, 13}}"
      ]
     },
     "execution_count": 23,
     "metadata": {},
     "output_type": "execute_result"
    }
   ],
   "source": [
    "partition([1, 2, 3, 4], [10, 11, 12, 13], Puzzle(13).oddballs)"
   ]
  },
  {
   "cell_type": "code",
   "execution_count": 24,
   "metadata": {},
   "outputs": [
    {
     "data": {
      "text/plain": [
       "{'gt': {-13, -12, -11, -10, -9, 1, 2, 3, 4, 5},\n",
       " 'eq': {-8, -7, -6, 6, 7, 8},\n",
       " 'lt': {-5, -4, -3, -2, -1, 9, 10, 11, 12, 13}}"
      ]
     },
     "execution_count": 24,
     "metadata": {},
     "output_type": "execute_result"
    }
   ],
   "source": [
    "partition([1, 2, 3, 4, 5], [9, 10, 11, 12, 13], Puzzle(13).oddballs)"
   ]
  },
  {
   "cell_type": "markdown",
   "metadata": {},
   "source": [
    "We can do **27 balls in 3 weighings** if we know that the oddball can only be lighter, not heavier:"
   ]
  },
  {
   "cell_type": "code",
   "execution_count": 25,
   "metadata": {},
   "outputs": [
    {
     "name": "stdout",
     "output_type": "stream",
     "text": [
      "[1·2·3·4·5·6·7·8·9]⚖[19·20·21·22·23·24·25·26·27] ➔ \n",
      "     >:[10·14·18·21·24·25]⚖[8·13·15·19·20·27] ➔ \n",
      "          >:[25·27]⚖[18·19] ➔ >:-19 =:-20 <:-27) \n",
      "          =:[12·13·26]⚖[17·23·24] ➔ >:-23 =:-22 <:-26) \n",
      "          <:[2·5·11·24]⚖[14·20·22·25] ➔ >:-25 =:-21 <:-24)) \n",
      "     =:[3·8·13·14·18·19·20·23·25]⚖[1·7·10·11·16·21·22·24·27] ➔ \n",
      "          >:[2·13·16·20·22·25]⚖[4·10·17·18·23·27] ➔ >:-10 =:-11 <:-16) \n",
      "          =:[9·17·24·26]⚖[1·3·5·12] ➔ >:-12 =:-15 <:-17) \n",
      "          <:[1·18·20·21·23]⚖[6·13·15·22·25] ➔ >:-13 =:-14 <:-18)) \n",
      "     <:[2·3·8·10·11·16·20·25·27]⚖[1·4·5·15·17·18·21·22·23] ➔ \n",
      "          >:[3·5·9·10·14·19·22·27]⚖[2·4·6·7·13·15·17·25] ➔ >:-4 =:-1 <:-5) \n",
      "          =:[1·7·10·11·27]⚖[9·13·21·22·26] ➔ >:-9 =:-6 <:-7) \n",
      "          <:[1·4·6·8·9·13·14·15·26]⚖[3·5·16·18·19·20·21·23·27] ➔ >:-3 =:-2 <:-8)))\n"
     ]
    }
   ],
   "source": [
    "do(Puzzle(27, 3, {-1}))"
   ]
  },
  {
   "cell_type": "markdown",
   "metadata": {},
   "source": [
    "And we can do **26 balls** under the condition that either one ball is lighter or all the balls weigh the same:"
   ]
  },
  {
   "cell_type": "code",
   "execution_count": 26,
   "metadata": {},
   "outputs": [
    {
     "name": "stdout",
     "output_type": "stream",
     "text": [
      "[1·2·3·4·5·6·7·8·9]⚖[18·19·20·21·22·23·24·25·26] ➔ \n",
      "     >:[1·2·6·9·13·17·22·23·26]⚖[4·5·11·14·15·16·18·20·24] ➔ \n",
      "          >:[1·2·9·15·19·22·24·26]⚖[6·8·10·11·13·14·16·18] ➔ >:-18 =:-20 <:-24) \n",
      "          =:[1·4·6·8·11·14·15·23·25]⚖[3·7·10·13·16·17·21·24·26] ➔ >:-21 =:-19 <:-25) \n",
      "          <:[4·10·13·18·19·26]⚖[2·7·8·15·17·23] ➔ >:-23 =:-22 <:-26)) \n",
      "     =:[5·6·12·14·16·18·22·24]⚖[1·13·15·17·19·23·25·26] ➔ \n",
      "          >:[3·6·8·12·14·17·22·23·25]⚖[2·4·5·9·13·18·19·21·24] ➔ >:-13 =:-15 <:-17) \n",
      "          =:[10·16·23]⚖[11·19·24] ➔ >:-11 =:0 <:-10) \n",
      "          <:[6·11·12·19·21·22·25]⚖[1·7·13·14·17·23·26] ➔ >:-14 =:-16 <:-12)) \n",
      "     <:[4·5·8·10·13·14·18]⚖[2·7·9·17·20·24·25] ➔ \n",
      "          >:[8·9·13·14·17·18·20·23·25]⚖[1·3·5·6·7·10·16·22·26] ➔ >:-7 =:-2 <:-9) \n",
      "          =:[1·9·11·15·20]⚖[6·7·8·17·25] ➔ >:-6 =:-3 <:-1) \n",
      "          <:[8·12·15·18·23]⚖[1·5·11·16·26] ➔ >:-5 =:-4 <:-8)))\n"
     ]
    }
   ],
   "source": [
    "do(Puzzle(26, 3, {-1, 0}))"
   ]
  },
  {
   "cell_type": "markdown",
   "metadata": {},
   "source": [
    "Here's a puzzle with **25 balls** with an unusual set of possibilities: either one of the odd-numbered balls is heavier, or one of the even-numbered balls is lighter, or no ball is odd."
   ]
  },
  {
   "cell_type": "code",
   "execution_count": 27,
   "metadata": {},
   "outputs": [
    {
     "name": "stdout",
     "output_type": "stream",
     "text": [
      "{0, 1, 3, 5, 7, 9, 11, 13, 15, 17, 19, 21, 23, 25, -24, -22, -20, -18, -16, -14, -12, -10, -8, -6, -4, -2}\n"
     ]
    }
   ],
   "source": [
    "N = 25\n",
    "p = Puzzle(N, 3, oddballs={(+b if b % 2 else -b) for b in range(N + 1)})\n",
    "print(p.oddballs)"
   ]
  },
  {
   "cell_type": "code",
   "execution_count": 28,
   "metadata": {},
   "outputs": [
    {
     "name": "stdout",
     "output_type": "stream",
     "text": [
      "[1·2·3·4·5·6·7·8·9]⚖[17·18·19·20·21·22·23·24·25] ➔ \n",
      "     >:[2·3·4·6·8·11·12·22·23]⚖[1·5·10·15·16·18·21·24·25] ➔ \n",
      "          >:[3·14·16·18·21]⚖[6·11·17·20·23] ➔ >:+3 =:-24 <:-18) \n",
      "          =:[1·4·7·8·10·12·20·23·24]⚖[2·3·5·6·16·17·18·19·22] ➔ >:+7 =:+9 <:-20) \n",
      "          <:[2·4·5·6·9·10·13·16·18]⚖[1·3·7·12·14·15·19·20·25] ➔ >:+5 =:-22 <:+1)) \n",
      "     =:[6·7·10·11·13·14·18]⚖[1·4·8·9·16·20·23] ➔ \n",
      "          >:[1·4·6·13·16·18·19·20·25]⚖[3·5·7·8·9·10·12·14·17] ➔ >:+13 =:+11 <:-16) \n",
      "          =:[8·14·25]⚖[12·15·18] ➔ >:-12 =:0 <:+15) \n",
      "          <:[2·5]⚖[10·24] ➔ >:-10 =:-14 <:0)) \n",
      "     <:[1·6·11·14·24·25]⚖[4·5·8·13·19·21] ➔ \n",
      "          >:[4·10·12·17·22·25]⚖[2·13·14·16·21·24] ➔ >:+25 =:-8 <:-4) \n",
      "          =:[9·12·14·18·22·25]⚖[1·2·5·20·23·24] ➔ >:-2 =:+17 <:+23) \n",
      "          <:[4·6·15·18·19]⚖[2·8·9·11·12] ➔ >:+19 =:+21 <:-6)))\n"
     ]
    }
   ],
   "source": [
    "do(p)"
   ]
  },
  {
   "cell_type": "markdown",
   "metadata": {},
   "source": [
    "Another variation: **27 balls, 3 weighings**, the oddball can only be heavier, but one ball (number 27) is poisonous and can't be touched or placed on the balance scale. It might, however be the heavier ball, and you still need to report it as such if it is. We describe this situation by defining a puzzle with 26 (weighable) balls, but with the oddballs covering `{+1, +2, ..., +27}`. Note that when all three weighings are equal, the strategy tree reports `=:+27`."
   ]
  },
  {
   "cell_type": "code",
   "execution_count": 29,
   "metadata": {},
   "outputs": [
    {
     "name": "stdout",
     "output_type": "stream",
     "text": [
      "[1·2·3·4·5·6·7·8·9]⚖[18·19·20·21·22·23·24·25·26] ➔ \n",
      "     >:[3·5·8·11·18·19]⚖[4·6·7·16·20·26] ➔ \n",
      "          >:[4·8·15]⚖[5·20·24] ➔ >:+8 =:+3 <:+5) \n",
      "          =:[2·4·6·11·19·24]⚖[1·10·13·17·20·22] ➔ >:+2 =:+9 <:+1) \n",
      "          <:[1·4·13·20·22·24]⚖[6·8·9·16·18·19] ➔ >:+4 =:+7 <:+6)) \n",
      "     =:[1·8·10·11·17·22·24]⚖[3·6·7·13·14·15·26] ➔ \n",
      "          >:[10]⚖[17] ➔ >:+10 =:+11 <:+17) \n",
      "          =:[2·5·11·14·16·18·19·26]⚖[3·4·12·13·17·20·22·24] ➔ >:+16 =:+27 <:+12) \n",
      "          <:[2·3·8·9·15·18·20·25]⚖[1·7·10·14·16·17·21·22] ➔ >:+15 =:+13 <:+14)) \n",
      "     <:[1·6·9·11·14·17·19·21·22]⚖[2·3·5·10·12·16·18·23·26] ➔ \n",
      "          >:[19]⚖[22] ➔ >:+19 =:+21 <:+22) \n",
      "          =:[1·10·11·13·19·20·26]⚖[3·9·14·15·21·22·25] ➔ >:+20 =:+24 <:+25) \n",
      "          <:[2·4·13·15·26]⚖[3·16·18·19·20] ➔ >:+26 =:+23 <:+18)))\n"
     ]
    }
   ],
   "source": [
    "do(Puzzle(26, 3, oddballs=range(1, 28)))"
   ]
  },
  {
   "cell_type": "markdown",
   "metadata": {},
   "source": [
    "# 4 Weighings\n",
    "\n",
    "We can tackle larger puzzles. With 4 weighings, we can theoretically handle up to 3<sup>4</sup> = 81 possibilities. Can we solve for **40 balls**?"
   ]
  },
  {
   "cell_type": "code",
   "execution_count": 30,
   "metadata": {},
   "outputs": [
    {
     "name": "stdout",
     "output_type": "stream",
     "text": [
      "None\n"
     ]
    }
   ],
   "source": [
    "p40 = Puzzle(40, 4)\n",
    "\n",
    "do(p40)"
   ]
  },
  {
   "cell_type": "markdown",
   "metadata": {},
   "source": [
    "Unfortunately, **no**. We always end up with at least one branch with 28 possibilities, but we need 27 or less:"
   ]
  },
  {
   "cell_type": "code",
   "execution_count": 31,
   "metadata": {},
   "outputs": [],
   "source": [
    "def partition_sizes(puzzle, B):\n",
    "    \"How big is each branch of a partition with B balls on both sides?\"\n",
    "    part = partition(puzzle.balls[:B], puzzle.balls[-B:], puzzle.oddballs)\n",
    "    return [len(part[branch]) for branch in part]"
   ]
  },
  {
   "cell_type": "code",
   "execution_count": 32,
   "metadata": {},
   "outputs": [
    {
     "data": {
      "text/plain": [
       "[26, 28, 26]"
      ]
     },
     "execution_count": 32,
     "metadata": {},
     "output_type": "execute_result"
    }
   ],
   "source": [
    "partition_sizes(p40, 13)"
   ]
  },
  {
   "cell_type": "code",
   "execution_count": 33,
   "metadata": {},
   "outputs": [
    {
     "data": {
      "text/plain": [
       "[28, 24, 28]"
      ]
     },
     "execution_count": 33,
     "metadata": {},
     "output_type": "execute_result"
    }
   ],
   "source": [
    "partition_sizes(p40, 14)"
   ]
  },
  {
   "cell_type": "markdown",
   "metadata": {},
   "source": [
    "How about **39 balls**, with the possibility that no ball is odd. That's 39 &times; 2 + 1 = 79 possibilities, and it turns out we can find a good partition, and a solution:"
   ]
  },
  {
   "cell_type": "code",
   "execution_count": 34,
   "metadata": {},
   "outputs": [],
   "source": [
    "p39 = Puzzle(39, 4, {-1, 0, +1})"
   ]
  },
  {
   "cell_type": "code",
   "execution_count": 35,
   "metadata": {},
   "outputs": [
    {
     "data": {
      "text/plain": [
       "[26, 27, 26]"
      ]
     },
     "execution_count": 35,
     "metadata": {},
     "output_type": "execute_result"
    }
   ],
   "source": [
    "partition_sizes(p39, 13)"
   ]
  },
  {
   "cell_type": "code",
   "execution_count": 36,
   "metadata": {},
   "outputs": [
    {
     "name": "stdout",
     "output_type": "stream",
     "text": [
      "[1·2·3·4·5·6·7·8·9·10·11·12·13]⚖[27·28·29·30·31·32·33·34·35·36·37·38·39] ➔ \n",
      "     >:[3·9·10·14·15·21·24·26·28·30·31·36·38]⚖[2·6·8·11·16·17·20·27·29·32·34·37·39] ➔ \n",
      "          >:[4·6·13·18·21·23·24·25·27·28·30·36]⚖[1·2·3·10·11·15·19·26·29·32·35·39] ➔ \n",
      "               >:[7·11·20·22·32·35·37]⚖[4·6·19·21·31·33·39] ➔ >:-39 =:-29 <:-32) \n",
      "               =:[1·4·5·6·13·19·21·26·27·29·31·36]⚖[2·9·10·12·15·20·24·28·32·34·35·38] ➔ >:-34 =:-37 <:+9) \n",
      "               <:[1·3·18·19·21·23·27·36·37]⚖[2·5·9·12·13·20·25·26·31] ➔ >:+3 =:+10 <:-27)) \n",
      "          =:[6·7·8·11·14·21·26·27·32·35]⚖[12·13·19·22·23·24·31·33·34·39] ➔ \n",
      "               >:[10·11·21·22·24·25·30·33·36·37·39]⚖[4·6·8·9·16·20·23·26·29·31·35] ➔ >:0 =:+7 <:-33) \n",
      "               =:[1·9·16·17·20·22·30·37·39]⚖[4·8·11·18·19·24·28·29·36] ➔ >:+1 =:+5 <:+4) \n",
      "               <:[9·13·25·27·33·35·36]⚖[1·5·6·11·22·30·31] ➔ >:+13 =:+12 <:-35)) \n",
      "          <:[3·5·6·11·13·19·25·26·28·36]⚖[2·10·15·17·20·23·29·30·34·37] ➔ \n",
      "               >:[5·11·15·16·27·29·31·32·38]⚖[3·6·8·10·13·17·20·28·36] ➔ >:+11 =:-30 <:+6) \n",
      "               =:[2·5]⚖[8·31] ➔ >:-31 =:-38 <:+8) \n",
      "               <:[18·21·23·26·30·33·34]⚖[2·4·5·11·29·32·36] ➔ >:-36 =:-28 <:+2))) \n",
      "     =:[1·5·7·16·17·19·24·28·33·35·36·39]⚖[2·9·14·20·23·25·26·27·29·30·31·37] ➔ \n",
      "          >:[8·9·11·15·20·22·29·30]⚖[14·16·17·18·21·25·26·28] ➔ \n",
      "               >:[3·9·12·18·20·21·26·33·35]⚖[4·11·14·15·16·17·29·34·36] ➔ >:-14 =:-25 <:-26) \n",
      "               =:[3·9·10·12·15·20·23·24·35]⚖[1·2·14·18·28·30·33·37·39] ➔ >:+24 =:+19 <:-23) \n",
      "               <:[16·19]⚖[9·17] ➔ >:+16 =:-20 <:+17)) \n",
      "          =:[3·4·10·21·22·28·34]⚖[1·5·6·7·15·24·27] ➔ \n",
      "               >:[7·22·28·31·37·38·39]⚖[4·12·21·27·30·32·35] ➔ >:+22 =:-15 <:+21) \n",
      "               =:[3·6·13·17·22·27·29·31·32]⚖[1·8·9·10·11·18·28·34·38] ➔ >:-18 =:0 <:+18) \n",
      "               <:[1·6·10·16·20·22·29·39]⚖[9·12·21·24·27·35·36·37] ➔ >:-21 =:+15 <:-22)) \n",
      "          <:[13·20·24·25·31·34]⚖[8·10·16·23·26·28] ➔ \n",
      "               >:[6·14·16·20·21·23·24·26·27·31]⚖[5·12·15·17·18·22·28·32·36·39] ➔ >:+20 =:+25 <:-16) \n",
      "               =:[14·19]⚖[4·22] ➔ >:+14 =:-17 <:-19) \n",
      "               <:[2·4·7·17·20·21·26·28·30·33·39]⚖[5·10·11·12·14·16·23·25·34·37·38] ➔ >:+26 =:-24 <:+23))) \n",
      "     <:[2·4·5·11·12·20·23·25·29·30·33·39]⚖[1·6·7·10·13·16·21·26·28·31·34·35] ➔ \n",
      "          >:[3·4·7·12·13·15·16·17·24·28·34·36·39]⚖[1·2·8·10·14·20·25·26·27·30·31·32·35] ➔ \n",
      "               >:[8·10·15·20·24·25]⚖[1·6·9·19·22·26] ➔ >:-1 =:+39 <:-10) \n",
      "               =:[4·6·12·16·31·33·38]⚖[1·2·5·15·23·32·35] ➔ >:+33 =:+29 <:-6) \n",
      "               <:[12·13·16·17·18·31·32]⚖[5·7·11·28·29·34·37] ➔ >:-7 =:+30 <:-13)) \n",
      "          =:[6·8·10·13·17·18·19·23·30·31·35·38·39]⚖[4·5·9·11·12·16·22·25·27·28·29·33·36] ➔ \n",
      "               >:[1·2]⚖[38·39] ➔ >:0 =:-9 <:+38) \n",
      "               =:[4·5·8·10·18·19·20·27·29·30]⚖[1·3·13·17·24·25·31·33·35·37] ➔ >:-3 =:+32 <:+37) \n",
      "               <:[1·2·18·25·27·28]⚖[4·14·30·31·36·38] ➔ >:+27 =:-8 <:+36)) \n",
      "          <:[3·7·9·12·14·16·23·24·27·30·32·36·38]⚖[2·5·8·10·11·13·19·20·22·25·26·28·31] ➔ \n",
      "               >:[4·7·11·20·21·22]⚖[2·9·26·27·28·31] ➔ >:-2 =:-5 <:-11) \n",
      "               =:[3·4·7·10·14·18·24·25·30·34]⚖[1·5·8·9·15·17·19·23·29·38] ➔ >:+34 =:+35 <:-4) \n",
      "               <:[11·15·24·31·32·34]⚖[9·18·28·29·35·37] ➔ >:+31 =:-12 <:+28))))\n"
     ]
    }
   ],
   "source": [
    "do(p39)"
   ]
  },
  {
   "cell_type": "markdown",
   "metadata": {},
   "source": [
    "How about **80 balls** under the condition that no ball can be heavier (thus, 81 possibilities):"
   ]
  },
  {
   "cell_type": "code",
   "execution_count": 37,
   "metadata": {},
   "outputs": [
    {
     "name": "stdout",
     "output_type": "stream",
     "text": [
      "[1·2·3·4·5·6·7·8·9·10·11·12·13·14·15·16·17·18·19·20·21·22·23·24·25·26·27]⚖[54·55·56·57·58·59·60·61·62·63·64·65·66·67·68·69·70·71·72·73·74·75·76·77·78·79·80] ➔ \n",
      "     >:[8·10·19·25·26·27·28·35·38·41·42·45·47·48·56·57·58·60·62·68·69·73·75]⚖[2·3·7·9·14·18·22·29·31·36·39·40·50·53·54·61·63·64·70·72·77·78·80] ➔ \n",
      "          >:[2·4·13·14·16·22·23·24·25·26·30·38·40·47·48·49·50·53·56·58·60·63·68·69·70·75·78]⚖[1·3·5·7·8·12·21·27·28·29·34·36·37·39·41·42·43·45·51·54·55·57·62·66·72·76·80] ➔ \n",
      "               >:[10·11·21·23·26·28·36·77·80]⚖[27·34·37·40·53·57·63·65·72] ➔ >:-72 =:-54 <:-80) \n",
      "               =:[2·6·7·24·27·31·34·41·60·62·71·77]⚖[1·12·13·18·23·46·51·53·63·64·70·80] ➔ >:-64 =:-61 <:-77) \n",
      "               <:[7·11·20·21·24·28·29·30·33·39·43·52·59·61·62·65·70·75·79·80]⚖[2·4·14·15·16·18·36·38·42·44·46·49·50·56·64·67·69·71·72·78] ➔ >:-78 =:-63 <:-70)) \n",
      "          =:[1·3·15·18·19·23·25·27·28·29·30·33·38·42·44·47·49·60·62·63·64·66·68·70·74·76]⚖[2·4·7·11·12·13·14·16·22·35·39·43·45·46·48·50·51·52·56·58·59·65·71·77·78·80] ➔ \n",
      "               >:[13·15·20·21·24·30·34·35·42·43·47·52·54·55·56·71]⚖[3·9·14·18·32·37·40·44·46·59·64·66·68·70·74·80] ➔ >:-59 =:-65 <:-71) \n",
      "               =:[6·23·33·61·67]⚖[39·40·50·78·79] ➔ >:-79 =:-55 <:-67) \n",
      "               <:[5·9·10·11·14·22·23·24·27·30·35·36·37·52·53·54·60·63·66·67·70·72·73·75·79]⚖[2·6·8·12·18·19·20·25·26·28·32·33·34·38·42·45·47·49·50·56·64·65·76·78·80] ➔ >:-76 =:-74 <:-66)) \n",
      "          <:[4·11·20·21·22·28·29·32·38·43·44·57·58·61·62·63·66·67·70]⚖[17·24·27·30·34·40·45·46·47·50·51·53·55·56·64·68·69·72·79] ➔ \n",
      "               >:[4·5·11·13·15·16·21·22·30·31·33·35·37·38·39·41·53·64·65·68·70·79]⚖[1·2·8·14·17·18·19·23·29·42·44·47·51·52·57·69·72·73·74·75·76·80] ➔ >:-69 =:-56 <:-68) \n",
      "               =:[2·4·7·10·21·22·23·28·34·36·37·43·59·63·68·73·74]⚖[3·9·13·18·19·24·27·30·35·46·47·50·54·60·62·66·67] ➔ >:-60 =:-75 <:-73) \n",
      "               <:[10·18·28·44·48·57·59·64·78]⚖[35·40·62·63·66·69·72·75·79] ➔ >:-62 =:-58 <:-57))) \n",
      "     =:[7·9·12·18·19·22·24·33·42·47·48·49·50·51·52·53·54·59·60·63·66·68·71·73·74·78·79]⚖[1·2·6·8·11·14·15·16·17·20·21·26·27·29·30·35·36·39·40·41·43·44·61·64·65·76·77] ➔ \n",
      "          >:[1·3·9·10·11·14·15·16·17·19·24·29·31·32·39·40·42·58·59·62·63·66·70·71·72·74]⚖[2·18·22·26·27·28·35·36·37·38·43·45·46·49·50·53·54·55·57·65·67·68·76·78·79·80] ➔ \n",
      "               >:[4·9·12·14·18·32·35·38·46·50·51·56·64·70·74]⚖[1·11·22·26·29·42·43·63·66·68·72·73·75·76·78] ➔ >:-43 =:-36 <:-35) \n",
      "               =:[2·10·11·14·17·21·32·36·39·44·45·46·47·49·51·55·59·64·67·68·69·71·78·79·80]⚖[8·12·16·18·20·23·25·28·31·33·35·40·41·48·50·54·58·60·63·65·72·73·74·76·77] ➔ >:-41 =:-30 <:-44) \n",
      "               <:[16·28·36·39·46·54·56·66·76]⚖[1·10·15·35·40·42·55·57·59] ➔ >:-40 =:-29 <:-39)) \n",
      "          =:[3·6·19·30·31·38·46·48·53·55·56·58·64·68·71·72·75]⚖[1·2·7·11·13·15·25·26·28·34·36·37·40·47·51·52·79] ➔ \n",
      "               >:[3·4·10·12·13·14·15·16·17·20·23·29·30·32·33·37·39·42·56·64·68·70·75·77·79]⚖[2·5·6·8·11·18·25·26·34·35·36·38·40·41·47·49·57·60·62·63·65·66·71·73·78] ➔ >:-34 =:-28 <:-37) \n",
      "               =:[3·5·7·9·10·12·13·15·26·27·29·31·42·45·56·58·67·72·74·75·78·79]⚖[6·16·18·19·21·24·25·32·33·35·46·47·48·49·50·53·54·57·59·61·69·80] ➔ >:-32 =:0 <:-45) \n",
      "               <:[3·17·18·21·23·31·32·33·40·42·43·56·64·66·77]⚖[2·4·6·8·12·14·25·29·30·46·54·58·61·62·74] ➔ >:-46 =:-38 <:-31)) \n",
      "          <:[6·8·12·13·14·15·20·30·31·32·33·38·39·40·44·49·53·54·56·57·67]⚖[1·2·3·16·18·25·34·35·42·46·47·51·60·61·64·71·73·75·78·79·80] ➔ \n",
      "               >:[3·12·18·24·25·26·27·30·35·36·40·42·45·46·52·55·60·63·64·68·70·71·74·76·79]⚖[1·4·6·8·9·10·11·15·22·23·28·31·32·37·41·44·50·51·53·54·57·62·67·73·75] ➔ >:-51 =:-47 <:-42) \n",
      "               =:[6·7·8·12·13·15·22·24·36·52·53·59·64·66·68·73·79]⚖[1·5·10·28·31·32·33·38·39·40·41·44·48·51·57·58·67] ➔ >:-48 =:-50 <:-52) \n",
      "               <:[3·6·13·14·19·26·27·29·36·41·45·49·55·59·60·63·65·68·72·76·79]⚖[1·8·10·15·17·20·33·34·35·38·40·44·48·50·51·54·64·67·77·78·80] ➔ >:-33 =:-53 <:-49))) \n",
      "     <:[10·11·13·19·21·22·23·24·25·32·37·38·42·54·57·58·60·61·66·67·69·72]⚖[1·2·4·5·7·12·14·17·27·28·29·40·46·47·51·53·56·63·64·71·74·75] ➔ \n",
      "          >:[2·3·7·8·9·10·23·24·27·33·39·45·51·57·67·68·69·70·76·77]⚖[1·4·5·6·16·22·26·29·31·36·41·44·46·50·52·54·60·62·64·65] ➔ \n",
      "               >:[4·7·11·12·13·14·23·25·28·33·34·39·42·45·48·53·58·63·78]⚖[1·10·21·32·37·38·40·41·44·50·55·60·61·65·68·69·75·77·80] ➔ >:-1 =:-5 <:-4) \n",
      "               =:[2·3·7·12·21·26·27·28·34·38·47·51·59·62·63·67·76·79]⚖[1·4·5·8·14·22·23·29·32·41·48·50·58·60·61·64·70·71] ➔ >:-14 =:-17 <:-12) \n",
      "               <:[3·7·26·41·43·44·61·63·66·77]⚖[4·5·13·27·28·33·35·40·47·71] ➔ >:-27 =:-2 <:-7)) \n",
      "          =:[8·14·16·18·19·21·45·69·71·76·78]⚖[2·3·5·6·15·30·31·43·50·72·77] ➔ \n",
      "               >:[6·13·14·17·19·24·29·63·76·78]⚖[7·15·18·32·36·40·47·62·68·69] ➔ >:-15 =:-3 <:-6) \n",
      "               =:[3·4·13·14·16·17·20·21·24·25·34·38·41·43·44·45·46·49·58·66·67·70·71·73·78·79]⚖[5·6·9·10·11·19·22·28·29·30·31·32·33·35·37·40·47·56·57·59·60·62·65·68·74·76] ➔ >:-9 =:-26 <:-20) \n",
      "               <:[1·2·6·9·16·20·23·33·35·40·41·54·65]⚖[7·10·13·18·21·36·37·45·56·63·70·71·73] ➔ >:-18 =:-8 <:-16)) \n",
      "          <:[5·6·9·10·23·24·32·35·37·40·46·47·54·56·58·59·65·66·67·69·70·72·77]⚖[1·8·12·17·19·20·21·22·30·39·41·45·49·50·52·53·60·63·64·68·75·78·79] ➔ \n",
      "               >:[2·5·9·11·14·18·19·23·24·25·26·28·29·32·35·41·45·49·55·57·62·66·68·70·73·79]⚖[1·3·4·6·7·13·16·17·21·34·36·38·39·40·42·43·47·51·52·54·56·64·65·76·77·78] ➔ >:-21 =:-22 <:-19) \n",
      "               =:[4·10·11·15·19·26·29·31·32·42·47·57·60·66·70·72·73·77]⚖[2·6·14·18·21·25·28·30·33·43·44·48·49·65·67·74·79·80] ➔ >:-25 =:-13 <:-11) \n",
      "               <:[13·23·32·36·48·51·70·71·77·80]⚖[4·10·22·30·43·45·49·56·60·62] ➔ >:-10 =:-24 <:-23))))\n"
     ]
    }
   ],
   "source": [
    "do(Puzzle(80, 4, {-1, 0}))"
   ]
  },
  {
   "cell_type": "markdown",
   "metadata": {},
   "source": [
    "Looking good (except that the output is longer than the line length, and so again is hard to read).\n",
    "\n",
    "# 5 Weighings\n",
    "\n",
    "With 5 weighings, 3<sup>5</sup> = 243, so I might be able to handle up to 121 lighter-or-heavier balls (242 possibilities), if I can make partitions of size 81 or less. Let's try:"
   ]
  },
  {
   "cell_type": "code",
   "execution_count": 38,
   "metadata": {},
   "outputs": [
    {
     "name": "stdout",
     "output_type": "stream",
     "text": [
      "None\n"
     ]
    }
   ],
   "source": [
    "p5 = Puzzle(121, 5)\n",
    "do(p5)"
   ]
  },
  {
   "cell_type": "code",
   "execution_count": 39,
   "metadata": {},
   "outputs": [
    {
     "data": {
      "text/plain": [
       "[80, 82, 80]"
      ]
     },
     "execution_count": 39,
     "metadata": {},
     "output_type": "execute_result"
    }
   ],
   "source": [
    "partition_sizes(p5, 40)"
   ]
  },
  {
   "cell_type": "code",
   "execution_count": 40,
   "metadata": {},
   "outputs": [
    {
     "data": {
      "text/plain": [
       "[82, 78, 82]"
      ]
     },
     "execution_count": 40,
     "metadata": {},
     "output_type": "execute_result"
    }
   ],
   "source": [
    "partition_sizes(p5, 41)"
   ]
  },
  {
   "cell_type": "markdown",
   "metadata": {},
   "source": [
    "Nope, that didn't work. Let's back off to 2 &times; 120 + 1 = 241 possibilities:"
   ]
  },
  {
   "cell_type": "code",
   "execution_count": 41,
   "metadata": {
    "scrolled": false
   },
   "outputs": [
    {
     "name": "stdout",
     "output_type": "stream",
     "text": [
      "[1·2·3·4·5·6·7·8·9·10·11·12·13·14·15·16·17·18·19·20·21·22·23·24·25·26·27·28·29·30·31·32·33·34·35·36·37·38·39·40]⚖[81·82·83·84·85·86·87·88·89·90·91·92·93·94·95·96·97·98·99·100·101·102·103·104·105·106·107·108·109·110·111·112·113·114·115·116·117·118·119·120] ➔ \n",
      "     >:[1·2·6·7·9·13·16·18·19·20·22·27·28·33·35·44·48·50·61·64·65·69·71·87·89·91·92·96·97·99·100·101·102·106·119·120]⚖[3·5·8·10·11·12·21·25·29·31·34·36·39·40·43·46·52·53·55·57·62·67·68·74·80·82·93·98·104·107·110·111·113·115·116·118] ➔ \n",
      "          >:[1·4·12·15·19·20·25·27·30·36·37·42·47·48·49·53·55·60·64·65·66·69·76·78·81·90·94·96·101·102·108·109·110·112]⚖[5·9·13·16·17·18·21·22·26·33·35·39·40·44·50·56·61·71·72·73·75·80·85·86·87·95·97·98·103·104·111·113·115·117] ➔ \n",
      "               >:[1·6·9·14·23·33·37·38·43·45·47·49·59·61·67·69·73·79·80·81·82·84·88·93·98·99·100·101·102·107·110·114]⚖[3·11·16·17·18·19·25·26·27·29·31·32·34·35·42·48·52·57·58·60·66·68·71·72·76·83·90·91·104·106·113·119] ➔ \n",
      "                    >:[22·25·28·34·36·42·43·75·78·88·104·119]⚖[3·29·39·46·47·48·56·60·96·113·115·120] ➔ >:-113 =:+1 <:-104) \n",
      "                    =:[9·15·16·20·22·23·41·46·62·69·71·81·84·104·115]⚖[29·43·48·50·55·57·58·61·91·100·102·105·108·110·113] ➔ >:+20 =:-111 <:-115) \n",
      "                    <:[7·8·10·12·14·19·20·23·24·35·36·43·44·54·55·58·59·62·63·68·70·80·81·91·93·96·97·113]⚖[4·11·13·15·27·29·31·41·46·47·49·52·53·69·71·75·76·84·85·89·95·100·101·104·106·109·116·117] ➔ >:+19 =:-98 <:+27)) \n",
      "               =:[4·6·15·18·23·24·27·29·33·38·51·56·63·65·67·69·70·71·73·78·83·88·92·93·95·96·99·100·103·104·108·113·114·115·117·118·119·120]⚖[3·5·8·9·20·21·22·25·28·30·31·32·37·39·41·43·45·47·48·52·53·54·55·58·64·72·76·79·81·82·84·85·87·91·94·101·106·107] ➔ \n",
      "                    >:[12·14·16·28·44·48·56·57·61·63·69·72·78·81·82·84·94·98·100·104·106]⚖[2·3·5·20·25·36·37·43·59·60·67·68·77·83·85·89·93·101·107·113·114] ➔ >:-107 =:+6 <:-82) \n",
      "                    =:[1·2·4·9·13·14·16·19·25·26·29·35·42·53·57·85·91·93·103·114·116]⚖[5·6·22·45·47·72·76·77·79·82·86·88·92·94·98·99·104·106·110·112·117] ➔ >:+2 =:+7 <:-116) \n",
      "                    <:[20·22·23·28·37·38·39·41·53·71·73·75·76·77·92·93·96·102·110·115·116·117·119]⚖[1·4·5·6·18·25·27·30·35·42·47·49·50·56·60·61·62·70·72·84·107·111·112] ➔ >:+28 =:-118 <:-93)) \n",
      "               <:[2·9·15·16·20·48·53·57·62·68·81·82·83·87·103·109·116]⚖[7·14·22·23·26·29·30·33·35·37·43·55·86·94·99·100·119] ➔ \n",
      "                    >:[1·2·3·4·5·6·7·8·9]⚖[112·113·114·115·116·117·118·119·120] ➔ >:+9 =:+16 <:0) \n",
      "                    =:[5·6·8·10·12·14·16·18·20·21·23·29·33·37·38·39·42·48·50·52·56·59·60·64·75·78·83·85·91·93·97·101·107·108·109·110·114·115·117·119]⚖[2·3·7·11·15·19·22·25·28·31·34·40·45·46·57·58·61·62·67·69·70·72·76·77·79·81·87·88·89·90·95·96·100·102·105·111·113·116·118·120] ➔ >:+18 =:+13 <:-110) \n",
      "                    <:[2·3·5·6·7·10·29·30·31·33·39·41·42·44·47·54·70·77·78·79·83·89·93·94·97·103·106·110·117]⚖[12·13·14·19·27·28·35·36·37·50·52·58·60·65·67·68·71·73·84·86·88·90·91·99·100·101·109·115·119] ➔ >:+33 =:+22 <:+35))) \n",
      "          =:[4·6·8·10·21·25·29·32·35·40·43·45·49·56·58·62·69·71·74·77·79·81·83·94·97·102·109·114·117·119]⚖[5·23·24·34·38·39·42·48·52·54·59·61·63·64·65·67·84·86·88·90·96·99·105·106·108·110·111·112·113·115] ➔ \n",
      "               >:[4·7·8·9·17·22·24·30·34·37·40·42·45·46·51·52·57·60·65·66·69·73·75·76·77·81·83·85·90·91·93·103·104·109·111·112·113·114·117·120]⚖[2·11·12·13·16·19·21·23·28·29·31·32·33·35·38·39·43·44·48·50·53·55·59·64·80·82·87·94·95·96·97·98·100·102·105·106·107·108·110·119] ➔ \n",
      "                    >:[6·12·14·31·47·73·82·84·91·93·99·101·112]⚖[4·15·23·42·55·56·62·87·100·108·110·114·117] ➔ >:-108 =:-105 <:+4) \n",
      "                    =:[3·4·10·17·18·19·20·34·41·42·47·50·51·55·59·61·67·72·73·76·81·85·88·89·90·91·98·101·112·113·116·118·119]⚖[1·5·8·14·25·27·28·29·33·35·36·46·52·54·57·58·62·64·66·68·69·74·77·80·84·92·96·99·100·106·108·109·114] ➔ >:-84 =:-86 <:-88) \n",
      "                    <:[3·11·12·15·17·22·34·37·43·46·52·57·59·60·62·63·65·66·67·69·70·77·78·79·80·81·82·84·88·92·94·99·100·101·102·103·105·106·110·111]⚖[2·4·6·13·16·18·20·23·24·26·28·31·32·35·36·40·42·45·49·50·55·61·64·72·74·75·76·83·85·89·90·93·96·97·98·108·109·113·114·117] ➔ >:-90 =:-112 <:+32)) \n",
      "               =:[1·3·14·18·24·26·27·30·32·34·39·42·43·46·47·49·50·52·57·59·62·63·67·68·70·78·82·84·88·93·94·95·96·97·101·102·105·115·116·118]⚖[5·6·7·8·9·13·15·16·19·20·23·25·28·33·35·37·38·48·51·55·58·60·64·73·74·75·79·80·90·91·98·99·100·104·106·107·108·111·114·117] ➔ \n",
      "                    >:[6·13·15·16·17·20·21·24·26·28·35·42·47·54·55·61·67·68·71·73·74·77·79·83·85·87·91·92·94·101·107·108·112·114·115·117]⚖[3·4·8·11·12·14·19·22·23·32·37·40·43·44·48·50·56·58·62·64·65·69·72·78·81·84·89·90·97·99·102·103·105·116·118·119] ➔ >:+26 =:+30 <:+14) \n",
      "                    =:[5·6·7·11·12·17·18·22·27·34·37·39·40·42·46·48·54·58·60·68·69·71·76·80·82·85·86·88·89·97·98·101·104·106·112·114·115·117·118]⚖[4·10·16·24·26·29·30·31·35·36·38·41·44·45·47·50·52·53·56·62·63·66·67·73·74·75·78·79·83·87·91·92·93·95·99·105·107·108·109] ➔ >:+17 =:-103 <:-85) \n",
      "                    <:[11·23·29·34·88·97·104·107·109]⚖[15·18·48·57·65·95·102·106·115] ➔ >:-95 =:+37 <:+15)) \n",
      "               <:[6·14·16·18·19·21·32·34·41·42·52·61·65·66·67·70·73·74·76·78·79·80·82·91·97·98·100·101·102·103·104·106·107·108·109·116·120]⚖[1·2·3·5·8·10·11·17·23·25·26·27·31·35·37·38·40·43·46·50·51·54·55·56·64·75·81·83·85·86·89·90·105·112·113·117·118] ➔ \n",
      "                    >:[2·6·31·54·56·70·87·92·103·113·117]⚖[1·9·11·30·47·59·72·83·99·102·105] ➔ >:-83 =:-81 <:-117) \n",
      "                    =:[18·24·44·47·73·92·114]⚖[1·35·46·57·66·93·96] ➔ >:+24 =:-94 <:-114) \n",
      "                    <:[16·17·23·32·51·53·57·61·64·84·99·101·108·109·120]⚖[7·20·27·29·37·43·55·59·75·78·82·89·95·103·107] ➔ >:+23 =:+38 <:-109))) \n",
      "          <:[3·4·5·10·19·23·33·35·36·37·38·41·42·44·46·50·51·57·71·74·76·77·82·83·84·89·93·94·96·97·99·101·107·109·110·112·114·115·116]⚖[1·8·14·15·18·26·27·34·39·40·45·47·49·55·58·59·61·62·66·67·68·69·70·73·75·78·79·80·86·87·90·91·100·103·105·106·108·118·119] ➔ \n",
      "               >:[3·9·14·15·16·20·27·28·29·31·35·40·41·42·43·45·54·57·59·62·68·69·75·77·87·88·90·91·97·104·107·115·116·117·120]⚖[6·8·10·11·17·19·24·25·30·32·34·37·39·47·48·50·51·58·64·65·70·71·72·76·78·82·83·85·86·101·102·103·106·109·119] ➔ \n",
      "                    >:[2·3·5·7·8·11·12·15·16·17·19·20·21·24·27·28·31·35·39·42·52·59·60·64·66·71·73·75·76·78·80·92·95·96·102·106·112·114]⚖[1·4·6·10·22·29·37·38·41·45·46·49·50·51·54·61·65·72·79·82·83·85·89·93·97·98·99·100·101·103·104·108·110·113·115·116·117·120] ➔ >:+3 =:-119 <:-106) \n",
      "                    =:[23·25·27·47·48·51·58·74·77·80·93·94·103·116]⚖[9·29·31·36·57·62·71·72·75·79·99·100·115·120] ➔ >:-100 =:+5 <:+36) \n",
      "                    <:[10·23·26·37·38·42·52·56·59·71·77·78·80·88·91·101·119]⚖[20·25·28·29·34·40·46·53·68·73·74·79·82·85·93·107·116] ➔ >:+10 =:-87 <:-91)) \n",
      "               =:[2·4·6·11·16·21·22·24·26·28·29·36·48·53·54·55·59·60·62·66·68·72·74·76·77·79·83·88·92·94·99·101·106·111·113·114·115·118·119·120]⚖[1·9·13·14·19·20·25·27·30·32·33·41·43·44·45·46·47·50·51·56·57·63·64·65·67·75·80·81·82·86·87·95·96·97·98·105·107·108·112·117] ➔ \n",
      "                    >:[9·21·24·40]⚖[2·5·11·118] ➔ >:+21 =:+29 <:+11) \n",
      "                    =:[2·3·8·10·11·12·13·14·16·17·18·24·26·27·28·30·39·41·46·64·65·70·77·81·82·83·84·92·93·97·101·103·104·105·106·115]⚖[6·7·9·21·23·25·29·31·32·33·36·37·42·43·44·49·53·54·56·57·59·61·62·71·72·73·76·78·88·91·94·95·98·100·116·119] ➔ >:+12 =:-102 <:+31) \n",
      "                    <:[1·2·4·7·19·22·24·29·34·37·39·41·44·48·52·53·54·56·63·69·78·79·90·93·94·96·98·110·111·112·115·116·118·119]⚖[3·5·6·10·11·21·25·26·30·36·38·45·49·58·60·62·64·66·70·75·77·80·83·84·86·87·92·100·101·103·107·109·114·117] ➔ >:-92 =:-120 <:+25)) \n",
      "               <:[12·16·22·23·24·27·30·32·35·39·42·43·46·48·49·57·58·59·64·65·71·74·78·79·82·89·101·103·105·112·115·116]⚖[7·10·20·21·36·37·38·40·45·50·51·52·56·63·68·73·80·81·85·88·91·92·96·97·102·106·108·109·111·113·114·118] ➔ \n",
      "                    >:[1·4·5·6·7·10·14·20·23·24·25·28·37·39·46·53·56·60·62·63·66·73·74·76·80·81·82·83·91·94·97·98·100·102·104·110·120]⚖[16·19·21·29·30·33·35·36·38·43·48·49·50·51·52·54·55·57·58·75·77·78·79·85·87·88·93·99·103·105·107·108·114·115·116·118·119] ➔ >:+39 =:-96 <:-97) \n",
      "                    =:[8·31·46·67·76·88·99]⚖[13·18·35·77·80·93·101] ➔ >:+8 =:+34 <:-99) \n",
      "                    <:[40·54·83·89]⚖[4·18·35·61] ➔ >:+40 =:-101 <:-89)))) \n",
      "     =:[3·6·11·12·20·28·32·33·39·40·41·44·46·48·49·51·54·61·66·69·70·72·78·83·86·88·94·96·100·102·103·104·105·106·113·114·117]⚖[9·10·14·16·17·19·26·27·29·30·31·36·38·43·52·55·56·57·58·59·60·62·63·64·74·75·76·81·87·90·93·95·108·112·116·118·120] ➔ \n",
      "          >:[1·4·7·10·11·12·13·15·16·21·25·33·37·38·44·46·48·50·52·53·59·64·67·68·71·76·77·82·84·89·92·93·99·104·105·111·120]⚖[3·8·18·26·27·30·31·35·42·43·45·47·49·54·57·58·60·61·63·66·69·73·75·79·81·86·97·98·100·101·103·110·113·114·115·116·119] ➔ \n",
      "               >:[5·6·8·19·21·29·33·35·38·43·44·45·48·53·57·60·79·85·87·88·90·94·96·98·102·103]⚖[7·9·12·15·25·26·30·32·36·39·42·50·54·62·63·66·70·71·78·83·86·91·105·109·110·114] ➔ \n",
      "                    >:[1·3·5·7·8·9·13·14·19·21·22·31·33·34·35·36·37·38·42·48·50·55·59·60·63·64·65·67·73·74·75·77·82·90·96·97·101·110·114·117]⚖[2·4·11·16·17·20·23·24·25·27·29·30·39·41·45·46·47·49·51·57·58·62·68·69·76·84·85·88·89·92·94·95·98·100·104·105·109·111·113·116] ➔ >:+48 =:+44 <:-63) \n",
      "                    =:[5·8·9·36·50·63·75·84·85·86·95·97·100·102·110·111·115·116]⚖[2·6·10·12·30·41·48·58·60·67·71·77·78·82·90·101·103·118] ➔ >:-58 =:+46 <:-75) \n",
      "                    <:[6·8·41·43·44·87·90·92·95·117]⚖[17·18·24·52·60·66·71·73·115·118] ➔ >:-60 =:-57 <:-43)) \n",
      "               =:[1·3·4·6·17·24·33·37·48·52·53·56·57·58·59·69·70·72·77·82·85·90·95·98·102·109·110·115·118]⚖[2·12·15·19·21·22·26·29·34·36·39·41·43·45·46·49·51·54·62·65·76·81·96·99·101·107·113·116·120] ➔ \n",
      "                    >:[15·33·44·65·66·75·93·95·101·111·114·117]⚖[6·13·29·38·60·62·72·81·82·98·103·120] ➔ >:-62 =:+70 <:+72) \n",
      "                    =:[7·13·25·27·33·37·42·43·47·56·58·59·65·71·74·77·78·79·85·90·98·101·105·108·116]⚖[1·11·16·17·18·19·22·23·45·49·53·57·60·61·64·68·70·81·86·92·96·100·109·117·118] ➔ >:+78 =:-55 <:-74) \n",
      "                    <:[1·9·10·11·16·21·22·31·33·35·38·43·44·45·46·47·49·50·61·67·69·74·75·77·79·84·89·91·93·95·97·100·104·105·108·116·117]⚖[4·6·12·14·18·20·23·25·26·28·37·40·41·53·55·56·60·63·65·68·70·71·72·76·78·82·88·94·99·101·103·106·110·111·115·118·119] ➔ >:-56 =:+51 <:+41)) \n",
      "               <:[6·11·13·14·18·21·35·36·45·46·48·52·66·74·82·84·89·95·97·101·102·105·107·109·115·116]⚖[2·4·8·9·10·23·25·27·28·29·37·44·49·57·59·60·61·64·77·79·90·92·98·108·110·112] ➔ \n",
      "                    >:[12·14·19·28·39·44·46·48·62·64·65·66·67·71·73·80·86·89·95·96·100·111·118·119]⚖[5·13·15·20·21·25·27·32·42·45·50·57·60·68·70·75·84·85·87·91·98·104·107·114] ➔ >:+66 =:-59 <:-64) \n",
      "                    =:[1·5·6·9·12·14·25·27·30·36·46·59·61·80·82·88·93·105·106·108·110·111]⚖[4·8·15·20·22·40·47·62·63·69·71·75·76·77·79·86·90·96·102·104·114·118] ➔ >:-76 =:+54 <:+69) \n",
      "                    <:[5·12·13·25·37·39·41·44·46·63·69·70·75·86·88·92·95·111]⚖[4·7·8·15·18·29·49·51·52·67·68·72·91·93·102·113·115·117] ➔ >:-52 =:+61 <:+49))) \n",
      "          =:[4·5·13·16·22·24·25·26·34·38·39·42·44·45·48·49·51·53·57·58·60·71·74·82·88·89·91·93·94·95·101·103·105·112·113·115·120]⚖[1·6·7·8·9·12·17·18·19·21·23·27·31·33·35·50·54·55·59·63·67·68·69·72·75·77·78·80·81·85·86·90·92·97·104·107·114] ➔ \n",
      "               >:[7·11·14·24·30·33·37·47·51·53·55·60·66·72·77·78·80·90·91·92·101·110·113·115·117]⚖[1·9·10·19·20·21·39·42·44·50·54·67·69·75·79·86·89·93·100·102·104·105·108·109·116] ➔ \n",
      "                    >:[4·12·14·15·18·24·25·27·28·29·32·39·42·44·47·48·51·54·55·56·64·68·69·82·92·100·101·106·107·108·109·116·120]⚖[2·3·7·9·10·16·19·20·26·33·34·46·50·52·53·58·61·63·65·66·73·74·76·89·95·97·102·104·111·112·114·117·118] ➔ >:-50 =:-67 <:+53) \n",
      "                    =:[8·10·22·23·29·31·35·42·43·45·51·61·65·73·77·79·82·84·97·105]⚖[13·17·18·20·25·32·34·39·50·67·71·72·74·85·89·94·98·103·112·114] ➔ >:+45 =:-68 <:+71) \n",
      "                    <:[5·18·20·27·33·38·42·45·49·51·64·65·73·80·84·85·94·106]⚖[17·21·28·29·31·39·50·53·55·57·61·63·68·86·90·98·99·114] ➔ >:+42 =:-77 <:-80)) \n",
      "               =:[18·23·30·36·43·44·61·67·72·75·79·97·101·103·109·111]⚖[2·5·28·31·34·35·45·54·62·64·65·73·78·85·90·118] ➔ \n",
      "                    >:[12·13·18·22·25·27·36·48·51·68·73·79·80·86·87·92·93·94·102·112]⚖[4·16·24·32·34·43·44·49·56·60·69·70·74·77·83·88·95·105·107·116] ➔ >:+79 =:-65 <:-73) \n",
      "                    =:[4·6·7·8·12·13·25·41·43·45·48·51·53·59·60·63·64·68·73·74·76·77·80·82·86·91·92·94·95·106·107·109·112·114·115·116·117]⚖[1·2·10·11·15·16·19·23·24·26·27·29·30·31·34·35·38·40·44·47·49·54·61·62·65·67·70·72·83·84·93·97·103·113·118·119·120] ➔ >:-47 =:0 <:+47) \n",
      "                    <:[1·4·6·7·9·13·14·21·22·33·38·39·41·45·50·51·55·57·59·68·72·73·77·79·84·86·88·99·105·109·111·120]⚖[8·11·19·20·26·28·30·40·42·46·47·60·61·62·63·64·69·74·75·76·82·89·96·100·101·102·104·106·110·112·115·118] ➔ >:+73 =:+65 <:-79)) \n",
      "               <:[3·4·6·16·21·23·28·29·36·41·42·43·45·54·57·61·63·65·74·75·76·77·80·83·89·90·91·92·95·104·113·115]⚖[5·8·9·11·19·22·24·26·39·44·47·48·49·50·51·52·53·58·62·69·70·73·78·81·87·98·100·101·106·111·114·116] ➔ \n",
      "                    >:[1·7·39·43·44·51·60·61·74·77·79·81·88·89·91·113·115·116]⚖[4·6·10·12·13·20·26·31·35·57·69·73·80·97·103·104·106·118] ➔ >:+77 =:-53 <:+80) \n",
      "                    =:[8·12·14·16·30·31·35·42·44·48·51·52·60·66·69·73·80·100·103·109·115]⚖[2·7·10·18·36·39·40·54·57·58·59·68·71·74·77·83·91·97·101·102·107] ➔ >:-71 =:+67 <:+68) \n",
      "                    <:[10·20·24·25·30·39·45·47·49·50·51·55·56·58·59·60·64·65·82·84·87·89·96·99·105·106·108·111·113]⚖[2·3·5·8·12·16·17·31·35·37·46·48·52·53·54·66·70·73·74·78·83·86·88·94·97·100·101·104·114] ➔ >:+50 =:-42 <:-45))) \n",
      "          <:[2·6·10·11·15·25·26·27·31·41·44·45·49·51·53·57·61·62·63·65·69·71·76·79·83·85·96·99·101·102·103·106·110·113·115·120]⚖[3·4·7·9·13·16·18·19·20·22·29·30·36·37·40·42·46·48·55·60·64·66·70·72·77·87·88·89·91·93·97·105·108·109·111·114] ➔ \n",
      "               >:[4·5·6·8·12·13·15·17·18·20·25·26·28·31·33·40·50·51·52·55·62·64·67·68·69·70·80·86·99·101·102·105·106·109·112·113·116]⚖[1·7·9·11·19·21·22·27·29·35·38·39·46·47·48·53·54·56·57·58·60·74·76·81·82·83·87·92·94·96·104·110·114·115·117·118·120] ➔ \n",
      "                    >:[17·29·35·40·43·44·45·46·49·50·53·56·57·60·65·67·73·75·77·78·88·90·93·94·101·106·108·110·111·114·116·117·119]⚖[4·6·8·9·12·13·16·18·23·24·25·27·31·32·37·41·42·48·52·55·58·61·63·64·69·70·76·85·100·103·104·113·118] ➔ >:-48 =:+62 <:-46) \n",
      "                    =:[1·6·17·26·35·42·49·58·61·62·64·80·93·98·107·109·115·117·118]⚖[19·23·29·32·34·38·39·48·63·70·72·73·87·88·96·102·103·106·120] ➔ >:-72 =:-66 <:+63) \n",
      "                    <:[7·9·11·21·23·24·25·26·31·32·35·41·44·46·47·50·52·54·72·73·77·80·81·84·86·87·88·89·91·97·98·101·103·105·106·108·109·116·120]⚖[2·3·4·10·13·16·18·19·20·22·28·29·33·36·38·40·42·45·48·51·55·56·57·58·62·65·70·71·75·79·90·95·99·107·110·112·113·117·118] ➔ >:-70 =:+76 <:+57)) \n",
      "               =:[3·4·6·9·14·16·18·19·20·36·43·53·54·55·58·72·75·76·80·87·88·89·94·97·101·105·110·118]⚖[1·8·15·23·34·38·41·47·50·52·59·60·61·62·64·66·70·71·73·79·90·92·96·98·111·112·113·119] ➔ \n",
      "                    >:[1·3·4·9·11·14·25·29·33·46·48·52·56·58·60·63·68·69·70·72·76·82·83·92·94·96·99·106·107]⚖[5·6·13·15·16·17·18·19·22·27·32·43·44·50·51·74·78·84·86·87·91·98·100·112·113·114·116·119·120] ➔ >:+58 =:+75 <:+43) \n",
      "                    =:[2·6·11·13·17·25·28·31·41·96·108·112·115·117]⚖[24·30·38·48·56·58·63·64·75·78·79·84·91·113] ➔ >:-78 =:+74 <:+56) \n",
      "                    <:[1·2·4·11·14·17·20·22·27·29·34·35·52·62·64·66·69·70·71·72·74·76·80·84·86·90·99·101·103·110]⚖[3·5·12·30·32·37·39·40·43·45·46·53·59·60·63·65·67·68·81·85·87·92·93·95·96·105·112·116·118·120] ➔ >:+52 =:-54 <:+59)) \n",
      "               <:[3·20·21·23·24·26·40·42·43·45·46·50·60·61·68·69·84·88·89·91·92·93·96·101·103·107·110·118·120]⚖[7·9·11·14·15·25·27·28·34·35·39·44·49·52·54·57·63·64·67·70·77·80·90·94·97·108·112·113·116] ➔ \n",
      "                    >:[2·6·10·13·14·18·19·21·22·24·27·32·35·42·43·44·46·55·57·60·61·72·75·78·80·81·84·91·93·99·101·102·103·104·111·116·117]⚖[3·5·7·8·11·15·16·26·28·29·30·31·34·37·38·39·40·53·54·58·64·66·67·70·79·83·88·89·92·94·95·98·108·112·114·115·120] ➔ >:+60 =:-49 <:-44) \n",
      "                    =:[12·13·16·21·33·35·36·37·43·47·48·50·51·57·64·70·73·79·85·89·92·94·120]⚖[1·2·5·7·19·28·32·40·41·44·56·72·76·78·81·83·88·90·93·101·107·117·118] ➔ >:-41 =:+55 <:-51) \n",
      "                    <:[3·7·12·16·24·33·38·46·47·61·62·64·71·72·83·101·102·113]⚖[21·23·25·27·32·36·40·41·52·53·54·73·81·92·100·103·105·108] ➔ >:+64 =:-69 <:-61)))) \n",
      "     <:[1·2·4·5·7·9·13·14·16·17·25·26·28·29·44·46·61·62·63·66·67·70·71·72·74·80·81·84·86·87·92·93·98·103·104·105·109·117·119]⚖[3·8·10·12·18·19·23·24·27·31·35·39·40·43·45·47·51·52·53·54·57·58·59·75·76·77·83·88·91·96·99·100·102·107·111·112·114·115·118] ➔ \n",
      "          >:[4·8·9·11·13·15·16·18·19·23·25·27·29·30·36·39·48·51·53·61·62·64·67·70·71·73·84·87·89·93·95·98·100·114·115·116]⚖[5·10·12·14·21·24·31·40·41·42·43·47·50·52·56·58·63·65·68·69·72·76·77·78·80·81·83·94·99·101·102·108·109·112·117·118] ➔ \n",
      "               >:[1·4·5·8·11·12·14·16·28·36·39·40·45·47·52·59·67·72·75·85·86·92·98·103·104·110·114]⚖[10·24·32·34·58·61·63·69·71·73·80·83·84·88·91·94·95·96·99·100·101·102·108·111·115·118·119] ➔ \n",
      "                    >:[8·9·11·12·13·16·17·19·24·25·28·29·33·37·41·43·53·56·58·66·68·69·71·74·76·79·80·89·96·97·98·101·103·105·106·110·111·115·118]⚖[2·4·5·14·18·26·27·31·40·44·46·47·48·49·55·57·60·64·65·67·72·75·77·82·84·85·86·90·93·94·99·100·108·109·113·114·116·119·120] ➔ >:+98 =:-10 <:-24) \n",
      "                    =:[9·14·18·44·64·68·71·74·88·97·102·104·113·117·119]⚖[25·31·45·49·52·54·55·56·78·92·93·95·100·103·116] ➔ >:-31 =:+87 <:+93) \n",
      "                    <:[4·7·22·27·38·39·52·58·78·82·107·114·116]⚖[3·10·16·24·40·49·53·71·77·83·84·95·102] ➔ >:-40 =:-12 <:+84)) \n",
      "               =:[1·6·7·9·11·25·31·36·38·42·53·54·57·58·61·63·67·68·70·71·83·90·91·98·100·101·104·107·108·110·115·118]⚖[3·10·13·15·26·29·40·41·44·48·50·51·52·59·60·65·72·75·76·78·80·84·85·88·92·93·97·99·102·105·117·119] ➔ \n",
      "                    >:[1·2·3]⚖[118·119·120] ➔ >:0 =:+104 <:-3) \n",
      "                    =:[3·4·5·8·13·14·23·27·34·38·43·46·52·53·54·57·59·60·61·63·65·66·67·68·69·71·72·79·81·83·92·96·97·109·110·119]⚖[2·9·12·15·16·18·22·25·26·31·33·35·37·41·42·44·49·56·64·73·75·84·85·86·87·90·91·95·98·104·108·111·112·115·116·120] ➔ >:-35 =:+103 <:+86) \n",
      "                    <:[3·5·8·11·14·15·16·21·23·25·27·40·47·51·56·59·70·71·78·80·84·85·90·93·99·105·108·112·116]⚖[2·10·18·19·22·24·30·36·43·52·53·54·57·61·62·73·74·89·95·97·100·102·103·109·111·113·115·117·119] ➔ >:+105 =:+92 <:+119)) \n",
      "               <:[5·6·9·12·18·20·22·23·25·32·37·47·49·50·68·71·72·76·80·81·88·95·104·107·112·119·120]⚖[10·11·14·15·19·27·30·31·40·43·52·53·56·60·61·66·67·78·85·86·92·98·109·110·113·115·116] ➔ \n",
      "                    >:[6·13·15·16·17·23·25·29·33·37·40·46·47·48·59·83·84·88·94·95·97·101·111·119·120]⚖[7·8·11·12·18·19·21·26·30·32·39·42·43·57·67·70·72·77·81·89·90·100·105·108·118] ➔ >:-19 =:-27 <:+81) \n",
      "                    =:[1·9·14·27·33·41·42·43·44·49·54·55·56·66·67·74·78·83·84·85·89·93·99·101·103·104·106·107·111·115]⚖[8·16·17·19·21·23·24·25·29·31·32·40·46·52·57·65·68·72·75·76·77·81·86·88·90·92·109·110·116·117] ➔ >:-8 =:-39 <:+117) \n",
      "                    <:[3·10·17·18·20·26·42·54·60·66·70·71·77·84·94·98·99·101·104·105·106·108·110·111·113·114·116·117·118]⚖[1·11·12·15·23·25·27·30·31·35·39·43·45·46·50·53·55·58·69·73·76·81·83·87·88·92·95·107·112] ➔ >:-23 =:+109 <:-18))) \n",
      "          =:[9·12·16·17·20·21·28·29·34·38·41·43·47·49·50·56·61·65·71·73·75·79·80·85·88·90·93·99·101·102·103·111·112·114·117·118·120]⚖[1·2·14·15·18·19·22·25·26·27·32·33·36·39·45·48·54·58·59·60·63·66·70·72·81·84·89·91·94·95·96·97·98·100·109·116·119] ➔ \n",
      "               >:[1·12·15·17·21·23·29·30·36·42·51·54·55·57·59·61·63·66·76·77·78·80·87·89·93·96·98·99·101·103·104·110·114·116]⚖[2·6·8·13·16·18·22·26·33·34·41·44·45·46·48·56·58·60·62·64·67·68·69·71·72·79·81·90·94·108·111·112·113·119] ➔ \n",
      "                    >:[7·12·13·17·19·22·26·27·28·32·34·40·45·51·52·57·60·61·66·72·73·74·77·80·84·86·90·96·100·101·102·109·113·115·116·117]⚖[3·5·9·15·16·18·23·30·31·35·36·42·43·47·49·50·54·58·64·68·75·76·78·79·83·85·89·91·94·99·103·106·108·111·119·120] ➔ >:+101 =:-33 <:-22) \n",
      "                    =:[6·7·10·20·21·22·27·29·32·33·42·52·54·55·59·67·70·75·76·77·82·83·86·99·103·104·108·111·114·116·117·120]⚖[2·3·12·16·25·30·35·36·39·44·46·47·48·49·50·51·53·60·66·71·73·78·79·80·87·89·90·91·95·97·100·106] ➔ >:+120 =:+85 <:-32) \n",
      "                    <:[5·11·12·13·21·30·39·42·43·49·50·61·73·76·79·81·83·91·94·105]⚖[3·19·24·32·36·40·41·45·60·65·68·87·90·92·98·99·101·112·114·119] ➔ >:-36 =:-15 <:+90)) \n",
      "               =:[1·2·4·11·14·23·31·47·54·55·56·59·62·64·65·66·69·71·75·77·80·82·89·91·94·98·106]⚖[6·8·13·16·18·19·20·21·29·35·50·51·57·58·61·63·74·76·87·92·100·101·108·113·114·115·119] ➔ \n",
      "                    >:[5·6·10·13·16·27·29·31·33·34·38·46·48·50·52·56·60·67·68·69·72·74·76·81·82·90·92·102·104·114·119]⚖[1·3·7·15·36·39·41·42·45·49·58·59·61·62·64·70·73·79·80·83·86·89·98·99·101·105·109·111·112·115·120] ➔ >:+82 =:+106 <:-6) \n",
      "                    =:[1·7·15·17·21·24·30·32·43·44·53·55·78·79·80·84·88·118]⚖[2·9·16·26·33·35·37·52·61·62·66·75·76·87·92·105·108·119] ➔ >:-37 =:+110 <:-30) \n",
      "                    <:[3·8·9·14·16·24·25·26·31·32·33·36·46·48·52·54·61·66·67·69·74·76·78·79·82·91·93·94·97·98·99·103·108·111·112·115·116·118·120]⚖[1·4·5·6·10·13·15·18·20·22·23·27·30·34·35·38·40·42·43·47·50·55·63·65·68·70·72·73·77·81·83·86·87·96·102·105·107·113·114] ➔ >:+108 =:-11 <:+113)) \n",
      "               <:[3·7·8·12·16·19·20·23·25·31·33·39·41·42·46·54·58·60·71·72·77·84·86·87·88·92·94·95·98·101·112·113·114·118·120]⚖[2·6·14·22·28·32·34·36·37·43·48·49·53·56·62·67·68·69·70·74·75·78·79·85·89·91·93·97·102·104·105·106·109·115·119] ➔ \n",
      "                    >:[1·2·4·8·14·31·43·44·45·46·53·60·63·81·85·94·104·112·113·116]⚖[6·18·23·26·29·33·35·48·49·55·57·65·67·70·74·93·95·107·111·115] ➔ >:+94 =:-34 <:+95) \n",
      "                    =:[4·5·6·7·9·13·20·23·27·28·30·34·36·40·41·42·45·51·55·61·64·70·71·75·76·78·79·80·87·88·92·93·98·99·105·106·115·117·118·119]⚖[1·2·3·8·11·14·16·17·29·35·38·39·49·50·53·54·58·65·72·73·81·82·83·85·86·89·90·91·94·95·96·102·107·109·110·111·112·113·116·120] ➔ >:-38 =:-21 <:+116) \n",
      "                    <:[15·20·22·34·44·55·70·71·77·89·95·116]⚖[1·7·14·23·30·39·54·65·83·96·99·106] ➔ >:+89 =:+97 <:-20))) \n",
      "          <:[2·3·6·7·9·11·17·22·25·27·31·36·41·48·50·51·56·57·61·62·63·66·67·70·71·73·75·79·84·88·96·97·100·101·102·104·115·120]⚖[4·14·18·21·23·24·26·29·30·32·35·37·39·40·44·47·49·52·53·58·59·65·68·69·72·76·81·95·99·103·108·109·112·113·114·116·118·119] ➔ \n",
      "               >:[1·4·6·7·12·13·25·26·27·29·31·33·35·37·43·62·67·71·74·76·80·85·91·95·99·100·102·103·105·107·114·120]⚖[3·5·9·11·14·15·24·36·39·40·41·42·44·45·47·53·57·61·63·65·66·72·73·78·82·87·92·93·101·109·110·116] ➔ \n",
      "                    >:[4·7·8·9·24·26·30·32·40·49·56·57·75·84·86·98·100·109·118]⚖[5·13·22·25·27·28·42·45·52·62·72·77·80·92·95·97·102·105·106] ➔ >:+100 =:-14 <:+102) \n",
      "                    =:[6·15·30·60·70·88·97·101·104·120]⚖[13·17·27·47·58·82·92·96·105·108] ➔ >:+88 =:+115 <:+96) \n",
      "                    <:[1·5·22·23·25·26·28·34·40·47·51·53·54·56·57·59·63·64·65·66·67·71·72·73·82·83·84·85·87·93·94·99·103·105·111·114·115·116]⚖[2·7·9·10·12·14·16·17·19·20·21·29·31·38·39·41·43·44·49·50·55·61·62·68·69·70·76·88·89·91·92·97·100·104·107·109·113·118] ➔ >:-29 =:-4 <:-26)) \n",
      "               =:[1·5·8·14·31·36·38·47·69·87·90·91·97·100·101·113·119·120]⚖[7·12·13·15·16·22·39·41·58·67·68·74·81·83·88·99·117·118] ➔ \n",
      "                    >:[4·7·10·30·35·71·74·75·76·77·78·93·106·112]⚖[3·6·8·16·23·28·46·47·54·55·62·63·69·91] ➔ >:-16 =:-13 <:+91) \n",
      "                    =:[1·3·6·12·14·24·50·53·57·58·62·72·78·79·89·90·101·104·107·117]⚖[5·8·17·23·32·40·41·51·56·63·66·75·80·82·85·98·110·111·112·113] ➔ >:+107 =:-28 <:+111) \n",
      "                    <:[3·9·16·23·26·27·28·38·45·47·53·57·62·75·82·88·90·92·93·96·99·103·111·112·116·120]⚖[1·15·20·32·35·46·48·49·51·54·56·64·68·72·76·79·83·84·91·94·102·104·108·114·117·119] ➔ >:-1 =:-5 <:+83)) \n",
      "               <:[1·2·6·13·17·19·26·30·31·32·33·34·35·36·38·39·41·42·51·56·58·62·63·65·68·70·75·77·80·81·84·88·93·103·109·110·113·114·116·117]⚖[5·7·8·10·12·15·22·23·25·27·28·29·40·43·44·46·52·54·55·59·66·67·72·73·78·79·89·90·92·96·100·102·104·105·107·108·111·115·118·120] ➔ \n",
      "                    >:[16·19·25·27·33·36·40·41·54·66·73·74·76·78·82·84·92·93·105·106·109·111·112·115·119]⚖[4·7·10·13·30·31·32·35·42·43·44·45·48·55·59·67·72·77·79·90·91·99·100·103·113] ➔ >:-7 =:+114 <:-25) \n",
      "                    =:[1·4·6·8·10·13·18·21·23·29·32·34·47·48·54·59·67·71·83·85·87·92·102·105·107·108·109·110·112·117]⚖[3·11·15·20·22·24·25·27·28·35·36·40·42·46·52·55·58·65·66·70·73·78·84·89·94·98·99·101·114·118] ➔ >:+112 =:-9 <:+99) \n",
      "                    <:[5·7·8·10·11·13·16·18·23·25·27·28·29·38·45·47·50·54·58·59·62·68·70·71·72·77·83·86·90·93·98·103·104·105·107·111·112·115·117·119]⚖[1·12·17·22·30·31·32·33·36·37·39·41·43·46·51·56·57·60·61·63·66·78·79·81·84·85·87·91·92·94·95·96·97·99·106·108·109·110·114·118] ➔ >:-17 =:-2 <:+118)))))\n"
     ]
    }
   ],
   "source": [
    "do(Puzzle(120, 5, {-1, 0, +1}))"
   ]
  },
  {
   "cell_type": "markdown",
   "metadata": {},
   "source": [
    "That works.\n",
    "\n",
    "Or, I could solve a puzzle with 243 possibilites (the maximum possible with 5 weighings): 242 lighter-only balls, plus the possibility that no ball is odd:"
   ]
  },
  {
   "cell_type": "code",
   "execution_count": 42,
   "metadata": {
    "scrolled": false
   },
   "outputs": [
    {
     "name": "stdout",
     "output_type": "stream",
     "text": [
      "[1·2·3·4·5·6·7·8·9·10·11·12·13·14·15·16·17·18·19·20·21·22·23·24·25·26·27·28·29·30·31·32·33·34·35·36·37·38·39·40·41·42·43·44·45·46·47·48·49·50·51·52·53·54·55·56·57·58·59·60·61·62·63·64·65·66·67·68·69·70·71·72·73·74·75·76·77·78·79·80·81]⚖[162·163·164·165·166·167·168·169·170·171·172·173·174·175·176·177·178·179·180·181·182·183·184·185·186·187·188·189·190·191·192·193·194·195·196·197·198·199·200·201·202·203·204·205·206·207·208·209·210·211·212·213·214·215·216·217·218·219·220·221·222·223·224·225·226·227·228·229·230·231·232·233·234·235·236·237·238·239·240·241·242] ➔ \n",
      "     >:[4·5·6·11·28·29·31·33·35·36·40·43·44·46·48·49·52·56·57·65·66·72·73·80·81·84·87·89·91·96·101·105·106·110·116·118·124·126·127·128·130·132·133·141·142·143·147·149·150·151·154·157·160·164·171·172·173·175·186·194·195·198·200·201·202·205·206·207·208·211·213·214·218·220·226·228·229·231·234·240]⚖[1·7·8·10·12·13·15·16·20·21·22·23·24·26·27·30·32·39·42·45·47·51·54·60·61·62·64·67·70·71·74·78·85·86·88·90·93·94·97·104·108·111·113·117·120·122·136·144·145·146·153·155·158·162·165·166·174·176·178·179·182·187·188·189·190·191·193·196·197·212·216·222·223·232·233·235·236·237·238·242] ➔ \n",
      "          >:[2·12·20·23·24·26·28·35·37·38·42·44·45·57·61·66·70·75·80·83·87·91·93·97·100·107·108·110·116·117·124·126·128·129·131·132·133·134·135·144·151·156·157·162·167·175·176·182·185·188·190·192·194·201·205·207·208·209·212·213·223·224·231·233·239·240·242]⚖[3·13·15·16·18·19·21·22·27·30·31·33·36·40·41·46·47·49·58·65·72·74·81·92·94·96·98·104·112·113·119·130·136·137·140·141·143·147·148·149·150·152·160·161·165·168·171·174·177·191·193·195·196·198·204·210·211·216·217·219·228·229·234·235·237·238·241] ➔ \n",
      "               >:[2·4·5·6·13·19·20·22·26·30·40·41·42·49·53·54·56·64·65·68·70·71·79·80·82·83·86·88·89·97·101·112·118·119·120·128·133·137·140·143·145·148·153·157·161·164·171·176·177·179·183·184·188·190·191·195·197·199·202·203·205·206·210·213·215·216·219·220·221·223·224·227·233·238·240]⚖[10·11·12·16·17·18·21·24·27·28·32·33·34·35·37·39·43·44·45·50·58·60·61·67·74·76·84·87·95·99·103·104·106·107·110·113·117·125·127·132·135·147·149·150·151·152·158·159·160·165·166·167·169·170·172·173·181·182·185·189·192·194·196·198·201·209·212·226·228·230·231·234·235·241·242] ➔ \n",
      "                    >:[9·23·42·77·78·103·114·130·155·180·235·241]⚖[24·27·54·65·72·79·87·115·134·148·185·196] ➔ >:-196 =:-165 <:-235) \n",
      "                    =:[2·3·6·8·17·23·27·28·29·31·33·45·46·47·48·49·53·54·60·62·66·75·77·78·79·81·88·91·92·94·97·102·103·104·106·110·112·115·121·131·135·137·146·149·152·154·164·169·177·179·181·182·183·198·205·206·210·211·214·216·219·224·228·237]⚖[1·5·10·11·12·13·16·21·25·34·43·51·52·55·64·72·87·90·95·99·100·105·108·113·114·118·119·127·129·130·132·136·142·143·145·148·155·156·158·163·166·167·175·176·185·186·187·190·193·194·200·201·202·208·213·215·218·222·227·231·236·238·239·242] ➔ >:-193 =:-174 <:-237) \n",
      "                    <:[4·30·35·38·52·57·63·66·68·77·78·79·84·90·93·99·100·107·114·117·120·121·122·129·138·140·142·143·146·155·160·161·167·168·170·178·183·191·199·206·218·222·226·229·233]⚖[9·12·13·24·29·34·40·42·48·49·51·56·70·71·73·74·75·76·81·82·95·103·104·108·109·116·123·148·151·152·165·173·187·188·189·193·200·207·209·215·216·224·228·235·242] ➔ >:-216 =:-238 <:-191)) \n",
      "               =:[6·7·8·11·13·21·26·34·36·37·40·45·49·58·62·63·67·74·78·84·91·93·94·95·96·101·102·105·110·115·116·117·118·119·121·125·126·130·132·135·136·145·147·148·149·150·152·154·155·156·157·166·171·180·182·188·189·194·195·203·208·210·214·217·219·220·228·229·230·231·233·234·236]⚖[4·5·9·12·14·15·18·19·24·29·33·39·41·46·47·50·54·55·59·61·64·66·70·71·76·77·80·88·90·99·100·107·113·129·137·139·142·143·153·158·161·163·168·170·172·174·175·176·184·186·187·190·191·193·197·198·200·202·204·207·209·213·215·221·222·224·226·227·235·237·239·240·241] ➔ \n",
      "                    >:[1·3·8·9·12·14·17·18·21·24·30·32·34·35·45·46·47·50·56·59·65·69·72·73·77·84·93·94·100·107·108·114·116·123·125·132·135·139·158·163·171·180·187·189·190·195·199·201·216·219·224·227·235·240·242]⚖[6·31·41·43·49·55·64·66·68·74·76·81·82·85·86·90·103·104·109·112·117·118·126·130·131·134·137·140·141·143·153·154·157·161·165·166·168·170·173·176·178·183·191·192·196·197·200·202·203·204·210·211·215·218·225] ➔ >:-197 =:-222 <:-187) \n",
      "                    =:[3·6·11·12·21·22·24·25·26·29·31·41·43·44·47·55·60·64·75·81·83·86·92·95·102·103·108·109·116·126·130·137·140·143·148·150·151·152·155·159·163·168·171·172·177·179·180·183·184·186·187·188·194·199·201·207·208·213·221·222·230·235·238·242]⚖[7·16·17·18·20·23·27·28·33·37·38·45·48·50·54·57·59·65·69·72·74·76·77·82·84·87·99·107·111·112·115·120·124·125·131·138·139·144·153·154·160·161·164·166·167·173·174·176·178·190·191·192·195·196·210·211·215·219·220·225·234·236·237·241] ➔ >:-178 =:-232 <:-179) \n",
      "                    <:[1·9·11·12·14·26·28·30·31·32·39·40·45·46·48·57·58·68·69·72·77·99·105·107·109·110·114·119·125·129·132·137·145·147·148·149·161·162·163·165·166·168·169·172·174·176·178·181·187·193·196·197·204·216·217·220·222·223·225·232·237·238]⚖[2·3·6·13·17·22·23·24·25·33·34·35·37·42·43·51·53·61·65·66·71·73·76·79·81·91·92·93·94·98·104·108·116·118·120·121·127·128·130·138·146·150·154·155·157·158·173·179·180·182·185·194·195·202·206·212·226·229·236·239·240·242] ➔ >:-236 =:-189 <:-166)) \n",
      "               <:[10·23·27·32·37·54·55·57·66·71·73·74·77·79·82·84·87·90·94·99·116·118·123·124·132·135·138·140·148·150·155·160·169·171·172·176·180·182·186·188·213·218·221·225·234·237·239]⚖[1·7·11·13·30·38·40·41·43·45·65·67·85·88·92·96·103·110·114·127·128·129·137·145·147·153·158·159·162·163·167·184·185·187·189·190·192·199·200·202·209·211·217·223·235·236·240] ➔ \n",
      "                    >:[4·5·6·13·19·21·30·37·38·42·47·51·56·66·67·76·79·84·86·90·100·106·112·119·122·126·129·135·136·138·139·140·147·160·161·163·164·168·170·172·173·174·181·183·184·189·190·191·192·193·202·203·204·210·214·222·224·229·233·236·240]⚖[7·9·11·17·20·24·29·33·40·41·44·46·49·50·60·69·75·78·80·92·96·97·101·102·103·104·105·110·114·115·116·121·125·128·131·134·137·150·151·152·156·157·162·171·178·187·194·196·199·207·208·216·217·218·219·226·230·234·235·239·242] ➔ >:-162 =:-223 <:-190) \n",
      "                    =:[2·3·4·9·12·14·19·23·34·36·40·45·46·48·50·52·53·62·63·65·66·69·73·74·80·83·88·91·94·96·97·109·114·116·117·122·129·133·135·140·145·149·154·156·157·158·160·164·166·170·174·181·182·183·184·186·193·194·195·196·197·199·201·202·203·207·211·213·223·226·227·228·229·233·235·236·237·239·241]⚖[8·15·17·18·20·22·24·26·30·32·33·38·42·43·54·55·58·61·64·67·71·72·77·78·79·84·87·89·90·92·95·100·101·104·105·108·111·115·120·125·127·130·131·134·136·137·138·139·143·147·148·163·167·171·176·178·179·185·187·188·190·198·200·205·206·208·209·212·216·217·218·219·220·221·222·224·230·232·240] ➔ >:-212 =:-242 <:-233) \n",
      "                    <:[13·23·25·33·44·52·67·78·86·88·89·94·96·97·103·104·116·119·130·131·145·146·147·158·162·171·173·176·178·179·192·196·198·210·213·216·221·222·227·240]⚖[8·9·15·34·37·40·45·48·58·62·64·75·82·84·87·93·105·111·112·122·127·134·135·138·142·144·155·163·184·187·188·189·199·201·202·214·217·223·231·233] ➔ >:-188 =:-182 <:-176))) \n",
      "          =:[6·8·9·14·24·29·30·35·44·45·46·49·51·52·54·56·57·58·62·65·70·74·75·76·78·80·84·86·88·91·92·96·100·101·103·105·106·107·108·112·121·128·134·140·147·154·156·158·160·161·162·163·169·173·175·177·181·184·189·190·192·194·195·198·199·201·206·207·210·221·223·226·229·231·233·234·240·242]⚖[1·4·12·13·20·25·26·33·34·36·37·40·41·43·50·53·55·61·64·66·69·72·73·79·81·82·83·85·87·90·94·95·98·99·109·111·115·116·123·125·129·136·137·139·141·142·143·148·151·155·164·165·166·171·172·176·179·183·185·186·187·197·203·204·205·212·214·215·216·217·218·220·224·225·232·236·237·239] ➔ \n",
      "               >:[2·4·6·8·23·28·29·36·38·46·53·54·56·57·65·71·73·84·90·91·93·97·98·99·102·105·109·113·114·115·122·128·129·131·134·136·146·155·157·161·165·175·178·179·187·194·195·200·205·212·213·217·218·223·224·230·234·238·239]⚖[3·13·15·18·21·25·27·31·32·39·45·48·55·58·59·60·61·62·66·67·68·70·72·74·88·92·100·103·106·116·118·119·124·132·140·145·147·148·153·158·166·171·181·183·186·193·196·197·203·206·208·211·214·215·229·231·237·240·241] ➔ \n",
      "                    >:[9·13·18·29·53·56·59·63·65·66·69·92·101·103·104·108·112·123·127·150·154·155·158·183·191·207·208·209·221·222·224·240]⚖[4·5·12·19·30·31·32·48·50·52·67·79·87·89·94·99·105·107·132·144·148·170·211·214·215·218·219·231·236·238·239·241] ➔ >:-215 =:-203 <:-183) \n",
      "                    =:[28·43·47·56·60·69·77·81·91·133·142·144·160·177·183·185·208·209·216·223·239·240]⚖[7·33·39·40·42·46·50·68·80·86·87·98·103·112·123·157·159·167·168·181·225·234] ➔ >:-225 =:-204 <:-185) \n",
      "                    <:[7·21·27·29·48·93·94·105·107·109·122·126·128·139·150·157·159·166·168·175·177·180·189·193·200·202·217·228·229]⚖[2·5·8·14·19·24·33·40·41·47·55·60·69·81·84·90·92·111·135·138·160·165·169·170·174·181·196·224·233] ➔ >:-224 =:-239 <:-217)) \n",
      "               =:[1·5·6·8·10·12·16·19·22·27·28·29·35·36·57·58·61·64·66·72·74·75·76·77·78·82·83·84·87·91·93·95·103·104·111·115·120·121·123·127·131·134·135·137·138·139·148·150·155·156·160·166·167·172·175·176·178·183·189·190·191·195·196·203·206·207·212·213·217·219·220·221·227·231·233·235·236·238·240]⚖[4·9·11·14·17·18·20·21·23·25·30·34·38·39·45·46·49·52·54·63·68·69·70·71·81·85·88·89·92·94·97·98·99·100·101·102·105·112·113·116·117·118·122·125·126·129·130·132·136·140·142·143·144·145·147·151·159·170·173·180·182·184·188·193·194·197·199·202·210·211·214·215·216·222·224·225·234·239·241] ➔ \n",
      "                    >:[2·6·18·24·28·29·31·36·37·46·55·58·61·63·67·77·85·86·95·97·102·108·109·121·126·132·134·136·149·151·152·158·160·163·170·172·173·183·189·190·191·197·199·200·202·210·218·225·228]⚖[5·8·10·11·14·17·22·23·25·34·40·42·49·51·56·57·60·72·74·76·79·87·89·92·96·113·116·129·131·133·139·142·147·150·154·159·162·169·174·179·184·187·192·195·205·206·230·240·241] ➔ >:-241 =:-180 <:-170) \n",
      "                    =:[1·2·3·6·7·9·10·14·15·22·30·31·32·35·44·47·52·59·65·77·80·86·87·88·91·99·102·104·105·115·122·125·131·133·135·138·139·143·144·149·153·156·165·166·168·169·171·172·175·180·181·186·187·188·192·196·199·201·202·222·223·233·234·236·239]⚖[13·19·21·24·26·36·41·43·46·58·60·62·64·69·70·73·74·75·79·85·95·96·97·98·100·103·109·114·119·120·121·123·126·129·130·132·140·141·148·150·154·155·159·162·164·174·176·182·184·185·193·194·195·197·203·209·211·213·215·216·218·220·226·228·238] ➔ >:-209 =:-230 <:-168) \n",
      "                    <:[18·19·24·26·41·42·43·48·57·64·69·72·78·80·83·85·94·96·103·104·125·127·134·147·152·165·173·174·176·201·203·209·216·224·226·227·232·233·237·238·240·241]⚖[2·4·14·20·25·27·33·34·35·54·60·61·62·75·76·77·79·91·95·97·98·100·114·120·121·129·138·157·163·183·184·189·190·192·193·210·211·219·222·234·235·236] ➔ >:-219 =:-167 <:-227)) \n",
      "               <:[1·18·19·25·27·28·32·33·36·41·46·47·48·50·54·56·61·69·70·77·80·89·92·93·96·97·106·109·112·114·116·118·119·122·124·127·129·132·134·135·136·137·138·140·143·145·146·149·150·152·154·156·158·159·165·168·169·176·178·181·185·189·190·193·194·196·198·202·204·208·209·218·220·221·224·232·233·237·240·242]⚖[5·6·7·8·10·14·15·21·22·23·24·29·30·31·35·38·39·42·43·44·49·53·55·57·68·73·75·76·78·79·84·85·86·87·95·98·101·103·107·108·110·113·115·117·123·125·130·131·141·144·148·151·155·162·164·170·174·179·180·184·187·191·192·195·197·199·201·205·207·211·212·214·216·217·219·222·228·229·235·239] ➔ \n",
      "                    >:[13·25·31·55·60·61·100·101·108·109·123·127·149·182·192]⚖[1·27·47·54·57·62·74·105·146·152·155·168·199·203·216] ➔ >:-199 =:-184 <:-192) \n",
      "                    =:[52·101·110·203·210·227]⚖[29·143·153·159·163·228] ➔ >:-163 =:-177 <:-210) \n",
      "                    <:[3·6·7·8·9·11·12·18·20·22·23·34·35·41·48·51·65·71·76·81·82·83·84·87·90·94·97·98·104·108·116·121·122·126·130·133·135·136·138·142·144·145·149·151·160·175·177·187·193·200·202·203·206·209·212·213·216·219·221·228·231·233·234·240·242]⚖[1·14·16·21·25·28·33·36·37·38·39·43·44·45·47·50·54·58·59·62·64·70·72·73·74·77·88·92·95·106·111·117·119·123·124·125·132·137·139·147·150·154·157·159·162·165·172·176·178·179·180·181·182·185·189·192·194·196·197·199·201·207·220·238·239] ➔ >:-181 =:-169 <:-221))) \n",
      "          <:[3·5·12·16·29·32·33·38·41·44·45·46·47·55·64·69·75·77·79·80·82·85·86·90·95·99·100·108·112·114·119·121·124·131·132·133·135·136·141·152·162·163·168·169·172·175·176·179·180·183·186·191·193·195·197·203·205·209·214·215·217·218·220·223·229·235·236]⚖[2·6·8·10·11·13·18·22·23·26·27·34·50·56·57·58·63·65·68·70·71·83·87·89·98·102·103·104·107·110·111·123·125·128·129·138·143·144·145·146·148·151·155·158·166·171·174·177·184·188·192·194·196·200·201·207·208·210·212·224·226·227·228·231·233·237·242] ➔ \n",
      "               >:[6·12·13·15·20·23·25·27·35·36·47·49·50·51·55·58·59·65·66·68·71·75·81·82·85·87·88·90·93·94·95·98·100·111·117·119·123·129·130·139·146·149·153·154·155·158·161·162·164·165·170·171·172·173·174·175·177·178·181·182·185·186·187·189·190·196·201·211·212·215·218·222·223·228·233·238·239·241]⚖[1·2·3·4·5·10·14·17·21·24·31·32·34·37·39·44·45·46·48·53·57·60·62·69·70·77·78·79·80·84·86·96·97·99·102·103·105·109·112·113·114·115·116·122·124·126·137·140·142·143·144·148·150·156·157·167·183·194·195·197·198·199·202·203·205·209·213·214·217·219·221·224·225·226·227·229·231·240] ➔ \n",
      "                    >:[7·11·12·13·14·18·19·20·23·26·27·28·29·32·35·37·38·42·44·50·57·58·59·60·64·66·68·71·72·74·75·79·83·85·87·91·92·94·96·99·101·108·116·117·122·124·127·133·138·140·141·143·145·148·151·152·161·162·169·177·192·194·198·199·207·209·210·212·213·215·217·224·227·228·229·232·233·236·241]⚖[6·15·16·17·22·24·25·30·31·36·39·46·47·48·49·52·53·54·55·61·63·70·73·76·78·81·82·89·93·95·97·98·103·106·107·109·114·120·123·125·128·129·130·132·134·135·139·150·153·154·156·157·160·163·164·165·166·171·173·174·176·179·186·188·202·204·208·211·214·216·220·222·223·225·231·234·237·240·242] ➔ >:-231 =:-226 <:-194) \n",
      "                    =:[5·13·14·20·21·31·38·54·68·71·77·92·102·106·123·129·130·137·138·139·151·161·179·185·186·193·196·200·209·211·220·226·230·233·235·237]⚖[2·3·6·35·46·60·65·66·81·82·84·87·94·104·113·116·118·140·142·152·153·155·158·163·171·180·181·182·187·189·202·205·206·208·221·227] ➔ >:-208 =:-207 <:-200) \n",
      "                    <:[3·10·25·41·84·91·95·98·101·126·148·155·201·202·208·222·238]⚖[59·78·86·97·103·104·107·129·138·141·159·166·180·184·191·194·228] ➔ >:-228 =:-171 <:-201)) \n",
      "               =:[2·3·6·8·11·23·24·29·31·32·35·40·41·48·50·53·54·55·59·72·73·74·75·76·82·85·87·89·90·94·97·101·105·106·114·117·118·131·140·142·143·146·148·150·156·159·163·164·166·171·181·184·185·188·189·193·195·196·199·203·204·206·207·211·212·217·220·222·226·227·229·232·236·239·241·242]⚖[1·5·9·10·15·19·30·36·37·38·39·44·47·51·52·57·58·60·61·63·64·66·69·70·71·78·79·80·81·84·86·92·93·99·100·110·115·116·119·121·122·123·124·127·129·132·134·135·136·137·144·147·152·153·160·162·165·168·169·173·174·179·180·186·187·194·197·200·210·213·219·221·224·233·235·240] ➔ \n",
      "                    >:[6·11·22·28·29·37·39·44·45·51·52·55·58·61·62·72·79·87·90·91·93·95·104·107·111·121·126·132·138·140·144·147·148·152·173·176·178·189·190·199·208·214·215·223·230·235]⚖[5·9·12·14·19·30·42·46·47·50·60·67·75·76·77·78·80·81·94·96·100·102·117·129·130·131·134·142·151·153·154·164·175·181·187·188·195·196·198·211·213·222·224·231·232·242] ➔ >:-213 =:-240 <:-173) \n",
      "                    =:[13·27·29·41·43·44·53·60·68·73·82·86·87·89·91·111·113·120·127·128·129·131·134·135·138·146·154·162·171·172·174·180·182·186·188·192·195·199·201·202·203·207·208·212·215·221·223·225·231·232·235·241]⚖[3·4·8·9·18·28·35·36·39·42·45·47·49·50·63·64·69·77·83·84·92·94·99·104·107·108·119·122·126·140·142·145·148·149·159·163·167·168·169·176·179·187·190·193·198·204·211·220·230·233·236·242] ➔ >:-198 =:-234 <:-202) \n",
      "                    <:[4·8·9·11·18·25·27·28·36·41·58·66·70·72·75·81·83·87·90·101·113·139·143·144·150·153·161·164·170·172·188·189·210·230·235·238]⚖[13·17·30·31·33·37·40·44·52·62·63·69·77·78·85·88·91·103·119·124·128·135·138·145·147·151·154·156·157·202·208·211·217·220·228·241] ➔ >:-211 =:-206 <:-164)) \n",
      "               <:[2·6·7·13·17·20·22·27·33·37·39·43·45·50·52·55·58·59·64·67·70·72·76·84·91·92·95·97·100·106·109·113·117·129·130·134·135·136·139·142·143·147·149·152·153·154·155·159·162·170·171·172·178·181·182·183·186·188·189·192·200·203·205·215·221·224·225·231·233·234·238·239·240]⚖[1·4·5·8·10·14·16·18·19·21·25·26·34·36·44·46·48·54·61·62·63·73·74·75·81·96·99·103·104·105·108·111·112·119·120·125·131·132·133·140·141·144·145·146·157·161·164·165·166·169·173·175·176·177·179·184·193·196·198·204·208·209·210·213·214·216·219·222·223·228·229·230·232] ➔ \n",
      "                    >:[1·3·7·13·14·15·22·25·39·46·52·54·57·58·63·66·69·76·77·79·80·84·85·89·99·112·120·123·144·156·159·163·164·168·169·175·179·187·191·195·203·207·213·218·223·227·233·239]⚖[5·6·21·26·28·32·50·59·71·72·73·86·91·93·95·102·109·111·113·117·128·129·131·132·135·136·140·149·155·167·172·174·178·181·182·184·188·194·199·202·206·209·212·214·220·236·238·242] ➔ >:-214 =:-229 <:-175) \n",
      "                    =:[13·16·25·26·31·38·44·50·57·58·60·61·65·68·73·76·85·88·94·104·105·109·111·114·115·118·125·129·136·140·148·160·162·165·174·187·190·191·195·200·208·210·212·221·224·235·240·242]⚖[1·7·12·24·30·39·40·46·51·54·56·63·66·69·80·86·91·102·107·116·120·124·133·143·144·153·156·163·167·177·182·186·188·189·192·198·199·206·207·217·218·225·227·231·232·233·236·241] ➔ >:-218 =:-220 <:-195) \n",
      "                    <:[4·8·11·15·21·22·25·37·39·40·45·46·47·49·51·55·56·59·60·63·71·76·80·83·84·91·92·95·99·108·110·117·124·129·133·138·139·147·148·149·150·154·157·160·161·162·167·169·171·173·175·176·179·180·181·184·186·188·189·191·192·199·202·204·206·209·210·214·217·218·219·222·229·232·233]⚖[5·9·17·18·24·30·33·34·36·38·41·43·52·54·58·65·66·67·77·79·81·82·85·89·90·93·94·97·98·101·102·103·105·112·116·118·122·128·130·132·134·137·140·142·143·144·145·152·153·156·163·164·166·168·170·172·174·177·183·185·190·194·197·198·201·203·207·213·220·223·225·227·235·237·241] ➔ >:-172 =:-205 <:-186)))) \n",
      "     =:[2·9·12·13·15·17·18·26·29·34·35·36·41·42·46·47·50·52·54·57·65·68·69·70·72·73·77·78·79·80·81·82·83·86·88·89·90·92·93·96·100·102·107·108·111·114·122·126·130·135·136·137·150·151·154·155·156·159·167·174·175·179·181·182·188·190·197·198·201·206·210·211·214·218·225·229·235·237·239·240·241]⚖[1·5·6·8·11·16·20·28·31·32·38·39·40·44·45·48·51·55·58·59·61·62·64·66·67·74·76·84·87·91·97·98·101·104·105·106·109·110·115·116·121·127·128·139·140·141·143·145·148·149·152·153·157·161·162·168·171·172·176·177·180·185·186·193·194·196·199·204·205·207·212·213·215·216·217·222·226·228·230·232·234] ➔ \n",
      "          >:[2·7·9·13·15·17·18·19·20·26·29·31·37·42·44·45·47·48·49·51·56·60·65·69·75·77·82·88·90·92·101·103·104·105·107·108·114·120·125·127·130·131·134·140·141·143·146·148·149·158·159·160·163·164·166·168·178·182·183·187·191·197·203·204·209·211·212·213·214·217·223·225·233·236·242]⚖[3·5·10·12·24·25·27·33·34·36·41·46·52·54·58·62·64·66·67·70·72·74·78·83·84·87·91·94·95·97·99·106·109·111·112·117·119·123·126·128·129·135·136·142·144·145·150·161·167·170·172·173·175·179·180·181·185·186·189·190·195·199·200·202·206·208·210·216·219·227·234·235·238·239·240] ➔ \n",
      "               >:[2·6·8·12·15·16·21·25·26·28·31·32·34·36·37·38·43·45·48·49·50·53·58·61·62·63·64·65·69·72·75·76·77·83·90·91·92·97·105·115·120·123·124·125·132·134·139·143·144·145·148·151·152·154·155·157·159·167·170·171·177·178·183·184·190·193·195·198·204·209·214·216·225·231·232·236·237]⚖[3·9·10·13·17·29·41·42·44·54·55·59·70·73·78·80·82·84·89·95·96·98·100·102·104·110·114·117·118·119·121·122·128·130·133·135·140·146·149·150·153·156·161·163·165·169·172·174·175·176·179·180·186·187·189·192·199·200·203·206·207·213·215·217·219·221·222·223·226·227·233·235·238·239·240·241·242] ➔ \n",
      "                    >:[6·21·23·24·35·39·48·51·66·69·75·80·83·106·129·140·161·170·175·185·186·196·202·227·228]⚖[30·31·50·65·68·84·87·88·107·109·111·113·117·118·120·146·147·152·154·180·183·205·210·219·241] ➔ >:-84 =:-128 <:-161) \n",
      "                    =:[7·14·17·18·23·25·35·36·56·57·58·60·61·63·78·87·90·91·92·98·108·110·111·112·118·120·130·131·134·137·138·139·140·145·146·161·170·172·174·175·183·185·186·192·194·195·196·197·200·202·203·205·217·220·221·232·237·241]⚖[2·4·8·10·11·21·22·26·27·28·34·37·39·41·43·51·64·65·70·73·74·76·79·81·83·84·93·97·101·102·105·109·125·126·127·129·136·142·148·158·159·167·177·178·180·184·189·191·198·201·207·209·222·226·230·235·238·242] ➔ >:-109 =:-106 <:-87) \n",
      "                    <:[1·2·5·9·11·12·17·18·22·23·26·27·29·32·38·47·49·53·54·58·59·63·72·73·77·78·89·90·97·106·107·109·114·124·125·126·127·133·138·160·161·169·174·175·182·183·187·188·193·199·201·205·207·209·213·217·218·225·230·239]⚖[6·10·14·19·33·34·37·41·45·46·48·70·74·83·84·85·86·91·94·100·102·105·113·116·119·120·122·123·128·129·140·142·143·148·150·157·158·159·163·165·167·173·186·189·191·195·197·200·208·210·211·214·216·221·222·223·229·233·236·237] ➔ >:-91 =:-145 <:-97)) \n",
      "               =:[1·5·8·10·13·14·18·24·25·27·29·33·41·42·47·48·52·53·60·63·73·81·82·86·100·101·104·105·106·114·116·119·120·121·124·132·138·141·143·144·145·149·152·154·170·172·173·177·184·185·187·188·193·195·196·197·198·200·202·206·210·216·217·218·219·224·234·235·236·238·240]⚖[2·3·4·9·11·20·23·32·37·39·43·56·57·61·68·69·76·83·84·91·95·97·103·107·111·112·117·122·123·125·128·129·131·134·136·139·140·151·153·157·159·161·163·165·167·168·169·171·174·179·180·186·194·201·207·208·209·212·213·214·220·223·225·228·229·230·231·232·233·237·239] ➔ \n",
      "                    >:[2·6·7·17·18·20·22·24·25·31·50·51·54·55·58·60·70·74·76·78·88·95·96·103·113·116·119·127·132·137·143·153·156·158·161·163·166·174·175·180·187·188·195·200·201·203·216·232·235]⚖[3·4·5·12·13·16·38·39·44·48·56·57·64·67·69·73·75·81·84·86·100·104·106·107·109·110·118·123·125·140·142·144·157·160·162·171·176·183·191·202·209·214·221·223·224·227·228·231·242] ➔ >:-157 =:-139 <:-153) \n",
      "                    =:[7·8·9·10·13·16·19·22·34·36·37·41·47·52·53·58·61·67·70·81·82·87·90·95·107·108·110·111·112·114·118·121·124·125·127·129·130·135·136·139·147·149·156·157·159·171·181·186·188·191·193·194·195·203·205·214·216·217·219·220·225·226·229·233·234·235·242]⚖[1·2·6·12·14·15·28·29·31·35·38·48·51·54·55·56·57·59·62·63·65·66·69·71·89·93·96·100·102·103·104·105·115·116·120·126·138·140·142·154·155·162·165·166·169·172·173·177·179·180·182·183·184·187·189·190·192·197·198·200·202·212·213·227·231·240·241] ➔ >:-115 =:-98 <:-110) \n",
      "                    <:[18·20·22·25·37·46·49·57·59·60·61·66·68·76·77·86·98·100·105·106·107·113·116·122·126·127·128·130·136·137·140·141·142·143·147·149·150·151·154·155·162·163·164·170·171·180·190·193·194·195·196·199·205·206·208·213·214·216·219·228·229·232·236·240]⚖[1·3·14·15·23·26·31·33·35·41·50·52·54·63·64·70·73·75·83·87·88·89·92·93·97·99·101·102·104·111·117·121·125·129·139·145·146·148·156·157·165·167·168·169·172·173·177·178·187·189·200·201·202·204·207·211·215·218·220·221·227·235·238·241] ➔ >:-121 =:-152 <:-116)) \n",
      "               <:[4·21·22·24·25·26·33·40·41·46·54·59·71·74·75·76·77·92·104·109·114·116·121·122·126·128·136·140·146·149·150·151·154·158·160·161·164·167·168·170·171·177·182·183·189·203·208·212·214·216·228·229·235·242]⚖[5·6·8·14·15·20·23·28·29·32·36·39·44·50·51·55·56·62·66·70·72·90·95·97·100·107·110·112·113·115·120·127·131·138·139·141·143·145·157·172·178·184·185·192·200·204·205·210·218·221·222·223·226·234] ➔ \n",
      "                    >:[4·11·15·16·25·27·29·31·34·40·41·43·51·55·62·66·70·72·74·75·76·77·80·82·83·88·91·95·97·98·105·109·110·111·115·118·124·127·129·130·132·134·136·148·149·152·153·163·177·190·191·192·197·198·202·204·218·219·223·235·239]⚖[8·9·12·14·24·26·28·30·32·33·35·36·37·38·39·45·48·50·52·57·64·67·68·78·85·94·96·99·103·104·113·114·119·120·121·122·133·139·141·145·150·155·158·162·164·173·174·175·176·178·186·188·189·200·201·206·210·212·217·225·236] ➔ >:-141 =:-143 <:-127) \n",
      "                    =:[3·16·18·26·39·53·55·62·73·82·95·101·168·171·177·189·197·205·210·214·238·239·240]⚖[6·14·35·46·57·64·91·106·107·117·119·141·146·148·154·160·176·184·185·213·219·232·235] ➔ >:-148 =:-105 <:-101) \n",
      "                    <:[59·74·121·129·149·161·167·193·221·237·241]⚖[35·39·57·69·86·103·140·148·170·214·219] ➔ >:-140 =:-104 <:-149))) \n",
      "          =:[5·6·9·12·15·18·22·23·24·25·32·35·38·39·43·44·45·46·48·51·53·58·71·76·77·80·83·84·90·91·100·101·105·109·110·113·115·116·117·118·124·127·128·129·130·133·134·138·139·141·150·151·154·159·160·165·168·169·172·176·177·186·195·199·202·207·218·223·224·226·227·229·230·234·237·240]⚖[1·3·7·8·16·20·26·34·41·49·52·54·61·66·69·70·72·78·79·85·87·89·92·93·94·95·96·97·98·106·107·108·111·114·120·122·125·126·131·132·140·142·143·152·153·155·156·157·158·163·174·180·184·185·187·189·190·197·198·203·204·208·210·211·215·216·220·221·222·228·233·236·238·239·241·242] ➔ \n",
      "               >:[1·4·14·18·19·23·25·27·28·37·40·41·43·44·59·62·68·72·74·76·78·79·85·89·91·95·101·102·105·123·135·140·142·148·150·155·161·162·164·168·173·175·179·180·184·193·199·200·203·217·219·223·226·228·233·237]⚖[3·5·8·10·22·29·33·39·51·52·58·67·71·83·84·87·90·93·97·99·100·103·112·114·115·117·122·124·125·126·128·129·132·133·137·141·144·145·151·152·158·159·163·171·176·178·185·186·188·192·194·198·202·208·218·240] ➔ \n",
      "                    >:[1·3·5·13·14·18·19·22·23·27·28·30·33·34·35·45·46·50·51·53·55·57·58·66·69·73·74·79·80·82·84·93·97·104·107·108·114·115·116·117·127·130·131·133·134·135·137·140·141·142·143·149·150·154·156·158·169·173·176·178·179·180·181·185·190·194·197·199·200·202·206·207·223·224·228·233·239]⚖[4·7·9·20·21·25·29·31·32·36·43·44·47·52·54·61·65·67·70·72·77·81·86·87·89·91·92·103·105·106·113·122·123·125·126·136·139·145·146·147·148·151·155·157·161·162·163·164·166·167·170·174·182·183·184·187·191·192·195·196·201·203·205·208·209·210·213·215·216·222·225·226·234·236·238·240·241] ➔ >:-125 =:-132 <:-158) \n",
      "                    =:[28·37·40·46·66·77·88·94·95·96·114·135·138·147·155·157·158·161·163·165·173·176·182·186·187·188·200·203·207·209·215·217·220·223·226·228·237]⚖[2·8·13·15·21·29·36·38·44·54·67·83·85·91·101·103·108·110·113·123·125·128·131·132·144·146·152·164·170·171·172·181·212·214·216·222·225] ➔ >:-131 =:-120 <:-94) \n",
      "                    <:[5·7·15·23·30·34·37·42·46·69·88·90·94·95·99·111·112·113·114·117·128·129·132·134·136·138·139·141·148·151·154·155·161·166·172·174·176·177·179·195·197·200·204·207·208·212·218·220·230·235·236·238]⚖[3·11·12·14·16·17·21·27·33·35·44·50·52·62·64·66·68·75·76·81·83·84·86·96·103·119·122·125·126·137·142·144·150·152·156·157·171·180·181·185·186·188·191·201·215·225·231·232·233·239·240·241] ➔ >:-142 =:-85 <:-95)) \n",
      "               =:[1·4·5·9·11·12·13·14·15·18·20·31·36·44·47·50·53·57·60·62·63·72·79·82·83·86·95·107·109·113·119·120·122·124·126·127·130·132·141·144·145·147·152·153·159·166·168·175·176·182·184·188·192·194·204·208·210·216·217·220·222·223·224·226·231·232·235·241·242]⚖[2·6·7·10·16·17·19·22·24·34·37·38·39·56·61·64·67·69·70·71·80·87·88·91·93·94·97·98·99·102·110·112·114·123·128·129·134·135·137·142·143·148·149·150·165·171·173·174·177·178·180·183·187·190·196·198·202·205·207·209·212·214·221·225·228·229·237·238·240] ➔ \n",
      "                    >:[3·4·11·12·14·16·17·19·21·23·28·29·30·32·39·41·43·46·60·64·65·80·87·89·93·95·102·110·111·115·116·121·123·134·137·138·139·140·145·148·153·154·158·160·169·170·171·172·174·181·189·193·197·201·203·206·208·223·224·226·231·234]⚖[2·13·22·36·37·42·47·49·51·55·58·59·63·66·68·71·75·76·77·88·90·92·94·99·108·109·114·118·120·124·126·129·133·136·141·149·152·155·157·165·167·175·177·179·187·191·196·202·205·207·209·213·214·216·218·221·222·225·228·237·238·242] ➔ >:-99 =:-112 <:-123) \n",
      "                    =:[21·26·35·39·41·44·46·48·57·60·61·73·75·77·82·90·91·93·99·108·119·124·126·143·146·147·156·161·164·165·191·192·202·205·208·215·218·220·235·237]⚖[8·17·32·47·58·67·72·74·78·79·83·85·94·95·96·97·102·103·110·114·131·139·176·178·181·185·188·198·201·209·210·211·212·214·217·226·227·230·238·242] ➔ >:-103 =:0 <:-146) \n",
      "                    <:[5·10·11·18·20·23·29·30·34·35·36·40·42·44·47·53·56·62·66·68·69·72·76·83·88·89·90·94·97·100·101·103·104·105·107·109·112·116·120·123·128·136·138·139·140·141·142·143·145·146·147·149·151·152·153·157·165·174·176·177·178·179·181·188·189·190·193·195·196·200·202·204·207·208·213·222·223·230·232·234·241]⚖[3·4·6·8·9·13·14·15·19·21·27·28·32·37·38·39·41·43·45·46·48·49·50·51·52·58·60·78·79·81·84·85·92·93·98·99·102·110·111·114·115·118·122·124·125·132·137·144·148·150·154·155·158·159·160·161·168·170·173·182·184·185·187·192·194·197·198·199·201·205·206·210·214·215·217·231·233·235·236·239·242] ➔ >:-144 =:-119 <:-147)) \n",
      "               <:[6·18·19·20·23·25·32·35·42·43·47·49·55·61·65·76·80·83·87·89·98·118·119·125·126·127·132·133·138·140·145·147·151·153·155·156·158·178·181·185·198·200·203·207·214·218·224·231·237·238]⚖[5·10·12·28·30·31·33·40·41·62·66·77·79·81·84·93·95·100·101·103·109·115·117·122·129·130·144·148·160·162·165·171·172·173·179·180·201·202·204·219·220·221·223·228·230·233·234·239·240·242] ➔ \n",
      "                    >:[1·2·3·6·10·14·17·18·20·28·38·40·46·49·50·56·58·60·82·93·102·106·108·110·120·122·128·129·132·138·139·145·152·154·155·158·166·174·177·178·186·194·198·205·214·220·227·232·235·236·238·239]⚖[5·9·12·25·27·35·36·37·39·48·61·62·66·67·69·70·72·85·87·96·109·114·116·117·121·124·130·131·135·137·141·142·148·150·153·157·163·171·180·185·188·197·199·201·207·208·209·217·223·230·237·241] ➔ >:-117 =:-160 <:-129) \n",
      "                    =:[3·7·14·20·28·31·37·39·56·58·59·60·63·67·71·72·73·86·88·91·93·96·99·102·112·115·117·120·124·130·140·142·154·171·172·173·181·193·200·212·217·224·230·238·239]⚖[8·12·16·24·41·42·44·46·51·54·57·61·75·79·80·84·87·92·95·97·105·116·126·134·135·141·145·148·170·178·184·186·187·189·203·204·206·208·213·216·218·219·220·234·241] ➔ >:-134 =:-113 <:-124) \n",
      "                    <:[2·26·31·37·40·47·50·54·56·59·61·66·77·89·98·104·108·112·116·124·127·133·135·139·140·144·149·156·160·162·167·176·179·180·185·188·196·198·204·212·215·218·221·224·237·240]⚖[1·3·4·6·7·13·27·30·33·34·38·41·43·55·67·73·82·84·87·88·94·96·99·103·121·130·134·138·146·148·152·159·169·171·175·184·186·193·205·209·214·217·222·227·241·242] ➔ >:-138 =:-118 <:-133))) \n",
      "          <:[1·7·14·15·17·18·19·26·28·32·34·36·38·47·48·49·53·61·63·73·74·82·85·88·91·102·104·108·110·111·116·120·123·126·127·132·138·139·143·145·148·149·155·156·159·165·168·176·180·186·190·193·195·196·201·203·216·219·222·225·226·227·231·232·241]⚖[3·8·10·23·27·31·37·40·42·46·56·57·64·68·69·70·72·79·80·84·86·87·89·96·97·99·103·107·109·113·118·122·125·128·129·134·135·136·141·144·146·150·154·163·166·169·172·177·179·182·187·189·199·200·205·208·211·212·213·215·221·224·230·233·242] ➔ \n",
      "               >:[5·9·10·11·13·30·33·43·48·49·51·56·60·65·68·74·75·81·84·93·98·106·115·116·121·122·125·135·136·137·141·152·155·157·161·164·165·169·176·180·183·186·200·204·205·212·219·223·232·237]⚖[1·7·23·25·27·28·34·37·38·42·46·59·69·77·78·79·82·85·89·96·102·110·112·120·131·139·149·150·151·156·158·160·162·163·177·178·182·184·187·189·191·198·199·202·207·209·218·221·228·235] ➔ \n",
      "                    >:[5·10·11·12·13·16·17·18·24·25·28·32·33·34·35·41·42·43·46·47·50·53·55·59·61·63·64·67·71·74·80·83·85·104·118·122·124·132·133·138·139·140·148·150·154·155·159·160·162·166·168·169·171·174·176·178·183·185·186·195·201·203·204·209·223·224·225·228·229·233·234·236·237·238·240·241]⚖[4·6·8·20·21·23·27·30·31·36·40·45·48·49·51·56·57·58·60·62·65·66·68·69·70·72·75·91·93·96·97·98·100·105·108·109·110·111·115·117·123·135·136·141·143·144·146·152·156·157·158·170·173·177·179·180·188·190·192·196·197·198·199·205·207·211·212·214·219·226·227·230·231·232·239·242] ➔ >:-96 =:-89 <:-150) \n",
      "                    =:[1·3·8·11·12·15·23·25·26·27·40·41·47·52·54·58·61·62·65·68·69·71·72·73·75·81·85·88·90·91·92·93·97·99·101·102·103·106·110·111·114·117·121·123·128·141·142·144·147·148·154·157·161·163·165·167·171·173·175·185·194·196·204·205·207·209·211·213·214·218·219·220·221·225·228·229·234·241]⚖[2·4·5·7·9·14·16·18·21·24·29·31·32·33·34·35·37·42·43·44·45·46·50·51·55·56·59·63·70·76·77·78·83·89·95·96·98·105·107·113·119·125·126·127·130·132·133·139·145·149·151·153·160·164·168·169·172·176·177·178·180·182·186·190·192·193·197·198·203·216·224·226·230·231·233·236·237·239] ➔ >:-107 =:-86 <:-154) \n",
      "                    <:[3·7·27·32·34·37·54·75·81·83·87·96·103·122·142·146·156·169·189·198·242]⚖[8·30·52·71·74·91·110·135·139·159·161·178·182·185·190·199·210·211·224·227·230] ➔ >:-135 =:-136 <:-122)) \n",
      "               =:[5·16·18·20·26·32·40·41·42·47·50·59·61·62·65·68·69·71·76·78·80·83·88·92·94·99·105·116·126·128·135·137·140·144·146·152·154·159·169·171·176·192·194·195·197·200·201·209·219·223·228·239]⚖[1·8·9·11·14·15·17·25·29·33·37·39·48·51·52·54·60·73·77·84·91·93·95·98·111·113·114·119·122·127·130·132·133·138·148·153·155·167·175·183·188·189·198·203·213·214·215·220·221·226·232·234] ➔ \n",
      "                    >:[5·6·15·16·17·21·29·31·32·33·44·47·58·63·66·67·69·70·77·80·81·85·90·97·100·103·108·110·113·119·124·130·136·138·141·146·148·151·155·159·160·164·165·166·167·168·176·182·191·196·205·206·207·211·222·236·240·242]⚖[3·8·10·22·23·26·28·39·40·60·64·68·72·74·78·83·84·87·89·93·105·106·112·117·121·127·129·139·140·143·144·150·152·157·161·162·169·175·179·183·186·187·190·194·197·199·202·209·210·217·221·224·225·226·228·235·237·241] ➔ >:-93 =:-114 <:-130) \n",
      "                    =:[1·12·30·42·45·54·102·113·120·125·136·137·142·144·151·160·174·181·184·190·197·207·216·218·226·232·236]⚖[3·5·11·18·38·39·40·41·48·56·68·69·86·89·90·92·106·117·131·159·163·179·182·189·225·237·242] ➔ >:-90 =:-100 <:-151) \n",
      "                    <:[1·16·18·22·26·29·34·50·51·56·63·74·75·82·83·86·89·91·94·105·113·115·127·132·146·147·150·157·158·164·168·171·185·197·201·203·204·205·226·228·231]⚖[5·6·13·14·15·21·25·30·41·44·48·55·61·67·80·92·93·95·98·107·111·120·134·138·139·142·161·180·184·191·192·194·196·200·206·220·222·227·230·232·238] ➔ >:-92 =:-137 <:-83)) \n",
      "               <:[2·5·9·11·13·14·22·23·28·30·32·33·37·39·41·43·46·59·68·74·77·79·82·85·88·89·96·99·103·106·107·110·111·114·115·117·122·123·125·133·136·137·139·143·144·151·157·158·161·163·164·167·170·171·175·176·178·187·192·201·203·206·209·211·213·216·220·221·222·224·232·233·236·240]⚖[3·4·6·16·18·20·29·31·34·35·40·44·51·52·57·58·60·61·62·63·65·67·75·83·91·92·93·94·95·100·102·112·116·121·124·129·132·134·140·141·145·150·155·156·162·165·166·168·169·172·174·179·180·182·186·189·190·193·194·196·197·199·205·207·212·218·219·225·226·230·231·235·239·242] ➔ \n",
      "                    >:[15·16·22·23·29·39·51·52·59·61·67·81·96·100·102·115·117·118·119·132·135·140·141·152·169·170·178·190·198·206·213·217]⚖[2·6·13·17·26·27·30·31·34·36·54·70·83·85·90·94·128·144·145·146·155·174·177·179·183·187·197·212·216·235·236·240] ➔ >:-155 =:-156 <:-102) \n",
      "                    =:[1·9·23·54·77·90·92·105·114·135·153·159·166·181·203·208·221·235]⚖[17·39·91·102·106·108·132·133·136·186·188·192·200·207·210·218·226·240] ➔ >:-108 =:-126 <:-159) \n",
      "                    <:[3·9·13·36·37·52·54·56·60·62·72·74·82·92·107·109·116·127·131·137·139·143·150·153·158·179·188·195·196·199·204·215·216·222·228·230·237]⚖[23·32·33·42·43·44·61·64·67·80·81·86·88·89·103·112·120·122·123·136·140·141·151·152·156·157·159·175·180·184·190·191·193·198·214·229·242] ➔ >:-88 =:-111 <:-82)))) \n",
      "     <:[1·2·6·7·11·17·18·19·20·27·29·33·34·37·41·47·53·54·57·58·64·67·69·75·77·78·79·87·91·92·97·98·107·116·121·122·123·128·129·133·134·136·139·141·146·147·158·161·162·164·167·168·169·170·171·172·178·180·181·182·183·190·191·197·198·201·208·210·216·219·221·222·224·225·226·231·233·234·235·241·242]⚖[4·5·8·12·13·14·16·21·22·24·26·30·43·44·45·46·48·51·52·55·56·60·62·63·65·66·74·82·85·86·88·89·90·94·95·96·99·105·106·109·110·112·115·118·119·120·126·127·132·137·138·140·142·149·150·152·154·157·163·175·176·177·179·186·194·195·199·200·202·203·204·206·207·213·218·220·228·236·237·239·240] ➔ \n",
      "          >:[2·3·13·19·20·22·25·26·30·31·33·35·43·45·50·51·56·64·65·67·82·83·84·85·86·87·91·92·99·104·107·109·116·117·119·123·126·128·134·137·138·140·142·144·145·146·149·155·158·159·162·179·181·197·205·208·209·215·216·217·221·224·231·232·234·235·239·240]⚖[4·12·16·17·18·23·24·28·29·34·36·39·40·41·44·46·49·52·57·58·63·68·69·70·72·74·75·76·80·81·89·90·93·98·100·101·102·112·118·120·121·122·129·136·141·143·150·153·157·163·165·168·172·175·176·178·184·185·193·194·196·202·204·214·218·226·238·241] ➔ \n",
      "               >:[2·3·7·8·9·12·21·22·24·26·27·31·32·38·40·45·47·49·50·54·56·57·61·62·66·70·74·81·82·85·86·87·92·99·101·105·117·119·121·126·132·134·137·141·142·144·148·155·156·157·158·159·164·175·185·192·193·198·199·202·210·212·217·222·223·225·226·227·228·231·232·234·239]⚖[10·14·19·29·30·34·36·37·41·42·44·46·48·51·52·59·68·72·76·77·78·79·88·89·96·104·107·109·111·116·120·123·127·128·129·130·131·133·135·138·145·146·147·150·153·161·162·168·170·171·174·176·177·180·182·184·187·188·189·194·195·197·201·203·205·216·219·221·233·236·238·240·242] ➔ \n",
      "                    >:[2·5·10·17·20·21·23·24·25·29·40·49·52·57·61·66·77·78·80·84·95·109·110·114·115·126·153·158·159·165·170·171·188·194·199·202·210·211·222·223·240·241]⚖[18·30·32·37·41·46·68·69·71·72·73·75·79·92·96·99·100·102·104·107·111·125·128·141·147·150·151·152·157·161·162·175·192·193·195·206·212·217·226·228·229·232] ➔ >:-46 =:-44 <:-52) \n",
      "                    =:[1·4·9·17·34·37·43·48·54·57·64·65·69·70·75·81·83·90·101·106·109·114·117·118·120·124·127·132·141·146·152·153·175·177·186·189·204·208·209·240]⚖[6·7·16·19·29·36·40·44·51·55·59·60·66·77·95·97·103·104·108·121·126·128·134·143·151·157·162·163·169·170·174·183·190·191·199·200·213·216·224·227] ➔ >:-16 =:-63 <:-4) \n",
      "                    <:[4·5·8·12·17·22·25·26·29·43·45·46·52·59·60·61·64·68·71·78·80·81·86·87·88·89·93·99·104·106·109·112·116·118·122·123·124·127·128·129·131·134·138·141·146·148·157·161·162·163·164·166·168·169·174·177·180·182·186·188·189·193·194·204·210·214·219·221·222·226·228·236]⚖[7·11·16·18·20·23·31·34·38·47·48·53·54·56·57·65·67·72·74·76·77·85·90·92·94·97·100·102·105·113·119·121·126·133·135·136·137·142·144·145·150·152·153·158·159·167·171·178·179·181·187·190·191·192·196·197·200·202·206·207·211·212·216·217·224·229·230·231·232·234·239·242] ➔ >:-74 =:-24 <:-12)) \n",
      "               =:[7·13·15·29·30·31·32·34·35·37·39·41·44·45·47·50·51·52·54·56·57·59·60·62·65·66·67·69·70·76·83·87·89·90·94·96·97·102·106·107·110·111·113·114·116·119·122·128·136·137·139·141·148·151·154·157·159·161·164·170·176·186·187·189·190·191·197·198·200·202·204·205·208·210·211·220·226·227·235·237·238]⚖[4·6·8·9·10·12·14·16·19·25·26·28·36·38·40·48·58·64·68·71·72·73·77·79·81·82·84·85·92·93·98·100·103·104·109·112·115·117·118·120·125·129·133·134·142·143·146·149·152·153·155·158·160·162·167·175·177·180·181·184·185·188·195·196·201·206·207·216·217·218·219·221·223·225·228·229·232·233·240·241·242] ➔ \n",
      "                    >:[1·8·10·11·19·21·22·32·37·44·45·46·52·56·57·60·64·65·68·84·85·86·87·89·90·93·98·102·105·109·110·111·115·117·120·132·134·135·146·149·151·157·158·167·172·177·180·183·186·188·193·195·199·203·206·217·233·235·237·241]⚖[3·4·5·7·16·18·23·24·26·33·34·35·36·42·43·47·48·50·54·55·59·71·74·75·76·80·81·94·96·97·103·113·114·122·128·136·139·141·143·160·161·164·170·174·179·182·185·190·192·194·196·200·201·207·208·223·224·229·231·238] ➔ >:-48 =:-14 <:-8) \n",
      "                    =:[1·4·5·7·11·14·23·26·32·46·47·48·54·57·63·64·71·73·81·83·84·91·92·93·100·113·116·122·124·125·129·130·133·135·139·140·143·150·154·155·158·173·176·178·179·190·194·195·198·201·202·213·223·226·227·228·229·233·236·241]⚖[6·8·9·12·17·19·29·30·31·34·35·36·37·41·55·59·62·75·87·94·97·102·106·107·108·110·111·131·141·146·147·148·160·163·167·170·171·172·175·180·181·182·184·185·186·187·189·199·203·206·208·210·216·217·219·224·230·231·234·242] ➔ >:-55 =:-21 <:-5) \n",
      "                    <:[4·11·14·16·34·42·58·60·67·78·81·83·102·104·109·113·115·122·124·125·132·144·147·149·159·162·166·175·176·180·186·188·200·207·211·217·221·226·227]⚖[3·6·13·18·22·27·49·54·66·72·76·80·89·90·91·98·99·100·106·107·108·117·120·123·140·150·151·165·183·187·189·190·195·203·214·219·223·232·240] ➔ >:-66 =:-62 <:-60)) \n",
      "               <:[10·13·19·24·33·45·56·64·79·82·87·95·102·104·106·107·115·119·125·127·135·144·146·159·169·176·177·179·186·199·200·206·207·216·228·232·239·240]⚖[1·2·6·8·20·30·43·49·57·60·63·65·73·83·85·98·120·123·130·133·141·142·161·168·174·182·190·192·197·198·214·215·217·221·225·233·236·242] ➔ \n",
      "                    >:[4·6·9·12·20·23·31·43·67·73·76·78·87·94·100·107·117·125·140·147·151·154·171·172·181·184·190·193·197·198·207·208·209·210·216·220·224·235·236]⚖[5·17·26·27·29·36·37·41·55·65·74·79·82·91·103·105·108·109·114·116·131·137·144·149·155·157·159·163·173·176·179·183·186·201·225·227·228·230·239] ➔ >:-65 =:-30 <:-43) \n",
      "                    =:[6·12·14·18·22·29·30·34·46·50·57·61·66·71·78·85·87·93·95·100·105·113·116·117·118·128·129·130·138·146·148·149·157·161·166·172·179·188·190·192·200·201·202·205·209·211·214·215·218·220·221·234·236·237·239]⚖[2·5·8·9·10·13·15·19·21·26·32·33·38·43·45·53·55·67·75·82·83·92·96·99·106·107·109·111·112·122·124·134·137·150·156·162·165·170·171·177·182·184·187·189·197·198·203·212·216·217·224·231·232·240·241] ➔ >:-26 =:-51 <:-22) \n",
      "                    <:[8·11·14·15·25·27·41·43·45·54·57·68·69·70·79·82·84·88·90·92·95·102·107·108·112·115·119·121·123·128·130·136·137·141·143·144·145·152·156·159·161·166·171·176·177·184·186·188·192·193·198·201·202·206·207·214·218·219·221·222·227·230·242]⚖[1·4·6·7·9·12·13·16·19·30·36·37·40·48·49·52·53·55·59·62·64·65·66·72·76·86·94·103·104·110·111·114·116·117·125·127·129·131·134·135·142·146·148·151·153·154·157·158·168·170·174·191·194·203·204·208·209·212·220·225·226·228·232] ➔ >:-13 =:-56 <:-45))) \n",
      "          =:[7·10·14·22·24·29·32·36·38·39·41·43·44·53·61·63·65·72·73·75·77·81·82·86·89·91·92·96·103·104·106·107·108·109·111·114·116·118·119·121·124·125·133·134·135·141·150·153·166·176·177·179·183·186·187·189·190·195·196·200·204·205·206·209·211·214·215·216·218·231·241]⚖[3·15·16·17·19·27·42·45·50·51·55·56·57·59·64·66·68·69·70·71·76·83·87·90·99·102·105·112·113·115·117·120·122·123·128·130·132·136·139·140·144·145·148·149·156·158·162·163·165·167·169·173·174·184·191·192·197·198·203·207·217·220·222·223·225·228·229·230·234·239·240] ➔ \n",
      "               >:[3·6·10·11·20·22·29·30·35·37·39·43·44·48·55·60·63·71·72·76·79·80·83·86·89·93·113·115·117·120·125·126·127·130·136·137·139·141·147·153·156·158·159·164·170·173·177·178·180·188·190·192·196·200·201·205·211·218·220·224·228·232·233·234·237·242]⚖[2·5·13·14·15·18·25·31·34·36·38·40·47·50·51·53·56·57·58·59·61·66·67·75·77·82·84·87·88·90·91·97·101·102·103·105·106·108·118·119·122·132·133·142·143·144·152·157·161·165·169·185·194·198·209·210·213·214·215·227·229·230·235·236·238·239] ➔ \n",
      "                    >:[2·5·8·9·10·11·16·17·18·21·24·32·40·41·49·52·54·59·63·67·70·71·77·82·87·93·94·97·103·108·110·112·121·123·124·125·128·129·132·140·141·146·150·151·152·156·159·164·167·168·170·183·185·191·193·195·205·207·208·213·216·232·239·241]⚖[3·7·14·20·30·34·37·43·44·50·51·55·57·62·68·69·73·74·75·76·78·83·86·89·91·99·102·104·105·106·107·109·114·115·134·145·154·155·157·158·161·162·165·175·176·180·184·187·188·189·196·197·199·200·204·206·211·220·221·223·224·227·229·230] ➔ >:-50 =:-15 <:-59) \n",
      "                    =:[1·5·6·8·10·14·20·26·32·33·39·44·50·51·52·53·55·57·60·63·64·68·71·82·87·89·94·97·105·106·113·120·124·126·127·130·131·133·145·152·154·159·162·171·172·175·178·179·183·185·188·189·190·191·197·198·201·209·212·217·220·223·226·227·232·233·234·241·242]⚖[3·4·16·19·22·24·27·30·31·35·36·38·41·45·46·48·56·58·59·65·67·69·70·72·74·76·79·83·84·85·91·107·109·110·114·115·121·125·132·138·141·143·146·149·150·151·155·156·158·160·163·164·165·167·176·177·180·192·196·203·206·211·215·221·222·225·230·239·240] ➔ >:-70 =:-42 <:-68) \n",
      "                    <:[3·19·26·29·34·41·64·73·84·91·97·102·105·106·110·113·128·132·134·136·138·142·148·151·156·157·167·198·201·202·203·208·214·217·218·222·239]⚖[14·17·22·25·33·35·48·49·50·66·67·74·75·76·83·88·99·104·112·114·115·116·118·124·129·130·165·170·173·176·181·184·185·197·199·210·225] ➔ >:-76 =:-71 <:-3)) \n",
      "               =:[8·13·16·18·22·26·28·30·31·34·37·40·43·45·50·51·52·58·59·63·64·70·71·78·82·86·91·92·95·103·107·110·112·118·120·123·125·126·128·134·137·140·141·142·144·145·146·152·160·161·163·167·168·169·175·176·177·180·181·183·197·199·200·202·206·209·210·211·214·219·229·232·233·234·236·241]⚖[2·4·5·7·10·12·14·24·25·27·35·39·41·42·47·61·62·65·69·73·74·75·76·80·97·98·100·101·105·111·113·116·119·121·122·124·129·130·131·132·139·149·150·156·159·162·166·173·174·178·179·185·186·187·188·190·198·203·207·208·212·216·218·221·222·223·224·225·226·227·230·231·235·238·239·240] ➔ \n",
      "                    >:[14·31·32·35·56·79·99·104·109·183·192·195·217·221·222·230]⚖[17·19·20·24·25·27·29·68·92·106·151·157·173·189·236·237] ➔ >:-25 =:-80 <:-35) \n",
      "                    =:[4·6·12·36·43·49·53·63·65·75·78·84·91·98·104·137·154·159·163·167·171·202·206·220·231·237]⚖[9·22·42·51·66·71·86·94·97·100·101·102·118·122·134·138·146·156·166·169·173·178·191·199·223·238] ➔ >:-9 =:-23 <:-49) \n",
      "                    <:[1·3·4·7·10·15·17·20·26·29·31·32·36·38·41·42·43·44·48·54·64·68·70·72·73·74·82·87·88·91·94·101·102·103·109·110·114·115·118·119·120·121·125·132·134·135·140·149·150·155·158·159·162·166·168·181·182·194·199·201·203·206·207·208·212·218·222·223·230·231·232·233·237·239·240]⚖[12·16·27·33·34·40·46·47·49·51·52·53·55·58·59·60·61·62·71·76·80·81·93·95·96·100·108·112·113·122·123·127·128·131·133·138·139·144·145·146·147·148·151·153·156·157·161·163·164·165·167·173·174·176·180·185·186·187·193·202·204·210·211·213·214·215·216·220·224·225·226·227·235·238·241] ➔ >:-40 =:-28 <:-31)) \n",
      "               <:[2·10·11·13·17·20·22·24·25·28·37·38·39·41·42·45·46·47·51·56·57·58·60·64·65·67·74·75·76·79·82·87·93·94·97·99·102·107·109·114·115·118·125·133·138·143·145·146·148·149·150·154·163·164·167·168·169·171·179·180·181·188·191·201·205·208·209·210·212·213·216·220·221·222·224·235·241]⚖[6·7·8·15·21·23·29·30·31·35·36·40·43·49·55·61·68·70·77·78·81·83·86·88·89·90·91·98·100·101·103·105·112·116·117·119·121·122·123·126·127·132·137·140·142·144·151·153·155·160·162·165·170·172·173·174·177·178·184·185·187·190·192·193·194·196·197·203·214·223·228·229·231·232·234·237·238] ➔ \n",
      "                    >:[3·8·12·15·16·17·23·25·37·42·43·45·47·54·57·64·66·68·69·73·74·75·78·79·81·90·92·93·94·96·99·107·109·117·121·125·127·130·134·139·140·145·148·154·155·164·165·166·171·172·173·175·176·184·190·191·192·202·205·207·211·216·219·221·223·226·235·236·239]⚖[2·5·6·7·11·13·20·21·22·29·32·38·40·41·48·49·51·52·53·56·58·61·65·67·70·71·77·85·87·95·98·103·104·105·106·112·114·124·137·141·142·144·147·151·158·160·162·168·169·170·186·188·189·199·203·204·209·212·213·217·220·227·229·230·233·234·237·241·242] ➔ >:-61 =:-36 <:-81) \n",
      "                    =:[5·6·8·15·17·20·26·31·43·44·47·50·61·62·63·65·67·68·69·73·80·81·92·97·100·101·106·111·115·117·118·125·129·131·132·136·142·146·153·155·157·161·165·167·171·174·179·186·188·197·202·206·209·210·211·216·221·227·231·235]⚖[14·24·28·33·34·38·39·42·51·54·55·57·64·72·76·77·79·87·94·95·103·109·112·116·120·124·126·127·128·130·137·145·150·158·173·175·176·183·184·190·193·194·200·204·212·213·214·217·218·219·220·225·228·230·232·233·236·237·238·242] ➔ >:-72 =:-32 <:-73) \n",
      "                    <:[4·6·8·17·21·24·26·36·39·40·43·45·48·50·53·61·64·85·87·89·91·94·99·110·111·112·116·128·139·142·153·162·165·173·177·181·185·194·200·224·228·241]⚖[1·3·5·7·10·14·16·19·20·31·44·47·52·54·56·69·70·86·90·93·102·103·106·118·119·125·126·130·132·133·143·147·154·160·168·176·178·180·196·208·211·240] ➔ >:-10 =:-38 <:-39))) \n",
      "          <:[1·3·4·6·9·11·14·19·20·23·30·33·35·36·43·47·56·57·59·60·64·71·76·82·87·91·92·96·100·101·103·107·108·113·121·127·132·133·137·138·139·141·143·144·146·147·157·158·159·162·163·165·168·173·175·176·182·183·188·190·192·197·200·201·203·206·210·211·221·224·225·226·232·233·237·239·241]⚖[2·5·7·15·18·21·22·24·26·39·41·45·46·52·62·65·66·67·68·69·70·73·74·75·78·79·83·84·90·93·104·105·114·117·118·119·122·123·126·128·130·135·136·140·145·152·154·155·156·166·170·172·174·177·178·180·181·185·189·193·194·195·196·198·199·202·207·209·212·213·216·222·228·230·234·235·238] ➔ \n",
      "               >:[1·6·8·14·16·21·24·26·27·29·30·31·33·34·37·40·43·45·50·52·53·62·64·68·69·74·78·79·84·85·86·87·88·100·102·103·104·105·108·116·122·127·136·138·143·149·153·155·156·157·160·166·171·184·188·190·191·192·204·209·211·224·227·233·235·239]⚖[2·5·7·9·10·11·13·17·20·25·41·42·56·60·65·66·72·73·77·94·95·96·97·99·101·106·109·111·118·120·123·124·125·126·129·131·132·133·134·140·142·145·152·161·167·177·178·180·189·193·194·195·196·203·205·208·213·214·217·219·220·223·234·236·241·242] ➔ \n",
      "                    >:[1·2·3·6·32·33·40·69·70·75·84·85·92·104·107·109·123·127·128·142·143·145·146·149·151·162·177·178·209·211·212·229·233·235·241]⚖[8·23·28·31·41·51·64·73·83·86·90·99·100·105·108·113·117·139·140·141·150·167·175·180·183·189·191·214·215·218·219·228·230·232·242] ➔ >:-41 =:-7 <:-2) \n",
      "                    =:[7·11·15·18·22·27·29·37·45·48·56·59·62·70·83·87·92·94·97·99·118·142·144·148·155·164·165·170·172·177·189·208·209·210·212·214·217·218·220·221·225·226·231·238]⚖[1·3·4·5·6·13·17·33·41·43·49·50·54·58·67·73·74·78·80·84·106·114·124·127·131·134·138·139·143·147·161·175·176·180·182·183·186·191·222·224·229·230·239·241] ➔ >:-67 =:-75 <:-18) \n",
      "                    <:[3·8·13·27·32·52·71·78·92·104·105·113·122·124·125·126·128·134·141·149·168·177·187·195·199·201·231·236·239·241]⚖[11·18·19·20·26·29·35·39·55·72·77·79·91·99·100·101·107·108·119·148·155·169·185·189·202·203·216·218·226·240] ➔ >:-79 =:-69 <:-78)) \n",
      "               =:[2·7·9·15·17·18·24·25·29·30·36·44·46·49·53·71·72·73·78·79·81·83·86·90·96·98·99·107·108·111·121·129·131·134·137·138·142·144·146·153·154·155·160·163·168·187·190·191·197·202·205·206·208·211·214·216·217·218·221·226·234]⚖[1·5·8·11·12·13·14·21·28·31·34·37·38·40·51·57·58·59·61·62·63·67·76·82·85·89·93·95·102·104·105·110·112·113·114·115·117·122·127·132·135·139·145·148·152·156·158·169·170·171·173·175·180·184·192·212·220·222·233·235·237] ➔ \n",
      "                    >:[3·11·30·37·39·49·50·61·62·68·75·89·100·104·109·112·119·138·144·164·169·173·175·178·191·196·199·222·235·240·242]⚖[7·18·20·34·47·54·60·63·65·66·98·103·116·124·127·133·140·141·146·160·171·186·189·198·202·207·208·215·226·234·236] ➔ >:-34 =:-58 <:-37) \n",
      "                    =:[5·15·30·34·37·41·43·54·58·69·70·74·75·76·81·84·90·91·101·105·114·123·124·128·129·131·141·148·150·152·153·154·159·171·180·182·183·184·187·190·192·198·200·202·207·209·214·220·227·233·236·238·241·242]⚖[2·13·16·21·22·24·29·33·36·40·42·44·50·59·60·63·65·66·67·72·77·82·85·87·93·97·99·102·104·108·110·111·112·115·118·121·127·130·137·138·140·145·149·155·167·186·193·194·197·221·224·228·230·240] ➔ >:-77 =:-27 <:-54) \n",
      "                    <:[10·13·24·28·29·32·33·36·40·45·51·52·54·57·58·61·63·69·72·76·96·98·106·107·111·114·115·116·122·123·125·128·129·131·132·133·136·138·140·141·142·143·146·148·150·151·156·166·173·175·176·177·179·184·186·189·190·191·196·198·202·204·210·212·213·215·225·228·235·239·240·241·242]⚖[3·4·6·7·8·9·18·19·21·22·23·26·27·34·35·37·44·46·48·50·53·64·65·66·71·73·74·81·83·84·85·87·90·92·97·99·101·112·119·124·130·134·135·144·145·152·154·159·163·164·168·169·170·183·185·187·192·199·205·206·208·209·217·218·219·222·223·224·226·227·232·234·236] ➔ >:-53 =:-17 <:-29)) \n",
      "               <:[2·6·9·12·14·15·17·24·27·29·31·32·34·36·38·42·43·46·51·52·55·57·58·60·61·63·64·72·73·75·76·84·85·86·90·93·94·96·102·103·105·108·114·115·116·131·133·137·138·139·140·141·142·143·145·151·153·157·161·165·168·170·173·183·186·188·194·196·197·198·203·208·210·213·216·223·224·226·227·235]⚖[1·5·7·16·18·19·21·26·30·37·40·41·44·45·47·48·54·56·59·62·65·67·68·71·74·78·81·88·91·92·98·99·101·104·106·109·110·112·117·119·120·121·123·124·125·129·130·144·147·152·155·158·160·162·163·169·175·176·179·180·187·191·193·200·201·204·205·214·217·218·219·220·229·230·232·236·237·238·239·241] ➔ \n",
      "                    >:[1·4·9·12·15·17·24·26·30·32·34·36·38·39·43·45·48·52·56·57·64·67·73·74·75·79·81·83·84·85·89·91·93·95·98·99·101·103·104·106·109·110·111·112·114·117·122·123·126·130·131·132·133·134·136·143·144·145·148·151·157·161·164·171·172·173·183·189·192·193·210·214·218·221·223·224·228·237·239·242]⚖[2·7·8·11·14·16·18·19·20·23·27·28·31·33·35·41·42·49·50·53·59·62·63·65·68·72·77·80·82·87·90·92·96·105·108·119·120·121·124·125·128·135·139·141·146·149·153·154·155·156·159·163·165·166·167·169·174·175·179·180·181·182·186·199·205·206·208·213·216·219·220·222·231·232·233·234·235·236·238·241] ➔ >:-19 =:-47 <:-1) \n",
      "                    =:[7·10·11·18·28·34·39·40·44·48·50·52·56·60·62·63·69·73·77·81·82·98·99·112·114·116·125·132·136·138·139·146·157·158·162·172·188·191·192·195·222·227·228·233]⚖[4·6·9·12·21·26·32·33·42·45·49·51·65·68·80·83·87·101·119·123·133·135·141·142·150·153·156·161·171·174·177·180·181·182·187·190·202·203·215·216·218·223·224·240] ➔ >:-33 =:-20 <:-11) \n",
      "                    <:[3·13·14·15·16·31·34·35·37·38·41·47·48·57·59·63·70·72·85·90·94·97·99·105·107·109·113·115·125·128·134·147·148·152·153·158·167·172·173·175·178·181·193·197·198·201·205·206·213·215·219·222·225·237·238]⚖[4·5·7·10·12·18·27·28·29·49·51·52·56·62·64·66·67·74·81·83·87·88·91·93·96·98·101·102·106·108·112·117·143·145·155·159·163·169·187·188·190·192·194·195·200·203·207·209·212·217·229·230·231·236·242] ➔ >:-64 =:-6 <:-57)))))\n"
     ]
    }
   ],
   "source": [
    "do(Puzzle(242, 5, {-1, 0}))"
   ]
  },
  {
   "cell_type": "markdown",
   "metadata": {},
   "source": [
    "# What's Next?\n",
    "\n",
    "- What other puzzles can you solve?\n",
    "- Can you make a table summarizing the space of solved and unsolved puzzles? \n",
    "- Can you prove the unsolved puzzles are unsolvable? \n",
    "- Can you prove that it is never necessary to put more than 1/3 the number of balls (rounded up) on either side of the scale?\n",
    "- What happens when it is a possibility that *two* balls are odd?  Or more?\n",
    "- What about puzzles where your task is to identify *which* ball is odd, but not *how* it is odd? That is, if you get the possibilities down to `{-3, +3}` then you're done; you know ball 3 is the odd one, and you don't care if it is heavy or light.\n",
    "- Currently, when `solve` returns `None`, it means \"no solution was found, but there's no proof that a solution doesn't exist.\" Can you modify `solve` to prove there is no solution for all (or at least some) puzzles?\n",
    "- Can you find trees that minimize the *mean* number of weighings, rather than minimizing the *maximum* number of weighings?\n",
    "- What if you had two or more balance scales that you could use in parallel, and the goal was to minimize the number of weighing time periods, not the total number of weighings?\n",
    "- What else can you discover?"
   ]
  }
 ],
 "metadata": {
  "kernelspec": {
   "display_name": "Python 3",
   "language": "python",
   "name": "python3"
  },
  "language_info": {
   "codemirror_mode": {
    "name": "ipython",
    "version": 3
   },
   "file_extension": ".py",
   "mimetype": "text/x-python",
   "name": "python",
   "nbconvert_exporter": "python",
   "pygments_lexer": "ipython3",
   "version": "3.7.6"
  }
 },
 "nbformat": 4,
 "nbformat_minor": 2
}
